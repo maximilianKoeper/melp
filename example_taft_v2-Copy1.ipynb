{
 "cells": [
  {
   "cell_type": "markdown",
   "id": "134b7063",
   "metadata": {},
   "source": [
    "# Example Notebook for TAFT\n",
    "## Time alignment for tiles "
   ]
  },
  {
   "cell_type": "code",
   "execution_count": 1,
   "id": "22349350",
   "metadata": {},
   "outputs": [
    {
     "name": "stdout",
     "output_type": "stream",
     "text": [
      "Welcome to JupyROOT 6.24/06\n"
     ]
    }
   ],
   "source": [
    "import numpy as np\n",
    "import matplotlib.pyplot as plt\n",
    "from melp import Detector\n",
    "import melp.taft\n",
    "from melp.taft.utils.root_helper import read_histo"
   ]
  },
  {
   "cell_type": "markdown",
   "id": "abd5b539",
   "metadata": {},
   "source": [
    "## Creating/Loading detector with misalignment"
   ]
  },
  {
   "cell_type": "code",
   "execution_count": 2,
   "id": "349bbf7d",
   "metadata": {},
   "outputs": [
    {
     "name": "stdout",
     "output_type": "stream",
     "text": [
      "------------------------------\n",
      "Detector information\n",
      "\n",
      "Stats:\n",
      "  - Tiles:  5824\n",
      "    -> misal:  True\n",
      "  - Pixel Modules:  2844\n",
      "  - Loaded Runs (Tiles):  []\n",
      "  - Loaded Runs (Pixel):  []\n",
      "------------------------------\n"
     ]
    }
   ],
   "source": [
    "mu3e_detector = Detector.initFromROOT(\"run42_20000.root\")\n",
    "#mu3e_detector = Detector.initFromSave(\"calibrated_detector_tmp.taft\")"
   ]
  },
  {
   "cell_type": "code",
   "execution_count": 3,
   "id": "ea62a4b0",
   "metadata": {},
   "outputs": [],
   "source": [
    "#mu3e_detector.save(\"test_detector_file\")"
   ]
  },
  {
   "cell_type": "code",
   "execution_count": 4,
   "id": "07707cc0",
   "metadata": {},
   "outputs": [],
   "source": [
    "melp.taft.select(mu3e_detector)"
   ]
  },
  {
   "cell_type": "markdown",
   "id": "3854ef6b",
   "metadata": {},
   "source": [
    "## Plotting time misalignment distribution"
   ]
  },
  {
   "cell_type": "code",
   "execution_count": 5,
   "id": "81eabd03",
   "metadata": {},
   "outputs": [],
   "source": [
    "dt = []\n",
    "for tile in mu3e_detector.TileDetector.tile:\n",
    "    dt.append(mu3e_detector.TileDetector.tile[tile].dt_truth)"
   ]
  },
  {
   "cell_type": "code",
   "execution_count": 6,
   "id": "fc228357",
   "metadata": {},
   "outputs": [],
   "source": [
    "dt = np.array(dt)"
   ]
  },
  {
   "cell_type": "code",
   "execution_count": 7,
   "id": "32612c1c",
   "metadata": {},
   "outputs": [
    {
     "data": {
      "image/png": "[encoded data removed]",
      "text/plain": [
       "<Figure size 432x288 with 1 Axes>"
      ]
     },
     "metadata": {
      "needs_background": "light"
     },
     "output_type": "display_data"
    }
   ],
   "source": [
    "plt.hist(dt, bins=200)\n",
    "plt.show()"
   ]
  },
  {
   "cell_type": "code",
   "execution_count": 8,
   "id": "a56796f8",
   "metadata": {},
   "outputs": [],
   "source": [
    "import ROOT"
   ]
  },
  {
   "cell_type": "code",
   "execution_count": 9,
   "id": "ef90a9eb",
   "metadata": {},
   "outputs": [],
   "source": [
    "d = read_histo(\"histo_file.root\")"
   ]
  },
  {
   "cell_type": "code",
   "execution_count": 11,
   "id": "832f671e",
   "metadata": {},
   "outputs": [
    {
     "data": {
      "text/plain": [
       "'200000_z'"
      ]
     },
     "execution_count": 11,
     "metadata": {},
     "output_type": "execute_result"
    }
   ],
   "source": [
    "d[200000][0].GetName()"
   ]
  },
  {
   "cell_type": "code",
   "execution_count": null,
   "id": "e7d725a4",
   "metadata": {},
   "outputs": [],
   "source": []
  }
 ],
 "metadata": {
  "kernelspec": {
   "display_name": "Python 3 (ipykernel)",
   "language": "python",
   "name": "python3"
  },
  "language_info": {
   "codemirror_mode": {
    "name": "ipython",
    "version": 3
   },
   "file_extension": ".py",
   "mimetype": "text/x-python",
   "name": "python",
   "nbconvert_exporter": "python",
   "pygments_lexer": "ipython3",
   "version": "3.10.2"
  }
 },
 "nbformat": 4,
 "nbformat_minor": 5
}
