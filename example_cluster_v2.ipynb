{
 "cells": [
  {
   "cell_type": "code",
   "execution_count": 1,
   "metadata": {},
   "outputs": [
    {
     "name": "stdout",
     "output_type": "stream",
     "text": [
      "Welcome to JupyROOT 6.24/06\n"
     ]
    }
   ],
   "source": [
    "import ROOT\n",
    "import numpy as np\n",
    "import matplotlib.pyplot as plt\n",
    "import matplotlib as mpl\n",
    "from melp import Detector\n",
    "import melp\n",
    "import math\n",
    "\n",
    "from melp.clustering.misc import*\n",
    "import melp.clustering as clump\n",
    "import melp.clustering.time_cluster as tclump\n",
    "#from melp import TileAnalyzer"
   ]
  },
  {
   "cell_type": "code",
   "execution_count": 2,
   "metadata": {
    "scrolled": true
   },
   "outputs": [
    {
     "name": "stdout",
     "output_type": "stream",
     "text": [
      "dict_values([[82126], [82081], [82379], [82377], [82061], [82061], [82173], [82124], [82379], [82071], [82076], [82189], [82378], [82277], [82727], [82184], [82279], [82070], [82375], [82389], [82080], [82183], [82187], [82132], [82078], [82278], [82377], [82280], [82375], [82070], [82175], [82389], [82081], [82379], [82133], [82075], [82379], [82277]])\n",
      "dict_keys([302134, 200650, 201084, 201247, 301983, 301926, 200738, 302133, 201202, 201332, 201331, 300489, 201029, 201091, 300092, 300545, 201147, 302640, 201312, 200084, 200706, 300490, 300433, 302611, 200816, 201036, 201085, 201148, 201313, 302583, 200794, 200028, 200705, 201259, 302610, 302704, 201028, 201203])\n",
      "\n",
      "dict_values([[82126], [82081], [82379], [82377], [82061], [82061], [82173], [82124], [82379], [82071], [82076], [82189], [82378], [82277], [82727], [82184], [82279], [82070], [82375], [82389], [82080], [82183], [82187], [82132], [82078], [82278], [82377], [82280], [82375], [82070], [82175], [82389], [82081], [82379], [82133], [82075], [82379], [82277]])\n"
     ]
    }
   ],
   "source": [
    "hittimes = hittimes_in_frame(\"./testdata/sorted/sorted1.root\",1)\n",
    "print(hittimes.values())\n",
    "print(hittimes.keys())\n",
    "print()\n",
    "print(np.array(hittimes.values()))"
   ]
  },
  {
   "cell_type": "code",
   "execution_count": 3,
   "metadata": {},
   "outputs": [
    {
     "ename": "TypeError",
     "evalue": "abs() takes exactly one argument (0 given)",
     "output_type": "error",
     "traceback": [
      "\u001b[0;31m---------------------------------------------------------------------------\u001b[0m",
      "\u001b[0;31mTypeError\u001b[0m                                 Traceback (most recent call last)",
      "\u001b[0;32m<ipython-input-3-9e8866d781e4>\u001b[0m in \u001b[0;36m<module>\u001b[0;34m\u001b[0m\n\u001b[0;32m----> 1\u001b[0;31m \u001b[0mtclump\u001b[0m\u001b[0;34m.\u001b[0m\u001b[0mtime_clustering_frame\u001b[0m\u001b[0;34m(\u001b[0m\u001b[0;34m\"./testdata/sorted/sorted1.root\"\u001b[0m\u001b[0;34m,\u001b[0m\u001b[0;36m1\u001b[0m\u001b[0;34m,\u001b[0m\u001b[0;36m1\u001b[0m\u001b[0;34m)\u001b[0m\u001b[0;34m\u001b[0m\u001b[0;34m\u001b[0m\u001b[0m\n\u001b[0m",
      "\u001b[0;32m~/GitHub/melp-1/melp/clustering/time_cluster.py\u001b[0m in \u001b[0;36mtime_clustering_frame\u001b[0;34m(filename, frame, threshold)\u001b[0m\n\u001b[1;32m     51\u001b[0m         \u001b[0;32mfor\u001b[0m \u001b[0mj\u001b[0m \u001b[0;32min\u001b[0m \u001b[0mrange\u001b[0m\u001b[0;34m(\u001b[0m\u001b[0mlen\u001b[0m\u001b[0;34m(\u001b[0m\u001b[0mhittimes\u001b[0m\u001b[0;34m.\u001b[0m\u001b[0mvalues\u001b[0m\u001b[0;34m(\u001b[0m\u001b[0;34m)\u001b[0m\u001b[0;34m)\u001b[0m\u001b[0;34m-\u001b[0m\u001b[0mi\u001b[0m\u001b[0;34m)\u001b[0m\u001b[0;34m:\u001b[0m\u001b[0;34m\u001b[0m\u001b[0;34m\u001b[0m\u001b[0m\n\u001b[1;32m     52\u001b[0m             \u001b[0;32mfor\u001b[0m \u001b[0mkey\u001b[0m \u001b[0;32min\u001b[0m \u001b[0mhittimes\u001b[0m\u001b[0;34m.\u001b[0m\u001b[0mkeys\u001b[0m\u001b[0;34m(\u001b[0m\u001b[0;34m)\u001b[0m\u001b[0;34m:\u001b[0m\u001b[0;34m\u001b[0m\u001b[0;34m\u001b[0m\u001b[0m\n\u001b[0;32m---> 53\u001b[0;31m                 \u001b[0;32mif\u001b[0m \u001b[0mabs\u001b[0m\u001b[0;34m(\u001b[0m\u001b[0;34m)\u001b[0m \u001b[0;34m<\u001b[0m \u001b[0mthreshold\u001b[0m\u001b[0;34m:\u001b[0m\u001b[0;34m\u001b[0m\u001b[0;34m\u001b[0m\u001b[0m\n\u001b[0m\u001b[1;32m     54\u001b[0m                     \u001b[0mclusters\u001b[0m\u001b[0;34m[\u001b[0m\u001b[0mcluster_counter\u001b[0m\u001b[0;34m]\u001b[0m \u001b[0;34m=\u001b[0m \u001b[0;34m[\u001b[0m\u001b[0;34m[\u001b[0m\u001b[0mget_key_for_value\u001b[0m\u001b[0;34m(\u001b[0m\u001b[0mhittimes\u001b[0m\u001b[0;34m,\u001b[0m \u001b[0mnp\u001b[0m\u001b[0;34m.\u001b[0m\u001b[0marray\u001b[0m\u001b[0;34m(\u001b[0m\u001b[0mhittimes\u001b[0m\u001b[0;34m.\u001b[0m\u001b[0mvalues\u001b[0m\u001b[0;34m(\u001b[0m\u001b[0;34m)\u001b[0m\u001b[0;34m)\u001b[0m\u001b[0;34m[\u001b[0m\u001b[0mi\u001b[0m\u001b[0;34m]\u001b[0m\u001b[0;34m)\u001b[0m\u001b[0;34m,\u001b[0m \u001b[0mnp\u001b[0m\u001b[0;34m.\u001b[0m\u001b[0marray\u001b[0m\u001b[0;34m(\u001b[0m\u001b[0mhittimes\u001b[0m\u001b[0;34m.\u001b[0m\u001b[0mvalues\u001b[0m\u001b[0;34m(\u001b[0m\u001b[0;34m)\u001b[0m\u001b[0;34m)\u001b[0m\u001b[0;34m[\u001b[0m\u001b[0mi\u001b[0m\u001b[0;34m]\u001b[0m\u001b[0;34m]\u001b[0m\u001b[0;34m,\u001b[0m \u001b[0;34m[\u001b[0m\u001b[0mget_key_for_value\u001b[0m\u001b[0;34m(\u001b[0m\u001b[0mhittimes\u001b[0m\u001b[0;34m,\u001b[0m \u001b[0mnp\u001b[0m\u001b[0;34m.\u001b[0m\u001b[0marray\u001b[0m\u001b[0;34m(\u001b[0m\u001b[0mhittimes\u001b[0m\u001b[0;34m.\u001b[0m\u001b[0mvalues\u001b[0m\u001b[0;34m(\u001b[0m\u001b[0;34m)\u001b[0m\u001b[0;34m)\u001b[0m\u001b[0;34m[\u001b[0m\u001b[0mj\u001b[0m\u001b[0;34m]\u001b[0m\u001b[0;34m)\u001b[0m\u001b[0;34m,\u001b[0m \u001b[0mnp\u001b[0m\u001b[0;34m.\u001b[0m\u001b[0marray\u001b[0m\u001b[0;34m(\u001b[0m\u001b[0mhittimes\u001b[0m\u001b[0;34m.\u001b[0m\u001b[0mvalues\u001b[0m\u001b[0;34m(\u001b[0m\u001b[0;34m)\u001b[0m\u001b[0;34m)\u001b[0m\u001b[0;34m[\u001b[0m\u001b[0mj\u001b[0m\u001b[0;34m]\u001b[0m\u001b[0;34m]\u001b[0m\u001b[0;34m]\u001b[0m\u001b[0;34m\u001b[0m\u001b[0;34m\u001b[0m\u001b[0m\n\u001b[1;32m     55\u001b[0m \u001b[0;34m\u001b[0m\u001b[0m\n",
      "\u001b[0;31mTypeError\u001b[0m: abs() takes exactly one argument (0 given)"
     ]
    }
   ],
   "source": [
    "tclump.time_clustering_frame(\"./testdata/sorted/sorted1.root\",1,1)"
   ]
  },
  {
   "cell_type": "code",
   "execution_count": null,
   "metadata": {},
   "outputs": [],
   "source": [
    "mu3e_detector = Detector.initFromROOT(\"./testdata/sorted/sorted1.root\")\n",
    "#mu3e_detector = Detector.initFromSave(\"test_detector_file\")"
   ]
  },
  {
   "cell_type": "code",
   "execution_count": null,
   "metadata": {},
   "outputs": [],
   "source": [
    "#mu3e_detector.save(\"test_detector_file\")"
   ]
  },
  {
   "cell_type": "code",
   "execution_count": null,
   "metadata": {},
   "outputs": [],
   "source": [
    "melp.select(mu3e_detector)\n"
   ]
  },
  {
   "cell_type": "code",
   "execution_count": null,
   "metadata": {},
   "outputs": [],
   "source": [
    "print(mu3e_detector)"
   ]
  },
  {
   "cell_type": "code",
   "execution_count": null,
   "metadata": {
    "scrolled": false
   },
   "outputs": [],
   "source": [
    "melp.addTileHits(\"./testdata/sorted/sorted1.root\", truth=False, traj=False)"
   ]
  },
  {
   "cell_type": "code",
   "execution_count": null,
   "metadata": {},
   "outputs": [],
   "source": [
    "mu3e_detector.TileDetector.tile[200000].id\n",
    "\n"
   ]
  },
  {
   "cell_type": "code",
   "execution_count": null,
   "metadata": {},
   "outputs": [],
   "source": [
    "mu3e_detector.info()"
   ]
  },
  {
   "cell_type": "code",
   "execution_count": null,
   "metadata": {
    "scrolled": true
   },
   "outputs": [],
   "source": [
    "mu3e_detector.TileDetector.tile[200000].hits"
   ]
  },
  {
   "cell_type": "code",
   "execution_count": null,
   "metadata": {},
   "outputs": [],
   "source": [
    "\n",
    "grid = np.zeros((52,56))\n",
    "for tile_id in mu3e_detector.TileDetector.tile:\n",
    "    if tile_id < 300000:\n",
    "        tile = mu3e_detector.TileDetector.tile[tile_id]\n",
    "        for hits in tile.hits:\n",
    "            if hits.frame_id in [6,8]:\n",
    "                id_sel = tile_id - 200000\n",
    "                x = math.floor(id_sel/56)\n",
    "                y = id_sel % 52\n",
    "                grid[x][y] += 1\n",
    "                #print(x,y,id_sel)\n",
    "                \n",
    "                                \n",
    "fig = plt.figure()\n",
    "fig, ax = plt.subplots(1,1, figsize=(12,12))\n",
    "heatplot = ax.imshow(grid.T, cmap='BuPu')\n",
    "#ax.grid(which='minor', color='b', linestyle='-', linewidth=1)\n",
    "plt.hlines(y=np.arange(0, 56)+0.5, xmin=-0.5, xmax=51.5, color=\"black\", linewidth = 0.5)\n",
    "plt.vlines(x=np.arange(0, 52)+0.5, ymin=-0.5, ymax=55.5, color=\"black\", linewidth = 0.5)\n",
    "plt.xlabel(\"z\")\n",
    "plt.ylabel(\"phi\")\n",
    "plt.savefig(\"hitmap.png\")\n",
    "        \n",
    "    "
   ]
  },
  {
   "cell_type": "code",
   "execution_count": null,
   "metadata": {},
   "outputs": [],
   "source": [
    "binned_data, xedges, yedges = np.histogram2d(hitangle[0], hitangle[1], bins=[220, 180])"
   ]
  },
  {
   "cell_type": "code",
   "execution_count": null,
   "metadata": {},
   "outputs": [],
   "source": [
    "\n",
    "\n",
    "fig = plt.figure(figsize=(10, 8))\n",
    "\n",
    "ax = fig.add_subplot(111, title='theta distribution')\n",
    "X, Y = np.meshgrid(xedges, yedges)\n",
    "im = ax.pcolormesh(X, Y, binned_data.T, cmap=\"turbo\", norm = mpl.colors.LogNorm())\n",
    "plt.ylabel(\"theta\")\n",
    "plt.xlabel(\"z\")\n",
    "plt.colorbar(im)\n",
    "plt.show()"
   ]
  },
  {
   "cell_type": "code",
   "execution_count": null,
   "metadata": {},
   "outputs": [],
   "source": []
  }
 ],
 "metadata": {
  "kernelspec": {
   "display_name": "Python 3",
   "language": "python",
   "name": "python3"
  },
  "language_info": {
   "codemirror_mode": {
    "name": "ipython",
    "version": 3
   },
   "file_extension": ".py",
   "mimetype": "text/x-python",
   "name": "python",
   "nbconvert_exporter": "python",
   "pygments_lexer": "ipython3",
   "version": "3.8.10"
  }
 },
 "nbformat": 4,
 "nbformat_minor": 5
}
