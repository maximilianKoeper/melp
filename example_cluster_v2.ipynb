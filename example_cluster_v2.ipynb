{
 "cells": [
  {
   "cell_type": "code",
   "execution_count": 1,
   "id": "a6c71e2a",
   "metadata": {},
   "outputs": [
    {
     "name": "stdout",
     "output_type": "stream",
     "text": [
      "Welcome to JupyROOT 6.24/06\n"
     ]
    }
   ],
   "source": [
    "import ROOT\n",
    "import numpy as np\n",
    "import matplotlib.pyplot as plt\n",
    "import matplotlib as mpl\n",
    "from melp import Detector\n",
    "import melp\n",
    "import math\n",
    "\n",
    "from melp.clustering.misc import*\n",
    "import melp.clustering as clump\n",
    "import melp.clustering.time_cluster as tclump\n",
    "import melp.clustering.spatial_cluster as sclump\n",
    "#from melp import TileAnalyzer"
   ]
  },
  {
   "cell_type": "code",
   "execution_count": 2,
   "id": "cae47546",
   "metadata": {
    "scrolled": true
   },
   "outputs": [
    {
     "name": "stdout",
     "output_type": "stream",
     "text": [
      "dict_values([[82126], [82081], [82379], [82377], [82061], [82061], [82173], [82124], [82379], [82071], [82076], [82189], [82378], [82277], [82727], [82184], [82279], [82070], [82375], [82389], [82080], [82183], [82187], [82132], [82078], [82278], [82377], [82280], [82375], [82070], [82175], [82389], [82081], [82379], [82133], [82075], [82379], [82277]])\n",
      "dict_keys([302134, 200650, 201084, 201247, 301983, 301926, 200738, 302133, 201202, 201332, 201331, 300489, 201029, 201091, 300092, 300545, 201147, 302640, 201312, 200084, 200706, 300490, 300433, 302611, 200816, 201036, 201085, 201148, 201313, 302583, 200794, 200028, 200705, 201259, 302610, 302704, 201028, 201203])\n",
      "\n",
      "dict_values([[82126], [82081], [82379], [82377], [82061], [82061], [82173], [82124], [82379], [82071], [82076], [82189], [82378], [82277], [82727], [82184], [82279], [82070], [82375], [82389], [82080], [82183], [82187], [82132], [82078], [82278], [82377], [82280], [82375], [82070], [82175], [82389], [82081], [82379], [82133], [82075], [82379], [82277]])\n"
     ]
    }
   ],
   "source": [
    "hittimes = hittimes_in_frame(\"./testdata/sorted/sorted1.root\",1)\n",
    "print(hittimes.values())\n",
    "print(hittimes.keys())\n",
    "print()\n",
    "print(np.array(hittimes.values()))"
   ]
  },
  {
   "cell_type": "code",
   "execution_count": 3,
   "id": "51c5c9a0",
   "metadata": {},
   "outputs": [
    {
     "name": "stdout",
     "output_type": "stream",
     "text": [
      "------------------------------\n",
      "Detector information\n",
      "\n",
      "Stats:\n",
      "  - Tiles:  5824\n",
      "    -> misal:  False\n",
      "  - Pixel Modules:  2844\n",
      "  - Loaded Runs (Tiles):  []\n",
      "  - Loaded Runs (Pixel):  []\n",
      "------------------------------\n"
     ]
    }
   ],
   "source": [
    "mu3e_detector = Detector.initFromROOT(\"./testdata/sorted/sorted1.root\")\n",
    "#mu3e_detector = Detector.initFromSave(\"test_detector_file\")"
   ]
  },
  {
   "cell_type": "code",
   "execution_count": 4,
   "id": "e80f3708",
   "metadata": {},
   "outputs": [],
   "source": [
    "#mu3e_detector.save(\"test_detector_file\")"
   ]
  },
  {
   "cell_type": "code",
   "execution_count": 5,
   "id": "77cd7cb0",
   "metadata": {},
   "outputs": [],
   "source": [
    "melp.select(mu3e_detector)\n"
   ]
  },
  {
   "cell_type": "code",
   "execution_count": 6,
   "id": "fd441f35",
   "metadata": {},
   "outputs": [
    {
     "name": "stdout",
     "output_type": "stream",
     "text": [
      "Detector(TileDetector=<melp.src.tile.TileDetector object at 0x7fab0a9a94c0>, SensorModules=<melp.src.sensor.SensorModule object at 0x7fab0a7d92b0>))\n"
     ]
    }
   ],
   "source": [
    "print(mu3e_detector)"
   ]
  },
  {
   "cell_type": "code",
   "execution_count": 7,
   "id": "b868dac5",
   "metadata": {
    "scrolled": false
   },
   "outputs": [],
   "source": [
    "melp.addTileHits(\"./testdata/sorted/sorted1.root\", truth=False, traj=False)"
   ]
  },
  {
   "cell_type": "code",
   "execution_count": 8,
   "id": "fd16f284",
   "metadata": {},
   "outputs": [
    {
     "name": "stdout",
     "output_type": "stream",
     "text": [
      "------------------------------\n",
      "Detector information\n",
      "\n",
      "Stats:\n",
      "  - Tiles:  5824\n",
      "    -> misal:  False\n",
      "  - Pixel Modules:  2844\n",
      "  - Loaded Runs (Tiles):  [1]\n",
      "  - Loaded Runs (Pixel):  []\n",
      "------------------------------\n"
     ]
    }
   ],
   "source": [
    "mu3e_detector.info()"
   ]
  },
  {
   "cell_type": "code",
   "execution_count": 9,
   "id": "e05122d4",
   "metadata": {
    "scrolled": true
   },
   "outputs": [
    {
     "name": "stdout",
     "output_type": "stream",
     "text": [
      "[202714, 202713, 202715, 202657, 202658, 202659, 202769, 202770, 202771]\n"
     ]
    }
   ],
   "source": [
    "masks = sclump.build_mask(\"./testdata/sorted/sorted1.root\", 7)\n",
    "#masks = sclump.build_mask_detector_class(\"./testdata/sorted/sorted1.root\", 7, mu3e_detector)\n",
    "\n",
    "keys = []\n",
    "values = []\n",
    "for key in masks.keys():\n",
    "    keys.append(key)\n",
    "    values.append(masks[key])\n",
    "    \n",
    "mu3e_detector.TileDetector.tile[keys[0]].id\n",
    "mu3e_detector.TileDetector.tile[keys[0]].hits\n",
    "print(values[0])"
   ]
  },
  {
   "cell_type": "code",
   "execution_count": 10,
   "id": "94a767c8",
   "metadata": {},
   "outputs": [
    {
     "data": {
      "text/plain": [
       "<Figure size 432x288 with 0 Axes>"
      ]
     },
     "metadata": {},
     "output_type": "display_data"
    },
    {
     "data": {
      "image/png": "[encoded data removed]",
      "text/plain": [
       "<Figure size 864x864 with 1 Axes>"
      ]
     },
     "metadata": {
      "needs_background": "light"
     },
     "output_type": "display_data"
    }
   ],
   "source": [
    "grid = np.zeros((52,56))\n",
    "\n",
    "all_hits = False\n",
    "#add hits in frame\n",
    "if all_hits == True:\n",
    "    for tile_id in mu3e_detector.TileDetector.tile:\n",
    "        if tile_id < 300000:\n",
    "            tile = mu3e_detector.TileDetector.tile[tile_id]\n",
    "            for hits in tile.hits:\n",
    "                if hits.frame_id in [7]:\n",
    "                    id_sel = tile_id - 200000\n",
    "                    x = math.floor(id_sel/56)\n",
    "                    y = id_sel % 52\n",
    "                    grid[x][y] += 1\n",
    "\n",
    "#add mask\n",
    "for mask_tile in values[0]:\n",
    "    if mask_tile < 300000:\n",
    "        id_sel_mask = mask_tile - 200000\n",
    "        x = math.floor((id_sel_mask+1)/56)\n",
    "        y = id_sel_mask % 56\n",
    "        grid[x][y] += 1\n",
    "        \n",
    "#add centre a second time      \n",
    "if keys[0] < 300000:\n",
    "    id_sel_mask = keys[0] - 200000\n",
    "    x = math.floor(id_sel_mask/56)\n",
    "    y = id_sel_mask % 56\n",
    "    grid[x][y] += 1\n",
    "                     \n",
    "                              \n",
    "fig = plt.figure()\n",
    "fig, ax = plt.subplots(1,1, figsize=(12,12))\n",
    "#heatplot_mask = ax.imshow(mask_grid.T, cmap='binary')\n",
    "heatplot = ax.imshow(grid.T, cmap='BuPu')\n",
    "#ax.grid(which='minor', color='b', linestyle='-', linewidth=1)\n",
    "plt.hlines(y=np.arange(0, 56)+0.5, xmin=-0.5, xmax=51.5, color=\"black\", linewidth = 0.5)\n",
    "plt.vlines(x=np.arange(0, 52)+0.5, ymin=-0.5, ymax=55.5, color=\"black\", linewidth = 0.5)\n",
    "plt.xlabel(\"z\")\n",
    "plt.ylabel(\"phi\")\n",
    "#plt.savefig(\"hitmap.png\")\n",
    "plt.show()"
   ]
  },
  {
   "cell_type": "code",
   "execution_count": 11,
   "id": "771882c7",
   "metadata": {},
   "outputs": [
    {
     "ename": "NameError",
     "evalue": "name 'hitangle' is not defined",
     "output_type": "error",
     "traceback": [
      "\u001b[0;31m---------------------------------------------------------------------------\u001b[0m",
      "\u001b[0;31mNameError\u001b[0m                                 Traceback (most recent call last)",
      "\u001b[0;32m/tmp/ipykernel_20596/3106810018.py\u001b[0m in \u001b[0;36m<module>\u001b[0;34m\u001b[0m\n\u001b[0;32m----> 1\u001b[0;31m \u001b[0mbinned_data\u001b[0m\u001b[0;34m,\u001b[0m \u001b[0mxedges\u001b[0m\u001b[0;34m,\u001b[0m \u001b[0myedges\u001b[0m \u001b[0;34m=\u001b[0m \u001b[0mnp\u001b[0m\u001b[0;34m.\u001b[0m\u001b[0mhistogram2d\u001b[0m\u001b[0;34m(\u001b[0m\u001b[0mhitangle\u001b[0m\u001b[0;34m[\u001b[0m\u001b[0;36m0\u001b[0m\u001b[0;34m]\u001b[0m\u001b[0;34m,\u001b[0m \u001b[0mhitangle\u001b[0m\u001b[0;34m[\u001b[0m\u001b[0;36m1\u001b[0m\u001b[0;34m]\u001b[0m\u001b[0;34m,\u001b[0m \u001b[0mbins\u001b[0m\u001b[0;34m=\u001b[0m\u001b[0;34m[\u001b[0m\u001b[0;36m220\u001b[0m\u001b[0;34m,\u001b[0m \u001b[0;36m180\u001b[0m\u001b[0;34m]\u001b[0m\u001b[0;34m)\u001b[0m\u001b[0;34m\u001b[0m\u001b[0;34m\u001b[0m\u001b[0m\n\u001b[0m",
      "\u001b[0;31mNameError\u001b[0m: name 'hitangle' is not defined"
     ]
    }
   ],
   "source": [
    "binned_data, xedges, yedges = np.histogram2d(hitangle[0], hitangle[1], bins=[220, 180])"
   ]
  },
  {
   "cell_type": "code",
   "execution_count": null,
   "id": "b7991970",
   "metadata": {},
   "outputs": [],
   "source": [
    "\n",
    "\n",
    "fig = plt.figure(figsize=(10, 8))\n",
    "\n",
    "ax = fig.add_subplot(111, title='theta distribution')\n",
    "X, Y = np.meshgrid(xedges, yedges)\n",
    "im = ax.pcolormesh(X, Y, binned_data.T, cmap=\"turbo\", norm = mpl.colors.LogNorm())\n",
    "plt.ylabel(\"theta\")\n",
    "plt.xlabel(\"z\")\n",
    "plt.colorbar(im)\n",
    "plt.show()"
   ]
  },
  {
   "cell_type": "code",
   "execution_count": null,
   "id": "905fb61e",
   "metadata": {},
   "outputs": [],
   "source": []
  }
 ],
 "metadata": {
  "kernelspec": {
   "display_name": "Python 3 (ipykernel)",
   "language": "python",
   "name": "python3"
  },
  "language_info": {
   "codemirror_mode": {
    "name": "ipython",
    "version": 3
   },
   "file_extension": ".py",
   "mimetype": "text/x-python",
   "name": "python",
   "nbconvert_exporter": "python",
   "pygments_lexer": "ipython3",
   "version": "3.8.10"
  }
 },
 "nbformat": 4,
 "nbformat_minor": 5
}
