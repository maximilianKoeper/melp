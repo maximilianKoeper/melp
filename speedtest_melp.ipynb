{
 "cells": [
  {
   "cell_type": "code",
   "execution_count": 1,
   "id": "c8088770",
   "metadata": {},
   "outputs": [
    {
     "name": "stdout",
     "output_type": "stream",
     "text": [
      "Welcome to JupyROOT 6.24/06\n"
     ]
    }
   ],
   "source": [
    "import ROOT\n",
    "import numpy as np\n",
    "import matplotlib.pyplot as plt\n",
    "import matplotlib as mpl\n",
    "from melp import Detector\n",
    "import melp\n",
    "import math\n",
    "\n",
    "from melp.clustering.misc import*\n",
    "import melp.clustering as clump\n",
    "import melp.clustering.time_cluster as tclump\n",
    "#from melp import TileAnalyzer\n",
    "import melp.clustering.spatial_cluster as sclump\n",
    "import melp.clustering.plots as clump_plt\n",
    "\n",
    "plt.rcParams.update({'font.size': 16})"
   ]
  },
  {
   "cell_type": "code",
   "execution_count": 7,
   "id": "1daa0002",
   "metadata": {},
   "outputs": [
    {
     "name": "stdout",
     "output_type": "stream",
     "text": [
      "------------------------------\n",
      "Detector information\n",
      "\n",
      "Stats:\n",
      "  - Tiles:  5824\n",
      "    -> misal:  False\n",
      "  - Pixel Modules:  2844\n",
      "  - Loaded Runs (Tiles):  []\n",
      "  - Loaded Runs (Pixel):  []\n",
      "------------------------------\n"
     ]
    }
   ],
   "source": [
    "filename_trirec = \"./testdata/trirec/trirec1.root\"\n",
    "filename_sorted = \"./testdata/sorted/sorted1.root\"\n",
    "\n",
    "file = ROOT.TFile(filename_sorted)\n",
    "ttree_mu3e = file.Get(\"mu3e\")\n",
    "ttree_mu3e_mc = file.Get(\"mu3e_mchits\")\n",
    "\n",
    "file_rec = ROOT.TFile(filename_trirec)\n",
    "ttree_trirec = file_rec.Get(\"frames\")\n",
    "ttree_trirec_mc = file_rec.Get(\"frames_mc\")\n",
    "ttree_mu3e_segs = file_rec.Get(\"segs\")\n",
    "\n",
    "frame_used = 1\n",
    "ttree_mu3e.GetEntry(frame_used)\n",
    "\n",
    "mu3e_detector = Detector.initFromROOT(filename_sorted)"
   ]
  },
  {
   "cell_type": "code",
   "execution_count": 8,
   "id": "95ce2830",
   "metadata": {},
   "outputs": [
    {
     "name": "stdout",
     "output_type": "stream",
     "text": [
      "         304293 function calls in 2.758 seconds\n",
      "\n",
      "   Ordered by: standard name\n",
      "\n",
      "   ncalls  tottime  percall  cumtime  percall filename:lineno(function)\n",
      "        1    0.000    0.000    2.758    2.758 <string>:1(<module>)\n",
      "        4    0.008    0.002    0.008    0.002 __init__.py:150(_standard_pythonizations)\n",
      "        4    0.000    0.000    0.000    0.000 _drawables.py:56(pythonize_drawables)\n",
      "        4    0.000    0.000    0.000    0.000 _generic.py:37(pythonizegeneric)\n",
      "        4    0.000    0.000    0.000    0.000 _pythonization.py:147(__call__)\n",
      "        4    0.000    0.000    0.000    0.000 _rbdt.py:39(pythonize_rbdt)\n",
      "        4    0.000    0.000    0.000    0.000 _rdataframe.py:133(pythonize_rdataframe)\n",
      "        4    0.000    0.000    0.000    0.000 _rooabscollection.py:14(pythonize_rooabscollection)\n",
      "        4    0.000    0.000    0.000    0.000 _rooworkspace.py:14(pythonize_rooworkspace)\n",
      "        4    0.000    0.000    0.000    0.000 _rtensor.py:120(pythonize_rtensor)\n",
      "        2    0.000    0.000    0.000    0.000 _rvec.py:106(add_array_interface_property)\n",
      "        2    0.000    0.000    0.000    0.000 _rvec.py:107(<listcomp>)\n",
      "        4    0.000    0.000    0.000    0.000 _rvec.py:113(pythonize_rvec)\n",
      "        4    0.000    0.000    0.000    0.000 _stl_vector.py:15(pythonize_stl_vector)\n",
      "        4    0.000    0.000    0.000    0.000 _tarray.py:53(pythonize_tarray)\n",
      "        4    0.000    0.000    0.000    0.000 _tclonesarray.py:15(pythonize_tclonesarray)\n",
      "        4    0.000    0.000    0.000    0.000 _tcollection.py:96(pythonize_tcollection)\n",
      "        4    0.000    0.000    0.000    0.000 _tcomplex.py:46(pythonize_tcomplex)\n",
      "        4    0.000    0.000    0.000    0.000 _tdirectoryfile.py:62(pythonize_tdirectoryfile)\n",
      "        4    0.000    0.000    0.000    0.000 _tfile.py:71(pythonize_tfile)\n",
      "        4    0.000    0.000    0.000    0.000 _th1.py:26(pythonize_th1)\n",
      "        4    0.000    0.000    0.000    0.000 _tobjstring.py:14(pythonize_tobjstring)\n",
      "        4    0.000    0.000    0.000    0.000 _tree_inference.py:124(pythonize_tree_inference)\n",
      "        4    0.000    0.000    0.000    0.000 _tseqcollection.py:249(pythonize_tseqcollection)\n",
      "        4    0.000    0.000    0.000    0.000 _tstring.py:14(pythonize_tstring)\n",
      "        4    0.000    0.000    0.000    0.000 _ttree.py:296(pythonize_ttree)\n",
      "        4    0.000    0.000    0.000    0.000 _tvector3.py:16(pythonize_tvector3)\n",
      "        4    0.000    0.000    0.000    0.000 _tvectort.py:16(pythonize_tvectort)\n",
      "      841    0.942    0.001    0.944    0.001 misc.py:193(get_cluster_primary_truth_frame)\n",
      "      841    0.223    0.000    0.227    0.000 misc.py:97(get_mc_primary_for_hit_frame)\n",
      "        1    0.360    0.360    2.758    2.758 plots.py:11(compare_to_primary)\n",
      "      841    0.113    0.000    1.238    0.001 spatial_cluster.py:166(build_mask_around_cluster_primary)\n",
      "      556    0.037    0.000    0.037    0.000 spatial_cluster.py:245(<listcomp>)\n",
      "      841    0.325    0.000    1.575    0.002 spatial_cluster.py:253(build_clusters_in_masks)\n",
      "      841    0.543    0.001    2.142    0.003 spatial_cluster.py:301(build_cluster_with_truth_primary)\n",
      "    82940    0.108    0.000    0.119    0.000 tile.py:116(getNeighbour)\n",
      "        1    0.000    0.000    2.758    2.758 {built-in method builtins.exec}\n",
      "        4    0.000    0.000    0.000    0.000 {built-in method builtins.getattr}\n",
      "    39643    0.034    0.000    0.034    0.000 {built-in method builtins.len}\n",
      "        4    0.000    0.000    0.000    0.000 {built-in method libROOTPythonizations3_8.AddPrettyPrintingPyz}\n",
      "     8294    0.037    0.000    0.037    0.000 {built-in method numpy.array}\n",
      "    66614    0.012    0.000    0.012    0.000 {method 'append' of 'list' objects}\n",
      "        1    0.000    0.000    0.000    0.000 {method 'disable' of '_lsprof.Profiler' objects}\n",
      "       16    0.000    0.000    0.000    0.000 {method 'endswith' of 'str' objects}\n",
      "        8    0.000    0.000    0.000    0.000 {method 'find' of 'str' objects}\n",
      "       16    0.000    0.000    0.000    0.000 {method 'format' of 'str' objects}\n",
      "   101849    0.015    0.000    0.015    0.000 {method 'keys' of 'dict' objects}\n",
      "        4    0.000    0.000    0.000    0.000 {method 'match' of 're.Pattern' objects}\n",
      "       32    0.000    0.000    0.000    0.000 {method 'startswith' of 'str' objects}\n",
      "\n",
      "\n"
     ]
    }
   ],
   "source": [
    "import cProfile\n",
    "import pstats\n",
    "\n",
    "\n",
    "cProfile.run(\"clump_plt.compare_to_primary(ttree_mu3e, ttree_mu3e_mc, mu3e_detector, mask_type = 'big')\")"
   ]
  },
  {
   "cell_type": "code",
   "execution_count": null,
   "id": "00a5fbe2",
   "metadata": {},
   "outputs": [],
   "source": [
    "%load_ext line_profiler\n",
    "%lprun -f compare_to_primary compare_to_primary(filename_sorted)"
   ]
  }
 ],
 "metadata": {
  "kernelspec": {
   "display_name": "Python 3 (ipykernel)",
   "language": "python",
   "name": "python3"
  },
  "language_info": {
   "codemirror_mode": {
    "name": "ipython",
    "version": 3
   },
   "file_extension": ".py",
   "mimetype": "text/x-python",
   "name": "python",
   "nbconvert_exporter": "python",
   "pygments_lexer": "ipython3",
   "version": "3.8.10"
  }
 },
 "nbformat": 4,
 "nbformat_minor": 5
}
