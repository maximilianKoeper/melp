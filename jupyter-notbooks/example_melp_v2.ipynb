{
 "cells": [
  {
   "cell_type": "code",
   "execution_count": 1,
   "metadata": {},
   "outputs": [
    {
     "name": "stdout",
     "output_type": "stream",
     "text": [
      "/home/erik/GitHub/melp\n"
     ]
    }
   ],
   "source": [
    "%cd .."
   ]
  },
  {
   "cell_type": "code",
   "execution_count": 2,
   "metadata": {},
   "outputs": [
    {
     "name": "stdout",
     "output_type": "stream",
     "text": [
      "Welcome to JupyROOT 6.24/06\n"
     ]
    }
   ],
   "source": [
    "#import ROOT\n",
    "import numpy as np\n",
    "import matplotlib.pyplot as plt\n",
    "from melp import Detector\n",
    "import melp\n",
    "import melp.taft"
   ]
  },
  {
   "cell_type": "code",
   "execution_count": 3,
   "metadata": {},
   "outputs": [],
   "source": [
    "#import melp.legacy as melp\n",
    "\n",
    "#test = melp.TileHitAngle(\"run42_20000.root\", \"outtest_1\")\n",
    "#test = melp.TileHitAngle(\"mu3e_run_050000.root\", \"outtest_big\")"
   ]
  },
  {
   "cell_type": "code",
   "execution_count": 4,
   "metadata": {
    "scrolled": true
   },
   "outputs": [],
   "source": [
    "#mu3e_detector = dt.Detector(test.tile_id_pos, test.tile_id_pos, [0,1,2])"
   ]
  },
  {
   "cell_type": "code",
   "execution_count": 5,
   "metadata": {},
   "outputs": [
    {
     "name": "stdout",
     "output_type": "stream",
     "text": [
      "------------------------------\n",
      "Detector information\n",
      "\n",
      "Stats:\n",
      "  - Tiles:  5824\n",
      "    -> misal:  False\n",
      "  - Pixel Modules:  2844\n",
      "  - Loaded Runs (Tiles):  []\n",
      "  - Loaded Runs (Pixel):  []\n",
      "------------------------------\n"
     ]
    }
   ],
   "source": [
    "#mu3e_detector = Detector.initFromROOT(\"run42_20000.root\")\n",
    "#mu3e_detector = Detector.initFromROOT(\"sorted_truth.root\")\n",
    "#mu3e_detector = Detector.initFromSave(\"test_detector_file\")\n",
    "mu3e_detector = Detector.initFromROOT(\"./testdata/sorted/sorted1_big.root\")"
   ]
  },
  {
   "cell_type": "code",
   "execution_count": 6,
   "metadata": {},
   "outputs": [],
   "source": [
    "#mu3e_detector.save(\"test_detector_file\")"
   ]
  },
  {
   "cell_type": "code",
   "execution_count": 7,
   "metadata": {},
   "outputs": [],
   "source": [
    "melp.select(mu3e_detector)"
   ]
  },
  {
   "cell_type": "code",
   "execution_count": 8,
   "metadata": {},
   "outputs": [
    {
     "name": "stdout",
     "output_type": "stream",
     "text": [
      "Detector(TileDetector=Loaded Tiles: 5824, SensorModules=<melp.src.sensor.SensorModule object at 0x7f28aa8c7970>))\n"
     ]
    }
   ],
   "source": [
    "melp.info()"
   ]
  },
  {
   "cell_type": "code",
   "execution_count": 9,
   "metadata": {},
   "outputs": [
    {
     "name": "stdout",
     "output_type": "stream",
     "text": [
      "Detector(TileDetector=Loaded Tiles: 5824, SensorModules=<melp.src.sensor.SensorModule object at 0x7f28aa8c7970>))\n"
     ]
    }
   ],
   "source": [
    "print(mu3e_detector)"
   ]
  },
  {
   "cell_type": "code",
   "execution_count": 10,
   "metadata": {},
   "outputs": [
    {
     "ename": "AttributeError",
     "evalue": "'TTree' object has no attribute 'p_in_x'",
     "output_type": "error",
     "traceback": [
      "\u001b[0;31m---------------------------------------------------------------------------\u001b[0m",
      "\u001b[0;31mAttributeError\u001b[0m                            Traceback (most recent call last)",
      "\u001b[0;32m<ipython-input-10-3ef63fca66e5>\u001b[0m in \u001b[0;36m<module>\u001b[0;34m\u001b[0m\n\u001b[0;32m----> 1\u001b[0;31m \u001b[0mmelp\u001b[0m\u001b[0;34m.\u001b[0m\u001b[0maddTileHits\u001b[0m\u001b[0;34m(\u001b[0m\u001b[0;34m\"./testdata/sorted/sorted1_big.root\"\u001b[0m\u001b[0;34m,\u001b[0m \u001b[0mtruth\u001b[0m\u001b[0;34m=\u001b[0m\u001b[0;32mTrue\u001b[0m\u001b[0;34m,\u001b[0m \u001b[0mtraj\u001b[0m\u001b[0;34m=\u001b[0m\u001b[0;32mFalse\u001b[0m\u001b[0;34m)\u001b[0m\u001b[0;34m\u001b[0m\u001b[0;34m\u001b[0m\u001b[0m\n\u001b[0m\u001b[1;32m      2\u001b[0m \u001b[0;31m#melp.addTileHits(\"run42_20000.root\", truth=True, traj=False)\u001b[0m\u001b[0;34m\u001b[0m\u001b[0;34m\u001b[0m\u001b[0;34m\u001b[0m\u001b[0m\n\u001b[1;32m      3\u001b[0m \u001b[0;31m#melp.addTileHits(\"mu3e_run_000133_sorted_truth.root\", truth=True, traj=False)\u001b[0m\u001b[0;34m\u001b[0m\u001b[0;34m\u001b[0m\u001b[0;34m\u001b[0m\u001b[0m\n\u001b[1;32m      4\u001b[0m \u001b[0;31m#melp.addTileHits(\"mu3e_run_000134_sorted_truth.root\", truth=True, traj=False)\u001b[0m\u001b[0;34m\u001b[0m\u001b[0;34m\u001b[0m\u001b[0;34m\u001b[0m\u001b[0m\n",
      "\u001b[0;32m~/GitHub/melp/melp/analyzer_v2.py\u001b[0m in \u001b[0;36maddTileHits\u001b[0;34m(filename, traj, truth)\u001b[0m\n\u001b[1;32m     68\u001b[0m             \u001b[0;31m# ---------------------\u001b[0m\u001b[0;34m\u001b[0m\u001b[0;34m\u001b[0m\u001b[0;34m\u001b[0m\u001b[0m\n\u001b[1;32m     69\u001b[0m             \u001b[0;32mif\u001b[0m \u001b[0mtruth\u001b[0m\u001b[0;34m:\u001b[0m\u001b[0;34m\u001b[0m\u001b[0;34m\u001b[0m\u001b[0m\n\u001b[0;32m---> 70\u001b[0;31m                 \u001b[0mpx\u001b[0m \u001b[0;34m=\u001b[0m \u001b[0mttree_mu3e_mc\u001b[0m\u001b[0;34m.\u001b[0m\u001b[0mp_in_x\u001b[0m\u001b[0;34m\u001b[0m\u001b[0;34m\u001b[0m\u001b[0m\n\u001b[0m\u001b[1;32m     71\u001b[0m                 \u001b[0mpy\u001b[0m \u001b[0;34m=\u001b[0m \u001b[0mttree_mu3e_mc\u001b[0m\u001b[0;34m.\u001b[0m\u001b[0mp_in_y\u001b[0m\u001b[0;34m\u001b[0m\u001b[0;34m\u001b[0m\u001b[0m\n\u001b[1;32m     72\u001b[0m                 \u001b[0mpz\u001b[0m \u001b[0;34m=\u001b[0m \u001b[0mttree_mu3e_mc\u001b[0m\u001b[0;34m.\u001b[0m\u001b[0mp_in_z\u001b[0m\u001b[0;34m\u001b[0m\u001b[0;34m\u001b[0m\u001b[0m\n",
      "\u001b[0;31mAttributeError\u001b[0m: 'TTree' object has no attribute 'p_in_x'"
     ]
    }
   ],
   "source": [
    "melp.addTileHits(\"./testdata/sorted/sorted1_big.root\", truth=True, traj=False)\n",
    "#melp.addTileHits(\"run42_20000.root\", truth=True, traj=False)\n",
    "#melp.addTileHits(\"mu3e_run_000133_sorted_truth.root\", truth=True, traj=False)\n",
    "#melp.addTileHits(\"mu3e_run_000134_sorted_truth.root\", truth=True, traj=False)"
   ]
  },
  {
   "cell_type": "code",
   "execution_count": null,
   "metadata": {},
   "outputs": [],
   "source": [
    "mu3e_detector.TileDetector.tile[200000].hits"
   ]
  },
  {
   "cell_type": "code",
   "execution_count": null,
   "metadata": {},
   "outputs": [],
   "source": [
    "mu3e_detector.TileDetector.tile[200000].info()"
   ]
  },
  {
   "cell_type": "code",
   "execution_count": null,
   "metadata": {},
   "outputs": [],
   "source": [
    "mu3e_detector.info()"
   ]
  },
  {
   "cell_type": "code",
   "execution_count": null,
   "metadata": {},
   "outputs": [],
   "source": [
    "rate_data = melp.getHitRate()"
   ]
  },
  {
   "cell_type": "code",
   "execution_count": null,
   "metadata": {},
   "outputs": [],
   "source": [
    "rate_data_np = np.array(rate_data)"
   ]
  },
  {
   "cell_type": "code",
   "execution_count": null,
   "metadata": {},
   "outputs": [],
   "source": [
    "result_rate = np.zeros((52*2,6))\n",
    "\n",
    "for z_pos in range(2*52):\n",
    "    result_rate[z_pos][0] = rate_data_np[0][z_pos*56+1]\n",
    "    for phi_pos in range(56):\n",
    "        result_rate[z_pos][1] += rate_data_np[1][z_pos*56+1+phi_pos] # total\n",
    "        result_rate[z_pos][2] += rate_data_np[2][z_pos*56+1+phi_pos]\n",
    "        result_rate[z_pos][3] += rate_data_np[3][z_pos*56+1+phi_pos]\n",
    "        result_rate[z_pos][4] += rate_data_np[4][z_pos*56+1+phi_pos]\n",
    "        result_rate[z_pos][5] += rate_data_np[5][z_pos*56+1+phi_pos] # edep\n",
    "        "
   ]
  },
  {
   "cell_type": "code",
   "execution_count": null,
   "metadata": {},
   "outputs": [],
   "source": [
    "# Umrechnung Rate -> pro sekunde\n",
    "number_of_frames = 20000*3\n",
    "frame_length = 64 #ns\n",
    "ns_to_s = 1e-9\n",
    "\n",
    "run_time_length = (number_of_frames*frame_length*ns_to_s) # s\n",
    "\n",
    "number_of_tiles_phi = 56\n",
    "\n",
    "fac = 1/(run_time_length*number_of_tiles_phi)\n",
    "fac_khz = fac/1000 \n"
   ]
  },
  {
   "cell_type": "code",
   "execution_count": null,
   "metadata": {},
   "outputs": [],
   "source": [
    "#import seaborn as sns\n"
   ]
  },
  {
   "cell_type": "code",
   "execution_count": null,
   "metadata": {},
   "outputs": [],
   "source": [
    "#plt.bar(result_rate.T[0], result_rate.T[1], width = 2)\n",
    "#sns.set_theme(style=\"darkgrid\")\n",
    "\n",
    "#fig = plt.figure(figsize=(10, 8))\n",
    "\n",
    "#sns.histplot(x=result_rate.T[0], weights=result_rate.T[1]*fac_khz, bins=220, label=\"total rate\")\n",
    "#sns.histplot(x=result_rate.T[0], weights=result_rate.T[2]*fac_khz, bins=220, label=\"primary rate\")\n",
    "#sns.histplot(x=result_rate.T[0], weights=result_rate.T[3]*fac_khz, bins=220, label=\"secondary rate\")\n",
    "#sns.histplot(x=result_rate.T[0], weights=result_rate.T[4]*fac_khz, bins=220, label=\"tertiary rate\")\n",
    "#plt.legend(fontsize=15)\n",
    "#plt.yticks([])\n",
    "#plt.ylabel(\"Rate [khz]\")\n",
    "#plt.xlabel(\"z - position\")\n",
    "#plt.show()"
   ]
  },
  {
   "cell_type": "code",
   "execution_count": null,
   "metadata": {},
   "outputs": [],
   "source": [
    "import matplotlib as mpl\n",
    "mpl.rcParams['axes.prop_cycle'] = mpl.cycler(color=[\"264653\",\"e76f51\",\"e9c46a\",\"2a9d8f\"]) \n",
    "# https://coolors.co/palettes/popular\n",
    "plt.rcParams.update({'font.size': 20})\n"
   ]
  },
  {
   "cell_type": "code",
   "execution_count": null,
   "metadata": {},
   "outputs": [],
   "source": [
    "#plt.bar(result_rate.T[0], result_rate.T[1], width = 2)\n",
    "fig, ax = plt.subplots(figsize=(10, 8))\n",
    "\n",
    "ax.hist(result_rate.T[0], weights=result_rate.T[1]*fac_khz, bins=220, range=(min(result_rate.T[0]),max(result_rate.T[0])), label=\"total rate\")\n",
    "#plt.hist(result_rate.T[0], weights=result_rate.T[2]*fac_khz, bins=220, range=(min(result_rate.T[0]),max(result_rate.T[0])), label=\"primary rate\", stacked=True)\n",
    "#plt.hist(result_rate.T[0], weights=result_rate.T[3]*fac_khz, bins=220, range=(min(result_rate.T[0]),max(result_rate.T[0])), label=\"secondary rate\", stacked=True)\n",
    "ax.hist([result_rate.T[0],result_rate.T[0],result_rate.T[0]], weights=[result_rate.T[2]*fac_khz, result_rate.T[3]*fac_khz, result_rate.T[4]*fac_khz], bins=220, range=(min(result_rate.T[0]),max(result_rate.T[0])), label=[\"primary rate\",\"secondary rate\",\"tertiary rate\"], stacked=True)\n",
    "ax.legend(fontsize=15)\n",
    "ax.set_ylabel(\"Rate [khz]\")\n",
    "ax.set_xlabel(\"z - position\")\n",
    "\n",
    "ax2 = ax.twinx()\n",
    "mn, mx = ax.get_ylim()\n",
    "ax2.set_ylim(mn*1, (1-np.exp(-mx*1000*150*10**-9))*100)\n",
    "ax2.set_ylabel(\"Pile-up [%]\")\n",
    "\n",
    "plt.show()"
   ]
  },
  {
   "cell_type": "code",
   "execution_count": null,
   "metadata": {},
   "outputs": [],
   "source": [
    "rate_total_1 = sum((result_rate.T[2]*fac_khz)[:52])/52\n",
    "rate_total_2 = sum((result_rate.T[2]*fac_khz)[52:])/52\n",
    "\n",
    "print(\"Upstream Rate:\", rate_total_1)\n",
    "print(\"Downstream Rate:\", rate_total_2)\n",
    "print(\"Max rate:\", max(result_rate.T[2]*fac_khz))\n",
    "print(\"Min rate:\", min(result_rate.T[2]*fac_khz))"
   ]
  },
  {
   "cell_type": "code",
   "execution_count": null,
   "metadata": {},
   "outputs": [],
   "source": [
    "rate_total_1 = sum((result_rate.T[1]*fac_khz)[:52])/52\n",
    "rate_total_2 = sum((result_rate.T[1]*fac_khz)[52:])/52\n",
    "\n",
    "print(\"Upstream Rate:\", rate_total_1)\n",
    "print(\"Downstream Rate:\", rate_total_2)\n",
    "print(\"Max rate:\", max(result_rate.T[1]*fac_khz))\n",
    "print(\"Min rate:\", min(result_rate.T[1]*fac_khz))"
   ]
  },
  {
   "cell_type": "code",
   "execution_count": null,
   "metadata": {},
   "outputs": [],
   "source": [
    "#plt.bar(result_rate.T[0], result_rate.T[1], width = 2)\n",
    "fig = plt.figure(figsize=(10, 8))\n",
    "plt.hist(result_rate.T[0], weights=result_rate.T[5]*fac/1000, bins=220, range=(min(result_rate.T[0]),max(result_rate.T[0])), label=\"energy deposition\")\n",
    "plt.legend(fontsize=15)\n",
    "#plt.yticks([])\n",
    "plt.ylabel(\"Energy deposition [GeV/s]\")\n",
    "plt.xlabel(\"z - position\")\n",
    "plt.show()"
   ]
  },
  {
   "cell_type": "code",
   "execution_count": null,
   "metadata": {},
   "outputs": [],
   "source": [
    "edep_hits = []\n",
    "for tile in mu3e_detector.TileDetector.tile:\n",
    "\n",
    "    for hit in mu3e_detector.TileDetector.tile[tile].hits:\n",
    "\n",
    "        edep = hit.edep\n",
    "        edep_hits.append(edep)"
   ]
  },
  {
   "cell_type": "code",
   "execution_count": null,
   "metadata": {},
   "outputs": [],
   "source": [
    "fig = plt.figure(figsize=(10, 8))\n",
    "plt.hist(edep_hits,bins=150, range=(0,3))\n",
    "plt.show()\n",
    "print(min(edep_hits))"
   ]
  },
  {
   "cell_type": "code",
   "execution_count": null,
   "metadata": {},
   "outputs": [],
   "source": [
    "#melp.addSensorHits(\"run42_20000.root\", traj=True)"
   ]
  },
  {
   "cell_type": "code",
   "execution_count": null,
   "metadata": {},
   "outputs": [],
   "source": [
    "hitangle = melp.getHitAngle(rec_type=\"Truth\", angle=\"theta\", hit_type=\"primary\")"
   ]
  },
  {
   "cell_type": "code",
   "execution_count": null,
   "metadata": {},
   "outputs": [],
   "source": [
    "#print(hitangle[1])"
   ]
  },
  {
   "cell_type": "code",
   "execution_count": null,
   "metadata": {},
   "outputs": [],
   "source": [
    "mu3e_detector.info()"
   ]
  },
  {
   "cell_type": "code",
   "execution_count": null,
   "metadata": {},
   "outputs": [],
   "source": [
    "#mu3e_detector.SensorsModules.sensor[1].hit"
   ]
  },
  {
   "cell_type": "code",
   "execution_count": null,
   "metadata": {},
   "outputs": [],
   "source": [
    "#mu3e_detector.TileDetector.tile[200000].hits"
   ]
  },
  {
   "cell_type": "code",
   "execution_count": null,
   "metadata": {},
   "outputs": [],
   "source": [
    "binned_data, xedges, yedges = np.histogram2d(hitangle[0], hitangle[1], bins=[220, 180])"
   ]
  },
  {
   "cell_type": "code",
   "execution_count": null,
   "metadata": {},
   "outputs": [],
   "source": [
    "plt.rcParams.update({'font.size': 20})\n",
    "\n",
    "\n",
    "fig = plt.figure(figsize=(10, 8))\n",
    "\n",
    "ax = fig.add_subplot(111, title='theta distribution')\n",
    "X, Y = np.meshgrid(xedges, yedges)\n",
    "im = ax.pcolormesh(X, Y, binned_data.T, cmap=\"viridis\", norm = mpl.colors.LogNorm())\n",
    "plt.ylabel(\"theta [deg]\")\n",
    "plt.xlabel(\"z [mm]\")\n",
    "cbar = plt.colorbar(im)\n",
    "cbar.set_label('A.U.', rotation=270)\n",
    "plt.show()"
   ]
  },
  {
   "cell_type": "code",
   "execution_count": null,
   "metadata": {},
   "outputs": [],
   "source": [
    "from scipy.optimize import curve_fit"
   ]
  },
  {
   "cell_type": "code",
   "execution_count": null,
   "metadata": {},
   "outputs": [],
   "source": [
    "def fit_func(x, a, b):\n",
    "    return a*x + b"
   ]
  },
  {
   "cell_type": "code",
   "execution_count": null,
   "metadata": {},
   "outputs": [],
   "source": [
    "pos = []\n",
    "station_test = 200000\n",
    "\n",
    "for z in range(len(mu3e_detector.TileDetector.row_ids(0, station_test))):\n",
    "    z_pos = mu3e_detector.TileDetector.tile[mu3e_detector.TileDetector.column_ids(z, station_test)[0]].pos\n",
    "    pos.append(z_pos[2])"
   ]
  },
  {
   "cell_type": "code",
   "execution_count": null,
   "metadata": {},
   "outputs": [],
   "source": [
    "average_angle = []\n",
    "\n",
    "for i in range(0,110):\n",
    "    if sum(binned_data[i]) != 0:\n",
    "        average_angle.append(np.average(np.array(range(0,180,1)),weights=binned_data[i]))\n",
    "        \n",
    "popt, cov = curve_fit(fit_func, pos[1:-2], average_angle[1:-2])\n",
    "plt.plot(pos, average_angle, marker=\".\")\n",
    "plt.plot(pos, fit_func(np.array(pos), popt[0],popt[1]))\n",
    "plt.show()\n",
    "print(\"Average Angle Upstream:\", np.median(average_angle))\n",
    "print(\"Angle Fit Params: \", popt)\n",
    "len(average_angle)"
   ]
  },
  {
   "cell_type": "code",
   "execution_count": null,
   "metadata": {},
   "outputs": [],
   "source": [
    "pos = []\n",
    "station_test = 300000\n",
    "\n",
    "for z in range(len(mu3e_detector.TileDetector.row_ids(0, station_test))):\n",
    "    z_pos = mu3e_detector.TileDetector.tile[mu3e_detector.TileDetector.column_ids(z, station_test)[0]].pos\n",
    "    pos.append(z_pos[2])"
   ]
  },
  {
   "cell_type": "code",
   "execution_count": null,
   "metadata": {},
   "outputs": [],
   "source": [
    "average_angle = []\n",
    "\n",
    "for i in range(110,220):\n",
    "    if sum(binned_data[i]) != 0:\n",
    "        average_angle.append(np.average(np.array(range(0,180,1)),weights=binned_data[i]))\n",
    "        \n",
    "popt, cov = curve_fit(fit_func, pos[1:-2], average_angle[2:-2])\n",
    "plt.plot(pos, average_angle[1:], marker=\".\")\n",
    "plt.plot(pos, fit_func(np.array(pos), popt[0],popt[1]))\n",
    "plt.show()\n",
    "print(\"Average Angle Downstream:\", np.median(average_angle))\n",
    "print(\"Angle Fit Params: \", popt)\n",
    "len(average_angle)"
   ]
  },
  {
   "cell_type": "code",
   "execution_count": null,
   "metadata": {},
   "outputs": [],
   "source": [
    "hitangle = melp.getHitAngle(rec_type=\"Truth\", angle=\"theta\", hit_type=\"all\")\n",
    "binned_data, xedges, yedges = np.histogram2d(hitangle[0], hitangle[1], bins=[220, 180])"
   ]
  },
  {
   "cell_type": "code",
   "execution_count": null,
   "metadata": {},
   "outputs": [],
   "source": [
    "plt.rcParams.update({'font.size': 20})\n",
    "\n",
    "\n",
    "fig = plt.figure(figsize=(10, 8))\n",
    "\n",
    "ax = fig.add_subplot(111, title='theta distribution')\n",
    "X, Y = np.meshgrid(xedges, yedges)\n",
    "im = ax.pcolormesh(X, Y, binned_data.T, cmap=\"magma_r\", norm = mpl.colors.LogNorm())\n",
    "plt.ylabel(\"theta [deg]\")\n",
    "plt.xlabel(\"z [mm]\")\n",
    "cbar = plt.colorbar(im)\n",
    "cbar.set_label('A.U.', rotation=270)\n",
    "plt.show()"
   ]
  },
  {
   "cell_type": "code",
   "execution_count": null,
   "metadata": {},
   "outputs": [],
   "source": [
    "hitangle = melp.getHitAngle(rec_type=\"Truth\", angle=\"phi\", hit_type=\"primary\")\n",
    "binned_data, xedges, yedges = np.histogram2d(hitangle[0], hitangle[1], bins=[220, 180])"
   ]
  },
  {
   "cell_type": "code",
   "execution_count": null,
   "metadata": {},
   "outputs": [],
   "source": [
    "plt.rcParams.update({'font.size': 20})\n",
    "\n",
    "\n",
    "fig = plt.figure(figsize=(10, 8))\n",
    "\n",
    "ax = fig.add_subplot(111, title='phi distribution')\n",
    "X, Y = np.meshgrid(xedges, yedges)\n",
    "im = ax.pcolormesh(X, Y, binned_data.T, cmap=\"viridis\", norm = mpl.colors.LogNorm())\n",
    "plt.ylabel(\"phi [deg]\")\n",
    "plt.xlabel(\"z [mm]\")\n",
    "cbar = plt.colorbar(im)\n",
    "cbar.set_label('A.U.', rotation=270)\n",
    "plt.show()"
   ]
  },
  {
   "cell_type": "code",
   "execution_count": null,
   "metadata": {},
   "outputs": [],
   "source": [
    "average_angle = []\n",
    "\n",
    "for i in range(0,110):\n",
    "    if sum(binned_data[i]) != 0:\n",
    "        average_angle.append(np.average(np.array(range(-180,180,2)),weights=binned_data[i]))\n",
    "plt.plot(average_angle, marker=\".\")\n",
    "plt.show()\n",
    "print(\"Average Angle Upstream:\", np.median(average_angle))"
   ]
  },
  {
   "cell_type": "code",
   "execution_count": null,
   "metadata": {},
   "outputs": [],
   "source": [
    "average_angle = []\n",
    "\n",
    "for i in range(110,220):\n",
    "    if sum(binned_data[i]) != 0:\n",
    "        average_angle.append(np.average(np.array(range(-180,180,2)),weights=binned_data[i]))\n",
    "plt.plot(average_angle, marker=\".\")\n",
    "plt.show()\n",
    "print(\"Average Angle Upstream:\", np.median(average_angle))"
   ]
  },
  {
   "cell_type": "code",
   "execution_count": null,
   "metadata": {},
   "outputs": [],
   "source": [
    "hitangle = melp.getHitAngle(rec_type=\"Truth\", angle=\"phi\", hit_type=\"all\")\n",
    "binned_data, xedges, yedges = np.histogram2d(hitangle[0], hitangle[1], bins=[220, 180])"
   ]
  },
  {
   "cell_type": "code",
   "execution_count": null,
   "metadata": {},
   "outputs": [],
   "source": [
    "plt.rcParams.update({'font.size': 20})\n",
    "\n",
    "\n",
    "fig = plt.figure(figsize=(10, 8))\n",
    "\n",
    "ax = fig.add_subplot(111, title='phi distribution')\n",
    "X, Y = np.meshgrid(xedges, yedges)\n",
    "im = ax.pcolormesh(X, Y, binned_data.T, cmap=\"magma_r\", norm = mpl.colors.LogNorm())\n",
    "plt.ylabel(\"phi [deg]\")\n",
    "plt.xlabel(\"z [mm]\")\n",
    "cbar = plt.colorbar(im)\n",
    "cbar.set_label('A.U.', rotation=270)\n",
    "plt.show()"
   ]
  },
  {
   "cell_type": "code",
   "execution_count": null,
   "metadata": {},
   "outputs": [],
   "source": [
    "hitangle = melp.getHitAngle(rec_type=\"Truth\", angle=\"norm\", hit_type=\"primary\")\n",
    "binned_data, xedges, yedges = np.histogram2d(hitangle[0], hitangle[1], bins=[220, 180])"
   ]
  },
  {
   "cell_type": "code",
   "execution_count": null,
   "metadata": {},
   "outputs": [],
   "source": [
    "plt.rcParams.update({'font.size': 20})\n",
    "\n",
    "\n",
    "fig = plt.figure(figsize=(10, 8))\n",
    "\n",
    "ax = fig.add_subplot(111, title='norm distribution')\n",
    "X, Y = np.meshgrid(xedges, yedges)\n",
    "im = ax.pcolormesh(X, Y, binned_data.T, cmap=\"magma_r\", norm = mpl.colors.LogNorm())\n",
    "plt.ylabel(\"norm [deg]\")\n",
    "plt.xlabel(\"z [mm]\")\n",
    "cbar = plt.colorbar(im)\n",
    "cbar.set_label('A.U.', rotation=270)\n",
    "plt.show()"
   ]
  },
  {
   "cell_type": "code",
   "execution_count": null,
   "metadata": {},
   "outputs": [],
   "source": [
    "average_angle = []\n",
    "\n",
    "for i in range(0,110):\n",
    "    if sum(binned_data[i]) != 0:\n",
    "        average_angle.append(np.average(np.array(range(0,180,1)),weights=binned_data[i]))\n",
    "plt.plot(average_angle, marker=\".\")\n",
    "plt.show()\n",
    "print(-np.median(average_angle))"
   ]
  },
  {
   "cell_type": "code",
   "execution_count": null,
   "metadata": {},
   "outputs": [],
   "source": [
    "average_angle = []\n",
    "\n",
    "for i in range(110,220):\n",
    "    if sum(binned_data[i]) != 0:\n",
    "        average_angle.append(np.average(np.array(range(0,180,1)),weights=binned_data[i]))\n",
    "plt.plot(average_angle, marker=\".\")\n",
    "plt.show()\n",
    "print(-np.median(average_angle))"
   ]
  },
  {
   "cell_type": "code",
   "execution_count": null,
   "metadata": {},
   "outputs": [],
   "source": [
    "hid = []\n",
    "\n",
    "for tileid in mu3e_detector.TileDetector.tile:\n",
    "    for hit in mu3e_detector.TileDetector.tile[tileid].hits:\n",
    "        hid.append(hit.hid)"
   ]
  },
  {
   "cell_type": "code",
   "execution_count": null,
   "metadata": {},
   "outputs": [],
   "source": [
    "hid_hist, bin_edges = np.histogram(hid, bins=14, range=(0,15))\n",
    "\n",
    "norm = hid_hist[0]\n",
    "print(norm)\n",
    "for i in range(0,14):\n",
    "    hid_hist[i] = hid_hist[i] / norm *100\n",
    "    pass"
   ]
  },
  {
   "cell_type": "code",
   "execution_count": null,
   "metadata": {},
   "outputs": [],
   "source": [
    "plt.rcParams.update({'font.size': 20})\n",
    "\n",
    "\n",
    "fig = plt.figure(figsize=(10, 7))\n",
    "\n",
    "plt.bar(range(1,15),hid_hist)\n",
    "plt.yticks(np.arange(0, 101, step=25), ['0%','25%', '50%', '75%', '100%'])  # Set label locations.\n",
    "plt.xticks(np.arange(1,15, step = 2))\n",
    "plt.xlabel(\"number of tile hits\")\n",
    "plt.title(\"Percentage of tracks with the specified number of tile hits or more\")\n",
    "plt.show()"
   ]
  },
  {
   "cell_type": "code",
   "execution_count": null,
   "metadata": {},
   "outputs": [],
   "source": [
    "x = 0\n",
    "for i in hid:\n",
    "    if i == 1:\n",
    "        x+= 1\n",
    "x"
   ]
  },
  {
   "cell_type": "code",
   "execution_count": null,
   "metadata": {},
   "outputs": [],
   "source": [
    "hid_hist[0]"
   ]
  },
  {
   "cell_type": "code",
   "execution_count": null,
   "metadata": {},
   "outputs": [],
   "source": [
    "hid_new = np.delete(hid, np.where(np.asarray(hid) == 1))\n",
    "np.mean(hid_new)"
   ]
  },
  {
   "cell_type": "code",
   "execution_count": null,
   "metadata": {},
   "outputs": [],
   "source": [
    "np.average(range(2,14), weights=hid_hist[1:-1])"
   ]
  },
  {
   "cell_type": "code",
   "execution_count": null,
   "metadata": {},
   "outputs": [],
   "source": [
    "np.mean(hid)"
   ]
  },
  {
   "cell_type": "code",
   "execution_count": null,
   "metadata": {},
   "outputs": [],
   "source": []
  }
 ],
 "metadata": {
  "kernelspec": {
   "display_name": "Python 3",
   "language": "python",
   "name": "python3"
  },
  "language_info": {
   "codemirror_mode": {
    "name": "ipython",
    "version": 3
   },
   "file_extension": ".py",
   "mimetype": "text/x-python",
   "name": "python",
   "nbconvert_exporter": "python",
   "pygments_lexer": "ipython3",
   "version": "3.8.10"
  }
 },
 "nbformat": 4,
 "nbformat_minor": 5
}
