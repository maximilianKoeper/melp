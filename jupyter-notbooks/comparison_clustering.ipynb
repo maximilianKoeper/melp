{
 "cells": [
  {
   "cell_type": "code",
   "execution_count": 1,
   "metadata": {},
   "outputs": [
    {
     "name": "stdout",
     "output_type": "stream",
     "text": [
      "/home/erik/GitHub/melp\n",
      "Welcome to JupyROOT 6.24/06\n"
     ]
    }
   ],
   "source": [
    "%cd ..\n",
    "import ROOT\n",
    "import numpy as np\n",
    "import matplotlib.pyplot as plt\n",
    "import matplotlib as mpl\n",
    "from melp import Detector\n",
    "import melp\n",
    "import math\n",
    "\n",
    "from melp.clustering.misc import*\n",
    "import melp.clustering as clump\n",
    "import melp.clustering.time_cluster as tclump\n",
    "#from melp import TileAnalyzer\n",
    "import melp.clustering.spatial_cluster as sclump\n",
    "import melp.clustering.plots as clump_plt\n",
    "\n",
    "plt.rcParams.update({'font.size': 16})"
   ]
  },
  {
   "cell_type": "markdown",
   "metadata": {},
   "source": [
    "#### Load files"
   ]
  },
  {
   "cell_type": "code",
   "execution_count": 2,
   "metadata": {},
   "outputs": [],
   "source": [
    "filename_trirec = \"./testdata/trirec/trirec1.root\"\n",
    "filename_sorted = \"./testdata/sorted/sorted1.root\"\n",
    "#filename_sorted_big = \"/home/erik/GitLab_KIP/melp/root_files/big_run_data/sorted1.root\"\n",
    "filename_sorted_big = \"./testdata/sorted/root_files_fixed/mu3e_sorted_000127.root\"\n",
    "#filename_sorted_fix = \"./testdata/sorted/sorted1_fixed.root\"\n",
    "\n",
    "file = ROOT.TFile(filename_sorted)\n",
    "ttree_mu3e = file.Get(\"mu3e\")\n",
    "ttree_mu3e_mc = file.Get(\"mu3e_mchits\")\n",
    "ttree_sensor = file.Get(\"alignment/sensors\")\n",
    "ttree_tiles = file.Get(\"alignment/tiles\")\n",
    "\n",
    "file_rec = ROOT.TFile(filename_trirec)\n",
    "ttree_trirec = file_rec.Get(\"frames\")\n",
    "ttree_trirec_mc = file_rec.Get(\"frames_mc\")\n",
    "ttree_mu3e_segs = file_rec.Get(\"segs\")\n",
    "\n",
    "file_big = ROOT.TFile(filename_sorted_big) #not fixed\n",
    "#file_big = ROOT.TFile(filename_sorted_fix)\n",
    "ttree_mu3e_big = file_big.Get(\"mu3e\")\n",
    "ttree_mu3e_mc_big = file_big.Get(\"mu3e_mchits\")\n",
    "ttree_sensor_big = file_big.Get(\"alignment/sensors\")\n",
    "ttree_tiles_big = file_big.Get(\"alignment/tiles\")\n"
   ]
  },
  {
   "cell_type": "code",
   "execution_count": 3,
   "metadata": {},
   "outputs": [
    {
     "name": "stdout",
     "output_type": "stream",
     "text": [
      "10.526315789473685 %\n",
      "70.0 %\n"
     ]
    }
   ],
   "source": [
    "frame = 1\n",
    "ttree_trirec.GetEntry(frame)\n",
    "ttree_trirec_mc.GetEntry(frame)\n",
    "\n",
    "ttree_mu3e.GetEntry(frame)\n",
    "ttree_mu3e_mc.GetEntry(frame)\n",
    "   \n",
    "tid_rec = ttree_trirec.mc_tid\n",
    "tid_rec_mc = ttree_trirec_mc.mc_tid\n",
    "\n",
    "tid_counter = 0\n",
    "for i in tid_rec_mc:\n",
    "    if i in get_tid_frame(ttree_mu3e, ttree_mu3e_mc).values():\n",
    "        tid_counter += 1\n",
    "    else:\n",
    "        continue\n",
    "\n",
    "print(tid_counter/(len(get_tid_frame(ttree_mu3e, ttree_mu3e_mc))/100), \"%\")\n",
    "print(len(tid_rec_mc)/(len(tid_rec)/100), \"%\")"
   ]
  },
  {
   "cell_type": "code",
   "execution_count": 4,
   "metadata": {},
   "outputs": [],
   "source": [
    "ttree_mu3e_segs.GetEntry(frame)\n",
    "\n",
    "segs_rec_tid = ttree_mu3e_segs.tl_n"
   ]
  },
  {
   "cell_type": "code",
   "execution_count": 5,
   "metadata": {},
   "outputs": [
    {
     "name": "stdout",
     "output_type": "stream",
     "text": [
      "0\n",
      "{ 28341, 33517, 32299, 34367, 37051, 16492, 16492, 16492, 25876, 25876 }\n"
     ]
    }
   ],
   "source": [
    "print(segs_rec_tid)\n",
    "\n",
    "print(tid_rec)"
   ]
  },
  {
   "cell_type": "markdown",
   "metadata": {},
   "source": [
    "#### Whole frame as cluster"
   ]
  },
  {
   "cell_type": "code",
   "execution_count": 6,
   "metadata": {},
   "outputs": [
    {
     "name": "stdout",
     "output_type": "stream",
     "text": [
      "Average number of hits per frame:  15.50653983353151\n",
      "Correctly identified:  17.345295606165173 %\n",
      "Incorrectly identified (not an actual part of cluster):  82.65470439383483 %\n",
      "Not identified (actual part of cluster that hasn't been identified):  0 %\n"
     ]
    }
   ],
   "source": [
    "eff_counter = 0\n",
    "tot_hit_counter = 0\n",
    "wrong_counter = 0\n",
    "\n",
    "eff_counter_arr = []\n",
    "tot_hit_counter_arr = []\n",
    "wrong_counter_arr = []\n",
    "\n",
    "for frame in range(ttree_mu3e.GetEntries()):\n",
    "    ttree_mu3e.GetEntry(frame)\n",
    "    tmp_eff_counter = 0\n",
    "    tmp_tot_hit_counter = 0\n",
    "    tmp_wrong_counter = 0\n",
    "    \n",
    "    primaries = get_mc_primary_for_hit_frame(ttree_mu3e)\n",
    "    cluster = frame_as_cluster(ttree_mu3e)\n",
    "    tot_hit_counter += len(cluster)\n",
    "    tmp_tot_hit_counter += len(cluster)\n",
    "    for key in cluster.keys():\n",
    "        if key in primaries.keys():\n",
    "            if cluster[key] == primaries[key]:\n",
    "                eff_counter += 1\n",
    "                tmp_eff_counter += 1\n",
    "            else:\n",
    "                wrong_counter += 1\n",
    "                tmp_wrong_counter += 1\n",
    "        else:\n",
    "            continue\n",
    "        eff_counter_arr.append(tmp_eff_counter)\n",
    "        tot_hit_counter_arr.append(tmp_tot_hit_counter)\n",
    "        wrong_counter_arr.append(tmp_wrong_counter)\n",
    "             \n",
    "print(\"Average number of hits per frame: \", tot_hit_counter/ttree_mu3e.GetEntries())\n",
    "print(\"Correctly identified: \", eff_counter/(tot_hit_counter/100), \"%\")\n",
    "print(\"Incorrectly identified (not an actual part of cluster): \", wrong_counter/(tot_hit_counter/100), \"%\")\n",
    "print(\"Not identified (actual part of cluster that hasn't been identified): \", 0, \"%\")"
   ]
  },
  {
   "cell_type": "code",
   "execution_count": 7,
   "metadata": {},
   "outputs": [
    {
     "data": {
      "text/plain": [
       "'\\nplt.figure(figsize=(18,10))\\nplt.hist(tot_hit_counter_arr)\\nplt.hist(wrong_counter_arr)\\nplt.hist(eff_counter_arr)\\nplt.show()\\n'"
      ]
     },
     "execution_count": 7,
     "metadata": {},
     "output_type": "execute_result"
    }
   ],
   "source": [
    "\"\"\"\n",
    "plt.figure(figsize=(18,10))\n",
    "plt.hist(tot_hit_counter_arr)\n",
    "plt.hist(wrong_counter_arr)\n",
    "plt.hist(eff_counter_arr)\n",
    "plt.show()\n",
    "\"\"\""
   ]
  },
  {
   "cell_type": "code",
   "execution_count": 8,
   "metadata": {},
   "outputs": [
    {
     "data": {
      "text/plain": [
       "'\\nplt.figure(figsize=(18,10))\\nplt.hist(eff_counter_arr + wrong_counter_arr)\\nplt.show()\\n'"
      ]
     },
     "execution_count": 8,
     "metadata": {},
     "output_type": "execute_result"
    }
   ],
   "source": [
    "\"\"\"\n",
    "plt.figure(figsize=(18,10))\n",
    "plt.hist(eff_counter_arr + wrong_counter_arr)\n",
    "plt.show()\n",
    "\"\"\""
   ]
  },
  {
   "cell_type": "markdown",
   "metadata": {},
   "source": [
    "#### Masks (Small. Medium, Big)"
   ]
  },
  {
   "cell_type": "code",
   "execution_count": 9,
   "metadata": {},
   "outputs": [
    {
     "name": "stdout",
     "output_type": "stream",
     "text": [
      "------------------------------\n",
      "Detector information\n",
      "\n",
      "Stats:\n",
      "  - Tiles:  5824\n",
      "    -> misal:  False\n",
      "  - Pixel Modules:  2844\n",
      "  - Loaded Runs (Tiles):  []\n",
      "  - Loaded Runs (Pixel):  []\n",
      "------------------------------\n"
     ]
    }
   ],
   "source": [
    "mu3e_detector = Detector.initFromROOT(filename_sorted)\n",
    "#mu3e_detector = Detector.initFromSave(\"test_detector_file\")"
   ]
  },
  {
   "cell_type": "code",
   "execution_count": 10,
   "metadata": {},
   "outputs": [],
   "source": [
    "#mu3e_detector.save(\"test_detector_file\")"
   ]
  },
  {
   "cell_type": "code",
   "execution_count": 11,
   "metadata": {},
   "outputs": [
    {
     "name": "stdout",
     "output_type": "stream",
     "text": [
      "Detector(TileDetector=Loaded Tiles: 5824, SensorModules=<melp.src.sensor.SensorModule object at 0x7ff88798d4f0>))\n"
     ]
    }
   ],
   "source": [
    "melp.select(mu3e_detector)\n",
    "print(mu3e_detector)"
   ]
  },
  {
   "cell_type": "code",
   "execution_count": 12,
   "metadata": {},
   "outputs": [
    {
     "name": "stdout",
     "output_type": "stream",
     "text": [
      "------------------------------\n",
      "Detector information\n",
      "\n",
      "Stats:\n",
      "  - Tiles:  5824\n",
      "    -> misal:  False\n",
      "  - Pixel Modules:  2844\n",
      "  - Loaded Runs (Tiles):  [1]\n",
      "  - Loaded Runs (Pixel):  []\n",
      "------------------------------\n"
     ]
    }
   ],
   "source": [
    "melp.addTileHits(\"./testdata/sorted/sorted1.root\", truth=False, traj=False)\n",
    "mu3e_detector.info()"
   ]
  },
  {
   "cell_type": "code",
   "execution_count": 13,
   "metadata": {},
   "outputs": [],
   "source": [
    "#select frame to analyze\n",
    "frame_used = 182 #30\n",
    "ttree_mu3e.GetEntry(frame_used)\n",
    "\n",
    "#build masks (and deconstruct them into arrays)\n",
    "#masks = sclump.build_mask_detector_class(filename_sorted, frame_used, mu3e_detector, mask_type = \"big\")\n",
    "masks, __ = clump.masks.build_mask_around_cluster_master(ttree_mu3e, ttree_mu3e_mc, ttree_sensor, ttree_tiles, mu3e_detector, time_threshold = 1.2, frame = frame_used, mask_type = \"big\")\n",
    "\n",
    "keys = []\n",
    "values = []\n",
    "for key in masks.keys():\n",
    "    keys.append(key)\n",
    "    values.append(masks[key])\n",
    "    \n",
    "#mu3e_detector.TileDetector.tile[keys[0]].id\n",
    "#mu3e_detector.TileDetector.tile[keys[0]].hits\n",
    "#print(values[0])"
   ]
  },
  {
   "cell_type": "code",
   "execution_count": 14,
   "metadata": {
    "scrolled": false
   },
   "outputs": [
    {
     "data": {
      "image/png": "[encoded data removed]",
      "text/plain": [
       "<Figure size 1440x1440 with 4 Axes>"
      ]
     },
     "metadata": {
      "needs_background": "light"
     },
     "output_type": "display_data"
    }
   ],
   "source": [
    "grid = np.zeros((52,56))\n",
    "\n",
    "#Choose if a single hit is plotted of all hits in frame (True, False)\n",
    "all_hits = True\n",
    "\n",
    "#If single hit is chosen. Choose hit to plot\n",
    "single_hit = 1\n",
    "\n",
    "#add hits in frame\n",
    "if all_hits == True:\n",
    "    for tile_id in mu3e_detector.TileDetector.tile:\n",
    "        if tile_id < 300000:\n",
    "            tile = mu3e_detector.TileDetector.tile[tile_id]\n",
    "            for hits in tile.hits:\n",
    "                if hits.frame_id in [frame_used]:\n",
    "                    y = tile.row()\n",
    "                    x = tile.column()\n",
    "                    grid[x][y] += 1\n",
    "\n",
    "#add masks\n",
    "if all_hits == True:\n",
    "    for i in range(len(values)):\n",
    "        for mask_tile in values[i]:\n",
    "            tile = mu3e_detector.TileDetector.tile[mask_tile]\n",
    "            if mask_tile < 300000:\n",
    "                y = tile.row()\n",
    "                x = tile.column()\n",
    "                grid[x][y] += 1\n",
    "\n",
    "        #add centre a second and third time      \n",
    "        if keys[i] < 300000:\n",
    "            tile = mu3e_detector.TileDetector.tile[keys[i]]\n",
    "            y = tile.row()\n",
    "            x = tile.column()\n",
    "            grid[x][y] += 2\n",
    "                     \n",
    "if all_hits == False:\n",
    "    for mask_tile in values[single_hit]:\n",
    "        tile = mu3e_detector.TileDetector.tile[mask_tile]\n",
    "        if mask_tile < 300000:\n",
    "            y = tile.row()\n",
    "            x = tile.column()\n",
    "            grid[x][y] += 1\n",
    "\n",
    "    #add centre a second and third time      \n",
    "    if keys[single_hit] < 300000:\n",
    "        tile = mu3e_detector.TileDetector.tile[keys[single_hit]]\n",
    "        y = tile.row()\n",
    "        x = tile.column()\n",
    "        grid[x][y] += 2\n",
    "                \n",
    "fig, ax = plt.subplots(2,2, figsize=(20,20))\n",
    "#heatplot_mask = ax.imshow(mask_grid.T, cmap='binary')\n",
    "heatplot = ax[0,0].imshow(grid.T, cmap='PuBuGn')\n",
    "#ax.grid(which='minor', color='b', linestyle='-', linewidth=1)\n",
    "ax[0,0].hlines(y=np.arange(0, 56)+0.5, xmin=-0.5, xmax=51.5, color=\"black\", linewidth = 0.5)\n",
    "ax[0,0].vlines(x=np.arange(0, 52)+0.5, ymin=-0.5, ymax=55.5, color=\"black\", linewidth = 0.5)\n",
    "ax[0,0].set_title(\"With Masks\")\n",
    "ax[0,0].set_xlabel(\"z\")\n",
    "ax[0,0].set_ylabel(\"phi\")\n",
    "\n",
    "\n",
    "#plot reference\n",
    "ref_grid = np.zeros((52,56))\n",
    "for tile_id in mu3e_detector.TileDetector.tile:\n",
    "    if tile_id < 300000:\n",
    "        tile = mu3e_detector.TileDetector.tile[tile_id]\n",
    "        for hits in tile.hits:\n",
    "            if hits.frame_id in [frame_used]:\n",
    "                y = tile.row()\n",
    "                x = tile.column()\n",
    "                ref_grid[x][y] += 1\n",
    "                \n",
    "#plot master hits into reference plot(truth)\n",
    "cluster_master, cluster_master_primary = get_cluster_master_truth_frame(ttree_mu3e, ttree_mu3e_mc, frame_used)  \n",
    "    \n",
    "for i in range(len(cluster_master)):\n",
    "    master = mu3e_detector.TileDetector.tile[cluster_master[i]]\n",
    "    if master.id < 300000:\n",
    "        y = master.row()\n",
    "        x = master.column()\n",
    "        ref_grid[x][y] += 1\n",
    "                \n",
    "                \n",
    "heatplot = ax[0,1].imshow(ref_grid.T, cmap='binary')\n",
    "#ax.grid(which='minor', color='b', linestyle='-', linewidth=1)\n",
    "ax[0,1].hlines(y=np.arange(0, 56)+0.5, xmin=-0.5, xmax=51.5, color=\"black\", linewidth = 0.5)\n",
    "ax[0,1].vlines(x=np.arange(0, 52)+0.5, ymin=-0.5, ymax=55.5, color=\"black\", linewidth = 0.5)\n",
    "ax[0,1].set_title(\"Only Hits\")\n",
    "ax[0,1].set_xlabel(\"z\")\n",
    "ax[0,1].set_ylabel(\"phi\")\n",
    "\n",
    "\n",
    "#plot clusters\n",
    "cluster_grid = np.zeros((52,56))\n",
    "clusters = clump.spatial_cluster.build_clusters_in_masks(ttree_mu3e, ttree_mu3e_mc, ttree_sensor, ttree_tiles, mu3e_detector,frame_used, mask_type = \"big\")\n",
    "cluster_masters = []\n",
    "whole_clusters = []\n",
    "for i in range(len(clusters)):\n",
    "    cluster_masters.append(clusters[i].master_id)\n",
    "    whole_clusters.append(clusters[i].get_tile_ids())\n",
    "\n",
    "color_clusters = 1\n",
    "for i in range(len(clusters)):\n",
    "    color_clusters += 1\n",
    "    for cluster_tile in whole_clusters[i]:\n",
    "        tile = mu3e_detector.TileDetector.tile[cluster_tile]\n",
    "        if cluster_tile < 300000:\n",
    "            y = tile.row()\n",
    "            x = tile.column()\n",
    "            cluster_grid[x][y] += i+1\n",
    "\n",
    "    #add centre    \n",
    "    if cluster_masters[i] < 300000:\n",
    "        tile = mu3e_detector.TileDetector.tile[cluster_masters[i]]\n",
    "        y = tile.row()\n",
    "        x = tile.column()\n",
    "        cluster_grid[x][y] += i+1\n",
    "    \n",
    "    \n",
    "heatplot = ax[1,0].imshow(cluster_grid.T, cmap='Reds')\n",
    "#ax.grid(which='minor', color='b', linestyle='-', linewidth=1)\n",
    "ax[1,0].hlines(y=np.arange(0, 56)+0.5, xmin=-0.5, xmax=51.5, color=\"black\", linewidth = 0.5)\n",
    "ax[1,0].vlines(x=np.arange(0, 52)+0.5, ymin=-0.5, ymax=55.5, color=\"black\", linewidth = 0.5)\n",
    "ax[1,0].set_title(\"Clusters\")\n",
    "ax[1,0].set_xlabel(\"z\")\n",
    "ax[1,0].set_ylabel(\"phi\")\n",
    "#plt.savefig(\"hitmap.png\")\n",
    "plt.show()"
   ]
  },
  {
   "cell_type": "code",
   "execution_count": 15,
   "metadata": {
    "scrolled": false
   },
   "outputs": [
    {
     "name": "stdout",
     "output_type": "stream",
     "text": [
      "Tile:  202778  hid:  3  tid:  61326 frame_id:  30\n",
      "Tile:  200100  hid:  5  tid:  58192 frame_id:  30\n",
      "Tile:  200155  hid:  4  tid:  58192 frame_id:  30\n",
      "Tile:  200044  hid:  2  tid:  58192 frame_id:  30\n",
      "Tile:  200156  hid:  3  tid:  58192 frame_id:  30\n",
      "Tile:  300516  hid:  2  tid:  56141 frame_id:  30\n",
      "Tile:  300460  hid:  1  tid:  56141 frame_id:  30\n",
      "Tile:  201045  hid:  1  tid:  53845 frame_id:  30\n",
      "Tile:  200068  hid:  4  tid:  52493 frame_id:  30\n",
      "Tile:  202856  hid:  1  tid:  52493 frame_id:  30\n",
      "Tile:  202744  hid:  3  tid:  52493 frame_id:  30\n",
      "Tile:  200012  hid:  5  tid:  52493 frame_id:  30\n",
      "Tile:  202800  hid:  2  tid:  52493 frame_id:  30\n",
      "Tile:  201588  hid:  2  tid:  48223 frame_id:  30\n",
      "Tile:  201644  hid:  1  tid:  48223 frame_id:  30\n",
      "Tile:  202779  hid:  2  tid:  30340 frame_id:  30\n",
      "Tile:  202890  hid:  1  tid:  14701 frame_id:  30\n",
      "Tile:  201855  hid:  1  tid:  4389 frame_id:  30\n",
      "Tile:  201462  hid:  5  tid:  4389 frame_id:  30\n",
      "Tile:  201406  hid:  6  tid:  4389 frame_id:  30\n",
      "Tile:  201687  hid:  4  tid:  4389 frame_id:  30\n",
      "Tile:  201743  hid:  3  tid:  4389 frame_id:  30\n",
      "Tile:  201799  hid:  2  tid:  4389 frame_id:  30\n",
      "Tile:  201412  hid:  7  tid:  4389 frame_id:  30\n"
     ]
    }
   ],
   "source": [
    "hit_data = get_hit_data_frame(ttree_mu3e, ttree_mu3e_mc, [30])"
   ]
  },
  {
   "cell_type": "code",
   "execution_count": 16,
   "metadata": {},
   "outputs": [],
   "source": [
    "#masters = get_cluster_primary_truth_3frames(ttree_mu3e, ttree_mu3e_mc, frame_used)\n",
    "#print(masters)"
   ]
  },
  {
   "cell_type": "markdown",
   "metadata": {},
   "source": [
    "## Efficiency Plots"
   ]
  },
  {
   "cell_type": "code",
   "execution_count": 18,
   "metadata": {},
   "outputs": [
    {
     "name": "stdout",
     "output_type": "stream",
     "text": [
      "Progress: 100 % of  10000  framesmes\n",
      "Number of analyzed frames:  10000 Number of correct counter fractions:  10000\n",
      "Total #hits in frames/#hits in clusters =  inf\n",
      "Correctly associated out of all hits:  0.0 %\n"
     ]
    },
    {
     "name": "stderr",
     "output_type": "stream",
     "text": [
      "/home/erik/GitHub/melp/melp/clustering/plots.py:157: RuntimeWarning: divide by zero encountered in long_scalars\n",
      "  print(\"Total #hits in frames/#hits in clusters = \", np.sum(total_hits_counter)/cluster_hits_counter)\n"
     ]
    },
    {
     "ename": "ZeroDivisionError",
     "evalue": "float division by zero",
     "output_type": "error",
     "traceback": [
      "\u001b[0;31m---------------------------------------------------------------------------\u001b[0m",
      "\u001b[0;31mZeroDivisionError\u001b[0m                         Traceback (most recent call last)",
      "\u001b[0;32m<ipython-input-18-37c38cefb4c2>\u001b[0m in \u001b[0;36m<module>\u001b[0;34m\u001b[0m\n\u001b[0;32m----> 1\u001b[0;31m \u001b[0mfrac_corr_frame_primary\u001b[0m\u001b[0;34m,\u001b[0m \u001b[0mfrac_corr_clusters_frame_primary\u001b[0m\u001b[0;34m,\u001b[0m \u001b[0mfrac_uncorr_frame_primary\u001b[0m\u001b[0;34m,\u001b[0m \u001b[0mtot_corr_primary\u001b[0m \u001b[0;34m=\u001b[0m \u001b[0mclump_plt\u001b[0m\u001b[0;34m.\u001b[0m\u001b[0mcompare_to_primary\u001b[0m\u001b[0;34m(\u001b[0m\u001b[0mttree_mu3e_big\u001b[0m\u001b[0;34m,\u001b[0m \u001b[0mttree_mu3e_mc_big\u001b[0m\u001b[0;34m,\u001b[0m \u001b[0mttree_sensor_big\u001b[0m\u001b[0;34m,\u001b[0m \u001b[0mttree_tiles_big\u001b[0m\u001b[0;34m,\u001b[0m \u001b[0mmu3e_detector\u001b[0m\u001b[0;34m,\u001b[0m \u001b[0mtime_threshold\u001b[0m \u001b[0;34m=\u001b[0m \u001b[0;36m1.2\u001b[0m\u001b[0;34m,\u001b[0m \u001b[0mmask_type\u001b[0m \u001b[0;34m=\u001b[0m \u001b[0;34m\"big\"\u001b[0m\u001b[0;34m,\u001b[0m \u001b[0mnumber_of_frames\u001b[0m \u001b[0;34m=\u001b[0m \u001b[0;36m10000\u001b[0m\u001b[0;34m)\u001b[0m\u001b[0;34m\u001b[0m\u001b[0;34m\u001b[0m\u001b[0m\n\u001b[0m",
      "\u001b[0;32m~/GitHub/melp/melp/clustering/plots.py\u001b[0m in \u001b[0;36mcompare_to_primary\u001b[0;34m(ttree_mu3e, ttree_mu3e_mc, ttree_sensor, ttree_tiles, mu3e_detector, time_threshold, mask_type, number_of_frames, rec_type, cluster_type)\u001b[0m\n\u001b[1;32m    157\u001b[0m     \u001b[0mprint\u001b[0m\u001b[0;34m(\u001b[0m\u001b[0;34m\"Total #hits in frames/#hits in clusters = \"\u001b[0m\u001b[0;34m,\u001b[0m \u001b[0mnp\u001b[0m\u001b[0;34m.\u001b[0m\u001b[0msum\u001b[0m\u001b[0;34m(\u001b[0m\u001b[0mtotal_hits_counter\u001b[0m\u001b[0;34m)\u001b[0m\u001b[0;34m/\u001b[0m\u001b[0mcluster_hits_counter\u001b[0m\u001b[0;34m)\u001b[0m\u001b[0;34m\u001b[0m\u001b[0;34m\u001b[0m\u001b[0m\n\u001b[1;32m    158\u001b[0m     \u001b[0mprint\u001b[0m\u001b[0;34m(\u001b[0m\u001b[0;34m\"Correctly associated out of all hits: \"\u001b[0m\u001b[0;34m,\u001b[0m \u001b[0mtot_corr_counter\u001b[0m\u001b[0;34m/\u001b[0m\u001b[0;34m(\u001b[0m\u001b[0mnp\u001b[0m\u001b[0;34m.\u001b[0m\u001b[0msum\u001b[0m\u001b[0;34m(\u001b[0m\u001b[0mtotal_hits_counter\u001b[0m\u001b[0;34m)\u001b[0m\u001b[0;34m/\u001b[0m\u001b[0;36m100\u001b[0m\u001b[0;34m)\u001b[0m\u001b[0;34m,\u001b[0m\u001b[0;34m\"%\"\u001b[0m\u001b[0;34m)\u001b[0m\u001b[0;34m\u001b[0m\u001b[0;34m\u001b[0m\u001b[0m\n\u001b[0;32m--> 159\u001b[0;31m     \u001b[0mprint\u001b[0m\u001b[0;34m(\u001b[0m\u001b[0;34m\"Correctly associated out of all hits in clusters: \"\u001b[0m\u001b[0;34m,\u001b[0m \u001b[0mtot_corr_counter\u001b[0m\u001b[0;34m/\u001b[0m\u001b[0;34m(\u001b[0m\u001b[0mcluster_hits_counter\u001b[0m\u001b[0;34m/\u001b[0m\u001b[0;36m100\u001b[0m\u001b[0;34m)\u001b[0m\u001b[0;34m,\u001b[0m\u001b[0;34m\"%\"\u001b[0m\u001b[0;34m)\u001b[0m\u001b[0;34m\u001b[0m\u001b[0;34m\u001b[0m\u001b[0m\n\u001b[0m\u001b[1;32m    160\u001b[0m     \u001b[0mprint\u001b[0m\u001b[0;34m(\u001b[0m\u001b[0;34m\"Incorrectly associated out of all hits: \"\u001b[0m\u001b[0;34m,\u001b[0m \u001b[0mtot_uncorr_counter\u001b[0m\u001b[0;34m/\u001b[0m\u001b[0;34m(\u001b[0m\u001b[0mnp\u001b[0m\u001b[0;34m.\u001b[0m\u001b[0msum\u001b[0m\u001b[0;34m(\u001b[0m\u001b[0mtotal_hits_counter\u001b[0m\u001b[0;34m)\u001b[0m\u001b[0;34m/\u001b[0m\u001b[0;36m100\u001b[0m\u001b[0;34m)\u001b[0m\u001b[0;34m,\u001b[0m\u001b[0;34m\"%\"\u001b[0m\u001b[0;34m)\u001b[0m\u001b[0;34m\u001b[0m\u001b[0;34m\u001b[0m\u001b[0m\n\u001b[1;32m    161\u001b[0m     \u001b[0mprint\u001b[0m\u001b[0;34m(\u001b[0m\u001b[0;34m\"Incorrectly associated out of all hits in clusters: \"\u001b[0m\u001b[0;34m,\u001b[0m \u001b[0mtot_uncorr_counter\u001b[0m\u001b[0;34m/\u001b[0m\u001b[0;34m(\u001b[0m\u001b[0mcluster_hits_counter\u001b[0m\u001b[0;34m/\u001b[0m\u001b[0;36m100\u001b[0m\u001b[0;34m)\u001b[0m\u001b[0;34m,\u001b[0m\u001b[0;34m\"%\"\u001b[0m\u001b[0;34m)\u001b[0m\u001b[0;34m\u001b[0m\u001b[0;34m\u001b[0m\u001b[0m\n",
      "\u001b[0;31mZeroDivisionError\u001b[0m: float division by zero"
     ]
    }
   ],
   "source": [
    "frac_corr_frame_primary, frac_corr_clusters_frame_primary, frac_uncorr_frame_primary, tot_corr_primary = clump_plt.compare_to_primary(ttree_mu3e_big, ttree_mu3e_mc_big, ttree_sensor_big, ttree_tiles_big, mu3e_detector, time_threshold = 1.2, mask_type = \"big\", number_of_frames = 10000)"
   ]
  },
  {
   "cell_type": "markdown",
   "metadata": {},
   "source": [
    "### Hits not included in any cluster"
   ]
  },
  {
   "cell_type": "code",
   "execution_count": null,
   "metadata": {},
   "outputs": [],
   "source": [
    "frac_not_in_cluster = clump_plt.get_hits_not_in_cluster(ttree_mu3e_big, ttree_mu3e_mc_big, ttree_sensor_big, ttree_tiles_big, mu3e_detector, mask_type = \"big\", number_of_frames = 10000)"
   ]
  },
  {
   "cell_type": "code",
   "execution_count": null,
   "metadata": {},
   "outputs": [],
   "source": [
    "fig = plt.figure(figsize=(12,6))\n",
    "plt.hist(frac_not_in_cluster, bins = 100)\n",
    "plt.title(\"Not associated hits / all hits in clusters (per frame)\")\n",
    "plt.show()"
   ]
  },
  {
   "cell_type": "markdown",
   "metadata": {},
   "source": [
    "### Hits associated to wrong cluster"
   ]
  },
  {
   "cell_type": "markdown",
   "metadata": {},
   "source": [
    "#### Comparing to primary"
   ]
  },
  {
   "cell_type": "code",
   "execution_count": null,
   "metadata": {},
   "outputs": [],
   "source": [
    "fig = plt.figure(figsize=(12,6))\n",
    "plt.hist(frac_uncorr_frame_primary, bins = 100)\n",
    "plt.title(\"Incorrectly associated hits / all hits in clusters (per frame)\")\n",
    "plt.show()"
   ]
  },
  {
   "cell_type": "markdown",
   "metadata": {},
   "source": [
    "### Hits correctly associated"
   ]
  },
  {
   "cell_type": "markdown",
   "metadata": {},
   "source": [
    "#### Comparing to primary"
   ]
  },
  {
   "cell_type": "code",
   "execution_count": null,
   "metadata": {},
   "outputs": [],
   "source": [
    "fig = plt.figure(figsize=(12,6))\n",
    "plt.hist(frac_corr_frame_primary, bins = 100)\n",
    "plt.title(\"Correctly associated hits / all hits in frame (per frame)\")\n",
    "plt.show()"
   ]
  },
  {
   "cell_type": "code",
   "execution_count": null,
   "metadata": {},
   "outputs": [],
   "source": [
    "fig = plt.figure(figsize=(12,6))\n",
    "plt.hist(frac_corr_clusters_frame_primary, bins = 100)\n",
    "plt.title(\"Correctly associated hits / all hits in clusters (per frame)\")\n",
    "plt.show()"
   ]
  },
  {
   "cell_type": "markdown",
   "metadata": {},
   "source": [
    "### Combined Histograms"
   ]
  },
  {
   "cell_type": "markdown",
   "metadata": {},
   "source": [
    "#### Comparing to primary"
   ]
  },
  {
   "cell_type": "code",
   "execution_count": null,
   "metadata": {},
   "outputs": [],
   "source": [
    "fig = plt.figure(figsize=(12,6))\n",
    "plt.hist(frac_corr_clusters_frame_primary, bins = 100, label = \"Hits correctly associated to cluster / All hits in clusters\")\n",
    "plt.hist(frac_uncorr_frame_primary, bins = 100, label = \"Hits incorrectly associated to cluster / All hits in clusters\")\n",
    "plt.title(\"Correctly and incorrectly associated hits / all hits in clusters (per frame)\")\n",
    "plt.legend()\n",
    "plt.show()"
   ]
  },
  {
   "cell_type": "markdown",
   "metadata": {},
   "source": [
    "# Pixel-Pixel Reconstruction"
   ]
  },
  {
   "cell_type": "code",
   "execution_count": 20,
   "metadata": {},
   "outputs": [],
   "source": [
    "#select frame to analyze\n",
    "frame_used = 30\n",
    "ttree_mu3e.GetEntry(frame_used)\n",
    "\n",
    "#build masks (and deconstruct them into arrays)\n",
    "#masks = sclump.build_mask_detector_class(filename_sorted, frame_used, mu3e_detector, mask_type = \"big\")\n",
    "masks_pixel_pixel, __ = clump.masks.build_mask_around_cluster_master(ttree_mu3e, ttree_mu3e_mc, ttree_sensor, ttree_tiles, mu3e_detector, time_threshold = 1.2, frame=frame_used, mask_type = \"big\", rec_type = \"pixelpixelcheck\")\n",
    "\n",
    "keys_pixel_pixel = []\n",
    "values_pixel_pixel = []\n",
    "for key in masks_pixel_pixel.keys():\n",
    "    keys_pixel_pixel.append(key)\n",
    "    values_pixel_pixel.append(masks_pixel_pixel[key])"
   ]
  },
  {
   "cell_type": "code",
   "execution_count": 21,
   "metadata": {},
   "outputs": [
    {
     "data": {
      "image/png": "[encoded data removed]",
      "text/plain": [
       "<Figure size 1440x1440 with 4 Axes>"
      ]
     },
     "metadata": {
      "needs_background": "light"
     },
     "output_type": "display_data"
    }
   ],
   "source": [
    "grid = np.zeros((52,56))\n",
    "\n",
    "#Choose if a single hit is plotted of all hits in frame (True, False)\n",
    "all_hits = True\n",
    "\n",
    "#If single hit is chosen. Choose hit to plot\n",
    "single_hit = 1\n",
    "\n",
    "#add hits in frame\n",
    "if all_hits == True:\n",
    "    for tile_id in mu3e_detector.TileDetector.tile:\n",
    "        if tile_id < 300000:\n",
    "            tile = mu3e_detector.TileDetector.tile[tile_id]\n",
    "            for hits in tile.hits:\n",
    "                if hits.frame_id in [frame_used]:\n",
    "                    y = tile.row()\n",
    "                    x = tile.column()\n",
    "                    grid[x][y] += 1\n",
    "\n",
    "#add masks\n",
    "if all_hits == True:\n",
    "    for i in range(len(values_pixel_pixel)):\n",
    "        for mask_tile in values_pixel_pixel[i]:\n",
    "            tile = mu3e_detector.TileDetector.tile[mask_tile]\n",
    "            if mask_tile < 300000:\n",
    "                y = tile.row()\n",
    "                x = tile.column()\n",
    "                grid[x][y] += 1\n",
    "\n",
    "        #add centre a second and third time      \n",
    "        if keys_pixel_pixel[i] < 300000:\n",
    "            tile = mu3e_detector.TileDetector.tile[keys_pixel_pixel[i]]\n",
    "            y = tile.row()\n",
    "            x = tile.column()\n",
    "            grid[x][y] += 2\n",
    "                     \n",
    "if all_hits == False:\n",
    "    for mask_tile in values_pixel_pixel[single_hit]:\n",
    "        tile = mu3e_detector.TileDetector.tile[mask_tile]\n",
    "        if mask_tile < 300000:\n",
    "            y = tile.row()\n",
    "            x = tile.column()\n",
    "            grid[x][y] += 1\n",
    "\n",
    "    #add centre a second and third time      \n",
    "    if keys_pixel_pixel[single_hit] < 300000:\n",
    "        tile = mu3e_detector.TileDetector.tile[keys_pixel_pixel[single_hit]]\n",
    "        y = tile.row()\n",
    "        x = tile.column()\n",
    "        grid[x][y] += 2\n",
    "                \n",
    "fig, ax = plt.subplots(2,2, figsize=(20,20))\n",
    "#heatplot_mask = ax.imshow(mask_grid.T, cmap='binary')\n",
    "heatplot = ax[0,0].imshow(grid.T, cmap='PuBuGn')\n",
    "#ax.grid(which='minor', color='b', linestyle='-', linewidth=1)\n",
    "ax[0,0].hlines(y=np.arange(0, 56)+0.5, xmin=-0.5, xmax=51.5, color=\"black\", linewidth = 0.5)\n",
    "ax[0,0].vlines(x=np.arange(0, 52)+0.5, ymin=-0.5, ymax=55.5, color=\"black\", linewidth = 0.5)\n",
    "ax[0,0].set_title(\"With Masks\")\n",
    "ax[0,0].set_xlabel(\"z\")\n",
    "ax[0,0].set_ylabel(\"phi\")\n",
    "\n",
    "\n",
    "#plot reference\n",
    "ref_grid = np.zeros((52,56))\n",
    "for tile_id in mu3e_detector.TileDetector.tile:\n",
    "    if tile_id < 300000:\n",
    "        tile = mu3e_detector.TileDetector.tile[tile_id]\n",
    "        for hits in tile.hits:\n",
    "            if hits.frame_id in [frame_used]:\n",
    "                y = tile.row()\n",
    "                x = tile.column()\n",
    "                ref_grid[x][y] += 1\n",
    "                \n",
    "#plot primary hits into reference plot(truth)\n",
    "cluster_master, cluster_master_primary = get_cluster_master_truth_frame(ttree_mu3e, ttree_mu3e_mc, frame_used)  \n",
    "    \n",
    "for i in range(len(cluster_master)):\n",
    "    master = mu3e_detector.TileDetector.tile[cluster_master[i]]\n",
    "    if master.id < 300000:\n",
    "        y = master.row()\n",
    "        x = master.column()\n",
    "        ref_grid[x][y] += 1\n",
    "                \n",
    "                \n",
    "heatplot = ax[0,1].imshow(ref_grid.T, cmap='binary')\n",
    "#ax.grid(which='minor', color='b', linestyle='-', linewidth=1)\n",
    "ax[0,1].hlines(y=np.arange(0, 56)+0.5, xmin=-0.5, xmax=51.5, color=\"black\", linewidth = 0.5)\n",
    "ax[0,1].vlines(x=np.arange(0, 52)+0.5, ymin=-0.5, ymax=55.5, color=\"black\", linewidth = 0.5)\n",
    "ax[0,1].set_title(\"Only Hits\")\n",
    "ax[0,1].set_xlabel(\"z\")\n",
    "ax[0,1].set_ylabel(\"phi\")\n",
    "\n",
    "\n",
    "#plot clusters\n",
    "cluster_grid = np.zeros((52,56))\n",
    "clusters = sclump.build_clusters_in_masks(ttree_mu3e, ttree_mu3e_mc, ttree_sensor, ttree_tiles, mu3e_detector, frame_used, mask_type = \"big\", rec_type = \"pixelpixelcheck\")\n",
    "cluster_masters = []\n",
    "whole_clusters = []\n",
    "for i in range(len(clusters)):\n",
    "    cluster_masters.append(clusters[i].master_id)\n",
    "    whole_clusters.append(clusters[i].get_tile_ids())\n",
    "\n",
    "color_clusters = 1\n",
    "for i in range(len(clusters)):\n",
    "    color_clusters += 1\n",
    "    for cluster_tile in whole_clusters[i]:\n",
    "        tile = mu3e_detector.TileDetector.tile[cluster_tile]\n",
    "        if cluster_tile < 300000:\n",
    "            y = tile.row()\n",
    "            x = tile.column()\n",
    "            cluster_grid[x][y] += i+1\n",
    "\n",
    "    #add centre    \n",
    "    if cluster_masters[i] < 300000:\n",
    "        tile = mu3e_detector.TileDetector.tile[cluster_masters[i]]\n",
    "        y = tile.row()\n",
    "        x = tile.column()\n",
    "        cluster_grid[x][y] += i+1\n",
    "    \n",
    "    \n",
    "heatplot = ax[1,0].imshow(cluster_grid.T, cmap='Reds')\n",
    "#ax.grid(which='minor', color='b', linestyle='-', linewidth=1)\n",
    "ax[1,0].hlines(y=np.arange(0, 56)+0.5, xmin=-0.5, xmax=51.5, color=\"black\", linewidth = 0.5)\n",
    "ax[1,0].vlines(x=np.arange(0, 52)+0.5, ymin=-0.5, ymax=55.5, color=\"black\", linewidth = 0.5)\n",
    "ax[1,0].set_title(\"Clusters\")\n",
    "ax[1,0].set_xlabel(\"z\")\n",
    "ax[1,0].set_ylabel(\"phi\")\n",
    "#plt.savefig(\"hitmap.png\")\n",
    "plt.show()"
   ]
  },
  {
   "cell_type": "markdown",
   "metadata": {},
   "source": [
    "## Efficiency Plots"
   ]
  },
  {
   "cell_type": "code",
   "execution_count": 22,
   "metadata": {},
   "outputs": [
    {
     "name": "stdout",
     "output_type": "stream",
     "text": [
      "Progress: 100 % of  1000  frameses\n",
      "Number of analyzed frames:  1000 Number of correct counter fractions:  1000\n",
      "Total #hits in frames/#hits in clusters =  inf\n",
      "Correctly associated out of all hits:  0.0 %\n"
     ]
    },
    {
     "ename": "ZeroDivisionError",
     "evalue": "float division by zero",
     "output_type": "error",
     "traceback": [
      "\u001b[0;31m---------------------------------------------------------------------------\u001b[0m",
      "\u001b[0;31mZeroDivisionError\u001b[0m                         Traceback (most recent call last)",
      "\u001b[0;32m<ipython-input-22-4b1d498060b8>\u001b[0m in \u001b[0;36m<module>\u001b[0;34m\u001b[0m\n\u001b[0;32m----> 1\u001b[0;31m \u001b[0mfrac_corr_frame_primary\u001b[0m\u001b[0;34m,\u001b[0m \u001b[0mfrac_corr_clusters_frame_primary\u001b[0m\u001b[0;34m,\u001b[0m \u001b[0mfrac_uncorr_frame_primary\u001b[0m\u001b[0;34m,\u001b[0m \u001b[0mtot_corr_primary\u001b[0m \u001b[0;34m=\u001b[0m \u001b[0mclump_plt\u001b[0m\u001b[0;34m.\u001b[0m\u001b[0mcompare_to_primary\u001b[0m\u001b[0;34m(\u001b[0m\u001b[0mttree_mu3e_big\u001b[0m\u001b[0;34m,\u001b[0m \u001b[0mttree_mu3e_mc_big\u001b[0m\u001b[0;34m,\u001b[0m \u001b[0mttree_sensor_big\u001b[0m\u001b[0;34m,\u001b[0m \u001b[0mttree_tiles_big\u001b[0m\u001b[0;34m,\u001b[0m \u001b[0mmu3e_detector\u001b[0m\u001b[0;34m,\u001b[0m \u001b[0mtime_threshold\u001b[0m \u001b[0;34m=\u001b[0m \u001b[0;36m1.2\u001b[0m\u001b[0;34m,\u001b[0m \u001b[0mmask_type\u001b[0m \u001b[0;34m=\u001b[0m \u001b[0;34m\"big\"\u001b[0m\u001b[0;34m,\u001b[0m \u001b[0mnumber_of_frames\u001b[0m \u001b[0;34m=\u001b[0m \u001b[0;36m1000\u001b[0m\u001b[0;34m,\u001b[0m \u001b[0mrec_type\u001b[0m \u001b[0;34m=\u001b[0m \u001b[0;34m\"pixelpixelcheck\"\u001b[0m\u001b[0;34m)\u001b[0m\u001b[0;34m\u001b[0m\u001b[0;34m\u001b[0m\u001b[0m\n\u001b[0m",
      "\u001b[0;32m~/GitHub/melp/melp/clustering/plots.py\u001b[0m in \u001b[0;36mcompare_to_primary\u001b[0;34m(ttree_mu3e, ttree_mu3e_mc, ttree_sensor, ttree_tiles, mu3e_detector, time_threshold, mask_type, number_of_frames, rec_type, cluster_type)\u001b[0m\n\u001b[1;32m    157\u001b[0m     \u001b[0mprint\u001b[0m\u001b[0;34m(\u001b[0m\u001b[0;34m\"Total #hits in frames/#hits in clusters = \"\u001b[0m\u001b[0;34m,\u001b[0m \u001b[0mnp\u001b[0m\u001b[0;34m.\u001b[0m\u001b[0msum\u001b[0m\u001b[0;34m(\u001b[0m\u001b[0mtotal_hits_counter\u001b[0m\u001b[0;34m)\u001b[0m\u001b[0;34m/\u001b[0m\u001b[0mcluster_hits_counter\u001b[0m\u001b[0;34m)\u001b[0m\u001b[0;34m\u001b[0m\u001b[0;34m\u001b[0m\u001b[0m\n\u001b[1;32m    158\u001b[0m     \u001b[0mprint\u001b[0m\u001b[0;34m(\u001b[0m\u001b[0;34m\"Correctly associated out of all hits: \"\u001b[0m\u001b[0;34m,\u001b[0m \u001b[0mtot_corr_counter\u001b[0m\u001b[0;34m/\u001b[0m\u001b[0;34m(\u001b[0m\u001b[0mnp\u001b[0m\u001b[0;34m.\u001b[0m\u001b[0msum\u001b[0m\u001b[0;34m(\u001b[0m\u001b[0mtotal_hits_counter\u001b[0m\u001b[0;34m)\u001b[0m\u001b[0;34m/\u001b[0m\u001b[0;36m100\u001b[0m\u001b[0;34m)\u001b[0m\u001b[0;34m,\u001b[0m\u001b[0;34m\"%\"\u001b[0m\u001b[0;34m)\u001b[0m\u001b[0;34m\u001b[0m\u001b[0;34m\u001b[0m\u001b[0m\n\u001b[0;32m--> 159\u001b[0;31m     \u001b[0mprint\u001b[0m\u001b[0;34m(\u001b[0m\u001b[0;34m\"Correctly associated out of all hits in clusters: \"\u001b[0m\u001b[0;34m,\u001b[0m \u001b[0mtot_corr_counter\u001b[0m\u001b[0;34m/\u001b[0m\u001b[0;34m(\u001b[0m\u001b[0mcluster_hits_counter\u001b[0m\u001b[0;34m/\u001b[0m\u001b[0;36m100\u001b[0m\u001b[0;34m)\u001b[0m\u001b[0;34m,\u001b[0m\u001b[0;34m\"%\"\u001b[0m\u001b[0;34m)\u001b[0m\u001b[0;34m\u001b[0m\u001b[0;34m\u001b[0m\u001b[0m\n\u001b[0m\u001b[1;32m    160\u001b[0m     \u001b[0mprint\u001b[0m\u001b[0;34m(\u001b[0m\u001b[0;34m\"Incorrectly associated out of all hits: \"\u001b[0m\u001b[0;34m,\u001b[0m \u001b[0mtot_uncorr_counter\u001b[0m\u001b[0;34m/\u001b[0m\u001b[0;34m(\u001b[0m\u001b[0mnp\u001b[0m\u001b[0;34m.\u001b[0m\u001b[0msum\u001b[0m\u001b[0;34m(\u001b[0m\u001b[0mtotal_hits_counter\u001b[0m\u001b[0;34m)\u001b[0m\u001b[0;34m/\u001b[0m\u001b[0;36m100\u001b[0m\u001b[0;34m)\u001b[0m\u001b[0;34m,\u001b[0m\u001b[0;34m\"%\"\u001b[0m\u001b[0;34m)\u001b[0m\u001b[0;34m\u001b[0m\u001b[0;34m\u001b[0m\u001b[0m\n\u001b[1;32m    161\u001b[0m     \u001b[0mprint\u001b[0m\u001b[0;34m(\u001b[0m\u001b[0;34m\"Incorrectly associated out of all hits in clusters: \"\u001b[0m\u001b[0;34m,\u001b[0m \u001b[0mtot_uncorr_counter\u001b[0m\u001b[0;34m/\u001b[0m\u001b[0;34m(\u001b[0m\u001b[0mcluster_hits_counter\u001b[0m\u001b[0;34m/\u001b[0m\u001b[0;36m100\u001b[0m\u001b[0;34m)\u001b[0m\u001b[0;34m,\u001b[0m\u001b[0;34m\"%\"\u001b[0m\u001b[0;34m)\u001b[0m\u001b[0;34m\u001b[0m\u001b[0;34m\u001b[0m\u001b[0m\n",
      "\u001b[0;31mZeroDivisionError\u001b[0m: float division by zero"
     ]
    }
   ],
   "source": [
    "frac_corr_frame_primary, frac_corr_clusters_frame_primary, frac_uncorr_frame_primary, tot_corr_primary = clump_plt.compare_to_primary(ttree_mu3e_big, ttree_mu3e_mc_big, ttree_sensor_big, ttree_tiles_big, mu3e_detector, time_threshold = 1.2, mask_type = \"big\", number_of_frames = 1000, rec_type = \"pixelpixelcheck\")"
   ]
  },
  {
   "cell_type": "markdown",
   "metadata": {},
   "source": [
    "### Hits not included in any cluster"
   ]
  },
  {
   "cell_type": "code",
   "execution_count": null,
   "metadata": {},
   "outputs": [],
   "source": [
    "frac_not_in_cluster = clump_plt.get_hits_not_in_cluster(ttree_mu3e_big, ttree_mu3e_mc_big, ttree_sensor_big, ttree_tiles_big, mu3e_detector, mask_type = \"big\", number_of_frames = 1000, rec_type = \"pixelpixelcheck\")"
   ]
  },
  {
   "cell_type": "code",
   "execution_count": null,
   "metadata": {},
   "outputs": [],
   "source": [
    "fig = plt.figure(figsize=(12,6))\n",
    "plt.hist(frac_not_in_cluster, bins = 100)\n",
    "plt.title(\"Not associated hits / all hits in clusters (per frame)\")\n",
    "plt.show()"
   ]
  },
  {
   "cell_type": "markdown",
   "metadata": {},
   "source": [
    "### Hits associated to wrong cluster"
   ]
  },
  {
   "cell_type": "markdown",
   "metadata": {},
   "source": [
    "#### Comparing to primary"
   ]
  },
  {
   "cell_type": "code",
   "execution_count": null,
   "metadata": {
    "scrolled": false
   },
   "outputs": [],
   "source": [
    "fig = plt.figure(figsize=(12,6))\n",
    "plt.hist(frac_uncorr_frame_primary, bins = 100)\n",
    "plt.title(\"Incorrectly associated hits / all hits in clusters (per frame)\")\n",
    "plt.show()"
   ]
  },
  {
   "cell_type": "markdown",
   "metadata": {},
   "source": [
    "### Hits correctly associated"
   ]
  },
  {
   "cell_type": "markdown",
   "metadata": {},
   "source": [
    "#### Comparing to primary"
   ]
  },
  {
   "cell_type": "code",
   "execution_count": null,
   "metadata": {
    "scrolled": false
   },
   "outputs": [],
   "source": [
    "fig = plt.figure(figsize=(12,6))\n",
    "plt.hist(frac_corr_frame_primary, bins = 100)\n",
    "plt.title(\"Correctly associated hits / all hits in frame (per frame)\")\n",
    "plt.show()"
   ]
  },
  {
   "cell_type": "code",
   "execution_count": null,
   "metadata": {},
   "outputs": [],
   "source": [
    "fig = plt.figure(figsize=(12,6))\n",
    "plt.hist(frac_corr_clusters_frame_primary, bins = 100)\n",
    "plt.title(\"Correctly associated hits / all hits in clusters (per frame)\")\n",
    "plt.show()"
   ]
  },
  {
   "cell_type": "markdown",
   "metadata": {},
   "source": [
    "### Combined Histograms"
   ]
  },
  {
   "cell_type": "markdown",
   "metadata": {},
   "source": [
    "#### Comparing to primary"
   ]
  },
  {
   "cell_type": "code",
   "execution_count": null,
   "metadata": {},
   "outputs": [],
   "source": [
    "fig = plt.figure(figsize=(12,6))\n",
    "plt.hist(frac_corr_clusters_frame_primary, bins = 100, label = \"Hits correctly associated to cluster / All hits in clusters\")\n",
    "plt.hist(frac_uncorr_frame_primary, bins = 100, label = \"Hits incorrectly associated to cluster / All hits in clusters\")\n",
    "plt.title(\"Correctly and incorrectly associated hits / all hits in clusters (per frame)\")\n",
    "plt.legend()\n",
    "plt.show()"
   ]
  },
  {
   "cell_type": "code",
   "execution_count": null,
   "metadata": {},
   "outputs": [],
   "source": []
  },
  {
   "cell_type": "code",
   "execution_count": null,
   "metadata": {},
   "outputs": [],
   "source": []
  }
 ],
 "metadata": {
  "kernelspec": {
   "display_name": "Python 3",
   "language": "python",
   "name": "python3"
  },
  "language_info": {
   "codemirror_mode": {
    "name": "ipython",
    "version": 3
   },
   "file_extension": ".py",
   "mimetype": "text/x-python",
   "name": "python",
   "nbconvert_exporter": "python",
   "pygments_lexer": "ipython3",
   "version": "3.8.10"
  }
 },
 "nbformat": 4,
 "nbformat_minor": 5
}
