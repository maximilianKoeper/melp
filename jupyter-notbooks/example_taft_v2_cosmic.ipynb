{
 "cells": [
  {
   "cell_type": "markdown",
   "id": "134b7063",
   "metadata": {},
   "source": [
    "# Example Notebook for TAFT\n",
    "## Time alignment for tiles "
   ]
  },
  {
   "cell_type": "code",
   "execution_count": 1,
   "id": "69b84e0f",
   "metadata": {},
   "outputs": [
    {
     "name": "stdout",
     "output_type": "stream",
     "text": [
      "/home/maximilian/Github/melp\n"
     ]
    }
   ],
   "source": [
    "%cd .."
   ]
  },
  {
   "cell_type": "code",
   "execution_count": 2,
   "id": "22349350",
   "metadata": {},
   "outputs": [],
   "source": [
    "import numpy as np\n",
    "import matplotlib.pyplot as plt"
   ]
  },
  {
   "cell_type": "code",
   "execution_count": 3,
   "id": "3f5f8a88",
   "metadata": {},
   "outputs": [
    {
     "name": "stdout",
     "output_type": "stream",
     "text": [
      "Welcome to JupyROOT 6.24/06\n"
     ]
    }
   ],
   "source": [
    "from melp import Detector\n",
    "import melp.taft"
   ]
  },
  {
   "cell_type": "markdown",
   "id": "abd5b539",
   "metadata": {},
   "source": [
    "## Creating/Loading detector with misalignment"
   ]
  },
  {
   "cell_type": "code",
   "execution_count": 4,
   "id": "349bbf7d",
   "metadata": {},
   "outputs": [
    {
     "name": "stdout",
     "output_type": "stream",
     "text": [
      "------------------------------\n",
      "Detector information\n",
      "\n",
      "Stats:\n",
      "  - Tiles:  5824\n",
      "    -> misal:  True\n",
      "  - Pixel Modules:  2844\n",
      "  - Loaded Runs (Tiles):  []\n",
      "  - Loaded Runs (Pixel):  []\n",
      "------------------------------\n"
     ]
    }
   ],
   "source": [
    "mu3e_detector = Detector.initFromROOT(\"./run42_20000.root\")\n",
    "#mu3e_detector = Detector.initFromSave(\"./save_file_3mio_iter2.taft\")"
   ]
  },
  {
   "cell_type": "code",
   "execution_count": 5,
   "id": "07707cc0",
   "metadata": {},
   "outputs": [],
   "source": [
    "melp.taft.select(mu3e_detector)"
   ]
  },
  {
   "cell_type": "code",
   "execution_count": 6,
   "id": "fc2a0cd9",
   "metadata": {},
   "outputs": [
    {
     "name": "stdout",
     "output_type": "stream",
     "text": [
      "0.0\n",
      "0.020000640020480655\n",
      "0.04000128004096131\n",
      "0.06000192006144196\n",
      "0.08000256008192262\n",
      "0.10000320010240328\n",
      "0.12000384012288393\n",
      "0.14000448014336458\n",
      "0.16000512016384524\n",
      "0.1800057601843259\n",
      "0.20000640020480656\n",
      "0.22000704022528722\n",
      "0.24000768024576785\n",
      "0.26000832026624854\n",
      "0.28000896028672917\n",
      "0.30000960030720986\n",
      "0.3200102403276905\n",
      "0.3400108803481711\n",
      "0.3600115203686518\n",
      "0.38001216038913244\n",
      "0.4000128004096131\n",
      "0.42001344043009375\n",
      "0.44001408045057444\n",
      "0.46001472047105507\n",
      "0.4800153604915357\n",
      "0.5000160005120163\n",
      "0.5200166405324971\n",
      "0.5400172805529777\n",
      "0.5600179205734583\n",
      "0.580018560593939\n",
      "0.6000192006144197\n",
      "0.6200198406349003\n",
      "0.640020480655381\n",
      "0.6600211206758616\n",
      "0.6800217606963422\n",
      "0.700022400716823\n",
      "0.7200230407373036\n",
      "0.7400236807577842\n",
      "0.7600243207782649\n",
      "0.7800249607987456\n",
      "0.8000256008192262\n",
      "0.8200262408397069\n",
      "0.8400268808601875\n",
      "0.8600275208806681\n",
      "0.8800281609011489\n",
      "0.9000288009216295\n",
      "0.9200294409421101\n",
      "0.9400300809625908\n",
      "0.9600307209830714\n",
      "0.9800313610035521\n",
      "3820323  von  4999840\n"
     ]
    }
   ],
   "source": [
    "options={\"ttree_loc\": \"alignment/mu3e\"}\n",
    "\n",
    "hist, hist_2 = melp.taft.find_cosmic_events(\"../../Downloads/mu3e_sorted_000002_cosmic.root\",**options)"
   ]
  },
  {
   "cell_type": "code",
   "execution_count": 7,
   "id": "67702cb8",
   "metadata": {},
   "outputs": [
    {
     "data": {
      "image/png": "[encoded data removed]",
      "text/plain": [
       "<Figure size 432x288 with 1 Axes>"
      ]
     },
     "metadata": {
      "needs_background": "light"
     },
     "output_type": "display_data"
    }
   ],
   "source": [
    "plt.hist(hist, bins=1000, range=(0,0.5))\n",
    "plt.ylim(ymax = 2100, ymin = 0)\n",
    "plt.show()"
   ]
  },
  {
   "cell_type": "code",
   "execution_count": 8,
   "id": "6d3a178b",
   "metadata": {},
   "outputs": [
    {
     "data": {
      "image/png": "[encoded data removed]",
      "text/plain": [
       "<Figure size 432x288 with 1 Axes>"
      ]
     },
     "metadata": {
      "needs_background": "light"
     },
     "output_type": "display_data"
    }
   ],
   "source": [
    "plt.hist(hist_2, bins=2000)#, range=(-10,10))\n",
    "plt.ylim(ymax = 10000, ymin = 0)\n",
    "plt.show()"
   ]
  },
  {
   "cell_type": "code",
   "execution_count": 12,
   "id": "6ec354b6",
   "metadata": {},
   "outputs": [
    {
     "name": "stdout",
     "output_type": "stream",
     "text": [
      "3.0118623971939087\n",
      "0.0006952642169473248\n"
     ]
    }
   ],
   "source": [
    "print(np.median(hist_2))\n",
    "print(1/np.sqrt(len(hist_2)))"
   ]
  }
 ],
 "metadata": {
  "kernelspec": {
   "display_name": "Python 3 (ipykernel)",
   "language": "python",
   "name": "python3"
  },
  "language_info": {
   "codemirror_mode": {
    "name": "ipython",
    "version": 3
   },
   "file_extension": ".py",
   "mimetype": "text/x-python",
   "name": "python",
   "nbconvert_exporter": "python",
   "pygments_lexer": "ipython3",
   "version": "3.9.7"
  }
 },
 "nbformat": 4,
 "nbformat_minor": 5
}
