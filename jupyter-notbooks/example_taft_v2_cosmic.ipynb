{
 "cells": [
  {
   "cell_type": "markdown",
   "id": "134b7063",
   "metadata": {},
   "source": [
    "# Example Notebook for TAFT\n",
    "## Time alignment for tiles "
   ]
  },
  {
   "cell_type": "code",
   "execution_count": 1,
   "id": "69b84e0f",
   "metadata": {},
   "outputs": [
    {
     "name": "stdout",
     "output_type": "stream",
     "text": [
      "/home/maximilian/Github/melp\n"
     ]
    }
   ],
   "source": [
    "%cd .."
   ]
  },
  {
   "cell_type": "code",
   "execution_count": 2,
   "id": "22349350",
   "metadata": {},
   "outputs": [],
   "source": [
    "import numpy as np\n",
    "import matplotlib.pyplot as plt"
   ]
  },
  {
   "cell_type": "code",
   "execution_count": 3,
   "id": "3f5f8a88",
   "metadata": {},
   "outputs": [
    {
     "name": "stdout",
     "output_type": "stream",
     "text": [
      "Welcome to JupyROOT 6.24/06\n"
     ]
    }
   ],
   "source": [
    "from melp import Detector\n",
    "import melp.taft"
   ]
  },
  {
   "cell_type": "markdown",
   "id": "abd5b539",
   "metadata": {},
   "source": [
    "## Creating/Loading detector with misalignment"
   ]
  },
  {
   "cell_type": "code",
   "execution_count": 4,
   "id": "349bbf7d",
   "metadata": {},
   "outputs": [
    {
     "name": "stdout",
     "output_type": "stream",
     "text": [
      "------------------------------\n",
      "Detector information\n",
      "\n",
      "Stats:\n",
      "  - Tiles:  5824\n",
      "    -> misal:  True\n",
      "  - Pixel Modules:  2844\n",
      "  - Loaded Runs (Tiles):  []\n",
      "  - Loaded Runs (Pixel):  []\n",
      "------------------------------\n"
     ]
    }
   ],
   "source": [
    "mu3e_detector = Detector.initFromROOT(\"./run42_20000.root\")\n",
    "#mu3e_detector = Detector.initFromSave(\"./save_file_3mio_iter2.taft\")"
   ]
  },
  {
   "cell_type": "code",
   "execution_count": 5,
   "id": "07707cc0",
   "metadata": {},
   "outputs": [],
   "source": [
    "melp.taft.select(mu3e_detector)"
   ]
  },
  {
   "cell_type": "code",
   "execution_count": 7,
   "id": "fc2a0cd9",
   "metadata": {
    "scrolled": false
   },
   "outputs": [
    {
     "name": "stdout",
     "output_type": "stream",
     "text": [
      "100 % | Total Frames:  4999840\n",
      "Frames with hits:  3820323\n"
     ]
    }
   ],
   "source": [
    "options={\n",
    "    \"ttree_loc\": \"alignment/mu3e\",\n",
    "}\n",
    "\n",
    "hist, hist_2, hist_3 = melp.taft.find_cosmic_events(\"../../Downloads/mu3e_sorted_000002_cosmic.root\",**options)"
   ]
  },
  {
   "cell_type": "code",
   "execution_count": 9,
   "id": "67702cb8",
   "metadata": {},
   "outputs": [
    {
     "data": {
      "image/png": "[encoded data removed]",
      "text/plain": [
       "<Figure size 432x288 with 1 Axes>"
      ]
     },
     "metadata": {
      "needs_background": "light"
     },
     "output_type": "display_data"
    }
   ],
   "source": [
    "plt.hist(hist, bins=1000, range=(0,0.5))\n",
    "plt.ylim(ymax = 2100, ymin = 0)\n",
    "plt.show()"
   ]
  },
  {
   "cell_type": "code",
   "execution_count": 12,
   "id": "e6349ffb",
   "metadata": {},
   "outputs": [
    {
     "data": {
      "image/png": "[encoded data removed]",
      "text/plain": [
       "<Figure size 432x288 with 1 Axes>"
      ]
     },
     "metadata": {
      "needs_background": "light"
     },
     "output_type": "display_data"
    }
   ],
   "source": [
    "plt.hist(hist_2, bins=500)#, range=(-10,10))\n",
    "#plt.ylim(ymax = 10000, ymin = 0)\n",
    "plt.show()"
   ]
  },
  {
   "cell_type": "code",
   "execution_count": 13,
   "id": "0b059d5b",
   "metadata": {},
   "outputs": [
    {
     "name": "stdout",
     "output_type": "stream",
     "text": [
      "3.0118623971939087\n",
      "0.0006952642169473248\n",
      "2068713\n"
     ]
    }
   ],
   "source": [
    "print(np.median(hist_2))\n",
    "print(1/np.sqrt(len(hist_2)))\n",
    "print(len(hist_2))"
   ]
  },
  {
   "cell_type": "code",
   "execution_count": 14,
   "id": "35ceeffe",
   "metadata": {},
   "outputs": [
    {
     "data": {
      "image/png": "[encoded data removed]",
      "text/plain": [
       "<Figure size 432x288 with 1 Axes>"
      ]
     },
     "metadata": {
      "needs_background": "light"
     },
     "output_type": "display_data"
    }
   ],
   "source": [
    "plt.hist(hist_3, bins=20, range=(0,20))\n",
    "#plt.ylim(ymax = 2100, ymin = 0)\n",
    "plt.show()"
   ]
  },
  {
   "cell_type": "code",
   "execution_count": 6,
   "id": "f20f482d",
   "metadata": {},
   "outputs": [
    {
     "name": "stdout",
     "output_type": "stream",
     "text": [
      "8  % | Total Frames:  4999840\r"
     ]
    },
    {
     "ename": "KeyboardInterrupt",
     "evalue": "",
     "output_type": "error",
     "traceback": [
      "\u001b[0;31m---------------------------------------------------------------------------\u001b[0m",
      "\u001b[0;31mKeyboardInterrupt\u001b[0m                         Traceback (most recent call last)",
      "\u001b[0;32m/tmp/ipykernel_16500/4285998826.py\u001b[0m in \u001b[0;36m<module>\u001b[0;34m\u001b[0m\n\u001b[1;32m      5\u001b[0m }\n\u001b[1;32m      6\u001b[0m \u001b[0;34m\u001b[0m\u001b[0m\n\u001b[0;32m----> 7\u001b[0;31m \u001b[0mhist\u001b[0m \u001b[0;34m=\u001b[0m \u001b[0mmelp\u001b[0m\u001b[0;34m.\u001b[0m\u001b[0mtaft\u001b[0m\u001b[0;34m.\u001b[0m\u001b[0mstation_station_timing\u001b[0m\u001b[0;34m(\u001b[0m\u001b[0;34m\"../../Downloads/mu3e_sorted_000002_cosmic.root\"\u001b[0m\u001b[0;34m,\u001b[0m \u001b[0mmu3e_detector\u001b[0m\u001b[0;34m,\u001b[0m \u001b[0;34m**\u001b[0m\u001b[0moptions\u001b[0m\u001b[0;34m)\u001b[0m\u001b[0;34m\u001b[0m\u001b[0;34m\u001b[0m\u001b[0m\n\u001b[0m",
      "\u001b[0;32m~/Github/melp/melp/taft/utils/cosmic.py\u001b[0m in \u001b[0;36mstation_station_timing\u001b[0;34m(filename, detector, **kwargs)\u001b[0m\n\u001b[1;32m     65\u001b[0m             \u001b[0mtest_dict\u001b[0m \u001b[0;34m=\u001b[0m \u001b[0mcheck_cosmic_events\u001b[0m\u001b[0;34m(\u001b[0m\u001b[0mttree_mu3e\u001b[0m\u001b[0;34m,\u001b[0m \u001b[0;32mNone\u001b[0m\u001b[0;34m,\u001b[0m \u001b[0;32mNone\u001b[0m\u001b[0;34m)\u001b[0m\u001b[0;34m\u001b[0m\u001b[0;34m\u001b[0m\u001b[0m\n\u001b[1;32m     66\u001b[0m         \u001b[0;32melse\u001b[0m\u001b[0;34m:\u001b[0m\u001b[0;34m\u001b[0m\u001b[0;34m\u001b[0m\u001b[0m\n\u001b[0;32m---> 67\u001b[0;31m             \u001b[0mtest_dict\u001b[0m \u001b[0;34m=\u001b[0m \u001b[0mcheck_cosmic_events_mc\u001b[0m\u001b[0;34m(\u001b[0m\u001b[0mttree_mu3e\u001b[0m\u001b[0;34m,\u001b[0m \u001b[0;32mNone\u001b[0m\u001b[0;34m,\u001b[0m \u001b[0;32mNone\u001b[0m\u001b[0;34m)\u001b[0m\u001b[0;34m\u001b[0m\u001b[0;34m\u001b[0m\u001b[0m\n\u001b[0m\u001b[1;32m     68\u001b[0m \u001b[0;34m\u001b[0m\u001b[0m\n\u001b[1;32m     69\u001b[0m         \u001b[0;32mfor\u001b[0m \u001b[0mkey\u001b[0m \u001b[0;32min\u001b[0m \u001b[0mtest_dict\u001b[0m\u001b[0;34m:\u001b[0m\u001b[0;34m\u001b[0m\u001b[0;34m\u001b[0m\u001b[0m\n",
      "\u001b[0;32m~/Github/melp/melp/taft/utils/cosmic.py\u001b[0m in \u001b[0;36mcheck_cosmic_events_mc\u001b[0;34m(ttree_mu3e, it, station)\u001b[0m\n\u001b[1;32m    151\u001b[0m     \u001b[0mtilehit_times\u001b[0m \u001b[0;34m=\u001b[0m \u001b[0mnp\u001b[0m\u001b[0;34m.\u001b[0m\u001b[0masarray\u001b[0m\u001b[0;34m(\u001b[0m\u001b[0mlist\u001b[0m\u001b[0;34m(\u001b[0m\u001b[0mttree_mu3e\u001b[0m\u001b[0;34m.\u001b[0m\u001b[0mtilehit_time\u001b[0m\u001b[0;34m)\u001b[0m\u001b[0;34m)\u001b[0m\u001b[0;34m[\u001b[0m\u001b[0mindices\u001b[0m\u001b[0;34m]\u001b[0m\u001b[0;34m\u001b[0m\u001b[0;34m\u001b[0m\u001b[0m\n\u001b[1;32m    152\u001b[0m     \u001b[0mtilehit_ids\u001b[0m \u001b[0;34m=\u001b[0m \u001b[0mnp\u001b[0m\u001b[0;34m.\u001b[0m\u001b[0masarray\u001b[0m\u001b[0;34m(\u001b[0m\u001b[0mlist\u001b[0m\u001b[0;34m(\u001b[0m\u001b[0mttree_mu3e\u001b[0m\u001b[0;34m.\u001b[0m\u001b[0mtilehit_tile\u001b[0m\u001b[0;34m)\u001b[0m\u001b[0;34m)\u001b[0m\u001b[0;34m[\u001b[0m\u001b[0mindices\u001b[0m\u001b[0;34m]\u001b[0m\u001b[0;34m\u001b[0m\u001b[0;34m\u001b[0m\u001b[0m\n\u001b[0;32m--> 153\u001b[0;31m     \u001b[0mtilehit_primaries\u001b[0m \u001b[0;34m=\u001b[0m \u001b[0mnp\u001b[0m\u001b[0;34m.\u001b[0m\u001b[0masarray\u001b[0m\u001b[0;34m(\u001b[0m\u001b[0mlist\u001b[0m\u001b[0;34m(\u001b[0m\u001b[0mttree_mu3e\u001b[0m\u001b[0;34m.\u001b[0m\u001b[0mtilehit_primary\u001b[0m\u001b[0;34m)\u001b[0m\u001b[0;34m)\u001b[0m\u001b[0;34m[\u001b[0m\u001b[0mindices\u001b[0m\u001b[0;34m]\u001b[0m\u001b[0;34m\u001b[0m\u001b[0;34m\u001b[0m\u001b[0m\n\u001b[0m\u001b[1;32m    154\u001b[0m \u001b[0;34m\u001b[0m\u001b[0m\n\u001b[1;32m    155\u001b[0m     \u001b[0;31m# print(tilehit_ids)\u001b[0m\u001b[0;34m\u001b[0m\u001b[0;34m\u001b[0m\u001b[0m\n",
      "\u001b[0;31mKeyboardInterrupt\u001b[0m: "
     ]
    }
   ],
   "source": [
    "options={\n",
    "    \"ttree_loc\": \"alignment/mu3e\",\n",
    "    \"mc_primary\": True,\n",
    "    \"tof\": False\n",
    "}\n",
    "\n",
    "hist = melp.taft.station_station_timing(\"../../Downloads/mu3e_sorted_000002_cosmic.root\", mu3e_detector, **options)"
   ]
  },
  {
   "cell_type": "code",
   "execution_count": 16,
   "id": "d7b644f5",
   "metadata": {},
   "outputs": [
    {
     "data": {
      "image/png": "[encoded data removed]",
      "text/plain": [
       "<Figure size 432x288 with 1 Axes>"
      ]
     },
     "metadata": {
      "needs_background": "light"
     },
     "output_type": "display_data"
    }
   ],
   "source": [
    "plt.hist(hist, bins=100)#, range=(-10,10))\n",
    "#plt.ylim(ymax = 10000, ymin = 0)\n",
    "plt.show()"
   ]
  },
  {
   "cell_type": "code",
   "execution_count": 6,
   "id": "258cc392",
   "metadata": {},
   "outputs": [],
   "source": [
    "options={\n",
    "    \"ttree_loc\": \"alignment/mu3e\",\n",
    "    \"mc_primary\": True,\n",
    "    \"tof\": False,\n",
    "    \"station\": 1\n",
    "}\n",
    "\n",
    "\n",
    "hist_z = melp.taft.cosmic_tof_correction(\"../../Downloads/mu3e_sorted_000002_cosmic.root\", mu3e_detector, **options)"
   ]
  },
  {
   "cell_type": "code",
   "execution_count": 10,
   "id": "60ae9405",
   "metadata": {},
   "outputs": [
    {
     "data": {
      "image/png": "[encoded data removed]",
      "text/plain": [
       "<Figure size 432x288 with 1 Axes>"
      ]
     },
     "metadata": {
      "needs_background": "light"
     },
     "output_type": "display_data"
    }
   ],
   "source": [
    "plt.hist(hist_z, bins=100, range=(-1,1))\n",
    "plt.show()"
   ]
  },
  {
   "cell_type": "code",
   "execution_count": null,
   "id": "7017fcda",
   "metadata": {},
   "outputs": [],
   "source": []
  }
 ],
 "metadata": {
  "kernelspec": {
   "display_name": "Python 3 (ipykernel)",
   "language": "python",
   "name": "python3"
  },
  "language_info": {
   "codemirror_mode": {
    "name": "ipython",
    "version": 3
   },
   "file_extension": ".py",
   "mimetype": "text/x-python",
   "name": "python",
   "nbconvert_exporter": "python",
   "pygments_lexer": "ipython3",
   "version": "3.9.7"
  }
 },
 "nbformat": 4,
 "nbformat_minor": 5
}
