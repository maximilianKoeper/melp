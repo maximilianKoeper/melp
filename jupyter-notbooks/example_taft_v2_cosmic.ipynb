{
 "cells": [
  {
   "cell_type": "markdown",
   "id": "134b7063",
   "metadata": {},
   "source": [
    "# Example Notebook for TAFT\n",
    "## Time alignment for tiles "
   ]
  },
  {
   "cell_type": "code",
   "execution_count": 1,
   "id": "69b84e0f",
   "metadata": {},
   "outputs": [
    {
     "name": "stdout",
     "output_type": "stream",
     "text": [
      "/home/maximilian/Github/melp\n"
     ]
    }
   ],
   "source": [
    "%cd .."
   ]
  },
  {
   "cell_type": "code",
   "execution_count": 2,
   "id": "22349350",
   "metadata": {},
   "outputs": [],
   "source": [
    "import numpy as np\n",
    "import matplotlib.pyplot as plt"
   ]
  },
  {
   "cell_type": "code",
   "execution_count": 3,
   "id": "3f5f8a88",
   "metadata": {},
   "outputs": [
    {
     "name": "stdout",
     "output_type": "stream",
     "text": [
      "Welcome to JupyROOT 6.24/06\n"
     ]
    }
   ],
   "source": [
    "from melp import Detector\n",
    "import melp.taft"
   ]
  },
  {
   "cell_type": "markdown",
   "id": "abd5b539",
   "metadata": {},
   "source": [
    "## Creating/Loading detector with misalignment"
   ]
  },
  {
   "cell_type": "code",
   "execution_count": 4,
   "id": "349bbf7d",
   "metadata": {},
   "outputs": [
    {
     "name": "stdout",
     "output_type": "stream",
     "text": [
      "------------------------------\n",
      "Detector information\n",
      "\n",
      "Stats:\n",
      "  - Tiles:  5824\n",
      "    -> misal:  True\n",
      "  - Pixel Modules:  2844\n",
      "  - Loaded Runs (Tiles):  []\n",
      "  - Loaded Runs (Pixel):  []\n",
      "------------------------------\n"
     ]
    }
   ],
   "source": [
    "mu3e_detector = Detector.initFromROOT(\"./run42_20000.root\")\n",
    "#mu3e_detector = Detector.initFromSave(\"./save_file_3mio_iter2.taft\")"
   ]
  },
  {
   "cell_type": "code",
   "execution_count": 5,
   "id": "07707cc0",
   "metadata": {},
   "outputs": [],
   "source": [
    "melp.taft.select(mu3e_detector)"
   ]
  },
  {
   "cell_type": "code",
   "execution_count": 12,
   "id": "fc2a0cd9",
   "metadata": {},
   "outputs": [
    {
     "name": "stdout",
     "output_type": "stream",
     "text": [
      "100 % | Total Frames:  4999840\n",
      "Frames with hits:  3820323\n"
     ]
    }
   ],
   "source": [
    "options={\"ttree_loc\": \"alignment/mu3e\"}\n",
    "\n",
    "hist, hist_2, hist_3 = melp.taft.find_cosmic_events(\"../../Downloads/mu3e_sorted_000002_cosmic.root\",**options)"
   ]
  },
  {
   "cell_type": "code",
   "execution_count": 13,
   "id": "67702cb8",
   "metadata": {},
   "outputs": [
    {
     "data": {
      "image/png": "[encoded data removed]",
      "text/plain": [
       "<Figure size 432x288 with 1 Axes>"
      ]
     },
     "metadata": {
      "needs_background": "light"
     },
     "output_type": "display_data"
    }
   ],
   "source": [
    "plt.hist(hist, bins=1000, range=(0,0.5))\n",
    "plt.ylim(ymax = 2100, ymin = 0)\n",
    "plt.show()"
   ]
  },
  {
   "cell_type": "code",
   "execution_count": 14,
   "id": "e6349ffb",
   "metadata": {},
   "outputs": [
    {
     "data": {
      "image/png": "[encoded data removed]",
      "text/plain": [
       "<Figure size 432x288 with 1 Axes>"
      ]
     },
     "metadata": {
      "needs_background": "light"
     },
     "output_type": "display_data"
    }
   ],
   "source": [
    "plt.hist(hist_2, bins=2000)#, range=(-10,10))\n",
    "plt.ylim(ymax = 10000, ymin = 0)\n",
    "plt.show()"
   ]
  },
  {
   "cell_type": "code",
   "execution_count": 15,
   "id": "0b059d5b",
   "metadata": {},
   "outputs": [
    {
     "name": "stdout",
     "output_type": "stream",
     "text": [
      "3.0118623971939087\n",
      "0.0006952642169473248\n"
     ]
    }
   ],
   "source": [
    "print(np.median(hist_2))\n",
    "print(1/np.sqrt(len(hist_2)))"
   ]
  },
  {
   "cell_type": "code",
   "execution_count": 16,
   "id": "f1053669",
   "metadata": {},
   "outputs": [
    {
     "data": {
      "image/png": "[encoded data removed]",
      "text/plain": [
       "<Figure size 432x288 with 1 Axes>"
      ]
     },
     "metadata": {
      "needs_background": "light"
     },
     "output_type": "display_data"
    }
   ],
   "source": [
    "plt.hist(hist_3, bins=20, range=(0,20))\n",
    "#plt.ylim(ymax = 2100, ymin = 0)\n",
    "plt.show()"
   ]
  },
  {
   "cell_type": "code",
   "execution_count": 6,
   "id": "b8d1cb29",
   "metadata": {},
   "outputs": [],
   "source": [
    "import ROOT"
   ]
  },
  {
   "cell_type": "code",
   "execution_count": 7,
   "id": "23ef3530",
   "metadata": {},
   "outputs": [],
   "source": [
    "root_file = ROOT.TFile.Open(\"../../Downloads/mu3e_sorted_000002_cosmic.root\", \"READ\")\n",
    "ttree_mu3e = root_file.Get(\"alignment/mu3e\")"
   ]
  },
  {
   "cell_type": "code",
   "execution_count": 8,
   "id": "31c614f1",
   "metadata": {},
   "outputs": [],
   "source": [
    "options_1 = {\n",
    "    \"ttree_mu3e\": ttree_mu3e\n",
    "}"
   ]
  },
  {
   "cell_type": "code",
   "execution_count": 9,
   "id": "dff6ef64",
   "metadata": {},
   "outputs": [],
   "source": [
    "i = melp.taft.find_next_cosmic_event(ttree_mu3e, 2000, 1)"
   ]
  },
  {
   "cell_type": "code",
   "execution_count": 10,
   "id": "e4669c2a",
   "metadata": {},
   "outputs": [
    {
     "name": "stdout",
     "output_type": "stream",
     "text": [
      "2000\n"
     ]
    }
   ],
   "source": [
    "print(i)"
   ]
  },
  {
   "cell_type": "code",
   "execution_count": 11,
   "id": "ca535c41",
   "metadata": {},
   "outputs": [
    {
     "name": "stdout",
     "output_type": "stream",
     "text": [
      "[302780, 302725, 200907, 200832, 200833, 201026, 201939, 201883, 202645]\n",
      "[ 0.          0.09666484  5.68207261  5.86261079  6.11411086 17.75476082\n",
      " 18.23213804 18.28549925 55.54870063]\n"
     ]
    }
   ],
   "source": [
    "test = melp.taft.check_cosmic_events(ttree_mu3e,i,1)"
   ]
  },
  {
   "cell_type": "code",
   "execution_count": 15,
   "id": "75e3a00d",
   "metadata": {},
   "outputs": [],
   "source": [
    "pos1 = mu3e_detector.TileDetector.tile[200907].pos"
   ]
  },
  {
   "cell_type": "code",
   "execution_count": 16,
   "id": "6343941b",
   "metadata": {},
   "outputs": [],
   "source": [
    "pos2 = mu3e_detector.TileDetector.tile[200833].pos"
   ]
  },
  {
   "cell_type": "code",
   "execution_count": 17,
   "id": "a74c4055",
   "metadata": {},
   "outputs": [
    {
     "name": "stdout",
     "output_type": "stream",
     "text": [
      "102.7937697265552\n"
     ]
    }
   ],
   "source": [
    "print(np.sqrt((pos1[0]-pos2[0])**2+ (pos1[1]-pos2[1])**2 +(pos1[2]-pos2[2])**2))"
   ]
  },
  {
   "cell_type": "code",
   "execution_count": 18,
   "id": "4efe4911",
   "metadata": {},
   "outputs": [
    {
     "name": "stdout",
     "output_type": "stream",
     "text": [
      "[29.456160477627883, 53.03238008451545, -463.75500000000005] [34.76117204208972, -48.801774534143725, -476.725]\n"
     ]
    }
   ],
   "source": [
    "print(pos1, pos2)"
   ]
  },
  {
   "cell_type": "code",
   "execution_count": 19,
   "id": "f823690c",
   "metadata": {},
   "outputs": [
    {
     "name": "stdout",
     "output_type": "stream",
     "text": [
      "-0.4320382500000006\n"
     ]
    }
   ],
   "source": [
    "print(5.68207261-6.11411086)"
   ]
  },
  {
   "cell_type": "code",
   "execution_count": 22,
   "id": "4dcde0e2",
   "metadata": {},
   "outputs": [],
   "source": [
    "list1 = [0,1,2,3,4,5,6]"
   ]
  },
  {
   "cell_type": "code",
   "execution_count": 23,
   "id": "78060f9f",
   "metadata": {},
   "outputs": [
    {
     "name": "stdout",
     "output_type": "stream",
     "text": [
      "[0]\n"
     ]
    }
   ],
   "source": [
    "print(list1[0:1])"
   ]
  },
  {
   "cell_type": "code",
   "execution_count": 12,
   "id": "61082ade",
   "metadata": {},
   "outputs": [
    {
     "name": "stdout",
     "output_type": "stream",
     "text": [
      "{2: [[302780, 302725], [133061.49290033005, 133061.58956517122]], 5: [[200907, 200832, 200833], [133067.17497294184, 133067.35551111793, 133067.60701118704]], 8: [[201026, 201939, 201883], [133079.2476611527, 133079.72503836863, 133079.77839958362]]}\n"
     ]
    }
   ],
   "source": [
    "print(test)"
   ]
  },
  {
   "cell_type": "code",
   "execution_count": null,
   "id": "99e07ede",
   "metadata": {},
   "outputs": [],
   "source": []
  }
 ],
 "metadata": {
  "kernelspec": {
   "display_name": "Python 3 (ipykernel)",
   "language": "python",
   "name": "python3"
  },
  "language_info": {
   "codemirror_mode": {
    "name": "ipython",
    "version": 3
   },
   "file_extension": ".py",
   "mimetype": "text/x-python",
   "name": "python",
   "nbconvert_exporter": "python",
   "pygments_lexer": "ipython3",
   "version": "3.9.7"
  }
 },
 "nbformat": 4,
 "nbformat_minor": 5
}
