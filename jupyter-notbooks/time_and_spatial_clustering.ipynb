{
 "cells": [
  {
   "cell_type": "code",
   "execution_count": 1,
   "id": "ee1d38bb",
   "metadata": {},
   "outputs": [
    {
     "name": "stdout",
     "output_type": "stream",
     "text": [
      "/home/erik/GitHub/melp\n",
      "Welcome to JupyROOT 6.24/06\n"
     ]
    }
   ],
   "source": [
    "%cd ..\n",
    "import ROOT\n",
    "import numpy as np\n",
    "import matplotlib.pyplot as plt\n",
    "import matplotlib as mpl\n",
    "import matplotlib.cm as cm\n",
    "from matplotlib.colors import ListedColormap, LinearSegmentedColormap\n",
    "from melp import Detector\n",
    "import melp\n",
    "import math\n",
    "\n",
    "from melp.clustering.misc import*\n",
    "import melp.clustering as clump\n",
    "import melp.clustering.time_cluster as tclump\n",
    "#from melp import TileAnalyzer\n",
    "import melp.clustering.spatial_cluster as sclump\n",
    "import melp.clustering.plots as clump_plt\n",
    "import melp.clustering.three_frame_cluster as clump_3\n",
    "\n",
    "plt.rcParams.update({'font.size': 16})"
   ]
  },
  {
   "cell_type": "code",
   "execution_count": 2,
   "id": "64629602",
   "metadata": {},
   "outputs": [],
   "source": [
    "filename_trirec = \"./testdata/trirec/trirec1.root\"\n",
    "filename_sorted = \"./testdata/sorted/sorted1.root\"\n",
    "filename_sorted_big = \"/home/erik/GitLab_KIP/melp/root_files/big_run_data/sorted1.root\"\n",
    "#filename_sorted_big = \"./testdata/sorted/sorted1_big.root\"\n",
    "\n",
    "file = ROOT.TFile(filename_sorted)\n",
    "ttree_mu3e = file.Get(\"mu3e\")\n",
    "ttree_mu3e_mc = file.Get(\"mu3e_mchits\")\n",
    "ttree_sensor = file.Get(\"alignment/sensors\")\n",
    "ttree_tiles = file.Get(\"alignment/tiles\")\n",
    "\n",
    "file_rec = ROOT.TFile(filename_trirec)\n",
    "ttree_trirec = file_rec.Get(\"frames\")\n",
    "ttree_trirec_mc = file_rec.Get(\"frames_mc\")\n",
    "ttree_mu3e_segs = file_rec.Get(\"segs\")\n",
    "\n",
    "file_big = ROOT.TFile(filename_sorted_big)\n",
    "ttree_mu3e_big = file_big.Get(\"mu3e\")\n",
    "ttree_mu3e_mc_big = file_big.Get(\"mu3e_mchits\")\n",
    "ttree_sensor_big = file_big.Get(\"alignment/sensors\")\n",
    "ttree_tiles_big = file_big.Get(\"alignment/tiles\")"
   ]
  },
  {
   "cell_type": "code",
   "execution_count": 3,
   "id": "918bb741",
   "metadata": {},
   "outputs": [
    {
     "name": "stdout",
     "output_type": "stream",
     "text": [
      "------------------------------\n",
      "Detector information\n",
      "\n",
      "Stats:\n",
      "  - Tiles:  5824\n",
      "    -> misal:  False\n",
      "  - Pixel Modules:  2844\n",
      "  - Loaded Runs (Tiles):  []\n",
      "  - Loaded Runs (Pixel):  []\n",
      "------------------------------\n"
     ]
    }
   ],
   "source": [
    "mu3e_detector = Detector.initFromROOT(filename_sorted)"
   ]
  },
  {
   "cell_type": "code",
   "execution_count": 4,
   "id": "d150fa76",
   "metadata": {},
   "outputs": [
    {
     "name": "stdout",
     "output_type": "stream",
     "text": [
      "Detector(TileDetector=<melp.src.tile.TileDetector object at 0x7f0297d60370>, SensorModules=<melp.src.sensor.SensorModule object at 0x7f0295ef2130>))\n"
     ]
    }
   ],
   "source": [
    "melp.select(mu3e_detector)\n",
    "print(mu3e_detector)"
   ]
  },
  {
   "cell_type": "code",
   "execution_count": 5,
   "id": "5f055875",
   "metadata": {},
   "outputs": [
    {
     "name": "stdout",
     "output_type": "stream",
     "text": [
      "------------------------------\n",
      "Detector information\n",
      "\n",
      "Stats:\n",
      "  - Tiles:  5824\n",
      "    -> misal:  False\n",
      "  - Pixel Modules:  2844\n",
      "  - Loaded Runs (Tiles):  [1]\n",
      "  - Loaded Runs (Pixel):  []\n",
      "------------------------------\n"
     ]
    }
   ],
   "source": [
    "melp.addTileHits(\"./testdata/sorted/sorted1.root\", truth=False, traj=False)\n",
    "mu3e_detector.info()"
   ]
  },
  {
   "cell_type": "code",
   "execution_count": 6,
   "id": "564fe951",
   "metadata": {},
   "outputs": [],
   "source": [
    "#select frame to analyze\n",
    "frame_used = 30\n",
    "ttree_mu3e.GetEntry(frame_used)\n",
    "ttree_mu3e_big.GetEntry(frame_used)\n",
    "\n",
    "#build masks (and deconstruct them into arrays)\n",
    "#masks = sclump.build_mask_detector_class(filename_sorted, frame_used, mu3e_detector, mask_type = \"big\")\n",
    "masks = sclump.build_mask_around_cluster_master(ttree_mu3e, ttree_mu3e_mc, ttree_sensor, ttree_tiles, mu3e_detector, frame_used, mask_type = \"big\", rec_type = \"pixelpixel\")\n",
    "\n",
    "keys = []\n",
    "values = []\n",
    "for key in masks.keys():\n",
    "    keys.append(key)\n",
    "    values.append(masks[key])\n",
    "    \n",
    "#mu3e_detector.TileDetector.tile[keys[0]].id\n",
    "#mu3e_detector.TileDetector.tile[keys[0]].hits\n",
    "#print(values[0])"
   ]
  },
  {
   "cell_type": "code",
   "execution_count": 7,
   "id": "06e5be22",
   "metadata": {},
   "outputs": [
    {
     "ename": "IndexError",
     "evalue": "list index out of range",
     "output_type": "error",
     "traceback": [
      "\u001b[0;31m---------------------------------------------------------------------------\u001b[0m",
      "\u001b[0;31mIndexError\u001b[0m                                Traceback (most recent call last)",
      "\u001b[0;32m/tmp/ipykernel_8544/116098323.py\u001b[0m in \u001b[0;36m<module>\u001b[0;34m\u001b[0m\n\u001b[1;32m     94\u001b[0m \u001b[0mcluster_grid\u001b[0m \u001b[0;34m=\u001b[0m \u001b[0mnp\u001b[0m\u001b[0;34m.\u001b[0m\u001b[0mzeros\u001b[0m\u001b[0;34m(\u001b[0m\u001b[0;34m(\u001b[0m\u001b[0;36m52\u001b[0m\u001b[0;34m,\u001b[0m\u001b[0;36m56\u001b[0m\u001b[0;34m)\u001b[0m\u001b[0;34m)\u001b[0m\u001b[0;34m\u001b[0m\u001b[0;34m\u001b[0m\u001b[0m\n\u001b[1;32m     95\u001b[0m \u001b[0;31m#clusters = sclump.build_clusters_in_masks(ttree_mu3e, ttree_mu3e_mc, ttree_sensor, ttree_tiles, mu3e_detector,frame_used, mask_type = \"big\", rec_type = \"pixelpixel\")\u001b[0m\u001b[0;34m\u001b[0m\u001b[0;34m\u001b[0m\u001b[0;34m\u001b[0m\u001b[0m\n\u001b[0;32m---> 96\u001b[0;31m \u001b[0mclusters\u001b[0m \u001b[0;34m=\u001b[0m \u001b[0mtclump\u001b[0m\u001b[0;34m.\u001b[0m\u001b[0mtime_clustering_frame\u001b[0m\u001b[0;34m(\u001b[0m\u001b[0mttree_mu3e\u001b[0m\u001b[0;34m)\u001b[0m\u001b[0;34m\u001b[0m\u001b[0;34m\u001b[0m\u001b[0m\n\u001b[0m\u001b[1;32m     97\u001b[0m \u001b[0;34m\u001b[0m\u001b[0m\n\u001b[1;32m     98\u001b[0m \u001b[0mwhole_clusters\u001b[0m \u001b[0;34m=\u001b[0m \u001b[0;34m[\u001b[0m\u001b[0;34m]\u001b[0m\u001b[0;34m\u001b[0m\u001b[0;34m\u001b[0m\u001b[0m\n",
      "\u001b[0;32m~/GitHub/melp/melp/clustering/time_cluster.py\u001b[0m in \u001b[0;36mtime_clustering_frame\u001b[0;34m(ttree_mu3e)\u001b[0m\n\u001b[1;32m     40\u001b[0m                     \u001b[0mhit_times_frame_arr\u001b[0m\u001b[0;34m.\u001b[0m\u001b[0mremove\u001b[0m\u001b[0;34m(\u001b[0m\u001b[0mhit_times_frame_arr\u001b[0m\u001b[0;34m[\u001b[0m\u001b[0mj\u001b[0m\u001b[0;34m]\u001b[0m\u001b[0;34m)\u001b[0m\u001b[0;34m\u001b[0m\u001b[0;34m\u001b[0m\u001b[0m\n\u001b[1;32m     41\u001b[0m             \u001b[0mj\u001b[0m \u001b[0;34m+=\u001b[0m \u001b[0;36m1\u001b[0m\u001b[0;34m\u001b[0m\u001b[0;34m\u001b[0m\u001b[0m\n\u001b[0;32m---> 42\u001b[0;31m         \u001b[0mtime_clusters\u001b[0m\u001b[0;34m[\u001b[0m\u001b[0mhit_tiles_frame_arr\u001b[0m\u001b[0;34m[\u001b[0m\u001b[0mi\u001b[0m\u001b[0;34m]\u001b[0m\u001b[0;34m]\u001b[0m \u001b[0;34m=\u001b[0m \u001b[0mtime_cluster_tmp\u001b[0m\u001b[0;34m\u001b[0m\u001b[0;34m\u001b[0m\u001b[0m\n\u001b[0m\u001b[1;32m     43\u001b[0m         \u001b[0;31m#prevent double assignments\u001b[0m\u001b[0;34m\u001b[0m\u001b[0;34m\u001b[0m\u001b[0;34m\u001b[0m\u001b[0m\n\u001b[1;32m     44\u001b[0m         \u001b[0;32mif\u001b[0m \u001b[0;34m[\u001b[0m\u001b[0mhit_tiles_frame_arr\u001b[0m\u001b[0;34m[\u001b[0m\u001b[0mi\u001b[0m\u001b[0;34m]\u001b[0m\u001b[0;34m,\u001b[0m \u001b[0mhit_times_frame_arr\u001b[0m\u001b[0;34m[\u001b[0m\u001b[0mi\u001b[0m\u001b[0;34m]\u001b[0m\u001b[0;34m]\u001b[0m \u001b[0;32min\u001b[0m \u001b[0mtime_cluster_tmp\u001b[0m\u001b[0;34m:\u001b[0m\u001b[0;34m\u001b[0m\u001b[0;34m\u001b[0m\u001b[0m\n",
      "\u001b[0;31mIndexError\u001b[0m: list index out of range"
     ]
    },
    {
     "data": {
      "image/png": "[encoded data removed]",
      "text/plain": [
       "<Figure size 1440x1440 with 4 Axes>"
      ]
     },
     "metadata": {
      "needs_background": "light"
     },
     "output_type": "display_data"
    }
   ],
   "source": [
    "grid = np.zeros((52,56))\n",
    "\n",
    "#Choose if a single hit is plotted of all hits in frame (True, False)\n",
    "all_hits = True\n",
    "\n",
    "#If single hit is chosen. Choose hit to plot\n",
    "single_hit = 1\n",
    "\n",
    "#add hits in frame\n",
    "if all_hits == True:\n",
    "    for tile_id in mu3e_detector.TileDetector.tile:\n",
    "        if tile_id < 300000:\n",
    "            tile = mu3e_detector.TileDetector.tile[tile_id]\n",
    "            for hits in tile.hits:\n",
    "                if hits.frame_id in [frame_used]:\n",
    "                    y = tile.row()\n",
    "                    x = tile.column()\n",
    "                    grid[x][y] += 1\n",
    "\n",
    "#add masks\n",
    "if all_hits == True:\n",
    "    for i in range(len(values)):\n",
    "        for mask_tile in values[i]:\n",
    "            tile = mu3e_detector.TileDetector.tile[mask_tile]\n",
    "            if mask_tile < 300000:\n",
    "                y = tile.row()\n",
    "                x = tile.column()\n",
    "                grid[x][y] += 1\n",
    "\n",
    "        #add centre a second and third time      \n",
    "        if keys[i] < 300000:\n",
    "            tile = mu3e_detector.TileDetector.tile[keys[i]]\n",
    "            y = tile.row()\n",
    "            x = tile.column()\n",
    "            grid[x][y] += 2\n",
    "                     \n",
    "if all_hits == False:\n",
    "    for mask_tile in values[single_hit]:\n",
    "        tile = mu3e_detector.TileDetector.tile[mask_tile]\n",
    "        if mask_tile < 300000:\n",
    "            y = tile.row()\n",
    "            x = tile.column()\n",
    "            grid[x][y] += 1\n",
    "\n",
    "    #add centre a second and third time      \n",
    "    if keys[single_hit] < 300000:\n",
    "        tile = mu3e_detector.TileDetector.tile[keys[single_hit]]\n",
    "        y = tile.row()\n",
    "        x = tile.column()\n",
    "        grid[x][y] += 2\n",
    "                \n",
    "fig, ax = plt.subplots(2,2, figsize=(20,20))\n",
    "#heatplot_mask = ax.imshow(mask_grid.T, cmap='binary')\n",
    "heatplot = ax[0,0].imshow(grid.T, cmap='PuBuGn')\n",
    "#ax.grid(which='minor', color='b', linestyle='-', linewidth=1)\n",
    "ax[0,0].hlines(y=np.arange(0, 56)+0.5, xmin=-0.5, xmax=51.5, color=\"black\", linewidth = 0.5)\n",
    "ax[0,0].vlines(x=np.arange(0, 52)+0.5, ymin=-0.5, ymax=55.5, color=\"black\", linewidth = 0.5)\n",
    "ax[0,0].set_title(\"With Masks\")\n",
    "ax[0,0].set_xlabel(\"z\")\n",
    "ax[0,0].set_ylabel(\"phi\")\n",
    "\n",
    "\n",
    "#plot reference\n",
    "ref_grid = np.zeros((52,56))\n",
    "for tile_id in mu3e_detector.TileDetector.tile:\n",
    "    if tile_id < 300000:\n",
    "        tile = mu3e_detector.TileDetector.tile[tile_id]\n",
    "        for hits in tile.hits:\n",
    "            if hits.frame_id in [frame_used]:\n",
    "                y = tile.row()\n",
    "                x = tile.column()\n",
    "                ref_grid[x][y] += 1\n",
    "                \n",
    "#plot primary hits into reference plot(truth)\n",
    "cluster_primary = get_cluster_primary_truth_frame(ttree_mu3e, ttree_mu3e_mc, frame_used)  \n",
    "    \n",
    "for i in range(len(cluster_primary)):\n",
    "    primary = mu3e_detector.TileDetector.tile[cluster_primary[i]]\n",
    "    if primary.id < 300000:\n",
    "        y = primary.row()\n",
    "        x = primary.column()\n",
    "        ref_grid[x][y] += 1\n",
    "                \n",
    "                \n",
    "heatplot = ax[0,1].imshow(ref_grid.T, cmap='binary')\n",
    "#ax.grid(which='minor', color='b', linestyle='-', linewidth=1)\n",
    "ax[0,1].hlines(y=np.arange(0, 56)+0.5, xmin=-0.5, xmax=51.5, color=\"black\", linewidth = 0.5)\n",
    "ax[0,1].vlines(x=np.arange(0, 52)+0.5, ymin=-0.5, ymax=55.5, color=\"black\", linewidth = 0.5)\n",
    "ax[0,1].set_title(\"Only Hits\")\n",
    "ax[0,1].set_xlabel(\"z\")\n",
    "ax[0,1].set_ylabel(\"phi\")\n",
    "\n",
    "#plot clusters\n",
    "cluster_grid = np.zeros((52,56))\n",
    "#clusters = sclump.build_clusters_in_masks(ttree_mu3e, ttree_mu3e_mc, ttree_sensor, ttree_tiles, mu3e_detector,frame_used, mask_type = \"big\", rec_type = \"pixelpixel\")\n",
    "clusters = tclump.time_clustering_frame(ttree_mu3e)\n",
    "\n",
    "whole_clusters = []\n",
    "for key in clusters.keys():\n",
    "    whole_cluster_tmp = []\n",
    "    #whole_cluster_tmp.append(key)\n",
    "    for i in clusters[key]:\n",
    "        whole_cluster_tmp.append(i[0]) \n",
    "    whole_clusters.append(whole_cluster_tmp)\n",
    "        \n",
    "color_cluster = 1\n",
    "for i in range(len(clusters)):\n",
    "    color_cluster += 1\n",
    "    for cluster_tile in whole_clusters[i]:\n",
    "        tile = mu3e_detector.TileDetector.tile[cluster_tile] \n",
    "        if cluster_tile < 300000:\n",
    "            y = tile.row()\n",
    "            x = tile.column()\n",
    "            cluster_grid[x][y] += color_cluster\n",
    "        else:\n",
    "            color_cluster -= 1\n",
    "            \n",
    "for x in range(np.shape(cluster_grid)[0]):\n",
    "        for y in range(np.shape(cluster_grid)[1]):\n",
    "            if cluster_grid[x][y] != 0:\n",
    "                pass\n",
    "                #print(cluster_grid[x][y])\n",
    "\n",
    "rainbow = cm.get_cmap('gist_rainbow',  int(np.max(cluster_grid)))\n",
    "newcolors = rainbow(np.linspace(0, 1,  int(np.max(cluster_grid))))\n",
    "white = np.array([1, 1, 1, 1])\n",
    "newcolors[:1, :] = white\n",
    "newcmp = ListedColormap(newcolors)\n",
    "\n",
    "colors = newcmp(np.linspace(0, 1, int(np.max(cluster_grid))+3)) \n",
    "for i in range(int(np.max(cluster_grid))+3):\n",
    "    for x in range(np.shape(cluster_grid)[0]):\n",
    "        for y in range(np.shape(cluster_grid)[1]):\n",
    "            if cluster_grid[x][y] == i and i > 0:\n",
    "                  ax[1,0].scatter(x, y, color = colors[i], marker = \"s\", s = 64)\n",
    "\n",
    "\n",
    "#scatter biggest cluster\n",
    "cluster_len = []\n",
    "keys_biggest = []\n",
    "for key in clusters.keys():\n",
    "    cluster_len.append(len(clusters[key]))\n",
    "    keys_biggest.append(key)\n",
    "index_biggest_cluster = np.where(cluster_len == np.max(cluster_len))[0][0]\n",
    "biggest_cluster = clusters[keys_biggest[index_biggest_cluster]]\n",
    "for tile2 in biggest_cluster:\n",
    "    tile_det = mu3e_detector.TileDetector.tile[tile2[0]] \n",
    "    if tile2[0] < 300000:\n",
    "        y = tile_det.row()\n",
    "        x = tile_det.column()\n",
    "        ax[1,0].scatter(x, y, color = \"b\", marker = \"o\", s = 32)\n",
    "\n",
    "                \n",
    "ax[1,0].hlines(y=np.arange(0, 56)+0.5, xmin=-0.5, xmax=51.5, color=\"black\", linewidth = 0.5)\n",
    "ax[1,0].vlines(x=np.arange(0, 52)+0.5, ymin=-0.5, ymax=55.5, color=\"black\", linewidth = 0.5)\n",
    "ax[1,0].set_title(\"Clusters\")\n",
    "ax[1,0].set_xlabel(\"z\")\n",
    "ax[1,0].set_ylabel(\"phi\")\n",
    "ax[1,0].set_xlim(-0.5,51.5)\n",
    "ax[1,0].set_ylim(-0.5,55.5)\n",
    "ax[1,0].invert_yaxis()\n",
    "\n",
    "#cluster_numbers = []\n",
    "#for x in range(np.shape(cluster_grid)[0]):\n",
    "#    for y in range(np.shape(cluster_grid)[1]):\n",
    "#        if cluster_grid[x][y] != 0:\n",
    "#            cluster_numbers.append(cluster_grid[x][y])\n",
    "#print(np.sort(cluster_numbers))                "
   ]
  },
  {
   "cell_type": "code",
   "execution_count": null,
   "id": "6ba6ed9d",
   "metadata": {},
   "outputs": [],
   "source": [
    "time_spatial_clusters = tclump.add_hit_time_to_cluster(ttree_mu3e, ttree_mu3e_mc, ttree_sensor, ttree_tiles,  mu3e_detector, frame_used, mask_type = \"big\", rec_type = None)"
   ]
  },
  {
   "cell_type": "code",
   "execution_count": null,
   "id": "80888770",
   "metadata": {},
   "outputs": [],
   "source": [
    "#print(time_spatial_clusters)"
   ]
  },
  {
   "cell_type": "code",
   "execution_count": null,
   "id": "d911074e",
   "metadata": {},
   "outputs": [],
   "source": [
    "time_clusters = tclump.time_clustering_frame(ttree_mu3e)"
   ]
  },
  {
   "cell_type": "code",
   "execution_count": null,
   "id": "5668db52",
   "metadata": {},
   "outputs": [],
   "source": [
    "print(time_clusters)"
   ]
  },
  {
   "cell_type": "code",
   "execution_count": null,
   "id": "4a519f3f",
   "metadata": {},
   "outputs": [],
   "source": [
    "cluster_len = []\n",
    "keys = []\n",
    "for key in time_clusters.keys():\n",
    "    cluster_len.append(len(time_clusters[key]))\n",
    "    keys.append(key)\n",
    "    \n",
    "print(np.where(cluster_len == np.max(cluster_len))[0][0])\n",
    "print(time_clusters[keys[4]])\n",
    "print(np.sum(cluster_len))"
   ]
  },
  {
   "cell_type": "code",
   "execution_count": null,
   "id": "57188f7a",
   "metadata": {},
   "outputs": [],
   "source": []
  }
 ],
 "metadata": {
  "kernelspec": {
   "display_name": "Python 3 (ipykernel)",
   "language": "python",
   "name": "python3"
  },
  "language_info": {
   "codemirror_mode": {
    "name": "ipython",
    "version": 3
   },
   "file_extension": ".py",
   "mimetype": "text/x-python",
   "name": "python",
   "nbconvert_exporter": "python",
   "pygments_lexer": "ipython3",
   "version": "3.8.10"
  }
 },
 "nbformat": 4,
 "nbformat_minor": 5
}
