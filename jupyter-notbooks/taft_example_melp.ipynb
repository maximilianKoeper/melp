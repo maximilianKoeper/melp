{
 "cells": [
  {
   "cell_type": "code",
   "execution_count": 1,
   "id": "e25baa6f",
   "metadata": {},
   "outputs": [
    {
     "name": "stdout",
     "output_type": "stream",
     "text": [
      "/home/maximilian/Github/melp\n"
     ]
    }
   ],
   "source": [
    "%cd .."
   ]
  },
  {
   "cell_type": "code",
   "execution_count": 2,
   "id": "3d7f7973",
   "metadata": {},
   "outputs": [
    {
     "name": "stdout",
     "output_type": "stream",
     "text": [
      "Welcome to JupyROOT 6.24/06\n"
     ]
    }
   ],
   "source": [
    "import ROOT\n",
    "import numpy as np\n",
    "import matplotlib.pyplot as plt \n",
    "from matplotlib.colors import LogNorm\n",
    "import seaborn as sns"
   ]
  },
  {
   "cell_type": "code",
   "execution_count": 3,
   "id": "96bf68d7",
   "metadata": {},
   "outputs": [],
   "source": [
    "def readROOTFile(filename: str, station: int):\n",
    "    global cluster_dist_tmp\n",
    "    \n",
    "    file = ROOT.TFile(filename)\n",
    "    ttree_mu3e = file.Get(\"mu3e\")\n",
    "    ttree_mu3e_mc = file.Get(\"mu3e_mchits\")\n",
    "    \n",
    "    for frame in range(ttree_mu3e.GetEntries()):\n",
    "        ttree_mu3e.GetEntry(frame)\n",
    "        #tilehits = ttree_mu3e.tilehit_tile\n",
    "        #tilehits_primaries = ttree_mu3e.tilehit_primary\n",
    "\n",
    "        indices = np.argsort(list(ttree_mu3e.tilehit_primary))\n",
    "        tilehit_ids = np.asarray(list(ttree_mu3e.tilehit_tile))[indices]\n",
    "        tilehit_primaries = np.asarray(list(ttree_mu3e.tilehit_primary))[indices]\n",
    "        tilehit_mc_i = np.asarray(list(ttree_mu3e.tilehit_mc_i))[indices]\n",
    "\n",
    "        tilehit_hid = []\n",
    "        for i in range(len(tilehit_mc_i)):\n",
    "            mc_i = tilehit_mc_i[i]\n",
    "            ttree_mu3e_mc.GetEntry(mc_i)\n",
    "            tilehit_hid.append(ttree_mu3e_mc.hid)\n",
    "        tilehit_hid = np.asarray(tilehit_hid)\n",
    "\n",
    "\n",
    "\n",
    "\n",
    "\n",
    "\n",
    "\n",
    "\n",
    "        if len(tilehit_primaries) == 0:\n",
    "            continue\n",
    "\n",
    "        single_events = {}\n",
    "\n",
    "        tmp_primary_reference = tilehit_primaries[0]\n",
    "        index_start_track = 0\n",
    "        for index in range(len(tilehit_ids)):\n",
    "            if tilehit_primaries[index] != tmp_primary_reference:\n",
    "                single_events[index] = [tilehit_ids[index_start_track:index], tilehit_hid[index_start_track:index]]\n",
    "                index_start_track = index\n",
    "                tmp_primary_reference = tilehit_primaries[index]\n",
    "\n",
    "        # fill up remaining event\n",
    "        if index_start_track != len(tilehit_ids):\n",
    "            single_events[len(tilehit_ids)] = [tilehit_ids[index_start_track:], tilehit_hid[index_start_track:]]\n",
    "\n",
    "        # delete mismatched keys and hits without clusters\n",
    "        keys_to_delete = []\n",
    "        for key in single_events:\n",
    "            if len(single_events[key][0]) == 1:\n",
    "                keys_to_delete.append(key)\n",
    "            elif any(single_events[key][0] < 300000) and station == 300000:\n",
    "                keys_to_delete.append(key)\n",
    "            elif any(single_events[key][0] >= 300000) and station == 200000:\n",
    "                keys_to_delete.append(key)\n",
    "\n",
    "\n",
    "        for key in keys_to_delete:\n",
    "            del single_events[key]\n",
    "\n",
    "        for entry in single_events:\n",
    "            indices = np.argsort(single_events[entry][1])\n",
    "            single_events[entry][0] = single_events[entry][0][indices]\n",
    "            #single_events[entry][1] = single_events[entry][1][indices]\n",
    "\n",
    "\n",
    "            single_events[entry][0] -= single_events[entry][0][0]\n",
    "            \n",
    "            #do not include clusters in statistics if we cant display them and they are unrealistic\n",
    "            single_events[entry][0] = [x for x in single_events[entry][0] if abs(x) < 172]\n",
    "            if len(single_events[entry][0]) > 1:\n",
    "                cluster_dist_tmp += list(single_events[entry][0])"
   ]
  },
  {
   "cell_type": "code",
   "execution_count": 4,
   "id": "558db4cd",
   "metadata": {},
   "outputs": [],
   "source": [
    "filenames = [\"run42_20000.root\", \"mu3e_run_000133_sorted_truth.root\", \"mu3e_run_000134_sorted_truth.root\", \"mu3e_run_000135_sorted_truth.root\"]\n",
    "cluster_dist_tmp = []\n",
    "\n",
    "for filename in filenames:\n",
    "    readROOTFile(filename, station=300000)"
   ]
  },
  {
   "cell_type": "code",
   "execution_count": 5,
   "id": "8c6089b2",
   "metadata": {},
   "outputs": [],
   "source": [
    "# not pretty but functional\n",
    "\n",
    "cluster_distribution_upstream = np.zeros((7,7))\n",
    "for hit in cluster_dist_tmp:\n",
    "    if hit == 0:\n",
    "        cluster_distribution_upstream[3][3] += 1\n",
    "    elif hit == 1:\n",
    "        cluster_distribution_upstream[2][3] += 1\n",
    "    elif hit == 2:\n",
    "        cluster_distribution_upstream[1][3] += 1\n",
    "    elif hit == 3:\n",
    "        cluster_distribution_upstream[0][3] += 1\n",
    "    elif hit == -1:\n",
    "        cluster_distribution_upstream[4][3] += 1\n",
    "    elif hit == -2:\n",
    "        cluster_distribution_upstream[5][3] += 1\n",
    "    elif hit == -3:\n",
    "        cluster_distribution_upstream[6][3] += 1\n",
    "\n",
    "        \n",
    "    elif hit == 56:\n",
    "        cluster_distribution_upstream[3][4] += 1\n",
    "    elif hit == 57:\n",
    "        cluster_distribution_upstream[2][4] += 1\n",
    "    elif hit == 58:\n",
    "        cluster_distribution_upstream[1][4] += 1\n",
    "    elif hit == 59:\n",
    "        cluster_distribution_upstream[0][4] += 1\n",
    "    elif hit == 55:\n",
    "        cluster_distribution_upstream[4][4] += 1\n",
    "    elif hit == 54:\n",
    "        cluster_distribution_upstream[5][4] += 1\n",
    "    elif hit == 53:\n",
    "        cluster_distribution_upstream[6][4] += 1\n",
    "        \n",
    "    elif hit == 56+56:\n",
    "        cluster_distribution_upstream[3][5] += 1\n",
    "    elif hit == 57+56:\n",
    "        cluster_distribution_upstream[2][5] += 1\n",
    "    elif hit == 58+56:\n",
    "        cluster_distribution_upstream[1][5] += 1\n",
    "    elif hit == 59+56:\n",
    "        cluster_distribution_upstream[0][5] += 1\n",
    "    elif hit == 55+56:\n",
    "        cluster_distribution_upstream[4][5] += 1\n",
    "    elif hit == 54+56:\n",
    "        cluster_distribution_upstream[5][5] += 1\n",
    "    elif hit == 53+56:\n",
    "        cluster_distribution_upstream[6][5] += 1\n",
    "\n",
    "    elif hit == 56+2*56:\n",
    "        cluster_distribution_upstream[3][6] += 1\n",
    "    elif hit == 57+2*56:\n",
    "        cluster_distribution_upstream[2][6] += 1\n",
    "    elif hit == 58+2*56:\n",
    "        cluster_distribution_upstream[1][6] += 1\n",
    "    elif hit == 59+2*56:\n",
    "        cluster_distribution_upstream[0][6] += 1\n",
    "    elif hit == 55+2*56:\n",
    "        cluster_distribution_upstream[4][6] += 1\n",
    "    elif hit == 54+2*56:\n",
    "        cluster_distribution_upstream[5][6] += 1\n",
    "    elif hit == 53+2*56:\n",
    "        cluster_distribution_upstream[6][6] += 1\n",
    "        \n",
    "    if hit == 0-56:\n",
    "        cluster_distribution_upstream[3][2] += 1\n",
    "    elif hit == 1-56:\n",
    "        cluster_distribution_upstream[2][2] += 1\n",
    "    elif hit == 2-56:\n",
    "        cluster_distribution_upstream[1][2] += 1\n",
    "    elif hit == 3-56:\n",
    "        cluster_distribution_upstream[0][2] += 1\n",
    "    elif hit == -1-56:\n",
    "        cluster_distribution_upstream[4][2] += 1\n",
    "    elif hit == -2-56:\n",
    "        cluster_distribution_upstream[5][2] += 1\n",
    "    elif hit == -3-56:\n",
    "        cluster_distribution_upstream[6][2] += 1\n",
    "        \n",
    "    if hit == 0-2*56:\n",
    "        cluster_distribution_upstream[3][1] += 1\n",
    "    elif hit == 1-2*56:\n",
    "        cluster_distribution_upstream[2][1] += 1\n",
    "    elif hit == 2-2*56:\n",
    "        cluster_distribution_upstream[1][1] += 1\n",
    "    elif hit == 3-2*56:\n",
    "        cluster_distribution_upstream[0][1] += 1\n",
    "    elif hit == -1-2*56:\n",
    "        cluster_distribution_upstream[4][1] += 1\n",
    "    elif hit == -2-2*56:\n",
    "        cluster_distribution_upstream[5][1] += 1\n",
    "    elif hit == -3-2*56:\n",
    "        cluster_distribution_upstream[6][1] += 1\n",
    "        \n",
    "    if hit == 0-3*56:\n",
    "        cluster_distribution_upstream[3][0] += 1\n",
    "    elif hit == 1-3*56:\n",
    "        cluster_distribution_upstream[2][0] += 1\n",
    "    elif hit == 2-3*56:\n",
    "        cluster_distribution_upstream[1][0] += 1\n",
    "    elif hit == 3-3*56:\n",
    "        cluster_distribution_upstream[0][0] += 1\n",
    "    elif hit == -1-3*56:\n",
    "        cluster_distribution_upstream[4][0] += 1\n",
    "    elif hit == -2-3*56:\n",
    "        cluster_distribution_upstream[5][0] += 1\n",
    "    elif hit == -3-3*56:\n",
    "        cluster_distribution_upstream[6][0] += 1"
   ]
  },
  {
   "cell_type": "code",
   "execution_count": 6,
   "id": "0b2b04ef",
   "metadata": {},
   "outputs": [],
   "source": [
    "cluster_distribution_upstream /= cluster_distribution_upstream[3][3]"
   ]
  },
  {
   "cell_type": "code",
   "execution_count": 7,
   "id": "bdb5dff7",
   "metadata": {},
   "outputs": [],
   "source": [
    "mask = np.zeros((7,7))\n",
    "\n",
    "for x in range(7):\n",
    "    for y in range(7):\n",
    "        if cluster_distribution_upstream[x][y] < 0.01:\n",
    "            mask[x][y] = True"
   ]
  },
  {
   "cell_type": "code",
   "execution_count": 8,
   "id": "1e7ebb00",
   "metadata": {},
   "outputs": [
    {
     "data": {
      "text/plain": [
       "array([[1., 1., 1., 1., 1., 1., 1.],\n",
       "       [1., 1., 1., 1., 1., 1., 1.],\n",
       "       [1., 1., 0., 0., 0., 0., 0.],\n",
       "       [1., 1., 0., 0., 0., 0., 0.],\n",
       "       [1., 1., 1., 0., 0., 0., 1.],\n",
       "       [1., 1., 1., 1., 1., 1., 1.],\n",
       "       [1., 1., 1., 1., 1., 1., 1.]])"
      ]
     },
     "execution_count": 8,
     "metadata": {},
     "output_type": "execute_result"
    }
   ],
   "source": [
    "mask"
   ]
  },
  {
   "cell_type": "code",
   "execution_count": 9,
   "id": "b87406d6",
   "metadata": {},
   "outputs": [],
   "source": [
    "#cluster_distribution_upstream = np.delete(cluster_distribution_upstream, 0, 0)\n",
    "#mask = np.delete(mask, 0, 0)\n",
    "\n",
    "#cluster_distribution_upstream = np.delete(cluster_distribution_upstream, -1, 0)\n",
    "#mask = np.delete(mask, -1, 0)\n",
    "\n",
    "#cluster_distribution_upstream = np.delete(cluster_distribution_upstream, -1, 1)\n",
    "#mask = np.delete(mask, -1, 1)"
   ]
  },
  {
   "cell_type": "code",
   "execution_count": 10,
   "id": "0f64f8a4",
   "metadata": {},
   "outputs": [],
   "source": [
    "cluster_distribution_upstream = np.delete(cluster_distribution_upstream, 0, 0)\n",
    "mask = np.delete(mask, 0, 0)\n",
    "\n",
    "cluster_distribution_upstream = np.delete(cluster_distribution_upstream, -1, 0)\n",
    "mask = np.delete(mask, -1, 0)\n",
    "\n",
    "cluster_distribution_upstream = np.delete(cluster_distribution_upstream, 0, 1)\n",
    "mask = np.delete(mask, 0, 1)"
   ]
  },
  {
   "cell_type": "code",
   "execution_count": 19,
   "id": "7b8174d8",
   "metadata": {},
   "outputs": [
    {
     "data": {
      "image/png": "[encoded data removed]",
      "text/plain": [
       "<Figure size 720x720 with 1 Axes>"
      ]
     },
     "metadata": {},
     "output_type": "display_data"
    }
   ],
   "source": [
    "plt.rcParams.update({'font.size': 30})\n",
    "\n",
    "\n",
    "fig = plt.figure(figsize=(10, 10))\n",
    "\n",
    "ax = sns.heatmap(cluster_distribution_upstream, \n",
    "                 cmap=\"magma_r\", \n",
    "                 cbar=False, \n",
    "                 norm=LogNorm(), \n",
    "                 annot=True, \n",
    "                 annot_kws={'fontsize': 15}, \n",
    "                 fmt='.1%',\n",
    "                 square=True,\n",
    "                 xticklabels=False,\n",
    "                 yticklabels=False,\n",
    "                 mask=mask,\n",
    "                 linewidths=2,\n",
    "                 linecolor=\"black\")\n",
    "plt.xlabel(\"z\")\n",
    "plt.ylabel(\"phi\")\n",
    "plt.show()"
   ]
  },
  {
   "cell_type": "code",
   "execution_count": 12,
   "id": "28f48936",
   "metadata": {},
   "outputs": [
    {
     "name": "stdout",
     "output_type": "stream",
     "text": [
      "[[0.001 0.003 0.007 0.01  0.009 0.007]\n",
      " [0.002 0.01  0.188 0.159 0.041 0.016]\n",
      " [0.002 0.023 1.    0.58  0.057 0.016]\n",
      " [0.002 0.007 0.041 0.029 0.014 0.009]\n",
      " [0.002 0.003 0.006 0.007 0.007 0.006]]\n"
     ]
    }
   ],
   "source": [
    "print(np.around(cluster_distribution_upstream,3))"
   ]
  },
  {
   "cell_type": "code",
   "execution_count": null,
   "id": "81b7be7f",
   "metadata": {},
   "outputs": [],
   "source": []
  }
 ],
 "metadata": {
  "kernelspec": {
   "display_name": "Python 3 (ipykernel)",
   "language": "python",
   "name": "python3"
  },
  "language_info": {
   "codemirror_mode": {
    "name": "ipython",
    "version": 3
   },
   "file_extension": ".py",
   "mimetype": "text/x-python",
   "name": "python",
   "nbconvert_exporter": "python",
   "pygments_lexer": "ipython3",
   "version": "3.10.2"
  }
 },
 "nbformat": 4,
 "nbformat_minor": 5
}
