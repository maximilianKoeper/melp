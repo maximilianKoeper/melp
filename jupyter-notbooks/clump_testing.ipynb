{
 "cells": [
  {
   "cell_type": "code",
   "execution_count": 1,
   "metadata": {},
   "outputs": [
    {
     "name": "stdout",
     "output_type": "stream",
     "text": [
      "/home/erik/GitHub/melp\n",
      "Welcome to JupyROOT 6.24/06\n"
     ]
    }
   ],
   "source": [
    "%cd ..\n",
    "import ROOT\n",
    "import numpy as np\n",
    "import matplotlib.pyplot as plt\n",
    "import matplotlib as mpl\n",
    "from melp import Detector\n",
    "import melp\n",
    "import math\n",
    "\n",
    "import melp.clustering as clump\n",
    "\n",
    "from melp.clustering.misc import*\n",
    "\n",
    "#import melp.clustering.time_cluster as tclump\n",
    "#import melp.clustering.spatial_cluster as sclump\n",
    "#import melp.clustering.plots as clump_plt\n",
    "\n",
    "plt.rcParams.update({'font.size': 16})"
   ]
  },
  {
   "cell_type": "code",
   "execution_count": 2,
   "metadata": {},
   "outputs": [],
   "source": [
    "filename_trirec = \"./testdata/trirec/trirec1.root\"\n",
    "filename_sorted = \"./testdata/sorted/sorted1.root\"\n",
    "#filename_sorted_big = \"/home/erik/GitLab_KIP/melp/root_files/big_run_data/sorted1.root\"\n",
    "filename_sorted_big = \"./testdata/sorted/sorted1_big.root\"\n",
    "\n",
    "file = ROOT.TFile(filename_sorted)\n",
    "ttree_mu3e = file.Get(\"mu3e\")\n",
    "ttree_mu3e_mc = file.Get(\"mu3e_mchits\")\n",
    "ttree_sensor = file.Get(\"alignment/sensors\")\n",
    "ttree_tiles = file.Get(\"alignment/tiles\")\n",
    "\n",
    "file_rec = ROOT.TFile(filename_trirec)\n",
    "ttree_trirec = file_rec.Get(\"frames\")\n",
    "ttree_trirec_mc = file_rec.Get(\"frames_mc\")\n",
    "ttree_mu3e_segs = file_rec.Get(\"segs\")\n",
    "\n",
    "file_big = ROOT.TFile(filename_sorted_big)\n",
    "ttree_mu3e_big = file_big.Get(\"mu3e\")\n",
    "ttree_mu3e_mc_big = file_big.Get(\"mu3e_mchits\")\n",
    "ttree_sensor_big = file_big.Get(\"alignment/sensors\")\n",
    "ttree_tiles_big = file_big.Get(\"alignment/tiles\")"
   ]
  },
  {
   "cell_type": "code",
   "execution_count": 3,
   "metadata": {},
   "outputs": [
    {
     "name": "stdout",
     "output_type": "stream",
     "text": [
      "------------------------------\n",
      "Detector information\n",
      "\n",
      "Stats:\n",
      "  - Tiles:  5824\n",
      "    -> misal:  False\n",
      "  - Pixel Modules:  2844\n",
      "  - Loaded Runs (Tiles):  []\n",
      "  - Loaded Runs (Pixel):  []\n",
      "------------------------------\n"
     ]
    }
   ],
   "source": [
    "mu3e_detector = Detector.initFromROOT(filename_sorted)\n",
    "#mu3e_detector = Detector.initFromSave(\"test_detector_file\")"
   ]
  },
  {
   "cell_type": "code",
   "execution_count": 4,
   "metadata": {},
   "outputs": [],
   "source": [
    "#select frame to analyze\n",
    "frame_used = 30\n",
    "ttree_mu3e.GetEntry(frame_used)\n",
    "\n",
    "#build masks (and deconstruct them into arrays)\n",
    "masks, __ = clump.masks.build_mask_around_cluster_master(ttree_mu3e, ttree_mu3e_mc, ttree_sensor, ttree_tiles, mu3e_detector, frame_used, mask_type = \"big\")\n",
    "\n",
    "keys = []\n",
    "values = []\n",
    "for key in masks.keys():\n",
    "    keys.append(key)\n",
    "    values.append(masks[key])"
   ]
  },
  {
   "cell_type": "code",
   "execution_count": 5,
   "metadata": {},
   "outputs": [],
   "source": [
    "clusters = clump.spatial_cluster.build_clusters_in_masks(ttree_mu3e, ttree_mu3e_mc, ttree_sensor, ttree_tiles,  mu3e_detector, frame_used, mask_type = \"big\", rec_type = None)"
   ]
  },
  {
   "cell_type": "code",
   "execution_count": 6,
   "metadata": {},
   "outputs": [
    {
     "name": "stdout",
     "output_type": "stream",
     "text": [
      "Cluster(id=300460, frame_id=30, master_id=300460, master_primary=56141, hits=[ClusterHit(tile_id=300516, frame_id=30, primary=56141, time=6988.590792458939), ClusterHit(tile_id=300460, frame_id=30, primary=56141, time=6988.686382248762)])\n"
     ]
    }
   ],
   "source": [
    "print(clusters[0])"
   ]
  },
  {
   "cell_type": "code",
   "execution_count": 7,
   "metadata": {},
   "outputs": [
    {
     "data": {
      "text/plain": [
       "[300516, 300460]"
      ]
     },
     "execution_count": 7,
     "metadata": {},
     "output_type": "execute_result"
    }
   ],
   "source": [
    "clusters[0].get_tile_ids()"
   ]
  },
  {
   "cell_type": "code",
   "execution_count": 8,
   "metadata": {},
   "outputs": [
    {
     "data": {
      "text/plain": [
       "[56141, 56141]"
      ]
     },
     "execution_count": 8,
     "metadata": {},
     "output_type": "execute_result"
    }
   ],
   "source": [
    "clusters[0].get_primaries()"
   ]
  },
  {
   "cell_type": "code",
   "execution_count": 9,
   "metadata": {},
   "outputs": [
    {
     "data": {
      "text/plain": [
       "[6988.590792458939, 6988.686382248762]"
      ]
     },
     "execution_count": 9,
     "metadata": {},
     "output_type": "execute_result"
    }
   ],
   "source": [
    "clusters[0].get_times()"
   ]
  },
  {
   "cell_type": "code",
   "execution_count": 10,
   "metadata": {},
   "outputs": [],
   "source": [
    "clusters3 = clump.three_frame_cluster.build_clusters_in_masks_with_neighbours(ttree_mu3e, ttree_mu3e_mc, ttree_sensor, ttree_tiles,  mu3e_detector, frame_used, mask_type = \"big\", rec_type = None)"
   ]
  },
  {
   "cell_type": "code",
   "execution_count": 11,
   "metadata": {},
   "outputs": [
    {
     "name": "stdout",
     "output_type": "stream",
     "text": [
      "[Cluster(id=202890, frame_id=30, master_id=202890, master_primary=-48223, hits=[ClusterHit(tile_id=202890, frame_id=30, primary=-14701, time=-1), ClusterHit(tile_id=202778, frame_id=30, primary=-30340, time=6981.708047263179)]), Cluster(id=300460, frame_id=30, master_id=300460, master_primary=-48223, hits=[ClusterHit(tile_id=300460, frame_id=30, primary=56141, time=-1), ClusterHit(tile_id=300516, frame_id=30, primary=56141, time=6988.590792458939)]), Cluster(id=201644, frame_id=30, master_id=201644, master_primary=-48223, hits=[ClusterHit(tile_id=201644, frame_id=30, primary=-48223, time=-1), ClusterHit(tile_id=201588, frame_id=30, primary=-48223, time=7011.085776711903)]), Cluster(id=201855, frame_id=30, master_id=201855, master_primary=-48223, hits=[ClusterHit(tile_id=201855, frame_id=30, primary=4389, time=-1), ClusterHit(tile_id=201743, frame_id=30, primary=4389, time=6988.092201382493)]), Cluster(id=201855, frame_id=30, master_id=201855, master_primary=-48223, hits=[ClusterHit(tile_id=201855, frame_id=30, primary=4389, time=-1), ClusterHit(tile_id=201799, frame_id=30, primary=4389, time=6988.20481759779)]), Cluster(id=202890, frame_id=30, master_id=202890, master_primary=-48223, hits=[ClusterHit(tile_id=202890, frame_id=30, primary=-14701, time=-1), ClusterHit(tile_id=202779, frame_id=30, primary=30340, time=6981.767852457094)]), Cluster(id=202856, frame_id=30, master_id=202856, master_primary=-48223, hits=[ClusterHit(tile_id=202856, frame_id=30, primary=-52493, time=-1), ClusterHit(tile_id=202744, frame_id=30, primary=-52493, time=7034.646997290063)]), Cluster(id=202856, frame_id=30, master_id=202856, master_primary=-48223, hits=[ClusterHit(tile_id=202856, frame_id=30, primary=-52493, time=-1), ClusterHit(tile_id=202800, frame_id=30, primary=-37073, time=7034.724995948659)]), Cluster(id=300460, frame_id=30, master_id=300460, master_primary=56141, hits=[ClusterHit(tile_id=300460, frame_id=30, primary=56141, time=-1)]), Cluster(id=201855, frame_id=30, master_id=201855, master_primary=4389, hits=[ClusterHit(tile_id=201855, frame_id=30, primary=4389, time=-1)]), Cluster(id=202890, frame_id=30, master_id=202890, master_primary=-14701, hits=[ClusterHit(tile_id=202890, frame_id=30, primary=-14701, time=-1)]), Cluster(id=201045, frame_id=30, master_id=201045, master_primary=53845, hits=[ClusterHit(tile_id=201045, frame_id=30, primary=53845, time=-1)]), Cluster(id=202856, frame_id=30, master_id=202856, master_primary=-52493, hits=[ClusterHit(tile_id=202856, frame_id=30, primary=-52493, time=-1)]), Cluster(id=201644, frame_id=30, master_id=201644, master_primary=-48223, hits=[ClusterHit(tile_id=201644, frame_id=30, primary=-48223, time=-1)])]\n"
     ]
    }
   ],
   "source": [
    "print(clusters3)"
   ]
  },
  {
   "cell_type": "code",
   "execution_count": 12,
   "metadata": {},
   "outputs": [
    {
     "data": {
      "text/plain": [
       "Cluster(id=202890, frame_id=30, master_id=202890, master_primary=-48223, hits=[ClusterHit(tile_id=202890, frame_id=30, primary=-14701, time=-1), ClusterHit(tile_id=202778, frame_id=30, primary=-30340, time=6981.708047263179)])"
      ]
     },
     "execution_count": 12,
     "metadata": {},
     "output_type": "execute_result"
    }
   ],
   "source": [
    "clusters3[0]"
   ]
  },
  {
   "cell_type": "code",
   "execution_count": 13,
   "metadata": {},
   "outputs": [
    {
     "name": "stdout",
     "output_type": "stream",
     "text": [
      "[202890, 202778]\n",
      "[300460, 300516]\n",
      "[201644, 201588]\n",
      "[201855, 201743]\n",
      "[201855, 201799]\n",
      "[202890, 202779]\n",
      "[202856, 202744]\n",
      "[202856, 202800]\n",
      "[300460]\n",
      "[201855]\n",
      "[202890]\n",
      "[201045]\n",
      "[202856]\n",
      "[201644]\n"
     ]
    }
   ],
   "source": [
    "for i in range(len(clusters3)):\n",
    "    print(clusters3[i].get_tile_ids())"
   ]
  },
  {
   "cell_type": "code",
   "execution_count": 14,
   "metadata": {},
   "outputs": [
    {
     "data": {
      "text/plain": [
       "Cluster(id=202856, frame_id=30, master_id=202856, master_primary=-48223, hits=[ClusterHit(tile_id=202856, frame_id=30, primary=-52493, time=-1), ClusterHit(tile_id=202744, frame_id=30, primary=-52493, time=7034.646997290063)])"
      ]
     },
     "execution_count": 14,
     "metadata": {},
     "output_type": "execute_result"
    }
   ],
   "source": [
    "clusters3[6]"
   ]
  },
  {
   "cell_type": "code",
   "execution_count": 15,
   "metadata": {},
   "outputs": [
    {
     "name": "stdout",
     "output_type": "stream",
     "text": [
      "Progress: 100 % of  1000  frames\n",
      "Hits in cluster in different frame than master out of all hits in clusters:  4.253587808847462 %\n"
     ]
    }
   ],
   "source": [
    "frac_mult_frame_cluster_hits, total_cluster_hits_counter, mult_frame_cluster_hits_counter = clump.three_frame_cluster.check_for_multiple_frame_clusters(ttree_mu3e_big, ttree_mu3e_mc_big, ttree_sensor_big, ttree_tiles_big, mu3e_detector, mask_type = \"big\", number_of_frames = 1000, rec_type = None)"
   ]
  },
  {
   "cell_type": "code",
   "execution_count": 16,
   "metadata": {},
   "outputs": [
    {
     "name": "stdout",
     "output_type": "stream",
     "text": [
      "Progress: 100 % of  1000  frames\n"
     ]
    }
   ],
   "source": [
    "double_hit_counter, total_cluster_hits_counter = clump.three_frame_cluster.check_for_mult_hit_tiles_diff_frame(ttree_mu3e_big, ttree_mu3e_mc_big, ttree_sensor_big, ttree_tiles_big, mu3e_detector, mask_type = \"big\", number_of_frames = 1000, rec_type = None)"
   ]
  },
  {
   "cell_type": "code",
   "execution_count": 18,
   "metadata": {},
   "outputs": [
    {
     "name": "stdout",
     "output_type": "stream",
     "text": [
      "Progress of building dictionary with all hits: 100 % of  10000  framesmes\n",
      "cluster:  2 \n",
      "\n",
      "hits:  2 \n",
      "\n",
      "cluster:  2 \n",
      "\n",
      "hits:  2 \n",
      "\n",
      "cluster:  2 \n",
      "\n",
      "hits:  2 \n",
      "\n",
      "cluster:  2 \n",
      "\n",
      "hits:  2 \n",
      "\n",
      "cluster:  2 \n",
      "\n",
      "hits:  2 \n",
      "\n",
      "cluster:  2 \n",
      "\n",
      "hits:  2 \n",
      "\n",
      "cluster:  2 \n",
      "\n",
      "hits:  2 \n",
      "\n",
      "cluster:  3 \n",
      "\n",
      "hits:  3 \n",
      "\n",
      "cluster:  3 \n",
      "\n",
      "hits:  3 \n",
      "\n",
      "cluster:  3 \n",
      "\n",
      "hits:  3 \n",
      "\n",
      "cluster:  3 \n",
      "\n",
      "hits:  3 \n",
      "\n",
      "cluster:  3 \n",
      "\n",
      "hits:  3 \n",
      "\n",
      "cluster:  3 \n",
      "\n",
      "hits:  3 \n",
      "\n",
      "cluster:  3 \n",
      "\n",
      "hits:  3 \n",
      "\n",
      "cluster:  3 \n",
      "\n",
      "hits:  3 \n",
      "\n",
      "cluster:  3 \n",
      "\n",
      "hits:  3 \n",
      "\n",
      "cluster:  3 \n",
      "\n",
      "hits:  3 \n",
      "\n",
      "cluster:  3 \n",
      "\n",
      "hits:  3 \n",
      "\n",
      "cluster:  3 \n",
      "\n",
      "hits:  3 \n",
      "\n",
      "cluster:  3 \n",
      "\n",
      "hits:  3 \n",
      "\n",
      "cluster:  3 \n",
      "\n",
      "hits:  3 \n",
      "\n",
      "cluster:  3 \n",
      "\n",
      "hits:  3 \n",
      "\n",
      "cluster:  3 \n",
      "\n",
      "hits:  3 \n",
      "\n",
      "cluster:  3 \n",
      "\n",
      "hits:  3 \n",
      "\n",
      "cluster:  4 \n",
      "\n",
      "hits:  4 \n",
      "\n",
      "cluster:  4 \n",
      "\n",
      "hits:  4 \n",
      "\n",
      "cluster:  4 \n",
      "\n",
      "hits:  4 \n",
      "\n",
      "cluster:  4 \n",
      "\n",
      "hits:  4 \n",
      "\n",
      "cluster:  4 \n",
      "\n",
      "hits:  4 \n",
      "\n",
      "cluster:  4 \n",
      "\n",
      "hits:  4 \n",
      "\n",
      "cluster:  4 \n",
      "\n",
      "hits:  4 \n",
      "\n",
      "cluster:  4 \n",
      "\n",
      "hits:  4 \n",
      "\n",
      "cluster:  4 \n",
      "\n",
      "hits:  4 \n",
      "\n",
      "cluster:  4 \n",
      "\n",
      "hits:  4 \n",
      "\n",
      "cluster:  4 \n",
      "\n",
      "hits:  4 \n",
      "\n",
      "cluster:  4 \n",
      "\n",
      "hits:  4 \n",
      "\n",
      "cluster:  4 \n",
      "\n",
      "hits:  4 \n",
      "\n",
      "cluster:  4 \n",
      "\n",
      "hits:  4 \n",
      "\n",
      "cluster:  4 \n",
      "\n",
      "hits:  4 \n",
      "\n",
      "cluster:  4 \n",
      "\n",
      "hits:  4 \n",
      "\n",
      "cluster:  4 \n",
      "\n",
      "hits:  4 \n",
      "\n",
      "cluster:  4 \n",
      "\n",
      "hits:  4 \n",
      "\n",
      "cluster:  4 \n",
      "\n",
      "hits:  4 \n",
      "\n",
      "cluster:  4 \n",
      "\n",
      "hits:  4 \n",
      "\n",
      "cluster:  4 \n",
      "\n",
      "hits:  4 \n",
      "\n",
      "cluster:  4 \n",
      "\n",
      "hits:  4 \n",
      "\n",
      "cluster:  4 \n",
      "\n",
      "hits:  4 \n",
      "\n",
      "cluster:  4 \n",
      "\n",
      "hits:  4 \n",
      "\n",
      "cluster:  5 \n",
      "\n",
      "hits:  5 \n",
      "\n",
      "cluster:  5 \n",
      "\n",
      "hits:  5 \n",
      "\n",
      "cluster:  5 \n",
      "\n",
      "hits:  5 \n",
      "\n",
      "cluster:  5 \n",
      "\n",
      "hits:  5 \n",
      "\n",
      "cluster:  5 \n",
      "\n",
      "hits:  5 \n",
      "\n",
      "cluster:  5 \n",
      "\n",
      "hits:  5 \n",
      "\n",
      "cluster:  5 \n",
      "\n",
      "hits:  5 \n",
      "\n",
      "cluster:  5 \n",
      "\n",
      "hits:  5 \n",
      "\n",
      "cluster:  5 \n",
      "\n",
      "hits:  5 \n",
      "\n",
      "cluster:  5 \n",
      "\n",
      "hits:  5 \n",
      "\n",
      "cluster:  5 \n",
      "\n",
      "hits:  5 \n",
      "\n",
      "cluster:  6 \n",
      "\n",
      "hits:  6 \n",
      "\n",
      "cluster:  6 \n",
      "\n",
      "hits:  6 \n",
      "\n",
      "cluster:  6 \n",
      "\n",
      "hits:  6 \n",
      "\n",
      "cluster:  6 \n",
      "\n",
      "hits:  6 \n",
      "\n",
      "cluster:  6 \n",
      "\n",
      "hits:  6 \n",
      "\n",
      "cluster:  6 \n",
      "\n",
      "hits:  6 \n",
      "\n",
      "cluster:  6 \n",
      "\n",
      "hits:  6 \n",
      "\n",
      "cluster:  6 \n",
      "\n",
      "hits:  6 \n",
      "\n",
      "cluster:  6 \n",
      "\n",
      "hits:  6 \n",
      "\n",
      "cluster:  6 \n",
      "\n",
      "hits:  6 \n",
      "\n",
      "cluster:  7 \n",
      "\n",
      "hits:  7 \n",
      "\n",
      "cluster:  7 \n",
      "\n",
      "hits:  7 \n",
      "\n",
      "cluster:  7 \n",
      "\n",
      "hits:  7 \n",
      "\n",
      "cluster:  7 \n",
      "\n",
      "hits:  7 \n",
      "\n",
      "cluster:  7 \n",
      "\n",
      "hits:  7 \n",
      "\n",
      "cluster:  7 \n",
      "\n",
      "hits:  7 \n",
      "\n",
      "cluster:  7 \n",
      "\n",
      "hits:  7 \n",
      "\n",
      "cluster:  7 \n",
      "\n",
      "hits:  7 \n",
      "\n",
      "cluster:  7 \n",
      "\n",
      "hits:  7 \n",
      "\n",
      "cluster:  7 \n",
      "\n",
      "hits:  7 \n",
      "\n",
      "cluster:  7 \n",
      "\n",
      "hits:  7 \n",
      "\n",
      "cluster:  7 \n",
      "\n",
      "hits:  7 \n",
      "\n",
      "cluster:  7 \n",
      "\n",
      "hits:  7 \n",
      "\n",
      "cluster:  7 \n",
      "\n",
      "hits:  7 \n",
      "\n",
      "cluster:  7 \n",
      "\n",
      "hits:  7 \n",
      "\n",
      "cluster:  7 \n",
      "\n",
      "hits:  7 \n",
      "\n",
      "cluster:  7 \n",
      "\n",
      "hits:  7 \n",
      "\n",
      "cluster:  8 \n",
      "\n",
      "hits:  8 \n",
      "\n",
      "cluster:  8 \n",
      "\n",
      "hits:  8 \n",
      "\n",
      "cluster:  8 \n",
      "\n",
      "hits:  8 \n",
      "\n",
      "cluster:  8 \n",
      "\n",
      "hits:  8 \n",
      "\n",
      "cluster:  8 \n",
      "\n",
      "hits:  8 \n",
      "\n",
      "cluster:  8 \n",
      "\n",
      "hits:  8 \n",
      "\n",
      "cluster:  8 \n",
      "\n",
      "hits:  8 \n",
      "\n",
      "cluster:  8 \n",
      "\n",
      "hits:  8 \n",
      "\n",
      "cluster:  8 \n",
      "\n",
      "hits:  8 \n",
      "\n",
      "cluster:  8 \n",
      "\n",
      "hits:  8 \n",
      "\n",
      "cluster:  8 \n",
      "\n",
      "hits:  8 \n",
      "\n",
      "cluster:  8 \n",
      "\n",
      "hits:  8 \n",
      "\n",
      "cluster:  8 \n",
      "\n",
      "hits:  8 \n",
      "\n",
      "cluster:  9 \n",
      "\n",
      "hits:  9 \n",
      "\n",
      "cluster:  9 \n",
      "\n",
      "hits:  9 \n",
      "\n",
      "cluster:  9 \n",
      "\n",
      "hits:  9 \n",
      "\n",
      "cluster:  9 \n",
      "\n",
      "hits:  9 \n",
      "\n",
      "cluster:  9 \n",
      "\n",
      "hits:  9 \n",
      "\n",
      "cluster:  9 \n",
      "\n",
      "hits:  9 \n",
      "\n",
      "cluster:  9 \n",
      "\n",
      "hits:  9 \n",
      "\n",
      "cluster:  9 \n",
      "\n",
      "hits:  9 \n",
      "\n",
      "cluster:  9 \n",
      "\n",
      "hits:  9 \n",
      "\n",
      "Progress of removing double hits: 100 % of  10000  framesmes\n",
      "Number of hits before removing doubles:  156509\n",
      "Number of hits after removing doubles:  156509\n",
      "Number of removed hits:  0\n"
     ]
    }
   ],
   "source": [
    "hits_all_frames, hits_all_frames_counter_after = clump.three_frame_cluster.del_double_hits_in_3_frame_cluster(ttree_mu3e_big, ttree_mu3e_mc_big, ttree_sensor_big, ttree_tiles_big, mu3e_detector, mask_type=\"big\", number_of_frames = 10000, rec_type = None)"
   ]
  },
  {
   "cell_type": "code",
   "execution_count": null,
   "metadata": {},
   "outputs": [],
   "source": []
  }
 ],
 "metadata": {
  "kernelspec": {
   "display_name": "Python 3",
   "language": "python",
   "name": "python3"
  },
  "language_info": {
   "codemirror_mode": {
    "name": "ipython",
    "version": 3
   },
   "file_extension": ".py",
   "mimetype": "text/x-python",
   "name": "python",
   "nbconvert_exporter": "python",
   "pygments_lexer": "ipython3",
   "version": "3.8.10"
  }
 },
 "nbformat": 4,
 "nbformat_minor": 5
}
