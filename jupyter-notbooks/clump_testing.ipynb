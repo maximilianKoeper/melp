{
 "cells": [
  {
   "cell_type": "code",
   "execution_count": 1,
   "id": "888b7090",
   "metadata": {},
   "outputs": [
    {
     "name": "stdout",
     "output_type": "stream",
     "text": [
      "/home/erik/GitHub/melp\n",
      "Welcome to JupyROOT 6.24/06\n"
     ]
    }
   ],
   "source": [
    "%cd ..\n",
    "import ROOT\n",
    "import numpy as np\n",
    "import matplotlib.pyplot as plt\n",
    "import matplotlib as mpl\n",
    "from melp import Detector\n",
    "import melp\n",
    "import math\n",
    "\n",
    "import melp.clustering as clump\n",
    "\n",
    "from melp.clustering.misc import*\n",
    "\n",
    "#import melp.clustering.time_cluster as tclump\n",
    "#import melp.clustering.spatial_cluster as sclump\n",
    "#import melp.clustering.plots as clump_plt\n",
    "\n",
    "plt.rcParams.update({'font.size': 16})"
   ]
  },
  {
   "cell_type": "code",
   "execution_count": 2,
   "id": "b616d9c6",
   "metadata": {},
   "outputs": [],
   "source": [
    "filename_trirec = \"./testdata/trirec/trirec1.root\"\n",
    "filename_sorted = \"./testdata/sorted/sorted1.root\"\n",
    "filename_sorted_big = \"/home/erik/GitLab_KIP/melp/root_files/big_run_data/sorted1.root\"\n",
    "#filename_sorted_big = \"./testdata/sorted/sorted1_big.root\"\n",
    "\n",
    "file = ROOT.TFile(filename_sorted)\n",
    "ttree_mu3e = file.Get(\"mu3e\")\n",
    "ttree_mu3e_mc = file.Get(\"mu3e_mchits\")\n",
    "ttree_sensor = file.Get(\"alignment/sensors\")\n",
    "ttree_tiles = file.Get(\"alignment/tiles\")\n",
    "\n",
    "file_rec = ROOT.TFile(filename_trirec)\n",
    "ttree_trirec = file_rec.Get(\"frames\")\n",
    "ttree_trirec_mc = file_rec.Get(\"frames_mc\")\n",
    "ttree_mu3e_segs = file_rec.Get(\"segs\")\n",
    "\n",
    "file_big = ROOT.TFile(filename_sorted_big)\n",
    "ttree_mu3e_big = file_big.Get(\"mu3e\")\n",
    "ttree_mu3e_mc_big = file_big.Get(\"mu3e_mchits\")\n",
    "ttree_sensor_big = file_big.Get(\"alignment/sensors\")\n",
    "ttree_tiles_big = file_big.Get(\"alignment/tiles\")"
   ]
  },
  {
   "cell_type": "code",
   "execution_count": 3,
   "id": "68bdac30",
   "metadata": {},
   "outputs": [
    {
     "name": "stdout",
     "output_type": "stream",
     "text": [
      "------------------------------\n",
      "Detector information\n",
      "\n",
      "Stats:\n",
      "  - Tiles:  5824\n",
      "    -> misal:  False\n",
      "  - Pixel Modules:  2844\n",
      "  - Loaded Runs (Tiles):  []\n",
      "  - Loaded Runs (Pixel):  []\n",
      "------------------------------\n"
     ]
    }
   ],
   "source": [
    "mu3e_detector = Detector.initFromROOT(filename_sorted)\n",
    "#mu3e_detector = Detector.initFromSave(\"test_detector_file\")"
   ]
  },
  {
   "cell_type": "code",
   "execution_count": 5,
   "id": "c65e34b1",
   "metadata": {},
   "outputs": [],
   "source": [
    "#select frame to analyze\n",
    "frame_used = 30\n",
    "ttree_mu3e.GetEntry(frame_used)\n",
    "\n",
    "#build masks (and deconstruct them into arrays)\n",
    "masks, __ = clump.masks.build_mask_around_cluster_master(ttree_mu3e, ttree_mu3e_mc, ttree_sensor, ttree_tiles, mu3e_detector, frame_used, mask_type = \"big\")\n",
    "\n",
    "keys = []\n",
    "values = []\n",
    "for key in masks.keys():\n",
    "    keys.append(key)\n",
    "    values.append(masks[key])"
   ]
  },
  {
   "cell_type": "code",
   "execution_count": 6,
   "id": "2a5fe8c7",
   "metadata": {},
   "outputs": [],
   "source": [
    "clusters = clump.spatial_cluster.build_clusters_in_masks(ttree_mu3e, ttree_mu3e_mc, ttree_sensor, ttree_tiles,  mu3e_detector, frame_used, mask_type = \"big\", rec_type = None)"
   ]
  },
  {
   "cell_type": "code",
   "execution_count": 7,
   "id": "4b293473",
   "metadata": {},
   "outputs": [
    {
     "name": "stdout",
     "output_type": "stream",
     "text": [
      "Cluster(id=300460, frame_id=30, master_primary=56141, hits=[ClusterHit(tile_id=300516, frame_id=30, primary=56141, time=6988.590792458939), ClusterHit(tile_id=300460, frame_id=30, primary=58192, time=7029.444807383045)])\n"
     ]
    }
   ],
   "source": [
    "print(clusters[0])"
   ]
  },
  {
   "cell_type": "code",
   "execution_count": 8,
   "id": "70d14366",
   "metadata": {},
   "outputs": [
    {
     "data": {
      "text/plain": [
       "[300516, 300460]"
      ]
     },
     "execution_count": 8,
     "metadata": {},
     "output_type": "execute_result"
    }
   ],
   "source": [
    "clusters[0].get_tile_ids()"
   ]
  },
  {
   "cell_type": "code",
   "execution_count": 11,
   "id": "8ad9b1b8",
   "metadata": {},
   "outputs": [
    {
     "data": {
      "text/plain": [
       "[56141, 58192]"
      ]
     },
     "execution_count": 11,
     "metadata": {},
     "output_type": "execute_result"
    }
   ],
   "source": [
    "clusters[0].get_primaries()"
   ]
  },
  {
   "cell_type": "code",
   "execution_count": 10,
   "id": "f0a8b334",
   "metadata": {},
   "outputs": [
    {
     "data": {
      "text/plain": [
       "[6988.590792458939, 7029.444807383045]"
      ]
     },
     "execution_count": 10,
     "metadata": {},
     "output_type": "execute_result"
    }
   ],
   "source": [
    "clusters[0].get_times()"
   ]
  },
  {
   "cell_type": "code",
   "execution_count": null,
   "id": "0dcdd614",
   "metadata": {},
   "outputs": [],
   "source": []
  }
 ],
 "metadata": {
  "kernelspec": {
   "display_name": "Python 3 (ipykernel)",
   "language": "python",
   "name": "python3"
  },
  "language_info": {
   "codemirror_mode": {
    "name": "ipython",
    "version": 3
   },
   "file_extension": ".py",
   "mimetype": "text/x-python",
   "name": "python",
   "nbconvert_exporter": "python",
   "pygments_lexer": "ipython3",
   "version": "3.8.10"
  }
 },
 "nbformat": 4,
 "nbformat_minor": 5
}
