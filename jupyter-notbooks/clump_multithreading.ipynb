{
 "cells": [
  {
   "cell_type": "code",
   "execution_count": 1,
   "id": "7dcfac34",
   "metadata": {},
   "outputs": [
    {
     "name": "stdout",
     "output_type": "stream",
     "text": [
      "/home/erik/GitHub/melp\n",
      "Welcome to JupyROOT 6.24/06\n"
     ]
    }
   ],
   "source": [
    "%cd ..\n",
    "import ROOT\n",
    "import numpy as np\n",
    "import matplotlib.pyplot as plt\n",
    "import matplotlib as mpl\n",
    "import matplotlib.cm as cm\n",
    "from matplotlib.colors import ListedColormap, LinearSegmentedColormap\n",
    "from melp import Detector\n",
    "import melp\n",
    "import math\n",
    "import random\n",
    "from glob import glob\n",
    "\n",
    "from melp.clustering.misc import*\n",
    "import melp.clustering as clump\n",
    "import melp.clustering.time_cluster as tclump\n",
    "#from melp import TileAnalyzer\n",
    "import melp.clustering.spatial_cluster as sclump\n",
    "import melp.clustering.plots as clump_plt\n",
    "import melp.clustering.three_frame_cluster as clump_3\n",
    "\n",
    "plt.rcParams.update({'font.size': 16})"
   ]
  },
  {
   "cell_type": "code",
   "execution_count": 2,
   "id": "a43ff98b",
   "metadata": {},
   "outputs": [
    {
     "name": "stdout",
     "output_type": "stream",
     "text": [
      "-----------------------\n",
      "Available threads =  8\n",
      "Used threads =  5\n",
      "-----------------------\n",
      "read file read file read file read file read file      24135\n",
      "\n",
      "\n",
      "started thread \n",
      "\n",
      "started thread  started thread started thread 2  4\n",
      "started thread 5\n",
      "\n",
      "  31\n",
      "\n",
      "read file  6\n",
      "started thread  6\n",
      "read file  7\n",
      "started thread  7\n",
      "read file  8\n",
      "started thread  8\n",
      "read file  9\n",
      "started thread  9\n"
     ]
    }
   ],
   "source": [
    "time_threshold_used = 1.2\n",
    "\n",
    "function_str = \"mt_compare_to_primary\"\n",
    "src = \"./testdata/sorted/root_files_fixed/mu3e_sorted_000*.root\"\n",
    "\n",
    "args = (time_threshold_used, \"big\", None, \"timetheniterativespatial\")\n",
    "\n",
    "clump.multithreading.run_mt(function_str, src, args)"
   ]
  },
  {
   "cell_type": "code",
   "execution_count": 3,
   "id": "8779c5aa",
   "metadata": {},
   "outputs": [],
   "source": [
    "src2 = \"./melp/clustering/results\"\n",
    "\n",
    "src_frac_corr_frame          = src2 + \"/frac_corr_frame_*.txt\"\n",
    "src_frac_corr_clusters_frame = src2 + \"/frac_corr_clusters_frame_*.txt\"\n",
    "src_frac_uncorr_frame        = src2 + \"/frac_uncorr_frame_*.txt\"\n",
    "src_efficiency_stats         = src2 + \"/efficiency_stats_*.txt\"\n",
    "\n",
    "fnames_frac_corr_frame           = glob(src_frac_corr_frame)\n",
    "fnames_frac_corr_clusters_frame  = glob(src_frac_corr_clusters_frame)\n",
    "fnames_frac_uncorr_frame         = glob(src_frac_uncorr_frame)\n",
    "fnames_efficiency_stats          = glob(src_efficiency_stats)\n",
    "\n",
    "array_frac_corr_frame          = np.concatenate([np.loadtxt(f) for f in fnames_frac_corr_frame])\n",
    "array_frac_corr_clusters_frame = np.concatenate([np.loadtxt(f) for f in fnames_frac_corr_clusters_frame])\n",
    "array_frac_uncorr_frame        = np.concatenate([np.loadtxt(f) for f in fnames_frac_uncorr_frame])\n",
    "#array_efficiency_stats         = np.concatenate([np.loadtxt(f) for f in fnames_efficiency_stats])"
   ]
  },
  {
   "cell_type": "markdown",
   "id": "b4f1362d",
   "metadata": {},
   "source": [
    "## Efficiency statistics"
   ]
  },
  {
   "cell_type": "code",
   "execution_count": 4,
   "id": "d7e172e1",
   "metadata": {},
   "outputs": [
    {
     "name": "stdout",
     "output_type": "stream",
     "text": [
      "File: ./melp/clustering/results/efficiency_stats_132.txt\n",
      "Number of analyzed frames:  1000 Number of correct counter fractions:  1000\n",
      "Total #hits in frames/#hits in clusters =  1.0\n",
      "Correctly associated out of all hits:  73.76524242326228 %\n",
      "Correctly associated out of all hits in clusters:  73.76524242326228 %\n",
      "Incorrectly associated out of all hits:  26.234757576737717 %\n",
      "Incorrectly associated out of all hits in clusters:  26.234757576737717 %\n",
      "\n",
      "\n",
      "File: ./melp/clustering/results/efficiency_stats_128.txt\n",
      "Number of analyzed frames:  1000 Number of correct counter fractions:  999\n",
      "Total #hits in frames/#hits in clusters =  1.0\n",
      "Correctly associated out of all hits:  74.42205384491376 %\n",
      "Correctly associated out of all hits in clusters:  74.42205384491376 %\n",
      "Incorrectly associated out of all hits:  25.577946155086252 %\n",
      "Incorrectly associated out of all hits in clusters:  25.577946155086252 %\n",
      "\n",
      "\n",
      "File: ./melp/clustering/results/efficiency_stats_130.txt\n",
      "Number of analyzed frames:  1000 Number of correct counter fractions:  1000\n",
      "Total #hits in frames/#hits in clusters =  1.0\n",
      "Correctly associated out of all hits:  74.03716757449534 %\n",
      "Correctly associated out of all hits in clusters:  74.03716757449534 %\n",
      "Incorrectly associated out of all hits:  25.962832425504644 %\n",
      "Incorrectly associated out of all hits in clusters:  25.962832425504644 %\n",
      "\n",
      "\n",
      "File: ./melp/clustering/results/efficiency_stats_131.txt\n",
      "Number of analyzed frames:  1000 Number of correct counter fractions:  1000\n",
      "Total #hits in frames/#hits in clusters =  1.0\n",
      "Correctly associated out of all hits:  73.97065016683405 %\n",
      "Correctly associated out of all hits in clusters:  73.97065016683405 %\n",
      "Incorrectly associated out of all hits:  26.02934983316596 %\n",
      "Incorrectly associated out of all hits in clusters:  26.02934983316596 %\n",
      "\n",
      "\n",
      "File: ./melp/clustering/results/efficiency_stats_129.txt\n",
      "Number of analyzed frames:  1000 Number of correct counter fractions:  1000\n",
      "Total #hits in frames/#hits in clusters =  1.0\n",
      "Correctly associated out of all hits:  74.44557946419744 %\n",
      "Correctly associated out of all hits in clusters:  74.44557946419744 %\n",
      "Incorrectly associated out of all hits:  25.55442053580255 %\n",
      "Incorrectly associated out of all hits in clusters:  25.55442053580255 %\n",
      "\n",
      "\n",
      "File: ./melp/clustering/results/efficiency_stats_133.txt\n",
      "Number of analyzed frames:  1000 Number of correct counter fractions:  1000\n",
      "Total #hits in frames/#hits in clusters =  1.0\n",
      "Correctly associated out of all hits:  73.91418020196738 %\n",
      "Correctly associated out of all hits in clusters:  73.91418020196738 %\n",
      "Incorrectly associated out of all hits:  26.085819798032613 %\n",
      "Incorrectly associated out of all hits in clusters:  26.085819798032613 %\n",
      "\n",
      "\n",
      "File: ./melp/clustering/results/efficiency_stats_135.txt\n",
      "Number of analyzed frames:  1000 Number of correct counter fractions:  1000\n",
      "Total #hits in frames/#hits in clusters =  1.0\n",
      "Correctly associated out of all hits:  74.20061887570913 %\n",
      "Correctly associated out of all hits in clusters:  74.20061887570913 %\n",
      "Incorrectly associated out of all hits:  25.79938112429087 %\n",
      "Incorrectly associated out of all hits in clusters:  25.79938112429087 %\n",
      "\n",
      "\n",
      "File: ./melp/clustering/results/efficiency_stats_134.txt\n",
      "Number of analyzed frames:  1000 Number of correct counter fractions:  1000\n",
      "Total #hits in frames/#hits in clusters =  1.0\n",
      "Correctly associated out of all hits:  74.55500064028685 %\n",
      "Correctly associated out of all hits in clusters:  74.55500064028685 %\n",
      "Incorrectly associated out of all hits:  25.44499935971315 %\n",
      "Incorrectly associated out of all hits in clusters:  25.44499935971315 %\n",
      "\n",
      "\n",
      "File: ./melp/clustering/results/efficiency_stats_127.txt\n",
      "Number of analyzed frames:  1000 Number of correct counter fractions:  1000\n",
      "Total #hits in frames/#hits in clusters =  1.0\n",
      "Correctly associated out of all hits:  74.18920611069372 %\n",
      "Correctly associated out of all hits in clusters:  74.18920611069372 %\n",
      "Incorrectly associated out of all hits:  25.810793889306286 %\n",
      "Incorrectly associated out of all hits in clusters:  25.810793889306286 %\n",
      "\n",
      "\n"
     ]
    }
   ],
   "source": [
    "for f in fnames_efficiency_stats:\n",
    "    print(\"File: \" + f)\n",
    "    with open(f, \"r\", encoding=\"utf-8\") as file:\n",
    "        for line in file:\n",
    "            print(line.strip())\n",
    "    print(\"\\n\")"
   ]
  },
  {
   "cell_type": "markdown",
   "id": "2efad62b",
   "metadata": {},
   "source": [
    "## Efficiency plots"
   ]
  },
  {
   "cell_type": "markdown",
   "id": "f9d689fb",
   "metadata": {},
   "source": [
    "### Hits associated to wrong cluster"
   ]
  },
  {
   "cell_type": "code",
   "execution_count": 5,
   "id": "c65d9ea6",
   "metadata": {},
   "outputs": [
    {
     "data": {
      "image/png": "[encoded data removed]",
      "text/plain": [
       "<Figure size 864x432 with 1 Axes>"
      ]
     },
     "metadata": {
      "needs_background": "light"
     },
     "output_type": "display_data"
    }
   ],
   "source": [
    "fig = plt.figure(figsize=(12,6))\n",
    "plt.hist(array_frac_uncorr_frame, bins = 100)\n",
    "plt.title(\"Incorrectly associated hits / all hits in clusters (per frame)\")\n",
    "plt.show()"
   ]
  },
  {
   "cell_type": "markdown",
   "id": "1647bee3",
   "metadata": {},
   "source": [
    "### Hits associated to correct cluster"
   ]
  },
  {
   "cell_type": "code",
   "execution_count": 6,
   "id": "a47b0ed7",
   "metadata": {},
   "outputs": [
    {
     "data": {
      "image/png": "[encoded data removed]",
      "text/plain": [
       "<Figure size 864x432 with 1 Axes>"
      ]
     },
     "metadata": {
      "needs_background": "light"
     },
     "output_type": "display_data"
    }
   ],
   "source": [
    "fig = plt.figure(figsize=(12,6))\n",
    "plt.hist(array_frac_corr_frame, bins = 100)\n",
    "plt.title(\"Correctly associated hits / all hits in frame (per frame)\")\n",
    "plt.show()"
   ]
  },
  {
   "cell_type": "code",
   "execution_count": null,
   "id": "26a7e6b7",
   "metadata": {},
   "outputs": [],
   "source": []
  }
 ],
 "metadata": {
  "kernelspec": {
   "display_name": "Python 3 (ipykernel)",
   "language": "python",
   "name": "python3"
  },
  "language_info": {
   "codemirror_mode": {
    "name": "ipython",
    "version": 3
   },
   "file_extension": ".py",
   "mimetype": "text/x-python",
   "name": "python",
   "nbconvert_exporter": "python",
   "pygments_lexer": "ipython3",
   "version": "3.8.10"
  }
 },
 "nbformat": 4,
 "nbformat_minor": 5
}
