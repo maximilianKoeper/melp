{
 "cells": [
  {
   "cell_type": "code",
   "execution_count": 1,
   "metadata": {},
   "outputs": [
    {
     "name": "stdout",
     "output_type": "stream",
     "text": [
      "/home/erik/GitHub/melp\n",
      "Welcome to JupyROOT 6.24/06\n"
     ]
    }
   ],
   "source": [
    "%cd ..\n",
    "import ROOT\n",
    "import numpy as np\n",
    "import matplotlib.pyplot as plt\n",
    "import matplotlib as mpl\n",
    "import matplotlib.cm as cm\n",
    "from matplotlib.colors import ListedColormap, LinearSegmentedColormap\n",
    "from melp import Detector\n",
    "import melp\n",
    "import math\n",
    "import random\n",
    "from glob import glob\n",
    "\n",
    "from melp.clustering.misc import*\n",
    "import melp.clustering as clump\n",
    "import melp.clustering.time_cluster as tclump\n",
    "#from melp import TileAnalyzer\n",
    "import melp.clustering.spatial_cluster as sclump\n",
    "import melp.clustering.plots as clump_plt\n",
    "import melp.clustering.three_frame_cluster as clump_3\n",
    "\n",
    "plt.rcParams.update({'font.size': 16})"
   ]
  },
  {
   "cell_type": "markdown",
   "metadata": {},
   "source": [
    "## Time then iterative spatial clustering"
   ]
  },
  {
   "cell_type": "code",
   "execution_count": 2,
   "metadata": {},
   "outputs": [],
   "source": [
    "time_threshold_used = 1.2\n",
    "threshold_cluster_width_used = 999999\n",
    "\n",
    "function_str = \"mt_compare_to_tid\"\n",
    "src = \"./testdata/sorted/root_files_fixed/mu3e_sorted_000*.root\"\n",
    "\n",
    "args = (time_threshold_used, threshold_cluster_width_used, \"big\", None, \"timetheniterativespatial\")\n",
    "\n",
    "#clump.multithreading.run_mt(function_str, src, args)"
   ]
  },
  {
   "cell_type": "code",
   "execution_count": 5,
   "metadata": {},
   "outputs": [],
   "source": [
    "src_res = \"./melp/clustering/results\"\n",
    "\n",
    "#src_frac_corr_frame          = src_res + \"/frac_corr_frame_tid_*_timetheniterativespatial_{}.txt\".format(threshold_cluster_width_used)\n",
    "#src_frac_corr_clusters_frame = src_res + \"/frac_corr_clusters_frame_tid_*_timetheniterativespatial_{}.txt\".format(threshold_cluster_width_used)\n",
    "#src_frac_uncorr_frame        = src_res + \"/frac_uncorr_frame_tid_*_timetheniterativespatial_{}.txt\".format(threshold_cluster_width_used)\n",
    "#src_efficiency_stats         = src_res + \"/efficiency_stats_tid_*_timetheniterativespatial_{}.txt\".format(threshold_cluster_width_used)\n",
    "\n",
    "src_frac_corr_frame          = src_res + \"/frac_corr_frame_tid_*_timetheniterativespatial.txt\"\n",
    "src_frac_corr_clusters_frame = src_res + \"/frac_corr_clusters_frame_tid_*_timetheniterativespatial.txt\"\n",
    "src_frac_uncorr_frame        = src_res + \"/frac_uncorr_frame_tid_*_timetheniterativespatial.txt\"\n",
    "src_efficiency_stats         = src_res + \"/efficiency_stats_tid_*_timetheniterativespatial.txt\"\n",
    "\n",
    "fnames_frac_corr_frame           = glob(src_frac_corr_frame)\n",
    "fnames_frac_corr_clusters_frame  = glob(src_frac_corr_clusters_frame)\n",
    "fnames_frac_uncorr_frame         = glob(src_frac_uncorr_frame)\n",
    "fnames_efficiency_stats          = glob(src_efficiency_stats)\n",
    "\n",
    "array_frac_corr_frame          = np.concatenate([np.loadtxt(f) for f in fnames_frac_corr_frame])\n",
    "array_frac_corr_clusters_frame = np.concatenate([np.loadtxt(f) for f in fnames_frac_corr_clusters_frame])\n",
    "array_frac_uncorr_frame        = np.concatenate([np.loadtxt(f) for f in fnames_frac_uncorr_frame])\n",
    "#array_efficiency_stats         = np.concatenate([np.loadtxt(f) for f in fnames_efficiency_stats])"
   ]
  },
  {
   "cell_type": "markdown",
   "metadata": {},
   "source": [
    "### Efficiency statistics"
   ]
  },
  {
   "cell_type": "code",
   "execution_count": null,
   "metadata": {
    "scrolled": true
   },
   "outputs": [],
   "source": [
    "for f in fnames_efficiency_stats:\n",
    "    print(\"File: \" + f)\n",
    "    with open(f, \"r\", encoding=\"utf-8\") as file:\n",
    "        for line in file:\n",
    "            print(line.strip())\n",
    "    print(\"\\n\")"
   ]
  },
  {
   "cell_type": "markdown",
   "metadata": {},
   "source": [
    "### Efficiency plots"
   ]
  },
  {
   "cell_type": "markdown",
   "metadata": {},
   "source": [
    "#### Hits associated to wrong cluster"
   ]
  },
  {
   "cell_type": "code",
   "execution_count": null,
   "metadata": {},
   "outputs": [],
   "source": [
    "fig = plt.figure(figsize=(12,6))\n",
    "plt.hist(array_frac_uncorr_frame, bins = 500)\n",
    "plt.title(\"Incorrectly associated hits / all hits in clusters (per frame)\")\n",
    "plt.xlim(0,1)\n",
    "plt.xlabel(\"Fraction of incorrectly associated hits\")\n",
    "plt.savefig(\"incorr_associated_all_30_files_timetheniterativespatial.png\", dpi = 300)\n",
    "plt.show()"
   ]
  },
  {
   "cell_type": "markdown",
   "metadata": {},
   "source": [
    "#### Hits associated to correct cluster"
   ]
  },
  {
   "cell_type": "code",
   "execution_count": null,
   "metadata": {},
   "outputs": [],
   "source": [
    "fig = plt.figure(figsize=(12,6))\n",
    "plt.hist(array_frac_corr_frame, bins = 500)\n",
    "plt.title(\"Correctly associated hits / all hits in frame (per frame)\")\n",
    "plt.xlim(0,1)\n",
    "plt.xlabel(\"Fraction of correctly associated hits\")\n",
    "plt.savefig(\"corr_associated_all_30_files_timetheniterativespatial.png\", dpi = 300)\n",
    "plt.show()"
   ]
  },
  {
   "cell_type": "markdown",
   "metadata": {},
   "source": [
    "#### Combined histograms"
   ]
  },
  {
   "cell_type": "code",
   "execution_count": null,
   "metadata": {},
   "outputs": [],
   "source": [
    "fig = plt.figure(figsize=(12,6))\n",
    "plt.hist(array_frac_corr_frame, bins = 500, label = \"Hits correctly associated to cluster / All hits in clusters\")\n",
    "plt.hist(array_frac_uncorr_frame, bins = 500, label = \"Hits incorrectly associated to cluster / All hits in clusters\")\n",
    "plt.title(\"Correctly and incorrectly associated hits / all hits in clusters (per frame)\")\n",
    "plt.xlim(0,1)\n",
    "plt.xlabel(\"Fraction of total hits\")\n",
    "plt.legend()\n",
    "plt.savefig(\"Corr_and_incorr_fractions_all_30_files_timetheniterativespatial.png\", dpi = 300)\n",
    "plt.show()"
   ]
  },
  {
   "cell_type": "markdown",
   "metadata": {},
   "source": [
    "### Efficiency vs maximum cluster width"
   ]
  },
  {
   "cell_type": "code",
   "execution_count": null,
   "metadata": {
    "scrolled": true
   },
   "outputs": [],
   "source": [
    "function_str = \"mt_efficiency_as_function_of_cluster_width\"\n",
    "cluster_width_array_used = np.arange(10,101,1)\n",
    "filename_used = \"./testdata/sorted/root_files_fixed/mu3e_sorted_000127.root\"\n",
    "args = (filename_used, time_threshold_used, \"big\", None, None, \"timetheniterativespatial\")\n",
    "\n",
    "#clump.multithreading.run_mt(function_str, src, args, cluster_width_array = cluster_width_array_used)"
   ]
  },
  {
   "cell_type": "code",
   "execution_count": null,
   "metadata": {},
   "outputs": [],
   "source": [
    "src_cluster_width    = src_res + \"/efficiency_vs_cluster_width_*_timetheniterativespatial.txt\"\n",
    "fnames_cluster_width = glob(src_cluster_width)\n",
    "\n",
    "array_cluster_width_eff  = []\n",
    "array_cluster_width      = []\n",
    "array_cluster_width_tmp  = []\n",
    "array_cluster_width_tmp.append([np.loadtxt(f) for f in fnames_cluster_width])\n",
    "for i in array_cluster_width_tmp[0]:\n",
    "    array_cluster_width_eff.append(float(i[0]))\n",
    "    array_cluster_width.append(float(i[1]))"
   ]
  },
  {
   "cell_type": "code",
   "execution_count": null,
   "metadata": {},
   "outputs": [],
   "source": [
    "fig = plt.figure(figsize=(12,6))\n",
    "plt.scatter(array_cluster_width, array_cluster_width_eff)\n",
    "plt.xlabel(\"Maximum distance between two cluster hits to be included in the efficiency calculation[mm]\")\n",
    "plt.ylabel(\"Efficiency\")\n",
    "plt.title(\"Efficiency as function of the maximum distance between clusters with same TID\")\n",
    "plt.savefig(\"efficiency_vs_max_distance_threshold_10-100_1_all_frames_each_correct_timetheniterativespatial.png\", dpi=300)\n",
    "plt.show()"
   ]
  },
  {
   "cell_type": "markdown",
   "metadata": {},
   "source": [
    "### Fraction of truth clusters bigger than threshold"
   ]
  },
  {
   "cell_type": "code",
   "execution_count": null,
   "metadata": {
    "scrolled": true
   },
   "outputs": [],
   "source": [
    "function_str = \"mt_frac_truth_cluster_size_filename\"\n",
    "cluster_width_array_used = np.arange(10,101,1)\n",
    "filename_used = \"/home/erik/GitHub/melp/testdata/sorted/root_files_fixed/mu3e_sorted_000127.root\"\n",
    "args = (filename_used, \"big\", None, None)\n",
    "\n",
    "#clump.multithreading.run_mt(function_str, src, args, cluster_width_array = cluster_width_array_used)"
   ]
  },
  {
   "cell_type": "code",
   "execution_count": null,
   "metadata": {},
   "outputs": [],
   "source": [
    "src_frac_cluster_over    = src_res + \"/frac_truth_Cluster_size_*.txt\"\n",
    "fnames_frac_cluster_over = glob(src_frac_cluster_over)\n",
    "\n",
    "array_fractions_tmp = []\n",
    "array_fractions = []\n",
    "array_thresholds = []\n",
    "array_fractions_tmp.append([np.loadtxt(f) for f in fnames_frac_cluster_over])\n",
    "for i in array_fractions_tmp[0]:\n",
    "    array_fractions.append(float(i[0]))\n",
    "    array_thresholds.append(float(i[1]))"
   ]
  },
  {
   "cell_type": "code",
   "execution_count": null,
   "metadata": {},
   "outputs": [],
   "source": [
    "fig = plt.figure(figsize=(12,6))\n",
    "plt.scatter(array_thresholds, array_fractions)\n",
    "plt.xlabel(\"Threshold for cluster size [mm]\")\n",
    "plt.ylabel(\"Percentage [%]\")\n",
    "plt.title(\"Percentage of all truth clusters bigger than threshold\")\n",
    "#plt.savefig(\"percentage_truth_clusters_over_threshold_all_30_files.png\", dpi=300)\n",
    "plt.show()"
   ]
  },
  {
   "cell_type": "markdown",
   "metadata": {},
   "source": [
    "## Pure time clustering"
   ]
  },
  {
   "cell_type": "code",
   "execution_count": null,
   "metadata": {},
   "outputs": [],
   "source": [
    "time_threshold_used = 0.4\n",
    "threshold_cluster_width_used = 20 \n",
    "\n",
    "function_str = \"mt_compare_to_tid\"\n",
    "src_time = \"./testdata/sorted/root_files_fixed/mu3e_sorted_000*.root\"\n",
    "\n",
    "args_time = (time_threshold_used, threshold_cluster_width_used, \"big\", None, \"time\")\n",
    "\n",
    "#clump.multithreading.run_mt(function_str, src_time, args_time)"
   ]
  },
  {
   "cell_type": "code",
   "execution_count": null,
   "metadata": {},
   "outputs": [],
   "source": [
    "src_frac_corr_frame_time          = src_res + \"/frac_corr_frame_tid_*_time_{}.txt\".format(threshold_cluster_width_used)\n",
    "src_frac_corr_clusters_frame_time = src_res + \"/frac_corr_clusters_frame_tid_*_time_{}.txt\".format(threshold_cluster_width_used)\n",
    "src_frac_uncorr_frame_time        = src_res + \"/frac_uncorr_frame_tid_*_time_{}.txt\".format(threshold_cluster_width_used)\n",
    "src_efficiency_stats_time         = src_res + \"/efficiency_stats_tid_*_time_{}.txt\".format(threshold_cluster_width_used)\n",
    "\n",
    "fnames_frac_corr_frame_time           = glob(src_frac_corr_frame_time)\n",
    "fnames_frac_corr_clusters_frame_time  = glob(src_frac_corr_clusters_frame_time)\n",
    "fnames_frac_uncorr_frame_time         = glob(src_frac_uncorr_frame_time)\n",
    "fnames_efficiency_stats_time          = glob(src_efficiency_stats_time)\n",
    "\n",
    "array_frac_corr_frame_time          = np.concatenate([np.loadtxt(f) for f in fnames_frac_corr_frame_time])\n",
    "array_frac_corr_clusters_frame_time = np.concatenate([np.loadtxt(f) for f in fnames_frac_corr_clusters_frame_time])\n",
    "array_frac_uncorr_frame_time        = np.concatenate([np.loadtxt(f) for f in fnames_frac_uncorr_frame_time])\n",
    "#array_efficiency_stats         = np.concatenate([np.loadtxt(f) for f in fnames_efficiency_stats])"
   ]
  },
  {
   "cell_type": "markdown",
   "metadata": {},
   "source": [
    "### Efficiency statistics"
   ]
  },
  {
   "cell_type": "code",
   "execution_count": null,
   "metadata": {},
   "outputs": [],
   "source": [
    "for f in fnames_efficiency_stats_time:\n",
    "    print(\"File: \" + f)\n",
    "    with open(f, \"r\", encoding=\"utf-8\") as file:\n",
    "        for line in file:\n",
    "            print(line.strip())\n",
    "    print(\"\\n\")"
   ]
  },
  {
   "cell_type": "markdown",
   "metadata": {},
   "source": [
    "### Efficiency plots"
   ]
  },
  {
   "cell_type": "markdown",
   "metadata": {},
   "source": [
    "#### Hits associated to wrong cluster"
   ]
  },
  {
   "cell_type": "code",
   "execution_count": null,
   "metadata": {},
   "outputs": [],
   "source": [
    "fig = plt.figure(figsize=(12,6))\n",
    "plt.hist(array_frac_uncorr_frame_time, bins = 300)\n",
    "plt.title(\"Incorrectly associated hits / all hits in clusters (per frame)\")\n",
    "plt.xlim(0,1)\n",
    "plt.xlabel(\"Fraction of incorrectly associated hits\")\n",
    "#plt.savefig(\"incorr_associated_all_30_files_time.png\", dpi = 300)\n",
    "plt.show()"
   ]
  },
  {
   "cell_type": "markdown",
   "metadata": {},
   "source": [
    "#### Hits associated to correct cluster"
   ]
  },
  {
   "cell_type": "code",
   "execution_count": null,
   "metadata": {},
   "outputs": [],
   "source": [
    "fig = plt.figure(figsize=(12,6))\n",
    "plt.hist(array_frac_corr_frame_time, bins = 300)\n",
    "plt.title(\"Correctly associated hits / all hits in frame (per frame)\")\n",
    "plt.xlim(0,1)\n",
    "plt.xlabel(\"Fraction of correctly associated hits\")\n",
    "#plt.savefig(\"corr_associated_all_30_files_time.png\", dpi = 300)\n",
    "\n",
    "plt.show()"
   ]
  },
  {
   "cell_type": "markdown",
   "metadata": {},
   "source": [
    "#### Combined histograms"
   ]
  },
  {
   "cell_type": "code",
   "execution_count": null,
   "metadata": {},
   "outputs": [],
   "source": [
    "fig = plt.figure(figsize=(12,6))\n",
    "plt.hist(array_frac_corr_frame_time, bins = 300, label = \"Hits correctly associated to cluster / All hits in clusters\")\n",
    "plt.hist(array_frac_uncorr_frame_time, bins = 300, label = \"Hits incorrectly associated to cluster / All hits in clusters\")\n",
    "plt.title(\"Correctly and incorrectly associated hits / all hits in clusters (per frame)\")\n",
    "plt.xlim(0,1)\n",
    "plt.xlabel(\"Fraction of total hits\")\n",
    "plt.legend()\n",
    "#plt.savefig(\"Corr_and_incorr_fractions_all_30_files_time.png\", dpi = 300)\n",
    "plt.show()"
   ]
  },
  {
   "cell_type": "markdown",
   "metadata": {},
   "source": [
    "### Efficiency vs maximum cluster width"
   ]
  },
  {
   "cell_type": "code",
   "execution_count": null,
   "metadata": {},
   "outputs": [],
   "source": [
    "function_str = \"mt_efficiency_as_function_of_cluster_width\"\n",
    "cluster_width_array_used = np.arange(10,101,1)\n",
    "filename_used = \"./testdata/sorted/root_files_fixed/mu3e_sorted_000127.root\"\n",
    "args_time = (filename_used, time_threshold_used, \"big\", None, None, \"time\")\n",
    "\n",
    "#clump.multithreading.run_mt(function_str, src_time, args_time, cluster_width_array = cluster_width_array_used)"
   ]
  },
  {
   "cell_type": "code",
   "execution_count": null,
   "metadata": {},
   "outputs": [],
   "source": [
    "src_cluster_width_time    = src_res + \"/efficiency_vs_cluster_width_*_time.txt\"\n",
    "fnames_cluster_width_time = glob(src_cluster_width_time)\n",
    "\n",
    "array_cluster_width_eff_time  = []\n",
    "array_cluster_width_time = []\n",
    "array_cluster_width_tmp_time = []\n",
    "array_cluster_width_tmp_time.append([np.loadtxt(f) for f in fnames_cluster_width_time])\n",
    "for i in array_cluster_width_tmp_time[0]:\n",
    "    array_cluster_width_eff_time.append(float(i[0]))\n",
    "    array_cluster_width_time.append(float(i[1]))"
   ]
  },
  {
   "cell_type": "code",
   "execution_count": null,
   "metadata": {},
   "outputs": [],
   "source": [
    "fig = plt.figure(figsize=(12,6))\n",
    "plt.scatter(array_cluster_width_time, array_cluster_width_eff_time)\n",
    "plt.xlabel(\"Maximum distance between clusters [mm]\")\n",
    "plt.ylabel(\"Efficiency\")\n",
    "plt.title(\"Efficiency as function of the maximum distance between clusters with same tid\")\n",
    "#plt.savefig(\"efficiency_vs_max_distance_threshold_10-100_1_all_frames_each_correct_time.png\", dpi=300)\n",
    "plt.show()"
   ]
  },
  {
   "cell_type": "markdown",
   "metadata": {},
   "source": [
    "## Pure spatial clustering"
   ]
  },
  {
   "cell_type": "code",
   "execution_count": null,
   "metadata": {},
   "outputs": [],
   "source": [
    "time_threshold_used = 0.4\n",
    "threshold_cluster_width_used = 999999 \n",
    "\n",
    "function_str = \"mt_compare_to_tid\"\n",
    "src_spatial = \"./testdata/sorted/root_files_fixed/mu3e_sorted_000*.root\"\n",
    "\n",
    "args_spatial = (time_threshold_used, threshold_cluster_width_used, \"big\", None, \"iterativespatial\")\n",
    "\n",
    "#clump.multithreading.run_mt(function_str, src_spatial, args_spatial)"
   ]
  },
  {
   "cell_type": "code",
   "execution_count": null,
   "metadata": {},
   "outputs": [],
   "source": [
    "src_frac_corr_frame_spatial          = src_res + \"/frac_corr_frame_tid_*_iterativespatial_{}.txt\".format(threshold_cluster_width_used)\n",
    "src_frac_corr_clusters_frame_spatial = src_res + \"/frac_corr_clusters_frame_tid_*_iterativespatial_{}.txt\".format(threshold_cluster_width_used)\n",
    "src_frac_uncorr_frame_spatial        = src_res + \"/frac_uncorr_frame_tid_*_iterativespatial_{}.txt\".format(threshold_cluster_width_used)\n",
    "src_efficiency_stats_spatial         = src_res + \"/efficiency_stats_tid_*_iterativespatial_{}.txt\".format(threshold_cluster_width_used)\n",
    "\n",
    "fnames_frac_corr_frame_spatial           = glob(src_frac_corr_frame_spatial)\n",
    "fnames_frac_corr_clusters_frame_spatial  = glob(src_frac_corr_clusters_frame_spatial)\n",
    "fnames_frac_uncorr_frame_spatial         = glob(src_frac_uncorr_frame_spatial)\n",
    "fnames_efficiency_stats_spatial          = glob(src_efficiency_stats_spatial)\n",
    "\n",
    "array_frac_corr_frame_spatial          = np.concatenate([np.loadtxt(f) for f in fnames_frac_corr_frame_spatial])\n",
    "array_frac_corr_clusters_frame_spatial = np.concatenate([np.loadtxt(f) for f in fnames_frac_corr_clusters_frame_spatial])\n",
    "array_frac_uncorr_frame_spatial        = np.concatenate([np.loadtxt(f) for f in fnames_frac_uncorr_frame_spatial])\n",
    "#array_efficiency_stats         = np.concatenate([np.loadtxt(f) for f in fnames_efficiency_stats])"
   ]
  },
  {
   "cell_type": "markdown",
   "metadata": {},
   "source": [
    "### Efficiency statistics"
   ]
  },
  {
   "cell_type": "code",
   "execution_count": null,
   "metadata": {},
   "outputs": [],
   "source": [
    "for f in fnames_efficiency_stats_spatial:\n",
    "    print(\"File: \" + f)\n",
    "    with open(f, \"r\", encoding=\"utf-8\") as file:\n",
    "        for line in file:\n",
    "            print(line.strip())\n",
    "    print(\"\\n\")"
   ]
  },
  {
   "cell_type": "markdown",
   "metadata": {},
   "source": [
    "### Efficiency plots"
   ]
  },
  {
   "cell_type": "markdown",
   "metadata": {},
   "source": [
    "#### Hits associated to wrong cluster"
   ]
  },
  {
   "cell_type": "code",
   "execution_count": null,
   "metadata": {},
   "outputs": [],
   "source": [
    "fig = plt.figure(figsize=(12,6))\n",
    "plt.hist(array_frac_uncorr_frame_spatial, bins = 300)\n",
    "plt.title(\"Incorrectly associated hits / all hits in clusters (per frame)\")\n",
    "plt.xlim(0,1)\n",
    "plt.xlabel(\"Fraction of incorrectly associated hits\")\n",
    "#plt.savefig(\"incorr_associated_all_30_files_spatial.png\", dpi = 300)\n",
    "plt.show()"
   ]
  },
  {
   "cell_type": "markdown",
   "metadata": {},
   "source": [
    "#### Hits associated to correct cluster"
   ]
  },
  {
   "cell_type": "code",
   "execution_count": null,
   "metadata": {},
   "outputs": [],
   "source": [
    "fig = plt.figure(figsize=(12,6))\n",
    "plt.hist(array_frac_corr_frame_spatial, bins = 300)\n",
    "plt.title(\"Correctly associated hits / all hits in frame (per frame)\")\n",
    "plt.xlim(0,1)\n",
    "plt.xlabel(\"Fraction of correctly associated hits\")\n",
    "#plt.savefig(\"corr_associated_all_30_files_spatial.png\", dpi = 300)\n",
    "\n",
    "plt.show()"
   ]
  },
  {
   "cell_type": "markdown",
   "metadata": {},
   "source": [
    "#### Combined histograms"
   ]
  },
  {
   "cell_type": "code",
   "execution_count": null,
   "metadata": {},
   "outputs": [],
   "source": [
    "fig = plt.figure(figsize=(12,6))\n",
    "plt.hist(array_frac_corr_frame_spatial, bins = 300, label = \"Hits correctly associated to cluster / All hits in clusters\")\n",
    "plt.hist(array_frac_uncorr_frame_spatial, bins = 300, label = \"Hits incorrectly associated to cluster / All hits in clusters\")\n",
    "plt.title(\"Correctly and incorrectly associated hits / all hits in clusters (per frame)\")\n",
    "plt.xlim(0,1)\n",
    "plt.xlabel(\"Fraction of total hits\")\n",
    "plt.legend()\n",
    "#plt.savefig(\"Corr_and_incorr_fractions_all_30_files_spatial.png\", dpi = 300)\n",
    "plt.show()"
   ]
  },
  {
   "cell_type": "markdown",
   "metadata": {},
   "source": [
    "### Efficiency vs maximum cluster width"
   ]
  },
  {
   "cell_type": "code",
   "execution_count": null,
   "metadata": {
    "scrolled": false
   },
   "outputs": [],
   "source": [
    "function_str = \"mt_efficiency_as_function_of_cluster_width\"\n",
    "cluster_width_array_used = np.arange(10,101,1)\n",
    "filename_used = \"./testdata/sorted/root_files_fixed/mu3e_sorted_000127.root\"\n",
    "args_spatial = (filename_used, time_threshold_used, \"big\", None, None, \"iterativespatial\")\n",
    "\n",
    "#clump.multithreading.run_mt(function_str, src_spatial, args_spatial, cluster_width_array = cluster_width_array_used)"
   ]
  },
  {
   "cell_type": "code",
   "execution_count": null,
   "metadata": {},
   "outputs": [],
   "source": [
    "src_cluster_width_spatial    = src_res + \"/efficiency_vs_cluster_width_*_iterativespatial.txt\"\n",
    "fnames_cluster_width_spatial = glob(src_cluster_width_spatial)\n",
    "\n",
    "array_cluster_width_eff_spatial  = []\n",
    "array_cluster_width_spatial = []\n",
    "array_cluster_width_tmp_spatial = []\n",
    "array_cluster_width_tmp_spatial.append([np.loadtxt(f) for f in fnames_cluster_width_spatial])\n",
    "for i in array_cluster_width_tmp_spatial[0]:\n",
    "    array_cluster_width_eff_spatial.append(float(i[0]))\n",
    "    array_cluster_width_spatial.append(float(i[1]))"
   ]
  },
  {
   "cell_type": "code",
   "execution_count": null,
   "metadata": {},
   "outputs": [],
   "source": [
    "fig = plt.figure(figsize=(12,6))\n",
    "plt.scatter(array_cluster_width_spatial, array_cluster_width_eff_spatial)\n",
    "plt.xlabel(\"Maximum distance between clusters [mm]\")\n",
    "plt.ylabel(\"Efficiency\")\n",
    "plt.title(\"Efficiency as function of the maximum distance between clusters with same tid\")\n",
    "#plt.savefig(\"efficiency_vs_max_distance_threshold_10-100_1_all_frames_each_correct.png\", dpi=300)\n",
    "plt.show()"
   ]
  }
 ],
 "metadata": {
  "kernelspec": {
   "display_name": "Python 3",
   "language": "python",
   "name": "python3"
  },
  "language_info": {
   "codemirror_mode": {
    "name": "ipython",
    "version": 3
   },
   "file_extension": ".py",
   "mimetype": "text/x-python",
   "name": "python",
   "nbconvert_exporter": "python",
   "pygments_lexer": "ipython3",
   "version": "3.8.10"
  }
 },
 "nbformat": 4,
 "nbformat_minor": 5
}
