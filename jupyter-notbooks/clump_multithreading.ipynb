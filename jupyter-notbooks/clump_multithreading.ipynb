{
 "cells": [
  {
   "cell_type": "code",
   "execution_count": 1,
   "id": "e25669ef",
   "metadata": {},
   "outputs": [
    {
     "name": "stdout",
     "output_type": "stream",
     "text": [
      "/home/erik/GitHub/melp\n",
      "Welcome to JupyROOT 6.24/06\n"
     ]
    }
   ],
   "source": [
    "%cd ..\n",
    "import ROOT\n",
    "import numpy as np\n",
    "import matplotlib.pyplot as plt\n",
    "import matplotlib as mpl\n",
    "import matplotlib.cm as cm\n",
    "from matplotlib.colors import ListedColormap, LinearSegmentedColormap\n",
    "from melp import Detector\n",
    "import melp\n",
    "import math\n",
    "import random\n",
    "from glob import glob\n",
    "\n",
    "from melp.clustering.misc import*\n",
    "import melp.clustering as clump\n",
    "import melp.clustering.time_cluster as tclump\n",
    "#from melp import TileAnalyzer\n",
    "import melp.clustering.spatial_cluster as sclump\n",
    "import melp.clustering.plots as clump_plt\n",
    "import melp.clustering.three_frame_cluster as clump_3\n",
    "\n",
    "plt.rcParams.update({'font.size': 16})"
   ]
  },
  {
   "cell_type": "markdown",
   "id": "8e431896",
   "metadata": {},
   "source": [
    "## Time then iterative spatial clustering"
   ]
  },
  {
   "cell_type": "code",
   "execution_count": 2,
   "id": "6e538860",
   "metadata": {},
   "outputs": [
    {
     "name": "stdout",
     "output_type": "stream",
     "text": [
      "-----------------------\n",
      "Available threads =  8\n",
      "Used threads =  6\n",
      "-----------------------\n",
      "read file read file read file read file read file    read file  13 \n",
      "9\n",
      "75 started thread started thread \n",
      "\n",
      "11 started thread   \n",
      "\n",
      "started thread 13started thread started thread \n",
      "\n",
      "   117\n",
      "\n",
      "95\n",
      "\n",
      "read file  6\n",
      "started thread  6\n",
      "read file  8\n",
      "started thread  8\n",
      "read file  10read file \n",
      " 12started thread  10\n",
      "\n",
      "started thread  12\n",
      "read file  4\n",
      "started thread  4\n",
      "read file  2\n",
      "started thread  2\n",
      "read file  13\n",
      "started thread  13\n",
      "read file  15\n",
      "started thread  15\n",
      "read file  17\n",
      "started thread  17\n",
      "read file  19\n",
      "started thread  19\n",
      "read file  21\n",
      "started thread  21\n",
      "read file  23\n",
      "started thread  23\n"
     ]
    },
    {
     "name": "stderr",
     "output_type": "stream",
     "text": [
      "Process ForkPoolWorker-4:\n",
      "Process ForkPoolWorker-6:\n",
      "Process ForkPoolWorker-5:\n",
      "Process ForkPoolWorker-3:\n",
      "Process ForkPoolWorker-1:\n",
      "Process ForkPoolWorker-2:\n",
      "Traceback (most recent call last):\n",
      "Traceback (most recent call last):\n",
      "Traceback (most recent call last):\n",
      "  File \"/usr/lib/python3.8/multiprocessing/process.py\", line 315, in _bootstrap\n",
      "    self.run()\n",
      "Traceback (most recent call last):\n",
      "  File \"/usr/lib/python3.8/multiprocessing/process.py\", line 315, in _bootstrap\n",
      "    self.run()\n",
      "Traceback (most recent call last):\n",
      "Traceback (most recent call last):\n",
      "  File \"/usr/lib/python3.8/multiprocessing/process.py\", line 315, in _bootstrap\n",
      "    self.run()\n",
      "  File \"/usr/lib/python3.8/multiprocessing/process.py\", line 108, in run\n",
      "    self._target(*self._args, **self._kwargs)\n",
      "  File \"/usr/lib/python3.8/multiprocessing/process.py\", line 108, in run\n",
      "    self._target(*self._args, **self._kwargs)\n",
      "  File \"/usr/lib/python3.8/multiprocessing/process.py\", line 315, in _bootstrap\n",
      "    self.run()\n",
      "  File \"/usr/lib/python3.8/multiprocessing/process.py\", line 315, in _bootstrap\n",
      "    self.run()\n",
      "  File \"/usr/lib/python3.8/multiprocessing/process.py\", line 108, in run\n",
      "    self._target(*self._args, **self._kwargs)\n",
      "  File \"/usr/lib/python3.8/multiprocessing/process.py\", line 315, in _bootstrap\n",
      "    self.run()\n",
      "  File \"/usr/lib/python3.8/multiprocessing/pool.py\", line 125, in worker\n",
      "    result = (True, func(*args, **kwds))\n",
      "  File \"/usr/lib/python3.8/multiprocessing/process.py\", line 108, in run\n",
      "    self._target(*self._args, **self._kwargs)\n",
      "  File \"/usr/lib/python3.8/multiprocessing/pool.py\", line 125, in worker\n",
      "    result = (True, func(*args, **kwds))\n",
      "  File \"/usr/lib/python3.8/multiprocessing/pool.py\", line 125, in worker\n",
      "    result = (True, func(*args, **kwds))\n",
      "  File \"/usr/lib/python3.8/multiprocessing/process.py\", line 108, in run\n",
      "    self._target(*self._args, **self._kwargs)\n",
      "  File \"/usr/lib/python3.8/multiprocessing/pool.py\", line 48, in mapstar\n",
      "    return list(map(*args))\n",
      "  File \"/usr/lib/python3.8/multiprocessing/pool.py\", line 125, in worker\n",
      "    result = (True, func(*args, **kwds))\n",
      "  File \"/usr/lib/python3.8/multiprocessing/pool.py\", line 48, in mapstar\n",
      "    return list(map(*args))\n",
      "  File \"/usr/lib/python3.8/multiprocessing/process.py\", line 108, in run\n",
      "    self._target(*self._args, **self._kwargs)\n",
      "  File \"/usr/lib/python3.8/multiprocessing/pool.py\", line 125, in worker\n",
      "    result = (True, func(*args, **kwds))\n",
      "  File \"/usr/lib/python3.8/multiprocessing/pool.py\", line 48, in mapstar\n",
      "    return list(map(*args))\n",
      "  File \"/usr/lib/python3.8/multiprocessing/pool.py\", line 125, in worker\n",
      "    result = (True, func(*args, **kwds))\n",
      "  File \"/home/erik/GitHub/melp/melp/clustering/multithreading.py\", line 426, in mt_compare_to_tid\n",
      "    compare_to_tid_filename(input_files[0][i], time_threshold, threshold_cluster_width, mask_type, rec_type, cluster_type)\n",
      "  File \"/home/erik/GitHub/melp/melp/clustering/multithreading.py\", line 279, in compare_to_tid_filename\n",
      "    for j in range(len(clusters)):\n",
      "  File \"/home/erik/GitHub/melp/melp/clustering/multithreading.py\", line 426, in mt_compare_to_tid\n",
      "    compare_to_tid_filename(input_files[0][i], time_threshold, threshold_cluster_width, mask_type, rec_type, cluster_type)\n",
      "  File \"/usr/lib/python3.8/multiprocessing/pool.py\", line 48, in mapstar\n",
      "    return list(map(*args))\n",
      "  File \"/home/erik/GitHub/melp/melp/clustering/multithreading.py\", line 426, in mt_compare_to_tid\n",
      "    compare_to_tid_filename(input_files[0][i], time_threshold, threshold_cluster_width, mask_type, rec_type, cluster_type)\n",
      "  File \"/usr/lib/python3.8/multiprocessing/pool.py\", line 48, in mapstar\n",
      "    return list(map(*args))\n",
      "  File \"/home/erik/GitHub/melp/melp/clustering/multithreading.py\", line 426, in mt_compare_to_tid\n",
      "    compare_to_tid_filename(input_files[0][i], time_threshold, threshold_cluster_width, mask_type, rec_type, cluster_type)\n",
      "  File \"/usr/lib/python3.8/multiprocessing/pool.py\", line 48, in mapstar\n",
      "    return list(map(*args))\n",
      "  File \"/home/erik/GitHub/melp/melp/clustering/multithreading.py\", line 234, in compare_to_tid_filename\n",
      "    clusters = clump.three_dim_cluster.iterative_masks_after_time_clustering(ttree_mu3e, ttree_mu3e_mc, ttree_sensor, ttree_tiles,  mu3e_detector, frame, time_threshold, mask_type, rec_type)\n",
      "KeyboardInterrupt\n",
      "  File \"/home/erik/GitHub/melp/melp/clustering/multithreading.py\", line 426, in mt_compare_to_tid\n",
      "    compare_to_tid_filename(input_files[0][i], time_threshold, threshold_cluster_width, mask_type, rec_type, cluster_type)\n",
      "  File \"/home/erik/GitHub/melp/melp/clustering/multithreading.py\", line 234, in compare_to_tid_filename\n",
      "    clusters = clump.three_dim_cluster.iterative_masks_after_time_clustering(ttree_mu3e, ttree_mu3e_mc, ttree_sensor, ttree_tiles,  mu3e_detector, frame, time_threshold, mask_type, rec_type)\n",
      "  File \"/home/erik/GitHub/melp/melp/clustering/multithreading.py\", line 234, in compare_to_tid_filename\n",
      "    clusters = clump.three_dim_cluster.iterative_masks_after_time_clustering(ttree_mu3e, ttree_mu3e_mc, ttree_sensor, ttree_tiles,  mu3e_detector, frame, time_threshold, mask_type, rec_type)\n",
      "  File \"/home/erik/GitHub/melp/melp/clustering/multithreading.py\", line 426, in mt_compare_to_tid\n",
      "    compare_to_tid_filename(input_files[0][i], time_threshold, threshold_cluster_width, mask_type, rec_type, cluster_type)\n",
      "  File \"/home/erik/GitHub/melp/melp/clustering/three_dim_cluster.py\", line 125, in iterative_masks_after_time_clustering\n",
      "    hit_tiles_frame.append(ttree_mu3e.tilehit_tile[hit_tile_index])\n",
      "  File \"/home/erik/GitHub/melp/melp/clustering/three_dim_cluster.py\", line 146, in iterative_masks_after_time_clustering\n",
      "    if time_cluster.hits[j].tile_id in mask_tmp and time_cluster.hits[j].tile_id not in added_hits:\n",
      "  File \"/home/erik/GitHub/melp/melp/clustering/multithreading.py\", line 234, in compare_to_tid_filename\n",
      "    clusters = clump.three_dim_cluster.iterative_masks_after_time_clustering(ttree_mu3e, ttree_mu3e_mc, ttree_sensor, ttree_tiles,  mu3e_detector, frame, time_threshold, mask_type, rec_type)\n",
      "  File \"/home/erik/GitHub/melp/melp/clustering/three_dim_cluster.py\", line 155, in iterative_masks_after_time_clustering\n",
      "    if time_cluster.hits[m].tile_id in next_mask_tmp and time_cluster.hits[m].tile_id not in added_hits:\n",
      "KeyboardInterrupt\n",
      "  File \"/home/erik/GitHub/melp/melp/clustering/multithreading.py\", line 234, in compare_to_tid_filename\n",
      "    clusters = clump.three_dim_cluster.iterative_masks_after_time_clustering(ttree_mu3e, ttree_mu3e_mc, ttree_sensor, ttree_tiles,  mu3e_detector, frame, time_threshold, mask_type, rec_type)\n",
      "  File \"/home/erik/GitHub/melp/melp/clustering/three_dim_cluster.py\", line 144, in iterative_masks_after_time_clustering\n",
      "    mask_tmp, master_primary_mask, master_tid_mask = clump.masks.build_mask_single_hit(time_cluster.hits[i], ttree_mu3e, ttree_mu3e_mc, ttree_sensor, ttree_tiles, mu3e_detector, frame, mask_type, rec_type = None)\n",
      "KeyboardInterrupt\n",
      "  File \"/home/erik/GitHub/melp/melp/clustering/masks.py\", line 373, in build_mask_single_hit\n",
      "    tile_left_far_top      = mu3e_detector.TileDetector.getNeighbour(tile_left_top, \"up\")\n",
      "KeyboardInterrupt\n",
      "  File \"/home/erik/GitHub/melp/melp/clustering/three_dim_cluster.py\", line 144, in iterative_masks_after_time_clustering\n",
      "    mask_tmp, master_primary_mask, master_tid_mask = clump.masks.build_mask_single_hit(time_cluster.hits[i], ttree_mu3e, ttree_mu3e_mc, ttree_sensor, ttree_tiles, mu3e_detector, frame, mask_type, rec_type = None)\n",
      "  File \"/home/erik/GitHub/melp/melp/src/tile.py\", line 154, in getNeighbour\n",
      "    elif position == \"u\" or position == \"up\":\n",
      "  File \"/home/erik/GitHub/melp/melp/clustering/masks.py\", line 370, in build_mask_single_hit\n",
      "    tile_centre_far_top    = mu3e_detector.TileDetector.getNeighbour(tile_centre_top, \"up\")\n",
      "KeyboardInterrupt\n",
      "  File \"/home/erik/GitHub/melp/melp/src/tile.py\", line 163, in getNeighbour\n",
      "    neighbour_id = tileid + 1\n",
      "KeyboardInterrupt\n"
     ]
    },
    {
     "name": "stdout",
     "output_type": "stream",
     "text": [
      "read file read file   25\n",
      "started thread 27 \n",
      "25\n",
      "started thread  27\n",
      "read file  29\n",
      "started thread  29\n"
     ]
    },
    {
     "ename": "KeyboardInterrupt",
     "evalue": "",
     "output_type": "error",
     "traceback": [
      "\u001b[0;31m---------------------------------------------------------------------------\u001b[0m",
      "\u001b[0;31mKeyboardInterrupt\u001b[0m                         Traceback (most recent call last)",
      "\u001b[0;32m/tmp/ipykernel_6345/1759039594.py\u001b[0m in \u001b[0;36m<module>\u001b[0;34m\u001b[0m\n\u001b[1;32m      7\u001b[0m \u001b[0margs\u001b[0m \u001b[0;34m=\u001b[0m \u001b[0;34m(\u001b[0m\u001b[0mtime_threshold_used\u001b[0m\u001b[0;34m,\u001b[0m \u001b[0mthreshold_cluster_width_used\u001b[0m\u001b[0;34m,\u001b[0m \u001b[0;34m\"big\"\u001b[0m\u001b[0;34m,\u001b[0m \u001b[0;32mNone\u001b[0m\u001b[0;34m,\u001b[0m \u001b[0;34m\"timetheniterativespatial\"\u001b[0m\u001b[0;34m)\u001b[0m\u001b[0;34m\u001b[0m\u001b[0;34m\u001b[0m\u001b[0m\n\u001b[1;32m      8\u001b[0m \u001b[0;34m\u001b[0m\u001b[0m\n\u001b[0;32m----> 9\u001b[0;31m \u001b[0mclump\u001b[0m\u001b[0;34m.\u001b[0m\u001b[0mmultithreading\u001b[0m\u001b[0;34m.\u001b[0m\u001b[0mrun_mt\u001b[0m\u001b[0;34m(\u001b[0m\u001b[0mfunction_str\u001b[0m\u001b[0;34m,\u001b[0m \u001b[0msrc\u001b[0m\u001b[0;34m,\u001b[0m \u001b[0margs\u001b[0m\u001b[0;34m)\u001b[0m\u001b[0;34m\u001b[0m\u001b[0;34m\u001b[0m\u001b[0m\n\u001b[0m",
      "\u001b[0;32m~/GitHub/melp/melp/clustering/multithreading.py\u001b[0m in \u001b[0;36mrun_mt\u001b[0;34m(function_str, src, args, cluster_width_array)\u001b[0m\n\u001b[1;32m    461\u001b[0m     \u001b[0;32melif\u001b[0m \u001b[0mfunction_str\u001b[0m \u001b[0;34m==\u001b[0m \u001b[0;34m\"mt_compare_to_tid\"\u001b[0m\u001b[0;34m:\u001b[0m\u001b[0;34m\u001b[0m\u001b[0;34m\u001b[0m\u001b[0m\n\u001b[1;32m    462\u001b[0m         \u001b[0mfunc\u001b[0m \u001b[0;34m=\u001b[0m \u001b[0mpartial\u001b[0m\u001b[0;34m(\u001b[0m\u001b[0mmt_compare_to_tid\u001b[0m\u001b[0;34m,\u001b[0m \u001b[0minput_files\u001b[0m\u001b[0;34m,\u001b[0m \u001b[0;34m*\u001b[0m\u001b[0margs\u001b[0m\u001b[0;34m)\u001b[0m\u001b[0;34m\u001b[0m\u001b[0;34m\u001b[0m\u001b[0m\n\u001b[0;32m--> 463\u001b[0;31m         \u001b[0mpool\u001b[0m\u001b[0;34m.\u001b[0m\u001b[0mmap\u001b[0m\u001b[0;34m(\u001b[0m\u001b[0mfunc\u001b[0m\u001b[0;34m,\u001b[0m \u001b[0;34m[\u001b[0m\u001b[0mi\u001b[0m \u001b[0;32mfor\u001b[0m \u001b[0mi\u001b[0m \u001b[0;32min\u001b[0m \u001b[0mrange\u001b[0m\u001b[0;34m(\u001b[0m\u001b[0mlen\u001b[0m\u001b[0;34m(\u001b[0m\u001b[0minput_files\u001b[0m\u001b[0;34m[\u001b[0m\u001b[0;36m0\u001b[0m\u001b[0;34m]\u001b[0m\u001b[0;34m)\u001b[0m\u001b[0;34m)\u001b[0m\u001b[0;34m]\u001b[0m\u001b[0;34m)\u001b[0m\u001b[0;34m\u001b[0m\u001b[0;34m\u001b[0m\u001b[0m\n\u001b[0m\u001b[1;32m    464\u001b[0m     \u001b[0;32melif\u001b[0m \u001b[0mfunction_str\u001b[0m \u001b[0;34m==\u001b[0m \u001b[0;34m\"mt_efficiency_as_function_of_cluster_width\"\u001b[0m\u001b[0;34m:\u001b[0m\u001b[0;34m\u001b[0m\u001b[0;34m\u001b[0m\u001b[0m\n\u001b[1;32m    465\u001b[0m         \u001b[0mfunc\u001b[0m \u001b[0;34m=\u001b[0m \u001b[0mpartial\u001b[0m\u001b[0;34m(\u001b[0m\u001b[0mmt_efficiency_as_function_of_cluster_width\u001b[0m\u001b[0;34m,\u001b[0m \u001b[0mcluster_width_array\u001b[0m\u001b[0;34m,\u001b[0m \u001b[0;34m*\u001b[0m\u001b[0margs\u001b[0m\u001b[0;34m)\u001b[0m\u001b[0;34m\u001b[0m\u001b[0;34m\u001b[0m\u001b[0m\n",
      "\u001b[0;32m/usr/lib/python3.8/multiprocessing/pool.py\u001b[0m in \u001b[0;36mmap\u001b[0;34m(self, func, iterable, chunksize)\u001b[0m\n\u001b[1;32m    362\u001b[0m         \u001b[0;32min\u001b[0m \u001b[0ma\u001b[0m \u001b[0mlist\u001b[0m \u001b[0mthat\u001b[0m \u001b[0;32mis\u001b[0m \u001b[0mreturned\u001b[0m\u001b[0;34m.\u001b[0m\u001b[0;34m\u001b[0m\u001b[0;34m\u001b[0m\u001b[0m\n\u001b[1;32m    363\u001b[0m         '''\n\u001b[0;32m--> 364\u001b[0;31m         \u001b[0;32mreturn\u001b[0m \u001b[0mself\u001b[0m\u001b[0;34m.\u001b[0m\u001b[0m_map_async\u001b[0m\u001b[0;34m(\u001b[0m\u001b[0mfunc\u001b[0m\u001b[0;34m,\u001b[0m \u001b[0miterable\u001b[0m\u001b[0;34m,\u001b[0m \u001b[0mmapstar\u001b[0m\u001b[0;34m,\u001b[0m \u001b[0mchunksize\u001b[0m\u001b[0;34m)\u001b[0m\u001b[0;34m.\u001b[0m\u001b[0mget\u001b[0m\u001b[0;34m(\u001b[0m\u001b[0;34m)\u001b[0m\u001b[0;34m\u001b[0m\u001b[0;34m\u001b[0m\u001b[0m\n\u001b[0m\u001b[1;32m    365\u001b[0m \u001b[0;34m\u001b[0m\u001b[0m\n\u001b[1;32m    366\u001b[0m     \u001b[0;32mdef\u001b[0m \u001b[0mstarmap\u001b[0m\u001b[0;34m(\u001b[0m\u001b[0mself\u001b[0m\u001b[0;34m,\u001b[0m \u001b[0mfunc\u001b[0m\u001b[0;34m,\u001b[0m \u001b[0miterable\u001b[0m\u001b[0;34m,\u001b[0m \u001b[0mchunksize\u001b[0m\u001b[0;34m=\u001b[0m\u001b[0;32mNone\u001b[0m\u001b[0;34m)\u001b[0m\u001b[0;34m:\u001b[0m\u001b[0;34m\u001b[0m\u001b[0;34m\u001b[0m\u001b[0m\n",
      "\u001b[0;32m/usr/lib/python3.8/multiprocessing/pool.py\u001b[0m in \u001b[0;36mget\u001b[0;34m(self, timeout)\u001b[0m\n\u001b[1;32m    763\u001b[0m \u001b[0;34m\u001b[0m\u001b[0m\n\u001b[1;32m    764\u001b[0m     \u001b[0;32mdef\u001b[0m \u001b[0mget\u001b[0m\u001b[0;34m(\u001b[0m\u001b[0mself\u001b[0m\u001b[0;34m,\u001b[0m \u001b[0mtimeout\u001b[0m\u001b[0;34m=\u001b[0m\u001b[0;32mNone\u001b[0m\u001b[0;34m)\u001b[0m\u001b[0;34m:\u001b[0m\u001b[0;34m\u001b[0m\u001b[0;34m\u001b[0m\u001b[0m\n\u001b[0;32m--> 765\u001b[0;31m         \u001b[0mself\u001b[0m\u001b[0;34m.\u001b[0m\u001b[0mwait\u001b[0m\u001b[0;34m(\u001b[0m\u001b[0mtimeout\u001b[0m\u001b[0;34m)\u001b[0m\u001b[0;34m\u001b[0m\u001b[0;34m\u001b[0m\u001b[0m\n\u001b[0m\u001b[1;32m    766\u001b[0m         \u001b[0;32mif\u001b[0m \u001b[0;32mnot\u001b[0m \u001b[0mself\u001b[0m\u001b[0;34m.\u001b[0m\u001b[0mready\u001b[0m\u001b[0;34m(\u001b[0m\u001b[0;34m)\u001b[0m\u001b[0;34m:\u001b[0m\u001b[0;34m\u001b[0m\u001b[0;34m\u001b[0m\u001b[0m\n\u001b[1;32m    767\u001b[0m             \u001b[0;32mraise\u001b[0m \u001b[0mTimeoutError\u001b[0m\u001b[0;34m\u001b[0m\u001b[0;34m\u001b[0m\u001b[0m\n",
      "\u001b[0;32m/usr/lib/python3.8/multiprocessing/pool.py\u001b[0m in \u001b[0;36mwait\u001b[0;34m(self, timeout)\u001b[0m\n\u001b[1;32m    760\u001b[0m \u001b[0;34m\u001b[0m\u001b[0m\n\u001b[1;32m    761\u001b[0m     \u001b[0;32mdef\u001b[0m \u001b[0mwait\u001b[0m\u001b[0;34m(\u001b[0m\u001b[0mself\u001b[0m\u001b[0;34m,\u001b[0m \u001b[0mtimeout\u001b[0m\u001b[0;34m=\u001b[0m\u001b[0;32mNone\u001b[0m\u001b[0;34m)\u001b[0m\u001b[0;34m:\u001b[0m\u001b[0;34m\u001b[0m\u001b[0;34m\u001b[0m\u001b[0m\n\u001b[0;32m--> 762\u001b[0;31m         \u001b[0mself\u001b[0m\u001b[0;34m.\u001b[0m\u001b[0m_event\u001b[0m\u001b[0;34m.\u001b[0m\u001b[0mwait\u001b[0m\u001b[0;34m(\u001b[0m\u001b[0mtimeout\u001b[0m\u001b[0;34m)\u001b[0m\u001b[0;34m\u001b[0m\u001b[0;34m\u001b[0m\u001b[0m\n\u001b[0m\u001b[1;32m    763\u001b[0m \u001b[0;34m\u001b[0m\u001b[0m\n\u001b[1;32m    764\u001b[0m     \u001b[0;32mdef\u001b[0m \u001b[0mget\u001b[0m\u001b[0;34m(\u001b[0m\u001b[0mself\u001b[0m\u001b[0;34m,\u001b[0m \u001b[0mtimeout\u001b[0m\u001b[0;34m=\u001b[0m\u001b[0;32mNone\u001b[0m\u001b[0;34m)\u001b[0m\u001b[0;34m:\u001b[0m\u001b[0;34m\u001b[0m\u001b[0;34m\u001b[0m\u001b[0m\n",
      "\u001b[0;32m/usr/lib/python3.8/threading.py\u001b[0m in \u001b[0;36mwait\u001b[0;34m(self, timeout)\u001b[0m\n\u001b[1;32m    556\u001b[0m             \u001b[0msignaled\u001b[0m \u001b[0;34m=\u001b[0m \u001b[0mself\u001b[0m\u001b[0;34m.\u001b[0m\u001b[0m_flag\u001b[0m\u001b[0;34m\u001b[0m\u001b[0;34m\u001b[0m\u001b[0m\n\u001b[1;32m    557\u001b[0m             \u001b[0;32mif\u001b[0m \u001b[0;32mnot\u001b[0m \u001b[0msignaled\u001b[0m\u001b[0;34m:\u001b[0m\u001b[0;34m\u001b[0m\u001b[0;34m\u001b[0m\u001b[0m\n\u001b[0;32m--> 558\u001b[0;31m                 \u001b[0msignaled\u001b[0m \u001b[0;34m=\u001b[0m \u001b[0mself\u001b[0m\u001b[0;34m.\u001b[0m\u001b[0m_cond\u001b[0m\u001b[0;34m.\u001b[0m\u001b[0mwait\u001b[0m\u001b[0;34m(\u001b[0m\u001b[0mtimeout\u001b[0m\u001b[0;34m)\u001b[0m\u001b[0;34m\u001b[0m\u001b[0;34m\u001b[0m\u001b[0m\n\u001b[0m\u001b[1;32m    559\u001b[0m             \u001b[0;32mreturn\u001b[0m \u001b[0msignaled\u001b[0m\u001b[0;34m\u001b[0m\u001b[0;34m\u001b[0m\u001b[0m\n\u001b[1;32m    560\u001b[0m \u001b[0;34m\u001b[0m\u001b[0m\n",
      "\u001b[0;32m/usr/lib/python3.8/threading.py\u001b[0m in \u001b[0;36mwait\u001b[0;34m(self, timeout)\u001b[0m\n\u001b[1;32m    300\u001b[0m         \u001b[0;32mtry\u001b[0m\u001b[0;34m:\u001b[0m    \u001b[0;31m# restore state no matter what (e.g., KeyboardInterrupt)\u001b[0m\u001b[0;34m\u001b[0m\u001b[0;34m\u001b[0m\u001b[0m\n\u001b[1;32m    301\u001b[0m             \u001b[0;32mif\u001b[0m \u001b[0mtimeout\u001b[0m \u001b[0;32mis\u001b[0m \u001b[0;32mNone\u001b[0m\u001b[0;34m:\u001b[0m\u001b[0;34m\u001b[0m\u001b[0;34m\u001b[0m\u001b[0m\n\u001b[0;32m--> 302\u001b[0;31m                 \u001b[0mwaiter\u001b[0m\u001b[0;34m.\u001b[0m\u001b[0macquire\u001b[0m\u001b[0;34m(\u001b[0m\u001b[0;34m)\u001b[0m\u001b[0;34m\u001b[0m\u001b[0;34m\u001b[0m\u001b[0m\n\u001b[0m\u001b[1;32m    303\u001b[0m                 \u001b[0mgotit\u001b[0m \u001b[0;34m=\u001b[0m \u001b[0;32mTrue\u001b[0m\u001b[0;34m\u001b[0m\u001b[0;34m\u001b[0m\u001b[0m\n\u001b[1;32m    304\u001b[0m             \u001b[0;32melse\u001b[0m\u001b[0;34m:\u001b[0m\u001b[0;34m\u001b[0m\u001b[0;34m\u001b[0m\u001b[0m\n",
      "\u001b[0;31mKeyboardInterrupt\u001b[0m: "
     ]
    }
   ],
   "source": [
    "time_threshold_used = 1.2\n",
    "threshold_cluster_width_used = 20 \n",
    "\n",
    "function_str = \"mt_compare_to_tid\"\n",
    "src = \"./testdata/sorted/root_files_fixed/mu3e_sorted_000*.root\"\n",
    "\n",
    "args = (time_threshold_used, threshold_cluster_width_used, \"big\", None, \"timetheniterativespatial\")\n",
    "\n",
    "clump.multithreading.run_mt(function_str, src, args)"
   ]
  },
  {
   "cell_type": "code",
   "execution_count": null,
   "id": "f1c9278b",
   "metadata": {},
   "outputs": [],
   "source": [
    "src_res = \"./melp/clustering/results\"\n",
    "\n",
    "src_frac_corr_frame          = src_res + \"/frac_corr_frame_tid_timetheniterativespatial_*.txt\"\n",
    "src_frac_corr_clusters_frame = src_res + \"/frac_corr_clusters_frame_tid_timetheniterativespatial_*.txt\"\n",
    "src_frac_uncorr_frame        = src_res + \"/frac_uncorr_frame_tid_timetheniterativespatial_*.txt\"\n",
    "src_efficiency_stats         = src_res + \"/efficiency_stats_tid_timetheniterativespatial_*.txt\"\n",
    "\n",
    "fnames_frac_corr_frame           = glob(src_frac_corr_frame)\n",
    "fnames_frac_corr_clusters_frame  = glob(src_frac_corr_clusters_frame)\n",
    "fnames_frac_uncorr_frame         = glob(src_frac_uncorr_frame)\n",
    "fnames_efficiency_stats          = glob(src_efficiency_stats)\n",
    "\n",
    "array_frac_corr_frame          = np.concatenate([np.loadtxt(f) for f in fnames_frac_corr_frame])\n",
    "array_frac_corr_clusters_frame = np.concatenate([np.loadtxt(f) for f in fnames_frac_corr_clusters_frame])\n",
    "array_frac_uncorr_frame        = np.concatenate([np.loadtxt(f) for f in fnames_frac_uncorr_frame])\n",
    "#array_efficiency_stats         = np.concatenate([np.loadtxt(f) for f in fnames_efficiency_stats])"
   ]
  },
  {
   "cell_type": "markdown",
   "id": "8c1d43eb",
   "metadata": {},
   "source": [
    "### Efficiency statistics"
   ]
  },
  {
   "cell_type": "code",
   "execution_count": null,
   "id": "a202634e",
   "metadata": {
    "scrolled": true
   },
   "outputs": [],
   "source": [
    "for f in fnames_efficiency_stats:\n",
    "    print(\"File: \" + f)\n",
    "    with open(f, \"r\", encoding=\"utf-8\") as file:\n",
    "        for line in file:\n",
    "            print(line.strip())\n",
    "    print(\"\\n\")"
   ]
  },
  {
   "cell_type": "markdown",
   "id": "206a490a",
   "metadata": {},
   "source": [
    "### Efficiency plots"
   ]
  },
  {
   "cell_type": "markdown",
   "id": "78e314af",
   "metadata": {},
   "source": [
    "#### Hits associated to wrong cluster"
   ]
  },
  {
   "cell_type": "code",
   "execution_count": null,
   "id": "d727f332",
   "metadata": {},
   "outputs": [],
   "source": [
    "fig = plt.figure(figsize=(12,6))\n",
    "plt.hist(array_frac_uncorr_frame, bins = 500)\n",
    "plt.title(\"Incorrectly associated hits / all hits in clusters (per frame)\")\n",
    "plt.xlim(0,1)\n",
    "plt.xlabel(\"Fraction of incorrectly associated hits\")\n",
    "plt.show()"
   ]
  },
  {
   "cell_type": "markdown",
   "id": "1008edbc",
   "metadata": {},
   "source": [
    "#### Hits associated to correct cluster"
   ]
  },
  {
   "cell_type": "code",
   "execution_count": null,
   "id": "695931c1",
   "metadata": {},
   "outputs": [],
   "source": [
    "fig = plt.figure(figsize=(12,6))\n",
    "plt.hist(array_frac_corr_frame, bins = 500)\n",
    "plt.title(\"Correctly associated hits / all hits in frame (per frame)\")\n",
    "plt.xlim(0,1)\n",
    "plt.xlabel(\"Fraction of correctly associated hits\")\n",
    "plt.show()"
   ]
  },
  {
   "cell_type": "markdown",
   "id": "1e5f1df3",
   "metadata": {},
   "source": [
    "#### Combined histograms"
   ]
  },
  {
   "cell_type": "code",
   "execution_count": null,
   "id": "0ac7a2c7",
   "metadata": {},
   "outputs": [],
   "source": [
    "fig = plt.figure(figsize=(12,6))\n",
    "plt.hist(array_frac_corr_frame, bins = 500, label = \"Hits correctly associated to cluster / All hits in clusters\")\n",
    "plt.hist(array_frac_uncorr_frame, bins = 500, label = \"Hits incorrectly associated to cluster / All hits in clusters\")\n",
    "plt.title(\"Correctly and incorrectly associated hits / all hits in clusters (per frame)\")\n",
    "plt.xlim(0,1)\n",
    "plt.xlabel(\"Fraction of total hits\")\n",
    "plt.legend()\n",
    "#plt.savefig(\"Corr_and_incorr_fractions_hist.png\", dpi = 300)\n",
    "plt.show()"
   ]
  },
  {
   "cell_type": "markdown",
   "id": "d2533234",
   "metadata": {},
   "source": [
    "### Efficiency vs maximum cluster width"
   ]
  },
  {
   "cell_type": "code",
   "execution_count": null,
   "id": "ec16f67a",
   "metadata": {},
   "outputs": [],
   "source": [
    "function_str = \"mt_efficiency_as_function_of_cluster_width\"\n",
    "cluster_width_array_used = np.arange(10,101,1)\n",
    "filename_used = \"./testdata/sorted/root_files_fixed/mu3e_sorted_000127.root\"\n",
    "args = (filename_used, time_threshold_used, \"big\", None, None, \"timetheniterativespatial\")\n",
    "\n",
    "clump.multithreading.run_mt(function_str, src, args, cluster_width_array = cluster_width_array_used)"
   ]
  },
  {
   "cell_type": "code",
   "execution_count": null,
   "id": "12161c23",
   "metadata": {},
   "outputs": [],
   "source": [
    "src_cluster_width    = src_res + \"/efficiency_vs_cluster_width_timetheniterativespatial_*.txt\"\n",
    "fnames_cluster_width = glob(src_cluster_width)\n",
    "\n",
    "array_cluster_width_eff  = []\n",
    "array_cluster_width      = []\n",
    "array_cluster_width_tmp  = []\n",
    "array_cluster_width_tmp.append([np.loadtxt(f) for f in fnames_cluster_width])\n",
    "for i in array_cluster_width_tmp[0]:\n",
    "    array_cluster_width_eff.append(float(i[0]))\n",
    "    array_cluster_width.append(float(i[1]))"
   ]
  },
  {
   "cell_type": "code",
   "execution_count": null,
   "id": "fd4dbd3d",
   "metadata": {},
   "outputs": [],
   "source": [
    "fig = plt.figure(figsize=(12,6))\n",
    "plt.scatter(array_cluster_width, array_cluster_width_eff)\n",
    "plt.xlabel(\"Maximum distance between clusters [mm]\")\n",
    "plt.ylabel(\"Efficiency\")\n",
    "plt.title(\"Efficiency as function of the maximum distance between clusters with same tid\")\n",
    "plt.savefig(\"efficiency_vs_max_distance_threshold_10-100_1_all_frames_each_correct.png\", dpi=300)\n",
    "plt.show()"
   ]
  },
  {
   "cell_type": "markdown",
   "id": "64d8aec5",
   "metadata": {},
   "source": [
    "### Fraction of truth clusters bigger than threshold"
   ]
  },
  {
   "cell_type": "code",
   "execution_count": null,
   "id": "e87524d0",
   "metadata": {
    "scrolled": true
   },
   "outputs": [],
   "source": [
    "function_str = \"mt_frac_truth_cluster_size_filename\"\n",
    "cluster_width_array_used = np.arange(10,101,1)\n",
    "filename_used = \"/home/erik/GitHub/melp/testdata/sorted/root_files_fixed/mu3e_sorted_000127.root\"\n",
    "args = (filename_used, \"big\", None, None)\n",
    "\n",
    "clump.multithreading.run_mt(function_str, src, args, cluster_width_array = cluster_width_array_used)"
   ]
  },
  {
   "cell_type": "code",
   "execution_count": null,
   "id": "c44833e0",
   "metadata": {},
   "outputs": [],
   "source": [
    "src_frac_cluster_over    = src_res + \"/frac_truth_Cluster_size_timetheniterativespatial_*.txt\"\n",
    "fnames_frac_cluster_over = glob(src_frac_cluster_over)\n",
    "\n",
    "array_fractions_tmp = []\n",
    "array_fractions = []\n",
    "array_thresholds = []\n",
    "array_fractions_tmp.append([np.loadtxt(f) for f in fnames_frac_cluster_over])\n",
    "for i in array_fractions_tmp[0]:\n",
    "    array_fractions.append(float(i[0]))\n",
    "    array_thresholds.append(float(i[1]))"
   ]
  },
  {
   "cell_type": "code",
   "execution_count": null,
   "id": "c0b79575",
   "metadata": {},
   "outputs": [],
   "source": [
    "fig = plt.figure(figsize=(12,6))\n",
    "plt.scatter(array_thresholds, array_fractions)\n",
    "plt.xlabel(\"Threshold for cluster size\")\n",
    "plt.ylabel(\"Percentage\")\n",
    "plt.title(\"Percentage of all truth clusters bigger than threshold\")\n",
    "plt.savefig(\"percentage_truth_clusters_over_threshold_all_30_files.png\", dpi=300)\n",
    "plt.show()"
   ]
  },
  {
   "cell_type": "markdown",
   "id": "070ca43a",
   "metadata": {},
   "source": [
    "## Pure time clustering"
   ]
  },
  {
   "cell_type": "code",
   "execution_count": null,
   "id": "85021210",
   "metadata": {},
   "outputs": [],
   "source": [
    "time_threshold_used = 0.4\n",
    "threshold_cluster_width_used = 20 \n",
    "\n",
    "function_str = \"mt_compare_to_tid\"\n",
    "src_time = \"./testdata/sorted/root_files_fixed/mu3e_sorted_000*.root\"\n",
    "\n",
    "args_time = (time_threshold_used, threshold_cluster_width_used, \"big\", None, \"time\")\n",
    "\n",
    "clump.multithreading.run_mt(function_str, src_time, args_time)"
   ]
  },
  {
   "cell_type": "code",
   "execution_count": null,
   "id": "57324dbf",
   "metadata": {},
   "outputs": [],
   "source": [
    "src_frac_corr_frame_time          = src_res + \"/frac_corr_frame_tid_time_*.txt\"\n",
    "src_frac_corr_clusters_frame_time = src_res + \"/frac_corr_clusters_frame_tid_time_*.txt\"\n",
    "src_frac_uncorr_frame_time        = src_res + \"/frac_uncorr_frame_tid_time_*.txt\"\n",
    "src_efficiency_stats_time         = src_res + \"/efficiency_stats_tid_time_*.txt\"\n",
    "\n",
    "fnames_frac_corr_frame_time           = glob(src_frac_corr_frame_time)\n",
    "fnames_frac_corr_clusters_frame_time  = glob(src_frac_corr_clusters_frame_time)\n",
    "fnames_frac_uncorr_frame_time         = glob(src_frac_uncorr_frame_time)\n",
    "fnames_efficiency_stats_time          = glob(src_efficiency_stats_time)\n",
    "\n",
    "array_frac_corr_frame_time          = np.concatenate([np.loadtxt(f) for f in fnames_frac_corr_frame_time])\n",
    "array_frac_corr_clusters_frame_time = np.concatenate([np.loadtxt(f) for f in fnames_frac_corr_clusters_frame_time])\n",
    "array_frac_uncorr_frame_time        = np.concatenate([np.loadtxt(f) for f in fnames_frac_uncorr_frame_time])\n",
    "#array_efficiency_stats         = np.concatenate([np.loadtxt(f) for f in fnames_efficiency_stats])"
   ]
  },
  {
   "cell_type": "markdown",
   "id": "ee651fea",
   "metadata": {},
   "source": [
    "### Efficiency statistics"
   ]
  },
  {
   "cell_type": "code",
   "execution_count": null,
   "id": "a1cf81c4",
   "metadata": {},
   "outputs": [],
   "source": [
    "for f in fnames_efficiency_stats_time:\n",
    "    print(\"File: \" + f)\n",
    "    with open(f, \"r\", encoding=\"utf-8\") as file:\n",
    "        for line in file:\n",
    "            print(line.strip())\n",
    "    print(\"\\n\")"
   ]
  },
  {
   "cell_type": "markdown",
   "id": "1b6081f3",
   "metadata": {},
   "source": [
    "### Efficiency plots"
   ]
  },
  {
   "cell_type": "markdown",
   "id": "ac0592c8",
   "metadata": {},
   "source": [
    "#### Hits associated to wrong cluster"
   ]
  },
  {
   "cell_type": "code",
   "execution_count": null,
   "id": "33c62c15",
   "metadata": {},
   "outputs": [],
   "source": [
    "fig = plt.figure(figsize=(12,6))\n",
    "plt.hist(array_frac_uncorr_frame_time, bins = 500)\n",
    "plt.title(\"Incorrectly associated hits / all hits in clusters (per frame)\")\n",
    "plt.xlim(0,1)\n",
    "plt.xlabel(\"Fraction of incorrectly associated hits\")\n",
    "plt.show()"
   ]
  },
  {
   "cell_type": "markdown",
   "id": "5223eafa",
   "metadata": {},
   "source": [
    "#### Hits associated to correct cluster"
   ]
  },
  {
   "cell_type": "code",
   "execution_count": null,
   "id": "9169411a",
   "metadata": {},
   "outputs": [],
   "source": [
    "fig = plt.figure(figsize=(12,6))\n",
    "plt.hist(array_frac_corr_frame_time, bins = 500)\n",
    "plt.title(\"Correctly associated hits / all hits in frame (per frame)\")\n",
    "plt.xlim(0,1)\n",
    "plt.xlabel(\"Fraction of correctly associated hits\")\n",
    "plt.show()"
   ]
  },
  {
   "cell_type": "markdown",
   "id": "77c0b4b0",
   "metadata": {},
   "source": [
    "#### Combined histograms"
   ]
  },
  {
   "cell_type": "code",
   "execution_count": null,
   "id": "6dca97ec",
   "metadata": {},
   "outputs": [],
   "source": [
    "fig = plt.figure(figsize=(12,6))\n",
    "plt.hist(array_frac_corr_frame_time, bins = 500, label = \"Hits correctly associated to cluster / All hits in clusters\")\n",
    "plt.hist(array_frac_uncorr_frame_time, bins = 500, label = \"Hits incorrectly associated to cluster / All hits in clusters\")\n",
    "plt.title(\"Correctly and incorrectly associated hits / all hits in clusters (per frame)\")\n",
    "plt.xlim(0,1)\n",
    "plt.xlabel(\"Fraction of total hits\")\n",
    "plt.legend()\n",
    "#plt.savefig(\"Corr_and_incorr_fractions_hist.png\", dpi = 300)\n",
    "plt.show()"
   ]
  },
  {
   "cell_type": "markdown",
   "id": "18f802a9",
   "metadata": {},
   "source": [
    "### Efficiency vs maximum cluster width"
   ]
  },
  {
   "cell_type": "code",
   "execution_count": null,
   "id": "955fd3f4",
   "metadata": {},
   "outputs": [],
   "source": [
    "function_str = \"mt_efficiency_as_function_of_cluster_width\"\n",
    "cluster_width_array_used = np.arange(10,101,1)\n",
    "filename_used = \"./testdata/sorted/root_files_fixed/mu3e_sorted_000127.root\"\n",
    "args_time = (filename_used, time_threshold_used, \"big\", None, None, \"time\")\n",
    "\n",
    "clump.multithreading.run_mt(function_str, src_time, args_time, cluster_width_array = cluster_width_array_used)"
   ]
  },
  {
   "cell_type": "code",
   "execution_count": null,
   "id": "be11b795",
   "metadata": {},
   "outputs": [],
   "source": [
    "src_cluster_width_time    = src_res + \"/efficiency_vs_cluster_width_time_*.txt\"\n",
    "fnames_cluster_width_time = glob(src_cluster_width_time)\n",
    "\n",
    "array_cluster_width_eff_time  = []\n",
    "array_cluster_width_time = []\n",
    "array_cluster_width_tmp_time = []\n",
    "array_cluster_width_tmp_time.append([np.loadtxt(f) for f in fnames_cluster_width_time])\n",
    "for i in array_cluster_width_tmp_time[0]:\n",
    "    array_cluster_width_eff_time.append(float(i[0]))\n",
    "    array_cluster_width_time.append(float(i[1]))"
   ]
  },
  {
   "cell_type": "code",
   "execution_count": null,
   "id": "c4f59e20",
   "metadata": {},
   "outputs": [],
   "source": [
    "fig = plt.figure(figsize=(12,6))\n",
    "plt.scatter(array_cluster_width_time, array_cluster_width_eff_time)\n",
    "plt.xlabel(\"Maximum distance between clusters [mm]\")\n",
    "plt.ylabel(\"Efficiency\")\n",
    "plt.title(\"Efficiency as function of the maximum distance between clusters with same tid\")\n",
    "#plt.savefig(\"efficiency_vs_max_distance_threshold_10-100_1_all_frames_each_correct.png\", dpi=300)\n",
    "plt.show()"
   ]
  },
  {
   "cell_type": "markdown",
   "id": "3ff222d3",
   "metadata": {},
   "source": [
    "## Pure spatial clustering"
   ]
  },
  {
   "cell_type": "code",
   "execution_count": null,
   "id": "13d5ebd2",
   "metadata": {},
   "outputs": [],
   "source": [
    "time_threshold_used = 0.4\n",
    "threshold_cluster_width_used = 20 \n",
    "\n",
    "function_str = \"mt_compare_to_tid\"\n",
    "src_spatial = \"./testdata/sorted/root_files_fixed/mu3e_sorted_000*.root\"\n",
    "\n",
    "args_spatial = (time_threshold_used, threshold_cluster_width_used, \"big\", None, \"spatial\")\n",
    "\n",
    "clump.multithreading.run_mt(function_str, src_spatial, args_spatial)"
   ]
  },
  {
   "cell_type": "code",
   "execution_count": null,
   "id": "3915403e",
   "metadata": {},
   "outputs": [],
   "source": [
    "src_frac_corr_frame_spatial          = src_res + \"/frac_corr_frame_tid_spatial_*.txt\"\n",
    "src_frac_corr_clusters_frame_spatial = src_res + \"/frac_corr_clusters_frame_tid_spatial_*.txt\"\n",
    "src_frac_uncorr_frame_spatial        = src_res + \"/frac_uncorr_frame_tid_spatial_*.txt\"\n",
    "src_efficiency_stats_spatial         = src_res + \"/efficiency_stats_tid_spatial_*.txt\"\n",
    "\n",
    "fnames_frac_corr_frame_spatial           = glob(src_frac_corr_frame_spatial)\n",
    "fnames_frac_corr_clusters_frame_spatial  = glob(src_frac_corr_clusters_frame_spatial)\n",
    "fnames_frac_uncorr_frame_spatial         = glob(src_frac_uncorr_frame_spatial)\n",
    "fnames_efficiency_stats_spatial          = glob(src_efficiency_stats_spatial)\n",
    "\n",
    "array_frac_corr_frame_spatial          = np.concatenate([np.loadtxt(f) for f in fnames_frac_corr_frame_spatial])\n",
    "array_frac_corr_clusters_frame_spatial = np.concatenate([np.loadtxt(f) for f in fnames_frac_corr_clusters_frame_spatial])\n",
    "array_frac_uncorr_frame_spatial        = np.concatenate([np.loadtxt(f) for f in fnames_frac_uncorr_frame_spatial])\n",
    "#array_efficiency_stats         = np.concatenate([np.loadtxt(f) for f in fnames_efficiency_stats])"
   ]
  },
  {
   "cell_type": "markdown",
   "id": "26bcad3b",
   "metadata": {},
   "source": [
    "### Efficiency statistics"
   ]
  },
  {
   "cell_type": "code",
   "execution_count": null,
   "id": "0870a774",
   "metadata": {},
   "outputs": [],
   "source": [
    "for f in fnames_efficiency_stats_spatial:\n",
    "    print(\"File: \" + f)\n",
    "    with open(f, \"r\", encoding=\"utf-8\") as file:\n",
    "        for line in file:\n",
    "            print(line.strip())\n",
    "    print(\"\\n\")"
   ]
  },
  {
   "cell_type": "markdown",
   "id": "2c3d4d5f",
   "metadata": {},
   "source": [
    "### Efficiency plots"
   ]
  },
  {
   "cell_type": "markdown",
   "id": "ee2d30ca",
   "metadata": {},
   "source": [
    "#### Hits associated to wrong cluster"
   ]
  },
  {
   "cell_type": "code",
   "execution_count": null,
   "id": "4185fdf3",
   "metadata": {},
   "outputs": [],
   "source": [
    "fig = plt.figure(figsize=(12,6))\n",
    "plt.hist(array_frac_uncorr_frame_spatial, bins = 500)\n",
    "plt.title(\"Incorrectly associated hits / all hits in clusters (per frame)\")\n",
    "plt.xlim(0,1)\n",
    "plt.xlabel(\"Fraction of incorrectly associated hits\")\n",
    "plt.show()"
   ]
  },
  {
   "cell_type": "markdown",
   "id": "17ca426a",
   "metadata": {},
   "source": [
    "#### Hits associated to correct cluster"
   ]
  },
  {
   "cell_type": "code",
   "execution_count": null,
   "id": "eb08e055",
   "metadata": {},
   "outputs": [],
   "source": [
    "fig = plt.figure(figsize=(12,6))\n",
    "plt.hist(array_frac_corr_frame_spatial, bins = 500)\n",
    "plt.title(\"Correctly associated hits / all hits in frame (per frame)\")\n",
    "plt.xlim(0,1)\n",
    "plt.xlabel(\"Fraction of correctly associated hits\")\n",
    "plt.show()"
   ]
  },
  {
   "cell_type": "markdown",
   "id": "3d75f533",
   "metadata": {},
   "source": [
    "#### Combined histograms"
   ]
  },
  {
   "cell_type": "code",
   "execution_count": null,
   "id": "588869ca",
   "metadata": {},
   "outputs": [],
   "source": [
    "fig = plt.figure(figsize=(12,6))\n",
    "plt.hist(array_frac_corr_frame_spatial, bins = 500, label = \"Hits correctly associated to cluster / All hits in clusters\")\n",
    "plt.hist(array_frac_uncorr_frame_spatial, bins = 500, label = \"Hits incorrectly associated to cluster / All hits in clusters\")\n",
    "plt.title(\"Correctly and incorrectly associated hits / all hits in clusters (per frame)\")\n",
    "plt.xlim(0,1)\n",
    "plt.xlabel(\"Fraction of total hits\")\n",
    "plt.legend()\n",
    "#plt.savefig(\"Corr_and_incorr_fractions_hist.png\", dpi = 300)\n",
    "plt.show()"
   ]
  },
  {
   "cell_type": "markdown",
   "id": "de65a8d1",
   "metadata": {},
   "source": [
    "### Efficiency vs maximum cluster width"
   ]
  },
  {
   "cell_type": "code",
   "execution_count": null,
   "id": "be901174",
   "metadata": {},
   "outputs": [],
   "source": [
    "function_str = \"mt_efficiency_as_function_of_cluster_width\"\n",
    "cluster_width_array_used = np.arange(10,101,1)\n",
    "filename_used = \"./testdata/sorted/root_files_fixed/mu3e_sorted_000127.root\"\n",
    "args_spatial = (filename_used, time_threshold_used, \"big\", None, None, \"spatial\")\n",
    "\n",
    "clump.multithreading.run_mt(function_str, src_spatial, args_spatial, cluster_width_array = cluster_width_array_used)"
   ]
  },
  {
   "cell_type": "code",
   "execution_count": null,
   "id": "4f19e89a",
   "metadata": {},
   "outputs": [],
   "source": [
    "src_cluster_width_spatial    = src_res + \"/efficiency_vs_cluster_width_spatial_*.txt\"\n",
    "fnames_cluster_width_spatial = glob(src_cluster_width_spatial)\n",
    "\n",
    "array_cluster_width_eff_spatial  = []\n",
    "array_cluster_width_spatial = []\n",
    "array_cluster_width_tmp_spatial = []\n",
    "array_cluster_width_tmp_spatial.append([np.loadtxt(f) for f in fnames_cluster_width_spatial])\n",
    "for i in array_cluster_width_tmp_spatial[0]:\n",
    "    array_cluster_width_eff_spatial.append(float(i[0]))\n",
    "    array_cluster_width_spatial.append(float(i[1]))"
   ]
  },
  {
   "cell_type": "code",
   "execution_count": null,
   "id": "7a6a7158",
   "metadata": {},
   "outputs": [],
   "source": [
    "fig = plt.figure(figsize=(12,6))\n",
    "plt.scatter(array_cluster_width_spatial, array_cluster_width_eff_spatial)\n",
    "plt.xlabel(\"Maximum distance between clusters [mm]\")\n",
    "plt.ylabel(\"Efficiency\")\n",
    "plt.title(\"Efficiency as function of the maximum distance between clusters with same tid\")\n",
    "#plt.savefig(\"efficiency_vs_max_distance_threshold_10-100_1_all_frames_each_correct.png\", dpi=300)\n",
    "plt.show()"
   ]
  },
  {
   "cell_type": "code",
   "execution_count": null,
   "id": "122ab46a",
   "metadata": {},
   "outputs": [],
   "source": []
  }
 ],
 "metadata": {
  "kernelspec": {
   "display_name": "Python 3 (ipykernel)",
   "language": "python",
   "name": "python3"
  },
  "language_info": {
   "codemirror_mode": {
    "name": "ipython",
    "version": 3
   },
   "file_extension": ".py",
   "mimetype": "text/x-python",
   "name": "python",
   "nbconvert_exporter": "python",
   "pygments_lexer": "ipython3",
   "version": "3.8.10"
  }
 },
 "nbformat": 4,
 "nbformat_minor": 5
}
