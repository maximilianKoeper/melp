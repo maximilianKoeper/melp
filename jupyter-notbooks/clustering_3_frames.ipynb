{
 "cells": [
  {
   "cell_type": "code",
   "execution_count": 1,
   "metadata": {},
   "outputs": [
    {
     "name": "stdout",
     "output_type": "stream",
     "text": [
      "/home/erik/GitHub/melp\n",
      "Welcome to JupyROOT 6.24/06\n"
     ]
    }
   ],
   "source": [
    "%cd ..\n",
    "import ROOT\n",
    "import numpy as np\n",
    "import matplotlib.pyplot as plt\n",
    "import matplotlib as mpl\n",
    "import matplotlib.cm as cm\n",
    "from matplotlib.colors import ListedColormap, LinearSegmentedColormap\n",
    "from melp import Detector\n",
    "import melp\n",
    "import math\n",
    "\n",
    "from melp.clustering.misc import*\n",
    "import melp.clustering as clump\n",
    "import melp.clustering.time_cluster as tclump\n",
    "#from melp import TileAnalyzer\n",
    "import melp.clustering.spatial_cluster as sclump\n",
    "import melp.clustering.plots as clump_plt\n",
    "import melp.clustering.three_frame_cluster as clump_3\n",
    "\n",
    "plt.rcParams.update({'font.size': 16})"
   ]
  },
  {
   "cell_type": "markdown",
   "metadata": {},
   "source": [
    "#### Load files"
   ]
  },
  {
   "cell_type": "code",
   "execution_count": 2,
   "metadata": {},
   "outputs": [],
   "source": [
    "filename_trirec = \"./testdata/trirec/trirec1.root\"\n",
    "filename_sorted = \"./testdata/sorted/sorted1.root\"\n",
    "#filename_sorted_big = \"/home/erik/GitLab_KIP/melp/root_files/big_run_data/sorted1.root\"\n",
    "filename_sorted_big = \"./testdata/sorted/sorted1_big.root\"\n",
    "\n",
    "file = ROOT.TFile(filename_sorted)\n",
    "ttree_mu3e = file.Get(\"mu3e\")\n",
    "ttree_mu3e_mc = file.Get(\"mu3e_mchits\")\n",
    "ttree_sensor = file.Get(\"alignment/sensors\")\n",
    "ttree_tiles = file.Get(\"alignment/tiles\")\n",
    "\n",
    "file_rec = ROOT.TFile(filename_trirec)\n",
    "ttree_trirec = file_rec.Get(\"frames\")\n",
    "ttree_trirec_mc = file_rec.Get(\"frames_mc\")\n",
    "ttree_mu3e_segs = file_rec.Get(\"segs\")\n",
    "\n",
    "file_big = ROOT.TFile(filename_sorted_big)\n",
    "ttree_mu3e_big = file_big.Get(\"mu3e\")\n",
    "ttree_mu3e_mc_big = file_big.Get(\"mu3e_mchits\")\n",
    "ttree_sensor_big = file_big.Get(\"alignment/sensors\")\n",
    "ttree_tiles_big = file_big.Get(\"alignment/tiles\")"
   ]
  },
  {
   "cell_type": "code",
   "execution_count": 3,
   "metadata": {},
   "outputs": [
    {
     "name": "stdout",
     "output_type": "stream",
     "text": [
      "------------------------------\n",
      "Detector information\n",
      "\n",
      "Stats:\n",
      "  - Tiles:  5824\n",
      "    -> misal:  False\n",
      "  - Pixel Modules:  2844\n",
      "  - Loaded Runs (Tiles):  []\n",
      "  - Loaded Runs (Pixel):  []\n",
      "------------------------------\n"
     ]
    }
   ],
   "source": [
    "mu3e_detector = Detector.initFromROOT(filename_sorted)"
   ]
  },
  {
   "cell_type": "code",
   "execution_count": 4,
   "metadata": {},
   "outputs": [
    {
     "name": "stdout",
     "output_type": "stream",
     "text": [
      "Detector(TileDetector=<melp.src.tile.TileDetector object at 0x7fd29bf74b20>, SensorModules=<melp.src.sensor.SensorModule object at 0x7fd29a1068e0>))\n"
     ]
    }
   ],
   "source": [
    "melp.select(mu3e_detector)\n",
    "print(mu3e_detector)"
   ]
  },
  {
   "cell_type": "code",
   "execution_count": 5,
   "metadata": {},
   "outputs": [
    {
     "name": "stdout",
     "output_type": "stream",
     "text": [
      "------------------------------\n",
      "Detector information\n",
      "\n",
      "Stats:\n",
      "  - Tiles:  5824\n",
      "    -> misal:  False\n",
      "  - Pixel Modules:  2844\n",
      "  - Loaded Runs (Tiles):  [1]\n",
      "  - Loaded Runs (Pixel):  []\n",
      "------------------------------\n"
     ]
    }
   ],
   "source": [
    "melp.addTileHits(\"./testdata/sorted/sorted1.root\", truth=False, traj=False)\n",
    "mu3e_detector.info()"
   ]
  },
  {
   "cell_type": "code",
   "execution_count": 6,
   "metadata": {},
   "outputs": [],
   "source": [
    "#select frame to analyze\n",
    "frame_used = 28\n",
    "ttree_mu3e.GetEntry(frame_used)\n",
    "\n",
    "#build masks (and deconstruct them into arrays)\n",
    "#masks = sclump.build_mask_detector_class(filename_sorted, frame_used, mu3e_detector, mask_type = \"big\")\n",
    "masks = clump_3.build_mask_around_cluster_master_frame_id(ttree_mu3e, ttree_mu3e_mc, ttree_sensor, ttree_tiles, mu3e_detector, frame_used, mask_type = \"big\")\n",
    "\n",
    "keys = []\n",
    "values = []\n",
    "for key in masks.keys():\n",
    "    keys.append(key)\n",
    "    values.append(masks[key])\n",
    "    \n",
    "#mu3e_detector.TileDetector.tile[keys[0]].id\n",
    "#mu3e_detector.TileDetector.tile[keys[0]].hits\n",
    "#print(len(masks))"
   ]
  },
  {
   "cell_type": "code",
   "execution_count": 7,
   "metadata": {},
   "outputs": [
    {
     "data": {
      "text/plain": [
       "'\\ngrid = np.zeros((52,56))\\n\\n#Choose if a single hit is plotted of all hits in frame (True, False)\\nall_hits = True\\n\\n#If single hit is chosen. Choose hit to plot\\nsingle_hit = 1\\n\\n#add hits in frame\\nif all_hits == True:\\n    for tile_id in mu3e_detector.TileDetector.tile:\\n        if tile_id < 300000:\\n            tile = mu3e_detector.TileDetector.tile[tile_id]\\n            for hits in tile.hits:\\n                if hits.frame_id in [frame_used]:\\n                    y = tile.row()\\n                    x = tile.column()\\n                    grid[x][y] += 1\\n\\n\\n#add masks\\nif all_hits == True:\\n    for i in range(len(values)):\\n        for mask_tile in values[i]:\\n            tile = mu3e_detector.TileDetector.tile[mask_tile[0]]\\n            if mask_tile[0] < 300000:\\n                y = tile.row()\\n                x = tile.column()\\n                grid[x][y] += 1\\n\\n        #add centre a second and third time      \\n        if keys[i] < 300000:\\n            tile = mu3e_detector.TileDetector.tile[keys[i]]\\n            y = tile.row()\\n            x = tile.column()\\n            grid[x][y] += 2\\n                     \\nif all_hits == False:\\n    for mask_tile in values[single_hit]:\\n        tile = mu3e_detector.TileDetector.tile[mask_tile]\\n        if mask_tile < 300000:\\n            y = tile.row()\\n            x = tile.column()\\n            grid[x][y] += 1\\n\\n    #add centre a second and third time      \\n    if keys[single_hit] < 300000:\\n        tile = mu3e_detector.TileDetector.tile[keys[single_hit]]\\n        y = tile.row()\\n        x = tile.column()\\n        grid[x][y] += 2\\n                \\nfig, ax = plt.subplots(2,2, figsize=(20,20))\\n#heatplot_mask = ax.imshow(mask_grid.T, cmap=\\'binary\\')\\nheatplot = ax[0,0].imshow(grid.T, cmap=\\'PuBuGn\\')\\n#ax.grid(which=\\'minor\\', color=\\'b\\', linestyle=\\'-\\', linewidth=1)\\nax[0,0].hlines(y=np.arange(0, 56)+0.5, xmin=-0.5, xmax=51.5, color=\"black\", linewidth = 0.5)\\nax[0,0].vlines(x=np.arange(0, 52)+0.5, ymin=-0.5, ymax=55.5, color=\"black\", linewidth = 0.5)\\nax[0,0].set_title(\"With Masks\")\\nax[0,0].set_xlabel(\"z\")\\nax[0,0].set_ylabel(\"phi\")\\n\\n\\n#plot reference\\nref_grid = np.zeros((52,56))\\nfor tile_id in mu3e_detector.TileDetector.tile:\\n    if tile_id < 300000:\\n        tile = mu3e_detector.TileDetector.tile[tile_id]\\n        for hits in tile.hits:\\n            if hits.frame_id in [frame_used]:\\n                y = tile.row()\\n                x = tile.column()\\n                ref_grid[x][y] += 1\\n                \\n#plot primary hits into reference plot(truth)\\ncluster_primary = get_cluster_primary_truth_and_frame_id(ttree_mu3e, ttree_mu3e_mc, frame_used)  \\n    \\nfor i in range(len(cluster_primary)):\\n    primary = mu3e_detector.TileDetector.tile[cluster_primary[i][0]]\\n    if primary.id < 300000:\\n        y = primary.row()\\n        x = primary.column()\\n        ax[0,1].scatter(x,y, color = \"blue\", marker = \"s\", s = 64)\\n        ref_grid[x][y] += 1\\n\\n\\nheatplot = ax[0,1].imshow(ref_grid.T, cmap=\\'Reds\\')\\n#ax.grid(which=\\'minor\\', color=\\'b\\', linestyle=\\'-\\', linewidth=1)\\nax[0,1].hlines(y=np.arange(0, 56)+0.5, xmin=-0.5, xmax=51.5, color=\"black\", linewidth = 0.5)\\nax[0,1].vlines(x=np.arange(0, 52)+0.5, ymin=-0.5, ymax=55.5, color=\"black\", linewidth = 0.5)\\nax[0,1].set_title(\"Only Hits (\"master\"-hits are blue)\")\\nax[0,1].set_xlabel(\"z\")\\nax[0,1].set_ylabel(\"phi\")\\n\\n\\n#plot clusters\\ncluster_grid = np.zeros((52,56))\\nclusters = clump_3.build_clusters_in_masks_with_neighbours(ttree_mu3e, ttree_mu3e_mc, ttree_sensor, ttree_tiles, mu3e_detector, frame_used, mask_type = \"big\")\\ncluster_primaries = []\\nwhole_clusters = []\\n\\nfor key in clusters.keys():\\n    cluster_primaries.append(key)\\n    whole_clusters.append(clusters[key])\\n    \\ncolor_cluster = 1\\nfor i in range(len(clusters)):\\n    color_cluster += 1\\n    for cluster_tile in whole_clusters[i]:\\n        tile = mu3e_detector.TileDetector.tile[cluster_tile[0]] #TODO: reformat cluster_tile / whole_clusters\\n        if cluster_tile[0] < 300000:\\n            y = tile.row()\\n            x = tile.column()\\n            cluster_grid[x][y] += color_cluster\\n\\n\\nrainbow = cm.get_cmap(\\'gist_rainbow\\',  int(np.max(cluster_grid)))\\nnewcolors = rainbow(np.linspace(0, 1,  int(np.max(cluster_grid))))\\nwhite = np.array([1, 1, 1, 1])\\nnewcolors[:1, :] = white\\nnewcmp = ListedColormap(newcolors)\\n\\ncolors = newcmp(np.linspace(0, 1, int(np.max(cluster_grid)))) \\nfor i in range(int(np.max(cluster_grid))):\\n    for x in range(np.shape(cluster_grid)[0]):\\n        for y in range(np.shape(cluster_grid)[1]):\\n            if cluster_grid[x][y] == i:\\n                ax[1,0].scatter(x, y, color = colors[i], marker = \"s\", s = 64)\\n            \\n\\n\\n    \\n#heatplot = ax[1,0].imshow(cluster_grid.T, cmap=\\'Reds\\')\\n#ax.grid(which=\\'minor\\', color=\\'b\\', linestyle=\\'-\\', linewidth=1)\\nax[1,0].hlines(y=np.arange(0, 56)+0.5, xmin=-0.5, xmax=51.5, color=\"black\", linewidth = 0.5)\\nax[1,0].vlines(x=np.arange(0, 52)+0.5, ymin=-0.5, ymax=55.5, color=\"black\", linewidth = 0.5)\\nax[1,0].set_title(\"Clusters\")\\nax[1,0].set_xlabel(\"z\")\\nax[1,0].set_ylabel(\"phi\")\\nax[1,0].set_xlim(-0.5,51.5)\\nax[1,0].set_ylim(-0.5,55.5)\\nax[1,0].invert_yaxis()\\n\\n#plot clusters colored by frame id\\nframe_id_grid = np.zeros((52,56))\\nclusters = clump_3.build_clusters_in_masks_with_neighbours(ttree_mu3e, ttree_mu3e_mc, ttree_sensor, ttree_tiles, mu3e_detector, frame_used, mask_type = \"big\")\\ncluster_primaries = []\\nwhole_clusters = []\\n\\nfor key in clusters.keys():\\n    cluster_primaries.append(key)\\n    whole_clusters.append(clusters[key]) \\n\\nfor i in range(len(clusters)):\\n    for cluster_tile in whole_clusters[i]:\\n        tile = mu3e_detector.TileDetector.tile[cluster_tile[0]] #TODO: reformat cluster_tile / whole_clusters\\n        if cluster_tile[0] < 300000:\\n            y = tile.row()\\n            x = tile.column()\\n            frame_id_grid[x][y] += cluster_tile[1]\\n            \\nfor x in range(np.shape(frame_id_grid)[0]):\\n    for y in range(np.shape(frame_id_grid)[1]):\\n        if frame_id_grid[x][y] == frame_used - 1:\\n            ax[1,1].scatter(x, y, color = \"red\", marker = \"s\", s = 64)\\n        elif frame_id_grid[x][y] == frame_used:\\n            ax[1,1].scatter(x, y, color = \"blue\", marker = \"s\", s = 64)\\n        elif frame_id_grid[x][y] == frame_used + 1:\\n            ax[1,1].scatter(x, y, color = \"green\", marker = \"s\", s = 64)\\n        elif frame_id_grid[x][y] == (frame_used-1) + (frame_used):\\n            ax[1,1].scatter(x, y, color = \"purple\", marker = \"s\", s = 64)\\n        elif frame_id_grid[x][y] == (frame_used-1) + (frame_used+1):\\n            ax[1,1].scatter(x, y, color = \"sienna\", marker = \"s\", s = 64)\\n        elif frame_id_grid[x][y] == (frame_used) + (frame_used+1):\\n            ax[1,1].scatter(x, y, color = \"deepskyblue\", marker = \"s\", s = 64)\\n        elif frame_id_grid[x][y] == (frame_used) + (frame_used+1)+ (frame_used-1):\\n            ax[1,1].scatter(x, y, color = \"olive\", marker = \"s\", s = 64)\\n        elif frame_id_grid[x][y] > 0:\\n            ax[1,1].scatter(x, y, color = \"black\", marker = \"s\", s = 64)\\n\\n\\n\\n            \\nax[1,1].hlines(y=np.arange(0, 56)+0.5, xmin=-0.5, xmax=51.5, color=\"black\", linewidth = 0.5)\\nax[1,1].vlines(x=np.arange(0, 52)+0.5, ymin=-0.5, ymax=55.5, color=\"black\", linewidth = 0.5)\\nax[1,1].set_title(\"Clusters (frame0: blue, frame-1: red, frame+1: green, \\n multiple hits in same frame: black)\")\\nax[1,1].set_xlabel(\"z\")\\nax[1,1].set_ylabel(\"phi\")\\nax[1,1].set_xlim(-0.5,51.5)\\nax[1,1].set_ylim(-0.5,55.5)\\nax[1,1].invert_yaxis()\\n#plt.savefig(\"hitmap.png\")\\nplt.show()\\n\\n#print values in frame_id_grid\\ngrid_values = []\\nfor x in range(np.shape(frame_id_grid)[0]):\\n    for y in range(np.shape(frame_id_grid)[1]):\\n        if frame_id_grid[x][y] != 0 and frame_id_grid[x][y] not in grid_values:\\n            grid_values.append(frame_id_grid[x][y])\\nprint(grid_values)\\n'"
      ]
     },
     "execution_count": 7,
     "metadata": {},
     "output_type": "execute_result"
    }
   ],
   "source": [
    "\"\"\"\n",
    "grid = np.zeros((52,56))\n",
    "\n",
    "#Choose if a single hit is plotted of all hits in frame (True, False)\n",
    "all_hits = True\n",
    "\n",
    "#If single hit is chosen. Choose hit to plot\n",
    "single_hit = 1\n",
    "\n",
    "#add hits in frame\n",
    "if all_hits == True:\n",
    "    for tile_id in mu3e_detector.TileDetector.tile:\n",
    "        if tile_id < 300000:\n",
    "            tile = mu3e_detector.TileDetector.tile[tile_id]\n",
    "            for hits in tile.hits:\n",
    "                if hits.frame_id in [frame_used]:\n",
    "                    y = tile.row()\n",
    "                    x = tile.column()\n",
    "                    grid[x][y] += 1\n",
    "\n",
    "\n",
    "#add masks\n",
    "if all_hits == True:\n",
    "    for i in range(len(values)):\n",
    "        for mask_tile in values[i]:\n",
    "            tile = mu3e_detector.TileDetector.tile[mask_tile[0]]\n",
    "            if mask_tile[0] < 300000:\n",
    "                y = tile.row()\n",
    "                x = tile.column()\n",
    "                grid[x][y] += 1\n",
    "\n",
    "        #add centre a second and third time      \n",
    "        if keys[i] < 300000:\n",
    "            tile = mu3e_detector.TileDetector.tile[keys[i]]\n",
    "            y = tile.row()\n",
    "            x = tile.column()\n",
    "            grid[x][y] += 2\n",
    "                     \n",
    "if all_hits == False:\n",
    "    for mask_tile in values[single_hit]:\n",
    "        tile = mu3e_detector.TileDetector.tile[mask_tile]\n",
    "        if mask_tile < 300000:\n",
    "            y = tile.row()\n",
    "            x = tile.column()\n",
    "            grid[x][y] += 1\n",
    "\n",
    "    #add centre a second and third time      \n",
    "    if keys[single_hit] < 300000:\n",
    "        tile = mu3e_detector.TileDetector.tile[keys[single_hit]]\n",
    "        y = tile.row()\n",
    "        x = tile.column()\n",
    "        grid[x][y] += 2\n",
    "                \n",
    "fig, ax = plt.subplots(2,2, figsize=(20,20))\n",
    "#heatplot_mask = ax.imshow(mask_grid.T, cmap='binary')\n",
    "heatplot = ax[0,0].imshow(grid.T, cmap='PuBuGn')\n",
    "#ax.grid(which='minor', color='b', linestyle='-', linewidth=1)\n",
    "ax[0,0].hlines(y=np.arange(0, 56)+0.5, xmin=-0.5, xmax=51.5, color=\"black\", linewidth = 0.5)\n",
    "ax[0,0].vlines(x=np.arange(0, 52)+0.5, ymin=-0.5, ymax=55.5, color=\"black\", linewidth = 0.5)\n",
    "ax[0,0].set_title(\"With Masks\")\n",
    "ax[0,0].set_xlabel(\"z\")\n",
    "ax[0,0].set_ylabel(\"phi\")\n",
    "\n",
    "\n",
    "#plot reference\n",
    "ref_grid = np.zeros((52,56))\n",
    "for tile_id in mu3e_detector.TileDetector.tile:\n",
    "    if tile_id < 300000:\n",
    "        tile = mu3e_detector.TileDetector.tile[tile_id]\n",
    "        for hits in tile.hits:\n",
    "            if hits.frame_id in [frame_used]:\n",
    "                y = tile.row()\n",
    "                x = tile.column()\n",
    "                ref_grid[x][y] += 1\n",
    "                \n",
    "#plot primary hits into reference plot(truth)\n",
    "cluster_primary = get_cluster_primary_truth_and_frame_id(ttree_mu3e, ttree_mu3e_mc, frame_used)  \n",
    "    \n",
    "for i in range(len(cluster_primary)):\n",
    "    primary = mu3e_detector.TileDetector.tile[cluster_primary[i][0]]\n",
    "    if primary.id < 300000:\n",
    "        y = primary.row()\n",
    "        x = primary.column()\n",
    "        ax[0,1].scatter(x,y, color = \"blue\", marker = \"s\", s = 64)\n",
    "        ref_grid[x][y] += 1\n",
    "\n",
    "\n",
    "heatplot = ax[0,1].imshow(ref_grid.T, cmap='Reds')\n",
    "#ax.grid(which='minor', color='b', linestyle='-', linewidth=1)\n",
    "ax[0,1].hlines(y=np.arange(0, 56)+0.5, xmin=-0.5, xmax=51.5, color=\"black\", linewidth = 0.5)\n",
    "ax[0,1].vlines(x=np.arange(0, 52)+0.5, ymin=-0.5, ymax=55.5, color=\"black\", linewidth = 0.5)\n",
    "ax[0,1].set_title(\"Only Hits (\\\"master\\\"-hits are blue)\")\n",
    "ax[0,1].set_xlabel(\"z\")\n",
    "ax[0,1].set_ylabel(\"phi\")\n",
    "\n",
    "\n",
    "#plot clusters\n",
    "cluster_grid = np.zeros((52,56))\n",
    "clusters = clump_3.build_clusters_in_masks_with_neighbours(ttree_mu3e, ttree_mu3e_mc, ttree_sensor, ttree_tiles, mu3e_detector, frame_used, mask_type = \"big\")\n",
    "cluster_primaries = []\n",
    "whole_clusters = []\n",
    "\n",
    "for key in clusters.keys():\n",
    "    cluster_primaries.append(key)\n",
    "    whole_clusters.append(clusters[key])\n",
    "    \n",
    "color_cluster = 1\n",
    "for i in range(len(clusters)):\n",
    "    color_cluster += 1\n",
    "    for cluster_tile in whole_clusters[i]:\n",
    "        tile = mu3e_detector.TileDetector.tile[cluster_tile[0]] #TODO: reformat cluster_tile / whole_clusters\n",
    "        if cluster_tile[0] < 300000:\n",
    "            y = tile.row()\n",
    "            x = tile.column()\n",
    "            cluster_grid[x][y] += color_cluster\n",
    "\n",
    "\n",
    "rainbow = cm.get_cmap('gist_rainbow',  int(np.max(cluster_grid)))\n",
    "newcolors = rainbow(np.linspace(0, 1,  int(np.max(cluster_grid))))\n",
    "white = np.array([1, 1, 1, 1])\n",
    "newcolors[:1, :] = white\n",
    "newcmp = ListedColormap(newcolors)\n",
    "\n",
    "colors = newcmp(np.linspace(0, 1, int(np.max(cluster_grid)))) \n",
    "for i in range(int(np.max(cluster_grid))):\n",
    "    for x in range(np.shape(cluster_grid)[0]):\n",
    "        for y in range(np.shape(cluster_grid)[1]):\n",
    "            if cluster_grid[x][y] == i:\n",
    "                ax[1,0].scatter(x, y, color = colors[i], marker = \"s\", s = 64)\n",
    "            \n",
    "\n",
    "\n",
    "    \n",
    "#heatplot = ax[1,0].imshow(cluster_grid.T, cmap='Reds')\n",
    "#ax.grid(which='minor', color='b', linestyle='-', linewidth=1)\n",
    "ax[1,0].hlines(y=np.arange(0, 56)+0.5, xmin=-0.5, xmax=51.5, color=\"black\", linewidth = 0.5)\n",
    "ax[1,0].vlines(x=np.arange(0, 52)+0.5, ymin=-0.5, ymax=55.5, color=\"black\", linewidth = 0.5)\n",
    "ax[1,0].set_title(\"Clusters\")\n",
    "ax[1,0].set_xlabel(\"z\")\n",
    "ax[1,0].set_ylabel(\"phi\")\n",
    "ax[1,0].set_xlim(-0.5,51.5)\n",
    "ax[1,0].set_ylim(-0.5,55.5)\n",
    "ax[1,0].invert_yaxis()\n",
    "\n",
    "#plot clusters colored by frame id\n",
    "frame_id_grid = np.zeros((52,56))\n",
    "clusters = clump_3.build_clusters_in_masks_with_neighbours(ttree_mu3e, ttree_mu3e_mc, ttree_sensor, ttree_tiles, mu3e_detector, frame_used, mask_type = \"big\")\n",
    "cluster_primaries = []\n",
    "whole_clusters = []\n",
    "\n",
    "for key in clusters.keys():\n",
    "    cluster_primaries.append(key)\n",
    "    whole_clusters.append(clusters[key]) \n",
    "\n",
    "for i in range(len(clusters)):\n",
    "    for cluster_tile in whole_clusters[i]:\n",
    "        tile = mu3e_detector.TileDetector.tile[cluster_tile[0]] #TODO: reformat cluster_tile / whole_clusters\n",
    "        if cluster_tile[0] < 300000:\n",
    "            y = tile.row()\n",
    "            x = tile.column()\n",
    "            frame_id_grid[x][y] += cluster_tile[1]\n",
    "            \n",
    "for x in range(np.shape(frame_id_grid)[0]):\n",
    "    for y in range(np.shape(frame_id_grid)[1]):\n",
    "        if frame_id_grid[x][y] == frame_used - 1:\n",
    "            ax[1,1].scatter(x, y, color = \"red\", marker = \"s\", s = 64)\n",
    "        elif frame_id_grid[x][y] == frame_used:\n",
    "            ax[1,1].scatter(x, y, color = \"blue\", marker = \"s\", s = 64)\n",
    "        elif frame_id_grid[x][y] == frame_used + 1:\n",
    "            ax[1,1].scatter(x, y, color = \"green\", marker = \"s\", s = 64)\n",
    "        elif frame_id_grid[x][y] == (frame_used-1) + (frame_used):\n",
    "            ax[1,1].scatter(x, y, color = \"purple\", marker = \"s\", s = 64)\n",
    "        elif frame_id_grid[x][y] == (frame_used-1) + (frame_used+1):\n",
    "            ax[1,1].scatter(x, y, color = \"sienna\", marker = \"s\", s = 64)\n",
    "        elif frame_id_grid[x][y] == (frame_used) + (frame_used+1):\n",
    "            ax[1,1].scatter(x, y, color = \"deepskyblue\", marker = \"s\", s = 64)\n",
    "        elif frame_id_grid[x][y] == (frame_used) + (frame_used+1)+ (frame_used-1):\n",
    "            ax[1,1].scatter(x, y, color = \"olive\", marker = \"s\", s = 64)\n",
    "        elif frame_id_grid[x][y] > 0:\n",
    "            ax[1,1].scatter(x, y, color = \"black\", marker = \"s\", s = 64)\n",
    "\n",
    "\n",
    "\n",
    "            \n",
    "ax[1,1].hlines(y=np.arange(0, 56)+0.5, xmin=-0.5, xmax=51.5, color=\"black\", linewidth = 0.5)\n",
    "ax[1,1].vlines(x=np.arange(0, 52)+0.5, ymin=-0.5, ymax=55.5, color=\"black\", linewidth = 0.5)\n",
    "ax[1,1].set_title(\"Clusters (frame0: blue, frame-1: red, frame+1: green, \\n multiple hits in same frame: black)\")\n",
    "ax[1,1].set_xlabel(\"z\")\n",
    "ax[1,1].set_ylabel(\"phi\")\n",
    "ax[1,1].set_xlim(-0.5,51.5)\n",
    "ax[1,1].set_ylim(-0.5,55.5)\n",
    "ax[1,1].invert_yaxis()\n",
    "#plt.savefig(\"hitmap.png\")\n",
    "plt.show()\n",
    "\n",
    "#print values in frame_id_grid\n",
    "grid_values = []\n",
    "for x in range(np.shape(frame_id_grid)[0]):\n",
    "    for y in range(np.shape(frame_id_grid)[1]):\n",
    "        if frame_id_grid[x][y] != 0 and frame_id_grid[x][y] not in grid_values:\n",
    "            grid_values.append(frame_id_grid[x][y])\n",
    "print(grid_values)\n",
    "\"\"\""
   ]
  },
  {
   "cell_type": "code",
   "execution_count": 8,
   "metadata": {},
   "outputs": [],
   "source": [
    "masks = clump_3.build_mask_around_cluster_master_frame_id(ttree_mu3e, ttree_mu3e_mc, ttree_sensor, ttree_tiles, mu3e_detector, frame_used, mask_type = \"big\", rec_type = None)"
   ]
  },
  {
   "cell_type": "code",
   "execution_count": 9,
   "metadata": {},
   "outputs": [
    {
     "name": "stdout",
     "output_type": "stream",
     "text": [
      "Progress: 100 % of  1000  frames\n",
      "Hits in cluster in different frame than master out of all hits in clusters:  5.772347587582596 %\n"
     ]
    }
   ],
   "source": [
    "frac_mult_frame_cluster_hits, total_cluster_hits_counter, mult_frame_cluster_hits_counter = clump_3.check_for_multiple_frame_clusters(ttree_mu3e_big, ttree_mu3e_mc_big, ttree_sensor_big, ttree_tiles_big, mu3e_detector, mask_type = \"big\", number_of_frames = 1000, rec_type = None)"
   ]
  },
  {
   "cell_type": "code",
   "execution_count": 10,
   "metadata": {
    "scrolled": false
   },
   "outputs": [
    {
     "data": {
      "image/png": "[encoded data removed]",
      "text/plain": [
       "<Figure size 864x432 with 1 Axes>"
      ]
     },
     "metadata": {
      "needs_background": "light"
     },
     "output_type": "display_data"
    }
   ],
   "source": [
    "fig = plt.figure(figsize=(12,6))\n",
    "plt.hist(frac_mult_frame_cluster_hits, bins = 100)\n",
    "plt.title(\"Hits in cluster in different frame than \\\"master\\\"-hit / all hits in clusters (per frame)\")\n",
    "plt.show()"
   ]
  },
  {
   "cell_type": "code",
   "execution_count": 11,
   "metadata": {},
   "outputs": [
    {
     "name": "stdout",
     "output_type": "stream",
     "text": [
      "8021\n",
      "463\n"
     ]
    }
   ],
   "source": [
    "print(total_cluster_hits_counter)\n",
    "print(mult_frame_cluster_hits_counter)"
   ]
  },
  {
   "cell_type": "code",
   "execution_count": 12,
   "metadata": {},
   "outputs": [
    {
     "name": "stdout",
     "output_type": "stream",
     "text": [
      "Tiles in cluster hit in multiple frames out of all hits in clusters:  0.12467273407305823 %\n"
     ]
    }
   ],
   "source": [
    "double_hit_counter, total_cluster_hits_counter = clump_3.check_for_mult_hit_tiles_diff_frame(ttree_mu3e_big, ttree_mu3e_mc_big, ttree_sensor_big, ttree_tiles_big, mu3e_detector, mask_type = \"big\", number_of_frames = 1000, rec_type = None)"
   ]
  },
  {
   "cell_type": "code",
   "execution_count": 14,
   "metadata": {},
   "outputs": [
    {
     "name": "stdout",
     "output_type": "stream",
     "text": [
      "Progress of building dictionary with all hits: 100 % of  99841  framesmes\n",
      "Progress of removing double hits: 100 % of  99841  framesmes\n",
      "Number of hits before removing doubles:  1561239\n",
      "Number of hits after removing doubles:  1513203\n",
      "Number of removed hits:  48036\n"
     ]
    }
   ],
   "source": [
    "hits_all_frames = clump_3.del_double_hits_in_3_frame_cluster(ttree_mu3e_big, ttree_mu3e_mc_big, ttree_sensor_big, ttree_tiles_big, mu3e_detector, mask_type = \"big\", number_of_frames = None, rec_type = None)"
   ]
  },
  {
   "cell_type": "code",
   "execution_count": null,
   "metadata": {},
   "outputs": [],
   "source": []
  }
 ],
 "metadata": {
  "kernelspec": {
   "display_name": "Python 3",
   "language": "python",
   "name": "python3"
  },
  "language_info": {
   "codemirror_mode": {
    "name": "ipython",
    "version": 3
   },
   "file_extension": ".py",
   "mimetype": "text/x-python",
   "name": "python",
   "nbconvert_exporter": "python",
   "pygments_lexer": "ipython3",
   "version": "3.8.10"
  }
 },
 "nbformat": 4,
 "nbformat_minor": 5
}
