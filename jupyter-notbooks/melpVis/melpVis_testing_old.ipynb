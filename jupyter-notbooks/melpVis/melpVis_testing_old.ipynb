{
 "cells": [
  {
   "cell_type": "code",
   "execution_count": 1,
   "id": "c9f14b72",
   "metadata": {},
   "outputs": [
    {
     "name": "stdout",
     "output_type": "stream",
     "text": [
      "/home/maximilian/Github/melp\n"
     ]
    }
   ],
   "source": [
    "%cd ../.."
   ]
  },
  {
   "cell_type": "code",
   "execution_count": 2,
   "id": "12c0cd9b",
   "metadata": {},
   "outputs": [
    {
     "name": "stdout",
     "output_type": "stream",
     "text": [
      "Welcome to JupyROOT 6.26/00\n"
     ]
    }
   ],
   "source": [
    "import ROOT\n",
    "import numpy as np\n",
    "import matplotlib.pyplot as plt"
   ]
  },
  {
   "cell_type": "code",
   "execution_count": 3,
   "id": "9a181dac",
   "metadata": {},
   "outputs": [
    {
     "name": "stdout",
     "output_type": "stream",
     "text": [
      "------------------------------\n",
      "Detector information\n",
      "\n",
      "Stats:\n",
      "  - Tiles:  5824\n",
      "    -> misal:  True\n",
      "  - Pixel Modules:  2844\n",
      "  - Loaded Runs (Tiles):  []\n",
      "  - Loaded Runs (Pixel):  []\n",
      "------------------------------\n"
     ]
    }
   ],
   "source": [
    "from melp import Detector\n",
    "mu3e_detector = Detector.initFromROOT(\"run42_20000.root\")"
   ]
  },
  {
   "cell_type": "code",
   "execution_count": 4,
   "id": "fd8f48c6",
   "metadata": {},
   "outputs": [],
   "source": [
    "file = ROOT.TFile(\"run42_20000_sorted_test.root\")\n",
    "ttree_mu3e = file.Get(\"mu3e\")\n",
    "ttree_mu3e_mc = file.Get(\"mu3e_mchits\")"
   ]
  },
  {
   "cell_type": "code",
   "execution_count": 5,
   "id": "19bc207b",
   "metadata": {},
   "outputs": [
    {
     "data": {
      "text/plain": [
       "21431"
      ]
     },
     "execution_count": 5,
     "metadata": {},
     "output_type": "execute_result"
    }
   ],
   "source": [
    "ttree_mu3e.GetEntry(1199)"
   ]
  },
  {
   "cell_type": "code",
   "execution_count": 6,
   "id": "a2dca065",
   "metadata": {},
   "outputs": [],
   "source": [
    "# 1199 : 36, 39"
   ]
  },
  {
   "cell_type": "code",
   "execution_count": 7,
   "id": "c540cca2",
   "metadata": {},
   "outputs": [],
   "source": [
    "\n",
    "list_traj = list(ttree_mu3e.traj_ID)\n",
    "\n",
    "list_traj_vx = list(ttree_mu3e.traj_vx)\n",
    "list_traj_vy = list(ttree_mu3e.traj_vy)\n",
    "list_traj_vz = list(ttree_mu3e.traj_vz)\n",
    "\n",
    "list_traj_px = list(ttree_mu3e.traj_px)\n",
    "list_traj_py = list(ttree_mu3e.traj_py)\n",
    "list_traj_pz = list(ttree_mu3e.traj_pz)\n",
    "\n",
    "list_traj_pid = list(ttree_mu3e.traj_type)\n",
    "list_traj_particle_type = []\n",
    "for i in range(len(list_traj)):\n",
    "    list_traj_particle_type.append(int(repr(list_traj_pid[i])[-1]))"
   ]
  },
  {
   "cell_type": "code",
   "execution_count": 8,
   "id": "3ce7a206",
   "metadata": {},
   "outputs": [],
   "source": [
    "#ttree_mu3e.GetEntry(1102)\n",
    "list_tilehit_tile = list(ttree_mu3e.tilehit_tile)\n",
    "list_tilehit_mci = list(ttree_mu3e.tilehit_mc_i)\n",
    "list_tilehit_tid = []\n",
    "\n",
    "for index in list_tilehit_mci:\n",
    "    ttree_mu3e_mc.GetEntry(index)\n",
    "    list_tilehit_tid.append(ttree_mu3e_mc.tid)"
   ]
  },
  {
   "cell_type": "code",
   "execution_count": 9,
   "id": "f3bf8757",
   "metadata": {},
   "outputs": [
    {
     "data": {
      "text/plain": [
       "([892758,\n",
       "  892769,\n",
       "  892778,\n",
       "  892782,\n",
       "  892786,\n",
       "  892793,\n",
       "  892797,\n",
       "  892801,\n",
       "  892820,\n",
       "  892824,\n",
       "  892828,\n",
       "  892832,\n",
       "  892833,\n",
       "  892842,\n",
       "  892846,\n",
       "  892847,\n",
       "  892851,\n",
       "  892855,\n",
       "  892173,\n",
       "  892183,\n",
       "  892184,\n",
       "  892205,\n",
       "  892237,\n",
       "  891563,\n",
       "  892885,\n",
       "  892883,\n",
       "  892914,\n",
       "  887501,\n",
       "  886875,\n",
       "  886874,\n",
       "  892987,\n",
       "  892986,\n",
       "  885522,\n",
       "  885528,\n",
       "  893067,\n",
       "  893089,\n",
       "  884960,\n",
       "  884174,\n",
       "  893144,\n",
       "  883794,\n",
       "  881147,\n",
       "  893227,\n",
       "  893236,\n",
       "  893222,\n",
       "  875735,\n",
       "  893306,\n",
       "  893303,\n",
       "  870730,\n",
       "  869638,\n",
       "  866457,\n",
       "  865752,\n",
       "  893399,\n",
       "  893419,\n",
       "  893418,\n",
       "  862868,\n",
       "  893451,\n",
       "  893468,\n",
       "  861858,\n",
       "  893499,\n",
       "  893501,\n",
       "  859525,\n",
       "  859524,\n",
       "  893569,\n",
       "  839882,\n",
       "  807397,\n",
       "  893611],\n",
       " [865752,\n",
       "  893177,\n",
       "  884960,\n",
       "  892990,\n",
       "  865752,\n",
       "  883794,\n",
       "  884960,\n",
       "  885528,\n",
       "  885522,\n",
       "  887501,\n",
       "  893201,\n",
       "  839882,\n",
       "  875735,\n",
       "  859525,\n",
       "  893177,\n",
       "  887501,\n",
       "  892928,\n",
       "  883794,\n",
       "  883794,\n",
       "  883794])"
      ]
     },
     "execution_count": 9,
     "metadata": {},
     "output_type": "execute_result"
    }
   ],
   "source": [
    "list_traj, list_tilehit_tid"
   ]
  },
  {
   "cell_type": "code",
   "execution_count": 10,
   "id": "3b0e7c70",
   "metadata": {},
   "outputs": [],
   "source": [
    "#tid_tilehit_tile = {}\n",
    "\n",
    "#for current_frame in range(ttree_mu3e.GetEntries()):\n",
    "#    ttree_mu3e.GetEntry(current_frame)\n",
    "#    \n",
    "#    list_tilehit_tile = list(ttree_mu3e.tilehit_tile)\n",
    "#    list_tilehit_mci = list(ttree_mu3e.tilehit_mc_i)\n",
    "#    list_tilehit_tid = []\n",
    "#    \n",
    "#    for index in list_tilehit_mci:\n",
    "#        ttree_mu3e_mc.GetEntry(index)\n",
    "#        list_tilehit_tid.append(ttree_mu3e_mc.tid)\n",
    "#    \n",
    "#    for index in range(len(list_tilehit_tile)):\n",
    "#        if tid_tilehit_tile.get(list_tilehit_tid[index]):\n",
    "#            tid_tilehit_tile[list_tilehit_tid[index]].append(list_tilehit_tile[index])\n",
    "#        else:\n",
    "#            tid_tilehit_tile[list_tilehit_tid[index]] = [list_tilehit_tile[index]]"
   ]
  },
  {
   "cell_type": "code",
   "execution_count": 11,
   "id": "fba3b8ec",
   "metadata": {},
   "outputs": [],
   "source": [
    "#len(tid_tilehit_tile)"
   ]
  },
  {
   "cell_type": "code",
   "execution_count": 12,
   "id": "d696ce66",
   "metadata": {},
   "outputs": [],
   "source": [
    "index_current = 39"
   ]
  },
  {
   "cell_type": "code",
   "execution_count": 13,
   "id": "51aeb397",
   "metadata": {},
   "outputs": [],
   "source": [
    "def get_radius(px: float, py: float, particle_type: int, B: float): \n",
    "    \n",
    "    p_t = np.sqrt((px)**2 + (py)**2)\n",
    "    \n",
    "    if particle_type == 0:  # photon\n",
    "        return np.NINF\n",
    "    elif particle_type == 1:  # positron\n",
    "        q = +1\n",
    "    elif particle_type == 2:  # electron\n",
    "        q = -1\n",
    "    else:\n",
    "        return np.NaN\n",
    "    \n",
    "    r = p_t / (0.3*B*q)\n",
    "    \n",
    "    return r"
   ]
  },
  {
   "cell_type": "code",
   "execution_count": 14,
   "id": "08cdc96f",
   "metadata": {},
   "outputs": [],
   "source": [
    "def get_circ(hx: float, hy: float, r: float, l: float):\n",
    "    theta_max = l * np.pi\n",
    "    theta = np.linspace(0, theta_max, 100)\n",
    "    x =  r*np.cos(theta) + hx\n",
    "    y =  r*np.sin(theta) + hy\n",
    "    \n",
    "    return x, y"
   ]
  },
  {
   "cell_type": "code",
   "execution_count": 15,
   "id": "cfa804bf",
   "metadata": {},
   "outputs": [],
   "source": [
    "def unit_vector(vector):\n",
    "    \"\"\" Returns the unit vector of the vector.  \"\"\"\n",
    "    return vector / np.linalg.norm(vector)\n",
    "\n",
    "def get_theta(px, py, pz):\n",
    "    v1 = np.array([px,py,pz])\n",
    "    v2 = np.array([0,0,1])\n",
    "    \n",
    "    v1_u = unit_vector(v1)\n",
    "    v2_u = unit_vector(v2)\n",
    "    return (np.arccos(np.clip(np.dot(v1_u, v2_u), -1.0, 1.0)) / np.pi) * 180 - 90"
   ]
  },
  {
   "cell_type": "code",
   "execution_count": 16,
   "id": "e0f8b63a",
   "metadata": {},
   "outputs": [],
   "source": [
    "def get_helix(hx: float, hy: float, hz: float, r: float, theta_i: float, phi_offset: float, l: float):\n",
    "    theta_max = l * np.pi\n",
    "    theta = np.linspace(0, theta_max, 100)\n",
    "    \n",
    "    x = r*np.cos(theta+phi_offset) + hx\n",
    "    y = r*np.sin(theta+phi_offset) + hy\n",
    "    z = 2 * np.pi * r * np.tan(np.pi*theta_i/180) * theta / (2*np.pi)\n",
    "    \n",
    "    return x, y, z"
   ]
  },
  {
   "cell_type": "code",
   "execution_count": 17,
   "id": "d3dfc78f",
   "metadata": {},
   "outputs": [],
   "source": [
    "# generate radius for all trajectories\n",
    "list_traj_r = []\n",
    "for i in range(len(list_traj)):\n",
    "    list_traj_r.append(get_radius(list_traj_px[i],list_traj_py[i],list_traj_particle_type[i], -1.))"
   ]
  },
  {
   "cell_type": "code",
   "execution_count": 18,
   "id": "50d9210e",
   "metadata": {},
   "outputs": [],
   "source": [
    "# generate theta for all traj\n",
    "list_traj_theta = []\n",
    "for i in range(len(list_traj)):\n",
    "    px = list_traj_px[i]\n",
    "    py = list_traj_py[i]\n",
    "    pz = list_traj_pz[i]\n",
    "    list_traj_theta.append(get_theta(px,py,pz))"
   ]
  },
  {
   "cell_type": "code",
   "execution_count": 19,
   "id": "897c55b2",
   "metadata": {},
   "outputs": [],
   "source": [
    "#list_traj_theta"
   ]
  },
  {
   "cell_type": "code",
   "execution_count": 20,
   "id": "111f8acc",
   "metadata": {},
   "outputs": [],
   "source": [
    "# helix middle point\n",
    "\n",
    "v = np.cross([list_traj_px[index_current], list_traj_py[index_current], 0], [0,0,1])\n",
    "\n",
    "v_n = v / np.sqrt(np.sum(v**2))\n",
    "r = list_traj_r[index_current]\n",
    "\n",
    "hx = list_traj_vx[index_current] + r*v_n[0]\n",
    "hy = list_traj_vy[index_current] + r*v_n[1]\n",
    "hz = list_traj_vz[index_current]\n",
    "\n",
    "theta = list_traj_theta[index_current]"
   ]
  },
  {
   "cell_type": "code",
   "execution_count": 21,
   "id": "03838da2",
   "metadata": {},
   "outputs": [],
   "source": [
    "# tilehit position for given traj\n",
    "x_t = []\n",
    "y_t = []\n",
    "z_t = []\n",
    "for index in range(len(list_tilehit_tid)):\n",
    "    if list_tilehit_tid[index] == list_traj[index_current]:\n",
    "        x_t.append(mu3e_detector.TileDetector.tile[list_tilehit_tile[index]].pos[0])\n",
    "        y_t.append(mu3e_detector.TileDetector.tile[list_tilehit_tile[index]].pos[1])\n",
    "        z_t.append(mu3e_detector.TileDetector.tile[list_tilehit_tile[index]].pos[2])"
   ]
  },
  {
   "cell_type": "code",
   "execution_count": 23,
   "id": "ee29cc52",
   "metadata": {},
   "outputs": [],
   "source": [
    "x,y,z = get_helix(hx, hy, hz, r, theta, 2)"
   ]
  },
  {
   "cell_type": "code",
   "execution_count": 29,
   "id": "1eba7413",
   "metadata": {
    "scrolled": false
   },
   "outputs": [
    {
     "data": {
      "image/png": "[encoded data removed]",
      "text/plain": [
       "<Figure size 1440x720 with 2 Axes>"
      ]
     },
     "metadata": {
      "needs_background": "light"
     },
     "output_type": "display_data"
    }
   ],
   "source": [
    "fig, ax_arr = plt.subplots(1, 2, figsize=(20, 10))\n",
    "\n",
    "ax = ax_arr[0]\n",
    "ax.scatter(list_traj_vx[index_current], list_traj_vy[index_current])\n",
    "ax.scatter(np.array(x_t), np.array(y_t))\n",
    "ax.arrow(list_traj_vx[index_current], list_traj_vy[index_current], list_traj_px[index_current], list_traj_py[index_current],length_includes_head=True, head_width=5, head_length=5)\n",
    "ax.plot(x,y)\n",
    "\n",
    "circle1 = plt.Circle((0, 0), 60, color='y', alpha = 0.1)\n",
    "circle2 = plt.Circle((0, 0), 19, color='black', alpha = 0.1)\n",
    "ax.add_patch(circle1)\n",
    "ax.add_patch(circle2)\n",
    "ax.axis('equal')\n",
    "\n",
    "ax = ax_arr[1]\n",
    "ax.scatter(list_traj_vz[index_current], list_traj_vx[index_current])\n",
    "ax.scatter(np.array(z_t), np.array(x_t))\n",
    "ax.arrow(list_traj_vz[index_current], list_traj_vx[index_current], list_traj_pz[index_current], list_traj_px[index_current],length_includes_head=True, head_width=5, head_length=5)\n",
    "ax.plot(z,x)\n",
    "\n",
    "ax.axis('equal')\n",
    "\n",
    "plt.show()"
   ]
  },
  {
   "cell_type": "code",
   "execution_count": 25,
   "id": "b88d123e",
   "metadata": {},
   "outputs": [
    {
     "data": {
      "image/png": "[encoded data removed]",
      "text/plain": [
       "<Figure size 432x288 with 1 Axes>"
      ]
     },
     "metadata": {
      "needs_background": "light"
     },
     "output_type": "display_data"
    }
   ],
   "source": [
    "#%matplotlib notebook\n",
    "import matplotlib\n",
    "#matplotlib.use('WebAgg') \n",
    "\n",
    "from mpl_toolkits.mplot3d import Axes3D\n",
    "import mpl_toolkits.mplot3d.art3d as art3d\n",
    "\n",
    "fig = plt.figure()\n",
    "ax = fig.add_subplot(111, projection='3d')\n",
    "\n",
    "circle1 = plt.Circle((0, 0), 60, color='y', alpha = 0.1)\n",
    "circle2 = plt.Circle((0, 0), 19, color='black', alpha = 0.3)\n",
    "ax.add_patch(circle2)\n",
    "art3d.pathpatch_2d_to_3d(circle2, z=0, zdir=\"z\")\n",
    "ax.add_patch(circle1)\n",
    "art3d.pathpatch_2d_to_3d(circle1, z=0, zdir=\"z\")\n",
    "\n",
    "\n",
    "ax.plot(x,y,z)\n",
    "ax.scatter(np.array(x_t), np.array(y_t), np.array(z_t))\n",
    "\n",
    "ax.set_xlim(-200, 200)\n",
    "ax.set_ylim(-200, 200)\n",
    "ax.set_zlim(-600, 600)\n",
    "\n",
    "plt.show()"
   ]
  },
  {
   "cell_type": "code",
   "execution_count": null,
   "id": "045033ff",
   "metadata": {},
   "outputs": [],
   "source": []
  }
 ],
 "metadata": {
  "kernelspec": {
   "display_name": "Python 3 (ipykernel)",
   "language": "python",
   "name": "python3"
  },
  "language_info": {
   "codemirror_mode": {
    "name": "ipython",
    "version": 3
   },
   "file_extension": ".py",
   "mimetype": "text/x-python",
   "name": "python",
   "nbconvert_exporter": "python",
   "pygments_lexer": "ipython3",
   "version": "3.10.2"
  }
 },
 "nbformat": 4,
 "nbformat_minor": 5
}
