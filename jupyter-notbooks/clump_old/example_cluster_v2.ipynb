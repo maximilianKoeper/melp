{
 "cells": [
  {
   "cell_type": "code",
   "execution_count": 1,
   "id": "a6c71e2a",
   "metadata": {},
   "outputs": [
    {
     "name": "stdout",
     "output_type": "stream",
     "text": [
      "Welcome to JupyROOT 6.24/06\n"
     ]
    },
    {
     "ename": "ModuleNotFoundError",
     "evalue": "No module named 'melp'",
     "output_type": "error",
     "traceback": [
      "\u001b[0;31m---------------------------------------------------------------------------\u001b[0m",
      "\u001b[0;31mModuleNotFoundError\u001b[0m                       Traceback (most recent call last)",
      "\u001b[0;32m/tmp/ipykernel_22569/263725807.py\u001b[0m in \u001b[0;36m<module>\u001b[0;34m\u001b[0m\n\u001b[1;32m      3\u001b[0m \u001b[0;32mimport\u001b[0m \u001b[0mmatplotlib\u001b[0m\u001b[0;34m.\u001b[0m\u001b[0mpyplot\u001b[0m \u001b[0;32mas\u001b[0m \u001b[0mplt\u001b[0m\u001b[0;34m\u001b[0m\u001b[0;34m\u001b[0m\u001b[0m\n\u001b[1;32m      4\u001b[0m \u001b[0;32mimport\u001b[0m \u001b[0mmatplotlib\u001b[0m \u001b[0;32mas\u001b[0m \u001b[0mmpl\u001b[0m\u001b[0;34m\u001b[0m\u001b[0;34m\u001b[0m\u001b[0m\n\u001b[0;32m----> 5\u001b[0;31m \u001b[0;32mfrom\u001b[0m \u001b[0mmelp\u001b[0m \u001b[0;32mimport\u001b[0m \u001b[0mDetector\u001b[0m\u001b[0;34m\u001b[0m\u001b[0;34m\u001b[0m\u001b[0m\n\u001b[0m\u001b[1;32m      6\u001b[0m \u001b[0;32mimport\u001b[0m \u001b[0mmelp\u001b[0m\u001b[0;34m\u001b[0m\u001b[0;34m\u001b[0m\u001b[0m\n\u001b[1;32m      7\u001b[0m \u001b[0;32mimport\u001b[0m \u001b[0mmath\u001b[0m\u001b[0;34m\u001b[0m\u001b[0;34m\u001b[0m\u001b[0m\n",
      "\u001b[0;32m~/Cern_Root/root-install/lib/ROOT/_facade.py\u001b[0m in \u001b[0;36m_importhook\u001b[0;34m(name, *args, **kwds)\u001b[0m\n\u001b[1;32m    148\u001b[0m                 \u001b[0;32mexcept\u001b[0m \u001b[0mException\u001b[0m\u001b[0;34m:\u001b[0m\u001b[0;34m\u001b[0m\u001b[0;34m\u001b[0m\u001b[0m\n\u001b[1;32m    149\u001b[0m                     \u001b[0;32mpass\u001b[0m\u001b[0;34m\u001b[0m\u001b[0;34m\u001b[0m\u001b[0m\n\u001b[0;32m--> 150\u001b[0;31m             \u001b[0;32mreturn\u001b[0m \u001b[0m_orig_ihook\u001b[0m\u001b[0;34m(\u001b[0m\u001b[0mname\u001b[0m\u001b[0;34m,\u001b[0m \u001b[0;34m*\u001b[0m\u001b[0margs\u001b[0m\u001b[0;34m,\u001b[0m \u001b[0;34m**\u001b[0m\u001b[0mkwds\u001b[0m\u001b[0;34m)\u001b[0m\u001b[0;34m\u001b[0m\u001b[0;34m\u001b[0m\u001b[0m\n\u001b[0m\u001b[1;32m    151\u001b[0m         \u001b[0m__builtin__\u001b[0m\u001b[0;34m.\u001b[0m\u001b[0m__import__\u001b[0m \u001b[0;34m=\u001b[0m \u001b[0m_importhook\u001b[0m\u001b[0;34m\u001b[0m\u001b[0;34m\u001b[0m\u001b[0m\n\u001b[1;32m    152\u001b[0m \u001b[0;34m\u001b[0m\u001b[0m\n",
      "\u001b[0;31mModuleNotFoundError\u001b[0m: No module named 'melp'"
     ]
    }
   ],
   "source": [
    "import ROOT\n",
    "import numpy as np\n",
    "import matplotlib.pyplot as plt\n",
    "import matplotlib as mpl\n",
    "from melp import Detector\n",
    "import melp\n",
    "import math\n",
    "\n",
    "from melp.clustering.misc import*\n",
    "import melp.clustering as clump\n",
    "import melp.clustering.time_cluster as tclump\n",
    "import melp.clustering.spatial_cluster as sclump\n",
    "#from melp import TileAnalyzer"
   ]
  },
  {
   "cell_type": "code",
   "execution_count": null,
   "id": "cae47546",
   "metadata": {
    "scrolled": true
   },
   "outputs": [],
   "source": [
    "hittimes = hittimes_in_frame(\"./testdata/sorted/sorted1.root\",1)\n",
    "print(hittimes.values())\n",
    "print(hittimes.keys())\n",
    "print()\n",
    "print(np.array(hittimes.values()))"
   ]
  },
  {
   "cell_type": "code",
   "execution_count": null,
   "id": "51c5c9a0",
   "metadata": {},
   "outputs": [],
   "source": [
    "mu3e_detector = Detector.initFromROOT(\"./testdata/sorted/sorted1.root\")\n",
    "#mu3e_detector = Detector.initFromSave(\"test_detector_file\")"
   ]
  },
  {
   "cell_type": "code",
   "execution_count": null,
   "id": "e80f3708",
   "metadata": {},
   "outputs": [],
   "source": [
    "#mu3e_detector.save(\"test_detector_file\")"
   ]
  },
  {
   "cell_type": "code",
   "execution_count": null,
   "id": "77cd7cb0",
   "metadata": {},
   "outputs": [],
   "source": [
    "melp.select(mu3e_detector)\n"
   ]
  },
  {
   "cell_type": "code",
   "execution_count": null,
   "id": "fd441f35",
   "metadata": {},
   "outputs": [],
   "source": [
    "print(mu3e_detector)"
   ]
  },
  {
   "cell_type": "code",
   "execution_count": null,
   "id": "b868dac5",
   "metadata": {
    "scrolled": false
   },
   "outputs": [],
   "source": [
    "melp.addTileHits(\"./testdata/sorted/sorted1.root\", truth=False, traj=False)"
   ]
  },
  {
   "cell_type": "code",
   "execution_count": null,
   "id": "fd16f284",
   "metadata": {},
   "outputs": [],
   "source": [
    "mu3e_detector.info()"
   ]
  },
  {
   "cell_type": "code",
   "execution_count": null,
   "id": "e05122d4",
   "metadata": {
    "scrolled": true
   },
   "outputs": [],
   "source": [
    "masks = sclump.build_mask(\"./testdata/sorted/sorted1.root\", 7)\n",
    "#masks = sclump.build_mask_detector_class(\"./testdata/sorted/sorted1.root\", 7, mu3e_detector)\n",
    "\n",
    "keys = []\n",
    "values = []\n",
    "for key in masks.keys():\n",
    "    keys.append(key)\n",
    "    values.append(masks[key])\n",
    "    \n",
    "mu3e_detector.TileDetector.tile[keys[0]].id\n",
    "mu3e_detector.TileDetector.tile[keys[0]].hits\n",
    "print(values[0])"
   ]
  },
  {
   "cell_type": "code",
   "execution_count": null,
   "id": "94a767c8",
   "metadata": {},
   "outputs": [],
   "source": [
    "grid = np.zeros((52,56))\n",
    "\n",
    "all_hits = False\n",
    "#add hits in frame\n",
    "if all_hits == True:\n",
    "    for tile_id in mu3e_detector.TileDetector.tile:\n",
    "        if tile_id < 300000:\n",
    "            tile = mu3e_detector.TileDetector.tile[tile_id]\n",
    "            for hits in tile.hits:\n",
    "                if hits.frame_id in [7]:\n",
    "                    id_sel = tile_id - 200000\n",
    "                    x = math.floor(id_sel/56)\n",
    "                    y = id_sel % 52\n",
    "                    grid[x][y] += 1\n",
    "\n",
    "#add mask\n",
    "for mask_tile in values[0]:\n",
    "    if mask_tile < 300000:\n",
    "        id_sel_mask = mask_tile - 200000\n",
    "        x = math.floor((id_sel_mask+1)/56)\n",
    "        y = id_sel_mask % 56\n",
    "        grid[x][y] += 1\n",
    "        \n",
    "#add centre a second time      \n",
    "if keys[0] < 300000:\n",
    "    id_sel_mask = keys[0] - 200000\n",
    "    x = math.floor(id_sel_mask/56)\n",
    "    y = id_sel_mask % 56\n",
    "    grid[x][y] += 1\n",
    "                     \n",
    "                              \n",
    "fig = plt.figure()\n",
    "fig, ax = plt.subplots(1,1, figsize=(12,12))\n",
    "#heatplot_mask = ax.imshow(mask_grid.T, cmap='binary')\n",
    "heatplot = ax.imshow(grid.T, cmap='BuPu')\n",
    "#ax.grid(which='minor', color='b', linestyle='-', linewidth=1)\n",
    "plt.hlines(y=np.arange(0, 56)+0.5, xmin=-0.5, xmax=51.5, color=\"black\", linewidth = 0.5)\n",
    "plt.vlines(x=np.arange(0, 52)+0.5, ymin=-0.5, ymax=55.5, color=\"black\", linewidth = 0.5)\n",
    "plt.xlabel(\"z\")\n",
    "plt.ylabel(\"phi\")\n",
    "#plt.savefig(\"hitmap.png\")\n",
    "plt.show()"
   ]
  }
 ],
 "metadata": {
  "kernelspec": {
   "display_name": "Python 3 (ipykernel)",
   "language": "python",
   "name": "python3"
  },
  "language_info": {
   "codemirror_mode": {
    "name": "ipython",
    "version": 3
   },
   "file_extension": ".py",
   "mimetype": "text/x-python",
   "name": "python",
   "nbconvert_exporter": "python",
   "pygments_lexer": "ipython3",
   "version": "3.8.10"
  }
 },
 "nbformat": 4,
 "nbformat_minor": 5
}
