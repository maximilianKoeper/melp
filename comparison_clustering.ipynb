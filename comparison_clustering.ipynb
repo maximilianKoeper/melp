{
 "cells": [
  {
   "cell_type": "code",
   "execution_count": 1,
   "metadata": {},
   "outputs": [
    {
     "name": "stdout",
     "output_type": "stream",
     "text": [
      "Welcome to JupyROOT 6.24/06\n"
     ]
    }
   ],
   "source": [
    "import ROOT\n",
    "import numpy as np\n",
    "import matplotlib.pyplot as plt\n",
    "import matplotlib as mpl\n",
    "from melp import Detector\n",
    "import melp\n",
    "import math\n",
    "\n",
    "from melp.clustering.misc import*\n",
    "import melp.clustering as clump\n",
    "import melp.clustering.time_cluster as tclump\n",
    "#from melp import TileAnalyzer"
   ]
  },
  {
   "cell_type": "code",
   "execution_count": 2,
   "metadata": {},
   "outputs": [],
   "source": [
    "filename_trirec = \"./testdata/trirec/trirec1.root\"\n",
    "filename_sorted = \"./testdata/sorted/sorted1.root\"\n",
    "#file = ROOT.TFile(filename)\n",
    "#ttree_mu3e = file.Get(\"mu3e\")"
   ]
  },
  {
   "cell_type": "code",
   "execution_count": 8,
   "metadata": {},
   "outputs": [
    {
     "name": "stdout",
     "output_type": "stream",
     "text": [
      "10.526315789473685 %\n",
      "70.0 %\n"
     ]
    }
   ],
   "source": [
    "file_rec = ROOT.TFile(filename_trirec)\n",
    "ttree_trirec = file_rec.Get(\"frames\")\n",
    "ttree_trirec_mc = file_rec.Get(\"frames_mc\")\n",
    "\n",
    "frame = 1\n",
    "ttree_trirec.GetEntry(frame)\n",
    "ttree_trirec_mc.GetEntry(frame)\n",
    "   \n",
    "tid_rec = ttree_trirec.mc_tid\n",
    "tid_rec_mc = ttree_trirec_mc.mc_tid\n",
    "\n",
    "tid_counter = 0\n",
    "for i in tid_rec_mc:\n",
    "    if i in get_tid_frame(filename_sorted,1).values():\n",
    "        tid_counter += 1\n",
    "    else:\n",
    "        continue\n",
    "\n",
    "print(tid_counter/(len(get_tid_frame(filename_sorted,1))/100), \"%\")\n",
    "print(len(tid_rec_mc)/(len(tid_rec)/100), \"%\")"
   ]
  },
  {
   "cell_type": "code",
   "execution_count": 4,
   "metadata": {},
   "outputs": [],
   "source": [
    "ttree_mu3e_segs = file_rec.Get(\"segs\")\n",
    "ttree_mu3e_segs.GetEntry(frame)\n",
    "\n",
    "segs_rec_tid = ttree_mu3e_segs.tl_n"
   ]
  },
  {
   "cell_type": "code",
   "execution_count": 5,
   "metadata": {},
   "outputs": [
    {
     "name": "stdout",
     "output_type": "stream",
     "text": [
      "0\n",
      "{ 28341, 33517, 32299, 34367, 37051, 16492, 16492, 16492, 25876, 25876 }\n"
     ]
    }
   ],
   "source": [
    "print(segs_rec_tid)\n",
    "\n",
    "print(tid_rec)"
   ]
  },
  {
   "cell_type": "code",
   "execution_count": 12,
   "metadata": {},
   "outputs": [
    {
     "name": "stdout",
     "output_type": "stream",
     "text": [
      "Efficiency:  17.345295606165173 %\n"
     ]
    }
   ],
   "source": [
    "file = ROOT.TFile(filename_sorted)\n",
    "ttree_mu3e = file.Get(\"mu3e\")\n",
    "ttree_mu3e_mc = file.Get(\"mu3e_mchits\")\n",
    "\n",
    "eff_counter = 0\n",
    "tot_hit_counter = 0\n",
    "for frame in range(ttree_mu3e.GetEntries()):\n",
    "    primaries = get_mc_primary_for_hit_frame(filename_sorted,frame)\n",
    "    cluster = frame_as_cluster(filename_sorted,frame)\n",
    "    tot_hit_counter += len(cluster)\n",
    "    for key in cluster.keys():\n",
    "        if key in primaries.keys():\n",
    "            if cluster[key] == primaries[key]:\n",
    "                eff_counter += 1\n",
    "            else:\n",
    "                continue\n",
    "        else:\n",
    "            continue\n",
    "\n",
    "print(\"Efficiency: \", eff_counter/(tot_hit_counter/100), \"%\")"
   ]
  },
  {
   "cell_type": "code",
   "execution_count": null,
   "metadata": {},
   "outputs": [],
   "source": []
  }
 ],
 "metadata": {
  "kernelspec": {
   "display_name": "Python 3",
   "language": "python",
   "name": "python3"
  },
  "language_info": {
   "codemirror_mode": {
    "name": "ipython",
    "version": 3
   },
   "file_extension": ".py",
   "mimetype": "text/x-python",
   "name": "python",
   "nbconvert_exporter": "python",
   "pygments_lexer": "ipython3",
   "version": "3.8.10"
  }
 },
 "nbformat": 4,
 "nbformat_minor": 5
}
