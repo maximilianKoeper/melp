{
 "cells": [
  {
   "cell_type": "code",
   "execution_count": 1,
   "id": "b97d617d",
   "metadata": {},
   "outputs": [
    {
     "name": "stdout",
     "output_type": "stream",
     "text": [
      "Welcome to JupyROOT 6.24/06\n"
     ]
    }
   ],
   "source": [
    "import ROOT\n",
    "import numpy as np\n",
    "import matplotlib.pyplot as plt\n",
    "import matplotlib as mpl\n",
    "from melp import Detector\n",
    "import melp\n",
    "import math\n",
    "\n",
    "from melp.clustering.misc import*\n",
    "import melp.clustering as clump\n",
    "import melp.clustering.time_cluster as tclump\n",
    "#from melp import TileAnalyzer\n",
    "import melp.clustering.spatial_cluster as sclump\n",
    "\n",
    "plt.rcParams.update({'font.size': 16})"
   ]
  },
  {
   "cell_type": "markdown",
   "id": "5022ae8f",
   "metadata": {},
   "source": [
    "#### Load files"
   ]
  },
  {
   "cell_type": "code",
   "execution_count": 2,
   "id": "11511c57",
   "metadata": {},
   "outputs": [],
   "source": [
    "filename_trirec = \"./testdata/trirec/trirec1.root\"\n",
    "filename_sorted = \"./testdata/sorted/sorted1.root\"\n",
    "#file = ROOT.TFile(filename)\n",
    "#ttree_mu3e = file.Get(\"mu3e\")"
   ]
  },
  {
   "cell_type": "code",
   "execution_count": 3,
   "id": "646b4648",
   "metadata": {},
   "outputs": [
    {
     "name": "stdout",
     "output_type": "stream",
     "text": [
      "10.526315789473685 %\n",
      "70.0 %\n"
     ]
    }
   ],
   "source": [
    "file_rec = ROOT.TFile(filename_trirec)\n",
    "ttree_trirec = file_rec.Get(\"frames\")\n",
    "ttree_trirec_mc = file_rec.Get(\"frames_mc\")\n",
    "\n",
    "frame = 1\n",
    "ttree_trirec.GetEntry(frame)\n",
    "ttree_trirec_mc.GetEntry(frame)\n",
    "   \n",
    "tid_rec = ttree_trirec.mc_tid\n",
    "tid_rec_mc = ttree_trirec_mc.mc_tid\n",
    "\n",
    "tid_counter = 0\n",
    "for i in tid_rec_mc:\n",
    "    if i in get_tid_frame(filename_sorted,1).values():\n",
    "        tid_counter += 1\n",
    "    else:\n",
    "        continue\n",
    "\n",
    "print(tid_counter/(len(get_tid_frame(filename_sorted,1))/100), \"%\")\n",
    "print(len(tid_rec_mc)/(len(tid_rec)/100), \"%\")"
   ]
  },
  {
   "cell_type": "code",
   "execution_count": 4,
   "id": "e4105499",
   "metadata": {},
   "outputs": [],
   "source": [
    "ttree_mu3e_segs = file_rec.Get(\"segs\")\n",
    "ttree_mu3e_segs.GetEntry(frame)\n",
    "\n",
    "segs_rec_tid = ttree_mu3e_segs.tl_n"
   ]
  },
  {
   "cell_type": "code",
   "execution_count": 5,
   "id": "21be13f7",
   "metadata": {},
   "outputs": [
    {
     "name": "stdout",
     "output_type": "stream",
     "text": [
      "0\n",
      "{ 28341, 33517, 32299, 34367, 37051, 16492, 16492, 16492, 25876, 25876 }\n"
     ]
    }
   ],
   "source": [
    "print(segs_rec_tid)\n",
    "\n",
    "print(tid_rec)"
   ]
  },
  {
   "cell_type": "markdown",
   "id": "8f7e3db9",
   "metadata": {},
   "source": [
    "#### Whole frame as cluster"
   ]
  },
  {
   "cell_type": "code",
   "execution_count": 6,
   "id": "703b9676",
   "metadata": {},
   "outputs": [
    {
     "data": {
      "text/plain": [
       "'\\nfile = ROOT.TFile(filename_sorted)\\nttree_mu3e = file.Get(\"mu3e\")\\nttree_mu3e_mc = file.Get(\"mu3e_mchits\")\\n\\neff_counter = 0\\ntot_hit_counter = 0\\nwrong_counter = 0\\n\\neff_counter_arr = []\\ntot_hit_counter_arr = []\\nwrong_counter_arr = []\\n\\nfor frame in range(ttree_mu3e.GetEntries()):\\n    tmp_eff_counter = 0\\n    tmp_tot_hit_counter = 0\\n    tmp_wrong_counter = 0\\n    \\n    primaries = get_mc_primary_for_hit_frame(filename_sorted,frame)\\n    cluster = frame_as_cluster(filename_sorted,frame)\\n    tot_hit_counter += len(cluster)\\n    tmp_tot_hit_counter += len(cluster)\\n    for key in cluster.keys():\\n        if key in primaries.keys():\\n            if cluster[key] == primaries[key]:\\n                eff_counter += 1\\n                tmp_eff_counter += 1\\n            else:\\n                wrong_counter += 1\\n                tmp_wrong_counter += 1\\n        else:\\n            continue\\n        eff_counter_arr.append(tmp_eff_counter)\\n        tot_hit_counter_arr.append(tmp_tot_hit_counter)\\n        wrong_counter_arr.append(tmp_wrong_counter)\\n             \\nprint(\"Average number of hits per frame: \", tot_hit_counter/ttree_mu3e.GetEntries())\\nprint(\"Correctly identified: \", eff_counter/(tot_hit_counter/100), \"%\")\\nprint(\"Incorrectly identified (not an actual part of cluster): \", wrong_counter/(tot_hit_counter/100), \"%\")\\nprint(\"Not identified (actual part of cluster that hasn\\'t been identified): \", 0, \"%\")\\n'"
      ]
     },
     "execution_count": 6,
     "metadata": {},
     "output_type": "execute_result"
    }
   ],
   "source": [
    "\"\"\"\n",
    "file = ROOT.TFile(filename_sorted)\n",
    "ttree_mu3e = file.Get(\"mu3e\")\n",
    "ttree_mu3e_mc = file.Get(\"mu3e_mchits\")\n",
    "\n",
    "eff_counter = 0\n",
    "tot_hit_counter = 0\n",
    "wrong_counter = 0\n",
    "\n",
    "eff_counter_arr = []\n",
    "tot_hit_counter_arr = []\n",
    "wrong_counter_arr = []\n",
    "\n",
    "for frame in range(ttree_mu3e.GetEntries()):\n",
    "    tmp_eff_counter = 0\n",
    "    tmp_tot_hit_counter = 0\n",
    "    tmp_wrong_counter = 0\n",
    "    \n",
    "    primaries = get_mc_primary_for_hit_frame(filename_sorted,frame)\n",
    "    cluster = frame_as_cluster(filename_sorted,frame)\n",
    "    tot_hit_counter += len(cluster)\n",
    "    tmp_tot_hit_counter += len(cluster)\n",
    "    for key in cluster.keys():\n",
    "        if key in primaries.keys():\n",
    "            if cluster[key] == primaries[key]:\n",
    "                eff_counter += 1\n",
    "                tmp_eff_counter += 1\n",
    "            else:\n",
    "                wrong_counter += 1\n",
    "                tmp_wrong_counter += 1\n",
    "        else:\n",
    "            continue\n",
    "        eff_counter_arr.append(tmp_eff_counter)\n",
    "        tot_hit_counter_arr.append(tmp_tot_hit_counter)\n",
    "        wrong_counter_arr.append(tmp_wrong_counter)\n",
    "             \n",
    "print(\"Average number of hits per frame: \", tot_hit_counter/ttree_mu3e.GetEntries())\n",
    "print(\"Correctly identified: \", eff_counter/(tot_hit_counter/100), \"%\")\n",
    "print(\"Incorrectly identified (not an actual part of cluster): \", wrong_counter/(tot_hit_counter/100), \"%\")\n",
    "print(\"Not identified (actual part of cluster that hasn't been identified): \", 0, \"%\")\n",
    "\"\"\""
   ]
  },
  {
   "cell_type": "code",
   "execution_count": 7,
   "id": "9fec608f",
   "metadata": {},
   "outputs": [
    {
     "data": {
      "text/plain": [
       "'\\nplt.figure(figsize=(18,10))\\nplt.hist(tot_hit_counter_arr)\\nplt.hist(wrong_counter_arr)\\nplt.hist(eff_counter_arr)\\nplt.show()\\n'"
      ]
     },
     "execution_count": 7,
     "metadata": {},
     "output_type": "execute_result"
    }
   ],
   "source": [
    "\"\"\"\n",
    "plt.figure(figsize=(18,10))\n",
    "plt.hist(tot_hit_counter_arr)\n",
    "plt.hist(wrong_counter_arr)\n",
    "plt.hist(eff_counter_arr)\n",
    "plt.show()\n",
    "\"\"\""
   ]
  },
  {
   "cell_type": "code",
   "execution_count": 8,
   "id": "fbf4a57e",
   "metadata": {},
   "outputs": [
    {
     "data": {
      "text/plain": [
       "'\\nplt.figure(figsize=(18,10))\\nplt.hist(eff_counter_arr + wrong_counter_arr)\\nplt.show()\\n'"
      ]
     },
     "execution_count": 8,
     "metadata": {},
     "output_type": "execute_result"
    }
   ],
   "source": [
    "\"\"\"\n",
    "plt.figure(figsize=(18,10))\n",
    "plt.hist(eff_counter_arr + wrong_counter_arr)\n",
    "plt.show()\n",
    "\"\"\""
   ]
  },
  {
   "cell_type": "markdown",
   "id": "dea63053",
   "metadata": {},
   "source": [
    "#### Masks (Small. Medium, Big)"
   ]
  },
  {
   "cell_type": "code",
   "execution_count": 9,
   "id": "82714cf9",
   "metadata": {},
   "outputs": [
    {
     "name": "stdout",
     "output_type": "stream",
     "text": [
      "------------------------------\n",
      "Detector information\n",
      "\n",
      "Stats:\n",
      "  - Tiles:  5824\n",
      "    -> misal:  False\n",
      "  - Pixel Modules:  2844\n",
      "  - Loaded Runs (Tiles):  []\n",
      "  - Loaded Runs (Pixel):  []\n",
      "------------------------------\n"
     ]
    }
   ],
   "source": [
    "mu3e_detector = Detector.initFromROOT(\"./testdata/sorted/sorted1.root\")\n",
    "#mu3e_detector = Detector.initFromSave(\"test_detector_file\")"
   ]
  },
  {
   "cell_type": "code",
   "execution_count": 10,
   "id": "281c5e07",
   "metadata": {},
   "outputs": [],
   "source": [
    "#mu3e_detector.save(\"test_detector_file\")"
   ]
  },
  {
   "cell_type": "code",
   "execution_count": 11,
   "id": "f0c55f6c",
   "metadata": {},
   "outputs": [
    {
     "name": "stdout",
     "output_type": "stream",
     "text": [
      "Detector(TileDetector=<melp.src.tile.TileDetector object at 0x7ff3bf7d9730>, SensorModules=<melp.src.sensor.SensorModule object at 0x7ff3bf6074f0>))\n"
     ]
    }
   ],
   "source": [
    "melp.select(mu3e_detector)\n",
    "print(mu3e_detector)"
   ]
  },
  {
   "cell_type": "code",
   "execution_count": 12,
   "id": "2f0b43e5",
   "metadata": {},
   "outputs": [
    {
     "name": "stdout",
     "output_type": "stream",
     "text": [
      "------------------------------\n",
      "Detector information\n",
      "\n",
      "Stats:\n",
      "  - Tiles:  5824\n",
      "    -> misal:  False\n",
      "  - Pixel Modules:  2844\n",
      "  - Loaded Runs (Tiles):  [1]\n",
      "  - Loaded Runs (Pixel):  []\n",
      "------------------------------\n"
     ]
    }
   ],
   "source": [
    "melp.addTileHits(\"./testdata/sorted/sorted1.root\", truth=False, traj=False)\n",
    "mu3e_detector.info()"
   ]
  },
  {
   "cell_type": "code",
   "execution_count": 13,
   "id": "ad860f88",
   "metadata": {},
   "outputs": [
    {
     "data": {
      "text/plain": [
       "[Hit(edep=0.3654664438059544, mc_i=20001, tid=-1, frame_id=1, run_id=-1, hid=1, impact_vec=None, trajectory=None, pos=None),\n",
       " Hit(edep=0.8565486811837582, mc_i=53222, tid=-1, frame_id=70, run_id=-1, hid=1, impact_vec=None, trajectory=None, pos=None),\n",
       " Hit(edep=0.5749607961566743, mc_i=171266, tid=-1, frame_id=254, run_id=-1, hid=2, impact_vec=None, trajectory=None, pos=None),\n",
       " Hit(edep=0.3829692418692809, mc_i=428912, tid=-1, frame_id=678, run_id=-1, hid=1, impact_vec=None, trajectory=None, pos=None)]"
      ]
     },
     "execution_count": 13,
     "metadata": {},
     "output_type": "execute_result"
    }
   ],
   "source": [
    "#select frame to analyze\n",
    "frame_used = 1\n",
    "\n",
    "#build masks (and deconstruct them into arrays)\n",
    "#masks = sclump.build_mask_detector_class(filename_sorted, frame_used, mu3e_detector, mask_type = \"big\")\n",
    "masks = sclump.build_mask_around_cluster_primary(filename_sorted, frame_used, mu3e_detector, mask_type = \"big\")\n",
    "\n",
    "keys = []\n",
    "values = []\n",
    "for key in masks.keys():\n",
    "    keys.append(key)\n",
    "    values.append(masks[key])\n",
    "    \n",
    "mu3e_detector.TileDetector.tile[keys[0]].id\n",
    "mu3e_detector.TileDetector.tile[keys[0]].hits\n",
    "#print(values[0])"
   ]
  },
  {
   "cell_type": "code",
   "execution_count": 14,
   "id": "f26a30c2",
   "metadata": {},
   "outputs": [
    {
     "data": {
      "image/png": "[encoded data removed]",
      "text/plain": [
       "<Figure size 1440x1440 with 4 Axes>"
      ]
     },
     "metadata": {
      "needs_background": "light"
     },
     "output_type": "display_data"
    }
   ],
   "source": [
    "grid = np.zeros((52,56))\n",
    "\n",
    "#Choose if a single hit is plotted of all hits in frame (True, False)\n",
    "all_hits = True\n",
    "\n",
    "#If single hit is chosen. Choose hit to plot\n",
    "single_hit = 1\n",
    "\n",
    "#add hits in frame\n",
    "if all_hits == True:\n",
    "    for tile_id in mu3e_detector.TileDetector.tile:\n",
    "        if tile_id < 300000:\n",
    "            tile = mu3e_detector.TileDetector.tile[tile_id]\n",
    "            for hits in tile.hits:\n",
    "                if hits.frame_id in [frame_used]:\n",
    "                    x = tile.row()\n",
    "                    y = tile.column()\n",
    "                    grid[x][y] += 1\n",
    "\n",
    "#add masks\n",
    "if all_hits == True:\n",
    "    for i in range(len(values)):\n",
    "        for mask_tile in values[i]:\n",
    "            tile = mu3e_detector.TileDetector.tile[mask_tile]\n",
    "            if mask_tile < 300000:\n",
    "                x = tile.row()\n",
    "                y = tile.column()\n",
    "                grid[x][y] += 1\n",
    "\n",
    "        #add centre a second time      \n",
    "        if keys[i] < 300000:\n",
    "            tile = mu3e_detector.TileDetector.tile[keys[i]]\n",
    "            x = tile.row()\n",
    "            y = tile.column()\n",
    "            grid[x][y] += 1\n",
    "                     \n",
    "if all_hits == False:\n",
    "    for mask_tile in values[single_hit]:\n",
    "        tile = mu3e_detector.TileDetector.tile[mask_tile]\n",
    "        if mask_tile < 300000:\n",
    "            x = tile.row()\n",
    "            y = tile.column()\n",
    "            grid[x][y] += 1\n",
    "\n",
    "    #add centre a second time      \n",
    "    if keys[single_hit] < 300000:\n",
    "        tile = mu3e_detector.TileDetector.tile[keys[single_hit]]\n",
    "        x = tile.row()\n",
    "        y = tile.column()\n",
    "        grid[x][y] += 1\n",
    "                \n",
    "fig, ax = plt.subplots(2,2, figsize=(20,20))\n",
    "#heatplot_mask = ax.imshow(mask_grid.T, cmap='binary')\n",
    "heatplot = ax[0,0].imshow(grid.T, cmap='PuBuGn')\n",
    "#ax.grid(which='minor', color='b', linestyle='-', linewidth=1)\n",
    "ax[0,0].hlines(y=np.arange(0, 56)+0.5, xmin=-0.5, xmax=51.5, color=\"black\", linewidth = 0.5)\n",
    "ax[0,0].vlines(x=np.arange(0, 52)+0.5, ymin=-0.5, ymax=55.5, color=\"black\", linewidth = 0.5)\n",
    "ax[0,0].set_title(\"With Masks\")\n",
    "ax[0,0].set_xlabel(\"z\")\n",
    "ax[0,0].set_ylabel(\"phi\")\n",
    "\n",
    "\n",
    "#plot reference\n",
    "ref_grid = np.zeros((52,56))\n",
    "for tile_id in mu3e_detector.TileDetector.tile:\n",
    "    if tile_id < 300000:\n",
    "        tile = mu3e_detector.TileDetector.tile[tile_id]\n",
    "        for hits in tile.hits:\n",
    "            if hits.frame_id in [frame_used]:\n",
    "                x = tile.row()\n",
    "                y = tile.column()\n",
    "                ref_grid[x][y] += 1\n",
    "                \n",
    "#plot primary hits into reference plot(truth)\n",
    "cluster_primary = get_cluster_primary_truth_frame(filename_sorted, frame_used)  \n",
    "    \n",
    "for i in range(len(cluster_primary)):\n",
    "    primary = mu3e_detector.TileDetector.tile[cluster_primary[i]]\n",
    "    if primary.id < 300000:\n",
    "        x = primary.row()\n",
    "        y = primary.column()\n",
    "        ref_grid[x][y] += 1\n",
    "                \n",
    "                \n",
    "heatplot = ax[0,1].imshow(ref_grid.T, cmap='binary')\n",
    "#ax.grid(which='minor', color='b', linestyle='-', linewidth=1)\n",
    "ax[0,1].hlines(y=np.arange(0, 56)+0.5, xmin=-0.5, xmax=51.5, color=\"black\", linewidth = 0.5)\n",
    "ax[0,1].vlines(x=np.arange(0, 52)+0.5, ymin=-0.5, ymax=55.5, color=\"black\", linewidth = 0.5)\n",
    "ax[0,1].set_title(\"Only Hits\")\n",
    "ax[0,1].set_xlabel(\"z\")\n",
    "ax[0,1].set_ylabel(\"phi\")\n",
    "\n",
    "\n",
    "#plot clusters\n",
    "cluster_grid = np.zeros((52,56))\n",
    "clusters = sclump.build_clusters_in_masks(filename_sorted, frame_used, mu3e_detector, mask_type = \"big\")\n",
    "cluster_primaries = []\n",
    "whole_clusters = []\n",
    "for key in clusters.keys():\n",
    "    cluster_primaries.append(key)\n",
    "    whole_clusters.append(clusters[key])\n",
    "\n",
    "color_clusters = 1\n",
    "for i in range(len(clusters)):\n",
    "    color_clusters += 1\n",
    "    for cluster_tile in whole_clusters[i]:\n",
    "        tile = mu3e_detector.TileDetector.tile[cluster_tile]\n",
    "        if cluster_tile < 300000:\n",
    "            x = tile.row()\n",
    "            y = tile.column()\n",
    "            cluster_grid[x][y] += i+1\n",
    "\n",
    "    #add centre    \n",
    "    if cluster_primaries[i] < 300000:\n",
    "        tile = mu3e_detector.TileDetector.tile[cluster_primaries[i]]\n",
    "        x = tile.row()\n",
    "        y = tile.column()\n",
    "        cluster_grid[x][y] += i+1\n",
    "    \n",
    "    \n",
    "heatplot = ax[1,0].imshow(cluster_grid.T, cmap='Reds')\n",
    "#ax.grid(which='minor', color='b', linestyle='-', linewidth=1)\n",
    "ax[1,0].hlines(y=np.arange(0, 56)+0.5, xmin=-0.5, xmax=51.5, color=\"black\", linewidth = 0.5)\n",
    "ax[1,0].vlines(x=np.arange(0, 52)+0.5, ymin=-0.5, ymax=55.5, color=\"black\", linewidth = 0.5)\n",
    "ax[1,0].set_title(\"Clusters\")\n",
    "ax[1,0].set_xlabel(\"z\")\n",
    "ax[1,0].set_ylabel(\"phi\")\n",
    "#plt.savefig(\"hitmap.png\")\n",
    "plt.show()"
   ]
  },
  {
   "cell_type": "markdown",
   "id": "40538d46",
   "metadata": {},
   "source": [
    "## Efficiency Plots"
   ]
  },
  {
   "cell_type": "code",
   "execution_count": 15,
   "id": "dd566047",
   "metadata": {},
   "outputs": [],
   "source": [
    "file = ROOT.TFile(filename_sorted)\n",
    "ttree_mu3e = file.Get(\"mu3e\")"
   ]
  },
  {
   "cell_type": "markdown",
   "id": "ce5eac08",
   "metadata": {},
   "source": [
    "#### Hits not included in any cluster"
   ]
  },
  {
   "cell_type": "code",
   "execution_count": null,
   "id": "39d72bac",
   "metadata": {},
   "outputs": [],
   "source": []
  },
  {
   "cell_type": "markdown",
   "id": "65d4787c",
   "metadata": {},
   "source": [
    "#### Hits associated to wrong cluster"
   ]
  },
  {
   "cell_type": "code",
   "execution_count": null,
   "id": "81b88b00",
   "metadata": {},
   "outputs": [],
   "source": []
  },
  {
   "cell_type": "markdown",
   "id": "7982c304",
   "metadata": {},
   "source": [
    "#### Hits correctly associated"
   ]
  },
  {
   "cell_type": "code",
   "execution_count": 20,
   "id": "036ec695",
   "metadata": {},
   "outputs": [],
   "source": [
    "def compare_to_primary(filename):\n",
    "    file = ROOT.TFile(filename)\n",
    "    ttree_mu3e = file.Get(\"mu3e\")\n",
    "    \n",
    "    #comparing to primary\n",
    "    frac_corr_frame = []\n",
    "    frac_uncorr_frame = []\n",
    "    total_hits = []\n",
    "    #primary_found_counter = 0\n",
    "    #primary_not_found_counter = 0\n",
    "\n",
    "    for frame in range(ttree_mu3e.GetEntries()):\n",
    "        #Printing status info\n",
    "        if frame % 100 == 0:\n",
    "            print(\"Progress: \", np.round(frame / ttree_mu3e.GetEntries() * 100), \" %\", end='\\r')\n",
    "\n",
    "        ttree_mu3e.GetEntry(frame)\n",
    "        tot_hits_frame = len(ttree_mu3e.tilehit_tile)\n",
    "        corr_counter = 0\n",
    "        uncorr_counter = 0\n",
    "        \n",
    "        #get primaries\n",
    "        primaries_frame = get_mc_primary_for_hit_frame(filename_sorted, frame)\n",
    "        primaries_frame_arr = []\n",
    "        for key in primaries_frame.keys():\n",
    "            primaries_frame_arr.append([key,primaries_frame[key]]) #[hit tile, primary for tile hit]\n",
    "\n",
    "        #get clusters\n",
    "        clusters_with_primaries = sclump.build_cluster_with_truth_primary(filename_sorted, frame, mu3e_detector, mask_type = \"big\")\n",
    "        cluster_primaries_arr = []\n",
    "        cluster_arr = []\n",
    "        for key in clusters_with_primaries.keys():\n",
    "            cluster_primaries_arr.append(key)\n",
    "            cluster_arr.append(clusters_with_primaries[key])\n",
    "\n",
    "        #comparison\n",
    "        for i in range(len(primaries_frame_arr)):\n",
    "            for j in range(len(cluster_primaries_arr)):\n",
    "                if cluster_primaries_arr[j] == primaries_frame_arr[i][1]:\n",
    "                    #primary_found_counter += 1\n",
    "                    for k in range(len(cluster_arr[j])):\n",
    "                        if cluster_arr[j][k] == primaries_frame_arr[i][0]:\n",
    "                            corr_counter += 1\n",
    "                        else:\n",
    "                            uncorr_counter += 1\n",
    "                #else:\n",
    "                    #primary_not_found_counter += 1\n",
    "\n",
    "        if corr_counter != 0:\n",
    "            frac_corr_frame.append(corr_counter/tot_hits_frame)  \n",
    "\n",
    "        if uncorr_counter != 0:\n",
    "            frac_uncorr_frame.append(uncorr_counter/tot_hits_frame)\n",
    "\n",
    "        total_hits.append(tot_hits_frame)\n",
    "        \n",
    "    return frac_corr_frame, frac_uncorr_frame"
   ]
  },
  {
   "cell_type": "code",
   "execution_count": 17,
   "id": "be29c114",
   "metadata": {},
   "outputs": [
    {
     "ename": "NameError",
     "evalue": "name 'frac_corr_frame' is not defined",
     "output_type": "error",
     "traceback": [
      "\u001b[0;31m---------------------------------------------------------------------------\u001b[0m",
      "\u001b[0;31mNameError\u001b[0m                                 Traceback (most recent call last)",
      "\u001b[0;32m/tmp/ipykernel_28619/3678356131.py\u001b[0m in \u001b[0;36m<module>\u001b[0;34m\u001b[0m\n\u001b[1;32m      1\u001b[0m \u001b[0mfig\u001b[0m \u001b[0;34m=\u001b[0m \u001b[0mplt\u001b[0m\u001b[0;34m.\u001b[0m\u001b[0mfigure\u001b[0m\u001b[0;34m(\u001b[0m\u001b[0mfigsize\u001b[0m\u001b[0;34m=\u001b[0m\u001b[0;34m(\u001b[0m\u001b[0;36m12\u001b[0m\u001b[0;34m,\u001b[0m\u001b[0;36m6\u001b[0m\u001b[0;34m)\u001b[0m\u001b[0;34m)\u001b[0m\u001b[0;34m\u001b[0m\u001b[0;34m\u001b[0m\u001b[0m\n\u001b[0;32m----> 2\u001b[0;31m \u001b[0mplt\u001b[0m\u001b[0;34m.\u001b[0m\u001b[0mhist\u001b[0m\u001b[0;34m(\u001b[0m\u001b[0mfrac_corr_frame\u001b[0m\u001b[0;34m,\u001b[0m \u001b[0mbins\u001b[0m \u001b[0;34m=\u001b[0m \u001b[0;36m100\u001b[0m\u001b[0;34m)\u001b[0m\u001b[0;34m\u001b[0m\u001b[0;34m\u001b[0m\u001b[0m\n\u001b[0m\u001b[1;32m      3\u001b[0m \u001b[0mplt\u001b[0m\u001b[0;34m.\u001b[0m\u001b[0mtitle\u001b[0m\u001b[0;34m(\u001b[0m\u001b[0;34m\"Correctly associated hits/All hits (per frame)\"\u001b[0m\u001b[0;34m)\u001b[0m\u001b[0;34m\u001b[0m\u001b[0;34m\u001b[0m\u001b[0m\n\u001b[1;32m      4\u001b[0m \u001b[0mplt\u001b[0m\u001b[0;34m.\u001b[0m\u001b[0mshow\u001b[0m\u001b[0;34m(\u001b[0m\u001b[0;34m)\u001b[0m\u001b[0;34m\u001b[0m\u001b[0;34m\u001b[0m\u001b[0m\n",
      "\u001b[0;31mNameError\u001b[0m: name 'frac_corr_frame' is not defined"
     ]
    },
    {
     "data": {
      "text/plain": [
       "<Figure size 864x432 with 0 Axes>"
      ]
     },
     "metadata": {},
     "output_type": "display_data"
    }
   ],
   "source": [
    "fig = plt.figure(figsize=(12,6))\n",
    "plt.hist(frac_corr_frame, bins = 100)\n",
    "plt.title(\"Correctly associated hits/All hits (per frame)\")\n",
    "plt.show()"
   ]
  },
  {
   "cell_type": "code",
   "execution_count": null,
   "id": "bf113e07",
   "metadata": {},
   "outputs": [],
   "source": [
    "print(np.sum(total_hits))\n",
    "print(np.sum(tot_hit_check))\n",
    "print(primary_found_counter/primary_not_found_counter)"
   ]
  },
  {
   "cell_type": "code",
   "execution_count": 22,
   "id": "6bf7c421",
   "metadata": {},
   "outputs": [
    {
     "name": "stdout",
     "output_type": "stream",
     "text": [
      "         326098 function calls (326089 primitive calls) in 44.179 seconds\n",
      "\n",
      "   Ordered by: standard name\n",
      "\n",
      "   ncalls  tottime  percall  cumtime  percall filename:lineno(function)\n",
      "        1    0.722    0.722   44.179   44.179 2534438590.py:1(compare_to_primary)\n",
      "        9    0.000    0.000    0.000    0.000 <__array_function__ internals>:2(around)\n",
      "        9    0.000    0.000    0.000    0.000 <__array_function__ internals>:2(round_)\n",
      "        1    0.000    0.000   44.179   44.179 <string>:1(<module>)\n",
      "     4206    0.010    0.000    0.017    0.000 _facade.py:169(_fallback_getattr)\n",
      "     4206    0.774    0.000    0.777    0.000 _tfile.py:45(_TFileConstructor)\n",
      "       18    0.000    0.000    0.000    0.000 fromnumeric.py:3216(_around_dispatcher)\n",
      "        9    0.000    0.000    0.000    0.000 fromnumeric.py:3220(around)\n",
      "        9    0.000    0.000    0.000    0.000 fromnumeric.py:3730(round_)\n",
      "        9    0.000    0.000    0.000    0.000 fromnumeric.py:38(_wrapit)\n",
      "        9    0.000    0.000    0.000    0.000 fromnumeric.py:51(_wrapfunc)\n",
      "       63    0.000    0.000    0.002    0.000 iostream.py:206(schedule)\n",
      "       54    0.000    0.000    0.000    0.000 iostream.py:408(_is_master_process)\n",
      "       54    0.000    0.000    0.000    0.000 iostream.py:427(_schedule_flush)\n",
      "       54    0.000    0.000    0.003    0.000 iostream.py:490(write)\n",
      "       63    0.000    0.000    0.000    0.000 iostream.py:96(_event_pipe)\n",
      "      841    9.623    0.011    9.790    0.012 misc.py:186(get_cluster_primary_truth_frame)\n",
      "      841    8.139    0.010    8.306    0.010 misc.py:93(get_mc_primary_for_hit_frame)\n",
      "       63    0.002    0.000    0.002    0.000 socket.py:474(send)\n",
      "      841    8.321    0.010   18.390    0.022 spatial_cluster.py:164(build_mask_around_cluster_primary)\n",
      "      556    0.021    0.000    0.021    0.000 spatial_cluster.py:241(<listcomp>)\n",
      "      841    8.152    0.010   26.707    0.032 spatial_cluster.py:249(build_clusters_in_masks)\n",
      "      841    8.256    0.010   35.139    0.042 spatial_cluster.py:295(build_cluster_with_truth_primary)\n",
      "       63    0.000    0.000    0.000    0.000 threading.py:1017(_wait_for_tstate_lock)\n",
      "       63    0.000    0.000    0.000    0.000 threading.py:1071(is_alive)\n",
      "       63    0.000    0.000    0.000    0.000 threading.py:513(is_set)\n",
      "    82940    0.067    0.000    0.074    0.000 tile.py:116(getNeighbour)\n",
      "        1    0.000    0.000   44.179   44.179 {built-in method builtins.exec}\n",
      "     4224    0.001    0.000    0.001    0.000 {built-in method builtins.getattr}\n",
      "     4206    0.006    0.000    0.006    0.000 {built-in method builtins.hasattr}\n",
      "       54    0.000    0.000    0.000    0.000 {built-in method builtins.isinstance}\n",
      "    43903    0.029    0.000    0.029    0.000 {built-in method builtins.len}\n",
      "        9    0.000    0.000    0.003    0.000 {built-in method builtins.print}\n",
      "     8294    0.034    0.000    0.034    0.000 {built-in method numpy.array}\n",
      "        9    0.000    0.000    0.000    0.000 {built-in method numpy.asarray}\n",
      "     18/9    0.000    0.000    0.000    0.000 {built-in method numpy.core._multiarray_umath.implement_array_function}\n",
      "       54    0.000    0.000    0.000    0.000 {built-in method posix.getpid}\n",
      "       63    0.000    0.000    0.000    0.000 {method 'acquire' of '_thread.lock' objects}\n",
      "       63    0.000    0.000    0.000    0.000 {method 'append' of 'collections.deque' objects}\n",
      "    66614    0.009    0.000    0.009    0.000 {method 'append' of 'list' objects}\n",
      "        1    0.000    0.000    0.000    0.000 {method 'disable' of '_lsprof.Profiler' objects}\n",
      "   101849    0.011    0.000    0.011    0.000 {method 'keys' of 'dict' objects}\n",
      "        9    0.000    0.000    0.000    0.000 {method 'round' of 'numpy.ndarray' objects}\n",
      "\n",
      "\n"
     ]
    }
   ],
   "source": [
    "import cProfile\n",
    "import pstats\n",
    "cProfile.run(\"compare_to_primary(filename_sorted)\")"
   ]
  },
  {
   "cell_type": "code",
   "execution_count": 35,
   "id": "41cb375d",
   "metadata": {},
   "outputs": [
    {
     "name": "stdout",
     "output_type": "stream",
     "text": [
      "The line_profiler extension is already loaded. To reload it, use:\n",
      "  %reload_ext line_profiler\n",
      "Progress:  95.0  %\r"
     ]
    }
   ],
   "source": [
    "%load_ext line_profiler\n",
    "%lprun -f compare_to_primary compare_to_primary(filename_sorted)"
   ]
  },
  {
   "cell_type": "code",
   "execution_count": 36,
   "id": "a53df27c",
   "metadata": {},
   "outputs": [],
   "source": [
    "def get_cluster_primary_truth_frame(filename, frame):\n",
    "    file = ROOT.TFile(filename)\n",
    "    ttree_mu3e = file.Get(\"mu3e\")\n",
    "    ttree_mu3e_mc = file.Get(\"mu3e_mchits\")\n",
    "\n",
    "    cluster_primary = []\n",
    "\n",
    "    ttree_mu3e.GetEntry(frame)\n",
    "    for i in range(len(ttree_mu3e.tilehit_tile)):\n",
    "        #tile = ttree_mu3e.tilehit_tile[i]\n",
    "        #mc_i = ttree_mu3e.tilehit_mc_i[i]\n",
    "        #ttree_mu3e_mc.GetEntry(mc_i)\n",
    "        mc_i = ttree_mu3e.tilehit_mc_i[i]\n",
    "        ttree_mu3e_mc.GetEntry(mc_i)\n",
    "        hid = ttree_mu3e_mc.hid\n",
    "\n",
    "        if np.abs(hid) == 1:\n",
    "            tile = ttree_mu3e.tilehit_tile[i]\n",
    "            cluster_primary.append(tile)\n",
    "\n",
    "    return cluster_primary"
   ]
  },
  {
   "cell_type": "code",
   "execution_count": 37,
   "id": "8e71b7d7",
   "metadata": {},
   "outputs": [],
   "source": [
    "%reload_ext line_profiler\n",
    "%lprun -f get_cluster_primary_truth_frame get_cluster_primary_truth_frame(filename_sorted, frame_used)"
   ]
  },
  {
   "cell_type": "code",
   "execution_count": null,
   "id": "e28ede38",
   "metadata": {},
   "outputs": [],
   "source": []
  }
 ],
 "metadata": {
  "kernelspec": {
   "display_name": "Python 3 (ipykernel)",
   "language": "python",
   "name": "python3"
  },
  "language_info": {
   "codemirror_mode": {
    "name": "ipython",
    "version": 3
   },
   "file_extension": ".py",
   "mimetype": "text/x-python",
   "name": "python",
   "nbconvert_exporter": "python",
   "pygments_lexer": "ipython3",
   "version": "3.8.10"
  }
 },
 "nbformat": 4,
 "nbformat_minor": 5
}
