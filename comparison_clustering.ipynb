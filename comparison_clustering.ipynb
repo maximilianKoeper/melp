{
 "cells": [
  {
   "cell_type": "code",
   "execution_count": 1,
   "id": "b97d617d",
   "metadata": {},
   "outputs": [
    {
     "name": "stdout",
     "output_type": "stream",
     "text": [
      "Welcome to JupyROOT 6.24/06\n"
     ]
    }
   ],
   "source": [
    "import ROOT\n",
    "import numpy as np\n",
    "import matplotlib.pyplot as plt\n",
    "import matplotlib as mpl\n",
    "from melp import Detector\n",
    "import melp\n",
    "import math\n",
    "\n",
    "from melp.clustering.misc import*\n",
    "import melp.clustering as clump\n",
    "import melp.clustering.time_cluster as tclump\n",
    "#from melp import TileAnalyzer\n",
    "import melp.clustering.spatial_cluster as sclump\n",
    "\n",
    "plt.rcParams.update({'font.size': 16})"
   ]
  },
  {
   "cell_type": "markdown",
   "id": "feaf87af",
   "metadata": {},
   "source": [
    "#### Load files"
   ]
  },
  {
   "cell_type": "code",
   "execution_count": 2,
   "id": "11511c57",
   "metadata": {},
   "outputs": [],
   "source": [
    "filename_trirec = \"./testdata/trirec/trirec1.root\"\n",
    "filename_sorted = \"./testdata/sorted/sorted1.root\"\n",
    "#file = ROOT.TFile(filename)\n",
    "#ttree_mu3e = file.Get(\"mu3e\")"
   ]
  },
  {
   "cell_type": "code",
   "execution_count": 3,
   "id": "646b4648",
   "metadata": {},
   "outputs": [
    {
     "name": "stdout",
     "output_type": "stream",
     "text": [
      "10.526315789473685 %\n",
      "70.0 %\n"
     ]
    }
   ],
   "source": [
    "file_rec = ROOT.TFile(filename_trirec)\n",
    "ttree_trirec = file_rec.Get(\"frames\")\n",
    "ttree_trirec_mc = file_rec.Get(\"frames_mc\")\n",
    "\n",
    "frame = 1\n",
    "ttree_trirec.GetEntry(frame)\n",
    "ttree_trirec_mc.GetEntry(frame)\n",
    "   \n",
    "tid_rec = ttree_trirec.mc_tid\n",
    "tid_rec_mc = ttree_trirec_mc.mc_tid\n",
    "\n",
    "tid_counter = 0\n",
    "for i in tid_rec_mc:\n",
    "    if i in get_tid_frame(filename_sorted,1).values():\n",
    "        tid_counter += 1\n",
    "    else:\n",
    "        continue\n",
    "\n",
    "print(tid_counter/(len(get_tid_frame(filename_sorted,1))/100), \"%\")\n",
    "print(len(tid_rec_mc)/(len(tid_rec)/100), \"%\")"
   ]
  },
  {
   "cell_type": "code",
   "execution_count": 4,
   "id": "e4105499",
   "metadata": {},
   "outputs": [],
   "source": [
    "ttree_mu3e_segs = file_rec.Get(\"segs\")\n",
    "ttree_mu3e_segs.GetEntry(frame)\n",
    "\n",
    "segs_rec_tid = ttree_mu3e_segs.tl_n"
   ]
  },
  {
   "cell_type": "code",
   "execution_count": 5,
   "id": "21be13f7",
   "metadata": {},
   "outputs": [
    {
     "name": "stdout",
     "output_type": "stream",
     "text": [
      "0\n",
      "{ 28341, 33517, 32299, 34367, 37051, 16492, 16492, 16492, 25876, 25876 }\n"
     ]
    }
   ],
   "source": [
    "print(segs_rec_tid)\n",
    "\n",
    "print(tid_rec)"
   ]
  },
  {
   "cell_type": "markdown",
   "id": "8f7e3db9",
   "metadata": {},
   "source": [
    "#### Whole frame as cluster"
   ]
  },
  {
   "cell_type": "code",
   "execution_count": 6,
   "id": "703b9676",
   "metadata": {},
   "outputs": [
    {
     "data": {
      "text/plain": [
       "'\\nfile = ROOT.TFile(filename_sorted)\\nttree_mu3e = file.Get(\"mu3e\")\\nttree_mu3e_mc = file.Get(\"mu3e_mchits\")\\n\\neff_counter = 0\\ntot_hit_counter = 0\\nwrong_counter = 0\\n\\neff_counter_arr = []\\ntot_hit_counter_arr = []\\nwrong_counter_arr = []\\n\\nfor frame in range(ttree_mu3e.GetEntries()):\\n    tmp_eff_counter = 0\\n    tmp_tot_hit_counter = 0\\n    tmp_wrong_counter = 0\\n    \\n    primaries = get_mc_primary_for_hit_frame(filename_sorted,frame)\\n    cluster = frame_as_cluster(filename_sorted,frame)\\n    tot_hit_counter += len(cluster)\\n    tmp_tot_hit_counter += len(cluster)\\n    for key in cluster.keys():\\n        if key in primaries.keys():\\n            if cluster[key] == primaries[key]:\\n                eff_counter += 1\\n                tmp_eff_counter += 1\\n            else:\\n                wrong_counter += 1\\n                tmp_wrong_counter += 1\\n        else:\\n            continue\\n        eff_counter_arr.append(tmp_eff_counter)\\n        tot_hit_counter_arr.append(tmp_tot_hit_counter)\\n        wrong_counter_arr.append(tmp_wrong_counter)\\n             \\nprint(\"Average number of hits per frame: \", tot_hit_counter/ttree_mu3e.GetEntries())\\nprint(\"Correctly identified: \", eff_counter/(tot_hit_counter/100), \"%\")\\nprint(\"Incorrectly identified (not an actual part of cluster): \", wrong_counter/(tot_hit_counter/100), \"%\")\\nprint(\"Not identified (actual part of cluster that hasn\\'t been identified): \", 0, \"%\")\\n'"
      ]
     },
     "execution_count": 6,
     "metadata": {},
     "output_type": "execute_result"
    }
   ],
   "source": [
    "\"\"\"\n",
    "file = ROOT.TFile(filename_sorted)\n",
    "ttree_mu3e = file.Get(\"mu3e\")\n",
    "ttree_mu3e_mc = file.Get(\"mu3e_mchits\")\n",
    "\n",
    "eff_counter = 0\n",
    "tot_hit_counter = 0\n",
    "wrong_counter = 0\n",
    "\n",
    "eff_counter_arr = []\n",
    "tot_hit_counter_arr = []\n",
    "wrong_counter_arr = []\n",
    "\n",
    "for frame in range(ttree_mu3e.GetEntries()):\n",
    "    tmp_eff_counter = 0\n",
    "    tmp_tot_hit_counter = 0\n",
    "    tmp_wrong_counter = 0\n",
    "    \n",
    "    primaries = get_mc_primary_for_hit_frame(filename_sorted,frame)\n",
    "    cluster = frame_as_cluster(filename_sorted,frame)\n",
    "    tot_hit_counter += len(cluster)\n",
    "    tmp_tot_hit_counter += len(cluster)\n",
    "    for key in cluster.keys():\n",
    "        if key in primaries.keys():\n",
    "            if cluster[key] == primaries[key]:\n",
    "                eff_counter += 1\n",
    "                tmp_eff_counter += 1\n",
    "            else:\n",
    "                wrong_counter += 1\n",
    "                tmp_wrong_counter += 1\n",
    "        else:\n",
    "            continue\n",
    "        eff_counter_arr.append(tmp_eff_counter)\n",
    "        tot_hit_counter_arr.append(tmp_tot_hit_counter)\n",
    "        wrong_counter_arr.append(tmp_wrong_counter)\n",
    "             \n",
    "print(\"Average number of hits per frame: \", tot_hit_counter/ttree_mu3e.GetEntries())\n",
    "print(\"Correctly identified: \", eff_counter/(tot_hit_counter/100), \"%\")\n",
    "print(\"Incorrectly identified (not an actual part of cluster): \", wrong_counter/(tot_hit_counter/100), \"%\")\n",
    "print(\"Not identified (actual part of cluster that hasn't been identified): \", 0, \"%\")\n",
    "\"\"\""
   ]
  },
  {
   "cell_type": "code",
   "execution_count": 7,
   "id": "9fec608f",
   "metadata": {},
   "outputs": [
    {
     "data": {
      "text/plain": [
       "'\\nplt.figure(figsize=(18,10))\\nplt.hist(tot_hit_counter_arr)\\nplt.hist(wrong_counter_arr)\\nplt.hist(eff_counter_arr)\\nplt.show()\\n'"
      ]
     },
     "execution_count": 7,
     "metadata": {},
     "output_type": "execute_result"
    }
   ],
   "source": [
    "\"\"\"\n",
    "plt.figure(figsize=(18,10))\n",
    "plt.hist(tot_hit_counter_arr)\n",
    "plt.hist(wrong_counter_arr)\n",
    "plt.hist(eff_counter_arr)\n",
    "plt.show()\n",
    "\"\"\""
   ]
  },
  {
   "cell_type": "code",
   "execution_count": 8,
   "id": "fbf4a57e",
   "metadata": {},
   "outputs": [
    {
     "data": {
      "text/plain": [
       "'\\nplt.figure(figsize=(18,10))\\nplt.hist(eff_counter_arr + wrong_counter_arr)\\nplt.show()\\n'"
      ]
     },
     "execution_count": 8,
     "metadata": {},
     "output_type": "execute_result"
    }
   ],
   "source": [
    "\"\"\"\n",
    "plt.figure(figsize=(18,10))\n",
    "plt.hist(eff_counter_arr + wrong_counter_arr)\n",
    "plt.show()\n",
    "\"\"\""
   ]
  },
  {
   "cell_type": "markdown",
   "id": "dea63053",
   "metadata": {},
   "source": [
    "#### Medium mask"
   ]
  },
  {
   "cell_type": "code",
   "execution_count": 9,
   "id": "82714cf9",
   "metadata": {},
   "outputs": [
    {
     "name": "stdout",
     "output_type": "stream",
     "text": [
      "------------------------------\n",
      "Detector information\n",
      "\n",
      "Stats:\n",
      "  - Tiles:  5824\n",
      "    -> misal:  False\n",
      "  - Pixel Modules:  2844\n",
      "  - Loaded Runs (Tiles):  []\n",
      "  - Loaded Runs (Pixel):  []\n",
      "------------------------------\n"
     ]
    }
   ],
   "source": [
    "mu3e_detector = Detector.initFromROOT(\"./testdata/sorted/sorted1.root\")\n",
    "#mu3e_detector = Detector.initFromSave(\"test_detector_file\")"
   ]
  },
  {
   "cell_type": "code",
   "execution_count": 10,
   "id": "81a1cf31",
   "metadata": {},
   "outputs": [],
   "source": [
    "#mu3e_detector.save(\"test_detector_file\")"
   ]
  },
  {
   "cell_type": "code",
   "execution_count": 11,
   "id": "237ce540",
   "metadata": {},
   "outputs": [
    {
     "name": "stdout",
     "output_type": "stream",
     "text": [
      "Detector(TileDetector=<melp.src.tile.TileDetector object at 0x7f3e15155640>, SensorModules=<melp.src.sensor.SensorModule object at 0x7f3e15004430>))\n"
     ]
    }
   ],
   "source": [
    "melp.select(mu3e_detector)\n",
    "print(mu3e_detector)"
   ]
  },
  {
   "cell_type": "code",
   "execution_count": 12,
   "id": "bab81ece",
   "metadata": {},
   "outputs": [
    {
     "name": "stdout",
     "output_type": "stream",
     "text": [
      "------------------------------\n",
      "Detector information\n",
      "\n",
      "Stats:\n",
      "  - Tiles:  5824\n",
      "    -> misal:  False\n",
      "  - Pixel Modules:  2844\n",
      "  - Loaded Runs (Tiles):  [1]\n",
      "  - Loaded Runs (Pixel):  []\n",
      "------------------------------\n"
     ]
    }
   ],
   "source": [
    "melp.addTileHits(\"./testdata/sorted/sorted1.root\", truth=False, traj=False)\n",
    "mu3e_detector.info()"
   ]
  },
  {
   "cell_type": "code",
   "execution_count": 13,
   "id": "4d102c49",
   "metadata": {},
   "outputs": [
    {
     "name": "stdout",
     "output_type": "stream",
     "text": [
      "[302134, 302135, 302133, 302079, 302078, 302077, 302191, 302190, 302189]\n"
     ]
    }
   ],
   "source": [
    "frame_used = 1\n",
    "#masks = sclump.build_mask(filename_sorted, 7)\n",
    "masks = sclump.build_mask_detector_class(filename_sorted, frame_used, mu3e_detector, mask_type = \"big\")\n",
    "\n",
    "keys = []\n",
    "values = []\n",
    "for key in masks.keys():\n",
    "    keys.append(key)\n",
    "    values.append(masks[key])\n",
    "    \n",
    "mu3e_detector.TileDetector.tile[keys[0]].id\n",
    "mu3e_detector.TileDetector.tile[keys[0]].hits\n",
    "print(values[0])"
   ]
  },
  {
   "cell_type": "code",
   "execution_count": 14,
   "id": "1af19126",
   "metadata": {},
   "outputs": [
    {
     "data": {
      "text/plain": [
       "<Figure size 432x288 with 0 Axes>"
      ]
     },
     "metadata": {},
     "output_type": "display_data"
    },
    {
     "data": {
      "image/png": "[encoded data removed]",
      "text/plain": [
       "<Figure size 1440x720 with 2 Axes>"
      ]
     },
     "metadata": {
      "needs_background": "light"
     },
     "output_type": "display_data"
    }
   ],
   "source": [
    "grid = np.zeros((52,56))\n",
    "\n",
    "all_hits = True\n",
    "#add hits in frame\n",
    "if all_hits == True:\n",
    "    for tile_id in mu3e_detector.TileDetector.tile:\n",
    "        if tile_id < 300000:\n",
    "            tile = mu3e_detector.TileDetector.tile[tile_id]\n",
    "            for hits in tile.hits:\n",
    "                if hits.frame_id in [frame_used]:\n",
    "                    x = tile.row()\n",
    "                    y = tile.column()\n",
    "                    grid[x][y] += 1\n",
    "\n",
    "#add masks\n",
    "for i in range(len(values)):\n",
    "    for mask_tile in values[i]:\n",
    "        tile = mu3e_detector.TileDetector.tile[mask_tile]\n",
    "        if mask_tile < 300000:\n",
    "            x = tile.row()\n",
    "            y = tile.column()\n",
    "            grid[x][y] += 1\n",
    "\n",
    "    #add centre a second time      \n",
    "    if keys[i] < 300000:\n",
    "        tile = mu3e_detector.TileDetector.tile[keys[i]]\n",
    "        x = tile.row()\n",
    "        y = tile.column()\n",
    "        grid[x][y] += 1\n",
    "                     \n",
    "                              \n",
    "fig = plt.figure()\n",
    "fig, (ax1, ax2) = plt.subplots(1,2, figsize=(20,10))\n",
    "#heatplot_mask = ax.imshow(mask_grid.T, cmap='binary')\n",
    "heatplot = ax1.imshow(grid.T, cmap='PuBuGn')\n",
    "#ax.grid(which='minor', color='b', linestyle='-', linewidth=1)\n",
    "ax1.hlines(y=np.arange(0, 56)+0.5, xmin=-0.5, xmax=51.5, color=\"black\", linewidth = 0.5)\n",
    "ax1.vlines(x=np.arange(0, 52)+0.5, ymin=-0.5, ymax=55.5, color=\"black\", linewidth = 0.5)\n",
    "ax1.set_title(\"With Masks\")\n",
    "ax1.set_xlabel(\"z\")\n",
    "ax1.set_ylabel(\"phi\")\n",
    "\n",
    "\n",
    "#plot reference\n",
    "ref_grid = np.zeros((52,56))\n",
    "for tile_id in mu3e_detector.TileDetector.tile:\n",
    "    if tile_id < 300000:\n",
    "        tile = mu3e_detector.TileDetector.tile[tile_id]\n",
    "        for hits in tile.hits:\n",
    "            if hits.frame_id in [frame_used]:\n",
    "                x = tile.row()\n",
    "                y = tile.column()\n",
    "                ref_grid[x][y] += 1\n",
    "                \n",
    "heatplot = ax2.imshow(ref_grid.T, cmap='binary')\n",
    "#ax.grid(which='minor', color='b', linestyle='-', linewidth=1)\n",
    "ax2.hlines(y=np.arange(0, 56)+0.5, xmin=-0.5, xmax=51.5, color=\"black\", linewidth = 0.5)\n",
    "ax2.vlines(x=np.arange(0, 52)+0.5, ymin=-0.5, ymax=55.5, color=\"black\", linewidth = 0.5)\n",
    "ax2.set_title(\"Only Hits\")\n",
    "ax2.set_xlabel(\"z\")\n",
    "ax2.set_ylabel(\"phi\")\n",
    "#plt.savefig(\"hitmap.png\")\n",
    "plt.show()"
   ]
  },
  {
   "cell_type": "code",
   "execution_count": null,
   "id": "a42c6ac6",
   "metadata": {},
   "outputs": [],
   "source": []
  },
  {
   "cell_type": "code",
   "execution_count": null,
   "id": "37ae9eb2",
   "metadata": {},
   "outputs": [],
   "source": []
  }
 ],
 "metadata": {
  "kernelspec": {
   "display_name": "Python 3 (ipykernel)",
   "language": "python",
   "name": "python3"
  },
  "language_info": {
   "codemirror_mode": {
    "name": "ipython",
    "version": 3
   },
   "file_extension": ".py",
   "mimetype": "text/x-python",
   "name": "python",
   "nbconvert_exporter": "python",
   "pygments_lexer": "ipython3",
   "version": "3.8.10"
  }
 },
 "nbformat": 4,
 "nbformat_minor": 5
}
